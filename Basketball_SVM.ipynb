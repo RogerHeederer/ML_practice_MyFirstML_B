{
  "nbformat": 4,
  "nbformat_minor": 0,
  "metadata": {
    "colab": {
      "name": "Basketball_SVM.ipynb",
      "provenance": [],
      "authorship_tag": "ABX9TyMnjxRtuLxz95nuEYIUsCO/",
      "include_colab_link": true
    },
    "kernelspec": {
      "name": "python3",
      "display_name": "Python 3"
    }
  },
  "cells": [
    {
      "cell_type": "markdown",
      "metadata": {
        "id": "view-in-github",
        "colab_type": "text"
      },
      "source": [
        "<a href=\"https://colab.research.google.com/github/RogerHeederer/ML_practice_MyFirstML_B/blob/master/Basketball_SVM.ipynb\" target=\"_parent\"><img src=\"https://colab.research.google.com/assets/colab-badge.svg\" alt=\"Open In Colab\"/></a>"
      ]
    },
    {
      "cell_type": "markdown",
      "metadata": {
        "id": "Y3QKR0PrIOam",
        "colab_type": "text"
      },
      "source": [
        "source reference : https://github.com/wikibook/machine-learnin\n",
        "\n",
        "**위 레퍼런스를 참조하여 공부하였으며, 필요하다고 생각되는 부분에 추가적인 설명 ,코드 추가, 그림 삽입 등을 덧붙였습니다.**\n"
      ]
    },
    {
      "cell_type": "markdown",
      "metadata": {
        "id": "7scaeJyzHyjW",
        "colab_type": "text"
      },
      "source": [
        "**서포트 벡터 : 결정 경계선(Decesion boundary)와 가장 가까이 맞닿은데이터의 포인트**\n",
        "\n",
        "**결정 경계 = N-1차원**\n"
      ]
    },
    {
      "cell_type": "code",
      "metadata": {
        "id": "7sAK8aayGZ72",
        "colab_type": "code",
        "colab": {
          "base_uri": "https://localhost:8080/",
          "height": 73
        },
        "outputId": "f7c14033-f515-4fc7-9588-e3a09c2e83c5"
      },
      "source": [
        "import pandas as pd\n",
        "import pickle\n",
        "import matplotlib.pyplot as plt\n",
        "import seaborn as sns\n",
        "import numpy as np\n",
        "\n",
        "%matplotlib inline\n",
        "np.random.seed(5)"
      ],
      "execution_count": 1,
      "outputs": [
        {
          "output_type": "stream",
          "text": [
            "/usr/local/lib/python3.6/dist-packages/statsmodels/tools/_testing.py:19: FutureWarning: pandas.util.testing is deprecated. Use the functions in the public API at pandas.testing instead.\n",
            "  import pandas.util.testing as tm\n"
          ],
          "name": "stderr"
        }
      ]
    },
    {
      "cell_type": "code",
      "metadata": {
        "id": "Qz_blbKAItaa",
        "colab_type": "code",
        "colab": {}
      },
      "source": [
        "train = pd.read_csv(\"https://raw.githubusercontent.com/wikibook/machine-learning/2.0/data/csv/basketball_train.csv\")\n",
        "test = pd.read_csv(\"https://raw.githubusercontent.com/wikibook/machine-learning/2.0/data/csv/basketball_test.csv\")"
      ],
      "execution_count": 2,
      "outputs": []
    },
    {
      "cell_type": "code",
      "metadata": {
        "id": "99mqvQL4I707",
        "colab_type": "code",
        "colab": {}
      },
      "source": [
        "from sklearn.model_selection import GridSearchCV\n",
        "from sklearn.metrics import classification_report\n",
        "from sklearn.metrics import accuracy_score\n",
        "from sklearn.svm import SVC\n",
        "\n",
        "import numpy as np"
      ],
      "execution_count": 3,
      "outputs": []
    },
    {
      "cell_type": "code",
      "metadata": {
        "id": "YRaZb0FrJGii",
        "colab_type": "code",
        "colab": {}
      },
      "source": [
        "def svc_param_selection(X, y, nfolds):\n",
        "  svm_parameters = [\n",
        "                    {\n",
        "                        'kernel': ['rbf'],\n",
        "                        'gamma': [0.00001, 0.0001, 0.001, 0.01, 0.1, 1],\n",
        "                        'C': [0.01, 0.1, 1, 10, 100, 1000]\n",
        "                    }]\n",
        "  clf = GridSearchCV(SVC(), svm_parameters, cv=10)\n",
        "  clf.fit(X_train, y_train.values.ravel())\n",
        "  print(clf.best_params_)\n",
        "\n",
        "  return clf\n",
        "\n",
        " #SVM의 파라미터는 2가지가 있음. C는 코스트. 결정경계선의 마진을 결정하는 파라미터\n",
        " # gamma는 커널 데이터 포인트의 표준편차를 결정하는 파라미터"
      ],
      "execution_count": 5,
      "outputs": []
    },
    {
      "cell_type": "code",
      "metadata": {
        "id": "BBO60aeXJ9e7",
        "colab_type": "code",
        "colab": {
          "base_uri": "https://localhost:8080/",
          "height": 35
        },
        "outputId": "73371d27-1e08-4f97-a4c1-09a2ffb4d608"
      },
      "source": [
        "X_train = train[['3P', 'BLK']]\n",
        "y_train = train[['Pos']]\n",
        "\n",
        "clf = svc_param_selection(X_train, y_train.values.ravel(), 10)"
      ],
      "execution_count": 6,
      "outputs": [
        {
          "output_type": "stream",
          "text": [
            "{'C': 0.1, 'gamma': 1, 'kernel': 'rbf'}\n"
          ],
          "name": "stdout"
        }
      ]
    },
    {
      "cell_type": "code",
      "metadata": {
        "id": "n7hKKeyVKUy1",
        "colab_type": "code",
        "colab": {
          "base_uri": "https://localhost:8080/",
          "height": 419
        },
        "outputId": "97859dc1-8839-4e6d-c5a6-3119a87712a5"
      },
      "source": [
        "y_train"
      ],
      "execution_count": 7,
      "outputs": [
        {
          "output_type": "execute_result",
          "data": {
            "text/html": [
              "<div>\n",
              "<style scoped>\n",
              "    .dataframe tbody tr th:only-of-type {\n",
              "        vertical-align: middle;\n",
              "    }\n",
              "\n",
              "    .dataframe tbody tr th {\n",
              "        vertical-align: top;\n",
              "    }\n",
              "\n",
              "    .dataframe thead th {\n",
              "        text-align: right;\n",
              "    }\n",
              "</style>\n",
              "<table border=\"1\" class=\"dataframe\">\n",
              "  <thead>\n",
              "    <tr style=\"text-align: right;\">\n",
              "      <th></th>\n",
              "      <th>Pos</th>\n",
              "    </tr>\n",
              "  </thead>\n",
              "  <tbody>\n",
              "    <tr>\n",
              "      <th>0</th>\n",
              "      <td>SG</td>\n",
              "    </tr>\n",
              "    <tr>\n",
              "      <th>1</th>\n",
              "      <td>SG</td>\n",
              "    </tr>\n",
              "    <tr>\n",
              "      <th>2</th>\n",
              "      <td>SG</td>\n",
              "    </tr>\n",
              "    <tr>\n",
              "      <th>3</th>\n",
              "      <td>SG</td>\n",
              "    </tr>\n",
              "    <tr>\n",
              "      <th>4</th>\n",
              "      <td>C</td>\n",
              "    </tr>\n",
              "    <tr>\n",
              "      <th>...</th>\n",
              "      <td>...</td>\n",
              "    </tr>\n",
              "    <tr>\n",
              "      <th>75</th>\n",
              "      <td>SG</td>\n",
              "    </tr>\n",
              "    <tr>\n",
              "      <th>76</th>\n",
              "      <td>C</td>\n",
              "    </tr>\n",
              "    <tr>\n",
              "      <th>77</th>\n",
              "      <td>C</td>\n",
              "    </tr>\n",
              "    <tr>\n",
              "      <th>78</th>\n",
              "      <td>SG</td>\n",
              "    </tr>\n",
              "    <tr>\n",
              "      <th>79</th>\n",
              "      <td>SG</td>\n",
              "    </tr>\n",
              "  </tbody>\n",
              "</table>\n",
              "<p>80 rows × 1 columns</p>\n",
              "</div>"
            ],
            "text/plain": [
              "   Pos\n",
              "0   SG\n",
              "1   SG\n",
              "2   SG\n",
              "3   SG\n",
              "4    C\n",
              "..  ..\n",
              "75  SG\n",
              "76   C\n",
              "77   C\n",
              "78  SG\n",
              "79  SG\n",
              "\n",
              "[80 rows x 1 columns]"
            ]
          },
          "metadata": {
            "tags": []
          },
          "execution_count": 7
        }
      ]
    },
    {
      "cell_type": "code",
      "metadata": {
        "id": "9PjeAK0wKWGK",
        "colab_type": "code",
        "colab": {
          "base_uri": "https://localhost:8080/",
          "height": 143
        },
        "outputId": "7582bc09-5204-4658-c0a9-1965464a5df3"
      },
      "source": [
        "y_train.values.ravel()"
      ],
      "execution_count": 8,
      "outputs": [
        {
          "output_type": "execute_result",
          "data": {
            "text/plain": [
              "array(['SG', 'SG', 'SG', 'SG', 'C', 'SG', 'C', 'C', 'SG', 'C', 'SG', 'SG',\n",
              "       'SG', 'SG', 'C', 'C', 'SG', 'C', 'SG', 'C', 'C', 'C', 'C', 'SG',\n",
              "       'C', 'SG', 'C', 'C', 'C', 'C', 'C', 'SG', 'C', 'SG', 'SG', 'SG',\n",
              "       'SG', 'SG', 'SG', 'SG', 'SG', 'C', 'SG', 'C', 'C', 'SG', 'C', 'SG',\n",
              "       'SG', 'SG', 'SG', 'SG', 'SG', 'C', 'C', 'SG', 'C', 'C', 'C', 'SG',\n",
              "       'SG', 'C', 'C', 'C', 'C', 'C', 'C', 'C', 'SG', 'SG', 'SG', 'C',\n",
              "       'C', 'C', 'SG', 'SG', 'C', 'C', 'SG', 'SG'], dtype=object)"
            ]
          },
          "metadata": {
            "tags": []
          },
          "execution_count": 8
        }
      ]
    },
    {
      "cell_type": "code",
      "metadata": {
        "id": "HjIeQq87KYci",
        "colab_type": "code",
        "colab": {}
      },
      "source": [
        "# 시각화를 하기 위해, 최적의 C와 최적의 C를 비교하기 위한 다른 C를 후보로 저장합니다.\n",
        "C_canditates = []\n",
        "C_canditates.append(clf.best_params_['C'] * 0.01)\n",
        "C_canditates.append(clf.best_params_['C'])\n",
        "C_canditates.append(clf.best_params_['C'] * 100)\n",
        "\n",
        "# 시각화를 하기 위해, 최적의 gamma와 최적의 gamma를 비교하기 위한 다른 gamma를 후보로 저장합니다.\n",
        "gamma_candidates = []\n",
        "gamma_candidates.append(clf.best_params_['gamma'] * 0.01)\n",
        "gamma_candidates.append(clf.best_params_['gamma'])\n",
        "gamma_candidates.append(clf.best_params_['gamma'] * 100)"
      ],
      "execution_count": 9,
      "outputs": []
    },
    {
      "cell_type": "code",
      "metadata": {
        "id": "nsR00iW_KtYr",
        "colab_type": "code",
        "colab": {
          "base_uri": "https://localhost:8080/",
          "height": 35
        },
        "outputId": "b9144177-f430-45bd-9a41-2fb8873d076c"
      },
      "source": [
        "C_canditates"
      ],
      "execution_count": 10,
      "outputs": [
        {
          "output_type": "execute_result",
          "data": {
            "text/plain": [
              "[0.001, 0.1, 10.0]"
            ]
          },
          "metadata": {
            "tags": []
          },
          "execution_count": 10
        }
      ]
    },
    {
      "cell_type": "code",
      "metadata": {
        "id": "NGcXPDGlKu-p",
        "colab_type": "code",
        "colab": {
          "base_uri": "https://localhost:8080/",
          "height": 35
        },
        "outputId": "4d955c44-c1be-4af5-9d40-39d34e932002"
      },
      "source": [
        "gamma_candidates"
      ],
      "execution_count": 11,
      "outputs": [
        {
          "output_type": "execute_result",
          "data": {
            "text/plain": [
              "[0.01, 1, 100]"
            ]
          },
          "metadata": {
            "tags": []
          },
          "execution_count": 11
        }
      ]
    },
    {
      "cell_type": "code",
      "metadata": {
        "id": "eTrqHkzgKwGB",
        "colab_type": "code",
        "colab": {}
      },
      "source": [
        "X = train[['3P', 'BLK']]\n",
        "Y = train['Pos'].tolist()"
      ],
      "execution_count": 12,
      "outputs": []
    },
    {
      "cell_type": "code",
      "metadata": {
        "id": "MWjs5coyLVGx",
        "colab_type": "code",
        "colab": {
          "base_uri": "https://localhost:8080/",
          "height": 35
        },
        "outputId": "050aa9f1-4ccf-446e-9d93-2b4192289385"
      },
      "source": [
        "Y[1:10]"
      ],
      "execution_count": 14,
      "outputs": [
        {
          "output_type": "execute_result",
          "data": {
            "text/plain": [
              "['SG', 'SG', 'SG', 'C', 'SG', 'C', 'C', 'SG', 'C']"
            ]
          },
          "metadata": {
            "tags": []
          },
          "execution_count": 14
        }
      ]
    },
    {
      "cell_type": "code",
      "metadata": {
        "id": "2Pf7yo3zLWMx",
        "colab_type": "code",
        "colab": {}
      },
      "source": [
        "#포지션에 해당하는 문자열들을 백터화 표현\n",
        "position = []\n",
        "for gt in Y:\n",
        "  if gt == 'C':\n",
        "    position.append(0)\n",
        "  else:\n",
        "    position.append(1)"
      ],
      "execution_count": 15,
      "outputs": []
    },
    {
      "cell_type": "code",
      "metadata": {
        "id": "e-EnJUidLotB",
        "colab_type": "code",
        "colab": {
          "base_uri": "https://localhost:8080/",
          "height": 35
        },
        "outputId": "ddae41d6-acf6-42c3-b435-114a5c9ed970"
      },
      "source": [
        "position[1:10]"
      ],
      "execution_count": 17,
      "outputs": [
        {
          "output_type": "execute_result",
          "data": {
            "text/plain": [
              "[1, 1, 1, 0, 1, 0, 0, 1, 0]"
            ]
          },
          "metadata": {
            "tags": []
          },
          "execution_count": 17
        }
      ]
    },
    {
      "cell_type": "code",
      "metadata": {
        "id": "bGemi0c7LpZp",
        "colab_type": "code",
        "colab": {}
      },
      "source": [
        "# 파라미터 단위로 SVM 모델 생성\n",
        "classifiers = []\n",
        "for C in C_canditates:\n",
        "  for gamma in gamma_candidates:\n",
        "    clf = SVC(C=C, gamma=gamma)\n",
        "    clf.fit(X, Y)\n",
        "    classifiers.append((C, gamma, clf))"
      ],
      "execution_count": 19,
      "outputs": []
    },
    {
      "cell_type": "code",
      "metadata": {
        "id": "hNzU8XihMJii",
        "colab_type": "code",
        "colab": {
          "base_uri": "https://localhost:8080/",
          "height": 989
        },
        "outputId": "b45c8378-ff74-4887-9cfb-cdd0cea74a89"
      },
      "source": [
        "classifiers"
      ],
      "execution_count": 26,
      "outputs": [
        {
          "output_type": "execute_result",
          "data": {
            "text/plain": [
              "[(0.001,\n",
              "  0.01,\n",
              "  SVC(C=0.001, break_ties=False, cache_size=200, class_weight=None, coef0=0.0,\n",
              "      decision_function_shape='ovr', degree=3, gamma=0.01, kernel='rbf',\n",
              "      max_iter=-1, probability=False, random_state=None, shrinking=True,\n",
              "      tol=0.001, verbose=False)),\n",
              " (0.001,\n",
              "  1,\n",
              "  SVC(C=0.001, break_ties=False, cache_size=200, class_weight=None, coef0=0.0,\n",
              "      decision_function_shape='ovr', degree=3, gamma=1, kernel='rbf', max_iter=-1,\n",
              "      probability=False, random_state=None, shrinking=True, tol=0.001,\n",
              "      verbose=False)),\n",
              " (0.001,\n",
              "  100,\n",
              "  SVC(C=0.001, break_ties=False, cache_size=200, class_weight=None, coef0=0.0,\n",
              "      decision_function_shape='ovr', degree=3, gamma=100, kernel='rbf',\n",
              "      max_iter=-1, probability=False, random_state=None, shrinking=True,\n",
              "      tol=0.001, verbose=False)),\n",
              " (0.1,\n",
              "  0.01,\n",
              "  SVC(C=0.1, break_ties=False, cache_size=200, class_weight=None, coef0=0.0,\n",
              "      decision_function_shape='ovr', degree=3, gamma=0.01, kernel='rbf',\n",
              "      max_iter=-1, probability=False, random_state=None, shrinking=True,\n",
              "      tol=0.001, verbose=False)),\n",
              " (0.1,\n",
              "  1,\n",
              "  SVC(C=0.1, break_ties=False, cache_size=200, class_weight=None, coef0=0.0,\n",
              "      decision_function_shape='ovr', degree=3, gamma=1, kernel='rbf', max_iter=-1,\n",
              "      probability=False, random_state=None, shrinking=True, tol=0.001,\n",
              "      verbose=False)),\n",
              " (0.1,\n",
              "  100,\n",
              "  SVC(C=0.1, break_ties=False, cache_size=200, class_weight=None, coef0=0.0,\n",
              "      decision_function_shape='ovr', degree=3, gamma=100, kernel='rbf',\n",
              "      max_iter=-1, probability=False, random_state=None, shrinking=True,\n",
              "      tol=0.001, verbose=False)),\n",
              " (10.0,\n",
              "  0.01,\n",
              "  SVC(C=10.0, break_ties=False, cache_size=200, class_weight=None, coef0=0.0,\n",
              "      decision_function_shape='ovr', degree=3, gamma=0.01, kernel='rbf',\n",
              "      max_iter=-1, probability=False, random_state=None, shrinking=True,\n",
              "      tol=0.001, verbose=False)),\n",
              " (10.0,\n",
              "  1,\n",
              "  SVC(C=10.0, break_ties=False, cache_size=200, class_weight=None, coef0=0.0,\n",
              "      decision_function_shape='ovr', degree=3, gamma=1, kernel='rbf', max_iter=-1,\n",
              "      probability=False, random_state=None, shrinking=True, tol=0.001,\n",
              "      verbose=False)),\n",
              " (10.0,\n",
              "  100,\n",
              "  SVC(C=10.0, break_ties=False, cache_size=200, class_weight=None, coef0=0.0,\n",
              "      decision_function_shape='ovr', degree=3, gamma=100, kernel='rbf',\n",
              "      max_iter=-1, probability=False, random_state=None, shrinking=True,\n",
              "      tol=0.001, verbose=False))]"
            ]
          },
          "metadata": {
            "tags": []
          },
          "execution_count": 26
        }
      ]
    },
    {
      "cell_type": "code",
      "metadata": {
        "id": "QsLZWEbjMPYZ",
        "colab_type": "code",
        "colab": {
          "base_uri": "https://localhost:8080/",
          "height": 35
        },
        "outputId": "3cf7959b-ead7-42bf-cd0a-10cc15dfef84"
      },
      "source": [
        "plt.figure(figsize=(18, 18))\n",
        "xx, yy = np.meshgrid(np.linspace(0, 4, 100), np.linspace(0, 4, 100))"
      ],
      "execution_count": 22,
      "outputs": [
        {
          "output_type": "display_data",
          "data": {
            "text/plain": [
              "<Figure size 1296x1296 with 0 Axes>"
            ]
          },
          "metadata": {
            "tags": []
          }
        }
      ]
    },
    {
      "cell_type": "code",
      "metadata": {
        "id": "hDoMMP10MoAQ",
        "colab_type": "code",
        "colab": {
          "base_uri": "https://localhost:8080/",
          "height": 125
        },
        "outputId": "39bb2ce5-9b3b-4340-e80a-bcf0b1e09e37"
      },
      "source": [
        "C, gamma, clf"
      ],
      "execution_count": 27,
      "outputs": [
        {
          "output_type": "execute_result",
          "data": {
            "text/plain": [
              "(10.0,\n",
              " 100,\n",
              " SVC(C=10.0, break_ties=False, cache_size=200, class_weight=None, coef0=0.0,\n",
              "     decision_function_shape='ovr', degree=3, gamma=100, kernel='rbf',\n",
              "     max_iter=-1, probability=False, random_state=None, shrinking=True,\n",
              "     tol=0.001, verbose=False))"
            ]
          },
          "metadata": {
            "tags": []
          },
          "execution_count": 27
        }
      ]
    },
    {
      "cell_type": "code",
      "metadata": {
        "id": "UUrWJt2bOA8I",
        "colab_type": "code",
        "colab": {
          "base_uri": "https://localhost:8080/",
          "height": 251
        },
        "outputId": "2a0f54ae-5dc1-479a-adbc-5e3f4e3f84fc"
      },
      "source": [
        "xx"
      ],
      "execution_count": 29,
      "outputs": [
        {
          "output_type": "execute_result",
          "data": {
            "text/plain": [
              "array([[0.        , 0.04040404, 0.08080808, ..., 3.91919192, 3.95959596,\n",
              "        4.        ],\n",
              "       [0.        , 0.04040404, 0.08080808, ..., 3.91919192, 3.95959596,\n",
              "        4.        ],\n",
              "       [0.        , 0.04040404, 0.08080808, ..., 3.91919192, 3.95959596,\n",
              "        4.        ],\n",
              "       ...,\n",
              "       [0.        , 0.04040404, 0.08080808, ..., 3.91919192, 3.95959596,\n",
              "        4.        ],\n",
              "       [0.        , 0.04040404, 0.08080808, ..., 3.91919192, 3.95959596,\n",
              "        4.        ],\n",
              "       [0.        , 0.04040404, 0.08080808, ..., 3.91919192, 3.95959596,\n",
              "        4.        ]])"
            ]
          },
          "metadata": {
            "tags": []
          },
          "execution_count": 29
        }
      ]
    },
    {
      "cell_type": "code",
      "metadata": {
        "id": "PCeJkHjJO-5b",
        "colab_type": "code",
        "colab": {
          "base_uri": "https://localhost:8080/",
          "height": 279
        },
        "outputId": "313c3058-ecfe-435f-f34a-0f3909bf4bd8"
      },
      "source": [
        "for (k, (C, gamma, clf)) in enumerate(classifiers):\n",
        "    Z = clf.decision_function(np.c_[xx.ravel(), yy.ravel()])\n",
        "    Z = Z.reshape(xx.shape)\n",
        "    \n",
        "    plt.subplot(len(C_canditates), len(gamma_candidates), k + 1)\n",
        "    plt.title(\"gamma=10^%d, C=10^%d\" % (np.log10(gamma), np.log10(C)),\n",
        "              size='medium')\n",
        "    \n",
        "        # 서포트 벡터와 결정경계선을 시각화합니다.\n",
        "    plt.pcolormesh(xx, yy, -Z, cmap=plt.cm.RdBu)\n",
        "    plt.scatter(X['3P'], X['BLK'], c=position, cmap=plt.cm.RdBu_r, edgecolors='k')"
      ],
      "execution_count": 30,
      "outputs": [
        {
          "output_type": "display_data",
          "data": {
            "image/png": "[encoded data removed]",
            "text/plain": [
              "<Figure size 432x288 with 9 Axes>"
            ]
          },
          "metadata": {
            "tags": [],
            "needs_background": "light"
          }
        }
      ]
    },
    {
      "cell_type": "code",
      "metadata": {
        "id": "4aHRsP7WRBUH",
        "colab_type": "code",
        "colab": {}
      },
      "source": [
        "#테스트 하기\n",
        "\n",
        "X_test = test[['3P', 'BLK']]\n",
        "\n",
        "y_test = test[['Pos']]\n",
        "\n",
        "y_true, y_pred = y_test, clf.predict(X_test)"
      ],
      "execution_count": 31,
      "outputs": []
    },
    {
      "cell_type": "code",
      "metadata": {
        "id": "FPtWfdHNRihA",
        "colab_type": "code",
        "colab": {
          "base_uri": "https://localhost:8080/",
          "height": 669
        },
        "outputId": "a6a0f02f-d149-40cc-8328-25a9393cec66"
      },
      "source": [
        "comparison = pd.DataFrame({'prediction':y_pred, 'ground_truth':y_true.values.ravel()}) \n",
        "comparison"
      ],
      "execution_count": 32,
      "outputs": [
        {
          "output_type": "execute_result",
          "data": {
            "text/html": [
              "<div>\n",
              "<style scoped>\n",
              "    .dataframe tbody tr th:only-of-type {\n",
              "        vertical-align: middle;\n",
              "    }\n",
              "\n",
              "    .dataframe tbody tr th {\n",
              "        vertical-align: top;\n",
              "    }\n",
              "\n",
              "    .dataframe thead th {\n",
              "        text-align: right;\n",
              "    }\n",
              "</style>\n",
              "<table border=\"1\" class=\"dataframe\">\n",
              "  <thead>\n",
              "    <tr style=\"text-align: right;\">\n",
              "      <th></th>\n",
              "      <th>prediction</th>\n",
              "      <th>ground_truth</th>\n",
              "    </tr>\n",
              "  </thead>\n",
              "  <tbody>\n",
              "    <tr>\n",
              "      <th>0</th>\n",
              "      <td>C</td>\n",
              "      <td>C</td>\n",
              "    </tr>\n",
              "    <tr>\n",
              "      <th>1</th>\n",
              "      <td>SG</td>\n",
              "      <td>SG</td>\n",
              "    </tr>\n",
              "    <tr>\n",
              "      <th>2</th>\n",
              "      <td>C</td>\n",
              "      <td>C</td>\n",
              "    </tr>\n",
              "    <tr>\n",
              "      <th>3</th>\n",
              "      <td>SG</td>\n",
              "      <td>SG</td>\n",
              "    </tr>\n",
              "    <tr>\n",
              "      <th>4</th>\n",
              "      <td>C</td>\n",
              "      <td>C</td>\n",
              "    </tr>\n",
              "    <tr>\n",
              "      <th>5</th>\n",
              "      <td>C</td>\n",
              "      <td>C</td>\n",
              "    </tr>\n",
              "    <tr>\n",
              "      <th>6</th>\n",
              "      <td>C</td>\n",
              "      <td>C</td>\n",
              "    </tr>\n",
              "    <tr>\n",
              "      <th>7</th>\n",
              "      <td>SG</td>\n",
              "      <td>SG</td>\n",
              "    </tr>\n",
              "    <tr>\n",
              "      <th>8</th>\n",
              "      <td>SG</td>\n",
              "      <td>SG</td>\n",
              "    </tr>\n",
              "    <tr>\n",
              "      <th>9</th>\n",
              "      <td>C</td>\n",
              "      <td>C</td>\n",
              "    </tr>\n",
              "    <tr>\n",
              "      <th>10</th>\n",
              "      <td>SG</td>\n",
              "      <td>SG</td>\n",
              "    </tr>\n",
              "    <tr>\n",
              "      <th>11</th>\n",
              "      <td>SG</td>\n",
              "      <td>C</td>\n",
              "    </tr>\n",
              "    <tr>\n",
              "      <th>12</th>\n",
              "      <td>SG</td>\n",
              "      <td>SG</td>\n",
              "    </tr>\n",
              "    <tr>\n",
              "      <th>13</th>\n",
              "      <td>C</td>\n",
              "      <td>C</td>\n",
              "    </tr>\n",
              "    <tr>\n",
              "      <th>14</th>\n",
              "      <td>C</td>\n",
              "      <td>C</td>\n",
              "    </tr>\n",
              "    <tr>\n",
              "      <th>15</th>\n",
              "      <td>SG</td>\n",
              "      <td>SG</td>\n",
              "    </tr>\n",
              "    <tr>\n",
              "      <th>16</th>\n",
              "      <td>SG</td>\n",
              "      <td>SG</td>\n",
              "    </tr>\n",
              "    <tr>\n",
              "      <th>17</th>\n",
              "      <td>C</td>\n",
              "      <td>C</td>\n",
              "    </tr>\n",
              "    <tr>\n",
              "      <th>18</th>\n",
              "      <td>SG</td>\n",
              "      <td>SG</td>\n",
              "    </tr>\n",
              "    <tr>\n",
              "      <th>19</th>\n",
              "      <td>C</td>\n",
              "      <td>C</td>\n",
              "    </tr>\n",
              "  </tbody>\n",
              "</table>\n",
              "</div>"
            ],
            "text/plain": [
              "   prediction ground_truth\n",
              "0           C            C\n",
              "1          SG           SG\n",
              "2           C            C\n",
              "3          SG           SG\n",
              "4           C            C\n",
              "5           C            C\n",
              "6           C            C\n",
              "7          SG           SG\n",
              "8          SG           SG\n",
              "9           C            C\n",
              "10         SG           SG\n",
              "11         SG            C\n",
              "12         SG           SG\n",
              "13          C            C\n",
              "14          C            C\n",
              "15         SG           SG\n",
              "16         SG           SG\n",
              "17          C            C\n",
              "18         SG           SG\n",
              "19          C            C"
            ]
          },
          "metadata": {
            "tags": []
          },
          "execution_count": 32
        }
      ]
    },
    {
      "cell_type": "code",
      "metadata": {
        "id": "eFpkZtLWRqcA",
        "colab_type": "code",
        "colab": {
          "base_uri": "https://localhost:8080/",
          "height": 215
        },
        "outputId": "3d164ad1-1dd7-462b-cb2b-86039fabbd84"
      },
      "source": [
        "print(classification_report(y_true, y_pred))\n",
        "print()\n",
        "print(\"accuracy : \"+ str(accuracy_score(y_true, y_pred)) )"
      ],
      "execution_count": 33,
      "outputs": [
        {
          "output_type": "stream",
          "text": [
            "              precision    recall  f1-score   support\n",
            "\n",
            "           C       1.00      0.91      0.95        11\n",
            "          SG       0.90      1.00      0.95         9\n",
            "\n",
            "    accuracy                           0.95        20\n",
            "   macro avg       0.95      0.95      0.95        20\n",
            "weighted avg       0.96      0.95      0.95        20\n",
            "\n",
            "\n",
            "accuracy : 0.95\n"
          ],
          "name": "stdout"
        }
      ]
    },
    {
      "cell_type": "code",
      "metadata": {
        "id": "H6c4dJN9Rt7X",
        "colab_type": "code",
        "colab": {}
      },
      "source": [
        ""
      ],
      "execution_count": null,
      "outputs": []
    }
  ]
}