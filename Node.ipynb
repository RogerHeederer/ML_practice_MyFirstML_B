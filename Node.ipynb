{
  "nbformat": 4,
  "nbformat_minor": 0,
  "metadata": {
    "colab": {
      "name": "Node.ipynb",
      "provenance": [],
      "authorship_tag": "ABX9TyM50oSPkDP3iqC+DndG0jx+",
      "include_colab_link": true
    },
    "kernelspec": {
      "name": "python3",
      "display_name": "Python 3"
    }
  },
  "cells": [
    {
      "cell_type": "markdown",
      "metadata": {
        "id": "view-in-github",
        "colab_type": "text"
      },
      "source": [
        "<a href=\"https://colab.research.google.com/github/RogerHeederer/ML_practice_MyFirstML_B/blob/master/Node.ipynb\" target=\"_parent\"><img src=\"https://colab.research.google.com/assets/colab-badge.svg\" alt=\"Open In Colab\"/></a>"
      ]
    },
    {
      "cell_type": "markdown",
      "metadata": {
        "id": "l1Igm5HBx24a",
        "colab_type": "text"
      },
      "source": [
        "source reference : https://github.com/wikibook/machine-learnin\n",
        "\n",
        "**위 레퍼런스를 참조하여 공부하였으며, 필요하다고 생각되는 부분에 추가적인 설명 및 그림들을 덧붙였습니다.**\n",
        "\n",
        "**딥러닝은 머신러닝의 많은 종류 중 하나**\n",
        "\n",
        "**딥러닝 = DNN(Deep Neural Network)**\n",
        "- 뉴런으로 구성된 레이어를 여러개 연결하여 구성한 네트워크\n",
        "- 구성 형태에 따라 CNN, RNN 등 다양하다\n",
        "\n",
        "*뉴런 = 노드*\n"
      ]
    },
    {
      "cell_type": "code",
      "metadata": {
        "id": "zYMJHIEexZj2",
        "colab_type": "code",
        "colab": {}
      },
      "source": [
        "from __future__ import absolute_import, division, print_function, unicode_literals\n",
        "\n",
        "try:\n",
        "  %tensorflow_version 2.x\n",
        "except Exception:\n",
        "  pass"
      ],
      "execution_count": null,
      "outputs": []
    },
    {
      "cell_type": "code",
      "metadata": {
        "id": "DJpNB7Oey1jX",
        "colab_type": "code",
        "colab": {}
      },
      "source": [
        "import tensorflow as tf\n",
        "import numpy as np\n",
        "\n",
        "tf.random.set_seed(1)\n",
        "np.random.seed(1)"
      ],
      "execution_count": null,
      "outputs": []
    },
    {
      "cell_type": "code",
      "metadata": {
        "id": "F-P3KqqozBQY",
        "colab_type": "code",
        "colab": {}
      },
      "source": [
        "class Node:\n",
        "  def __init__(self):\n",
        "    self.w = tf.Variable(tf.random.normal([2, 1]))\n",
        "    self.b = tf.Variable(tf.random.normal([1, 1]))\n",
        "\n",
        "  def __call__(self, x):\n",
        "    return self.preds(x)\n",
        "\n",
        "  def preds(self, x):\n",
        "    #foward propagation\n",
        "    out = tf.matmul(x, self.w)\n",
        "    out = tf.add(out, self.b)\n",
        "    out = tf.nn.sigmoid(out)\n",
        "    return out\n",
        "  \n",
        "  def loss(self, y_pred, y):\n",
        "    return tf.reduce_mean(tf.square(y_pred - y))\n",
        "\n",
        "  def train(self, inputs, outputs, learning_rate):\n",
        "    epochs = range(10000)\n",
        "    for epoch in epochs:\n",
        "      with tf.GradientTape() as t:\n",
        "        current_loss = self.loss(self.preds(inputs), outputs)\n",
        "        #back propagation\n",
        "        dW, db = t.gradient(current_loss, [self.w, self.b])\n",
        "        self.w.assign_sub(learning_rate * dW)\n",
        "        self.b.assign_sub(learning_rate * db)"
      ],
      "execution_count": null,
      "outputs": []
    },
    {
      "cell_type": "code",
      "metadata": {
        "id": "mol4E2j01hs_",
        "colab_type": "code",
        "colab": {}
      },
      "source": [
        "# AND operation\n",
        "inputs = tf.constant([ [0.0,0.0], [0.0,1.0], [1.0,0.0], [1.0,1.0] ])\n",
        "outputs = tf.constant([ [0.0], [0.0], [0.0], [1.0] ])\n",
        "\n",
        "node = Node()"
      ],
      "execution_count": null,
      "outputs": []
    },
    {
      "cell_type": "code",
      "metadata": {
        "id": "m-Qga5Nl16dN",
        "colab_type": "code",
        "colab": {}
      },
      "source": [
        "#train\n",
        "node.train(inputs, outputs, 0.01)"
      ],
      "execution_count": null,
      "outputs": []
    },
    {
      "cell_type": "code",
      "metadata": {
        "id": "JrEo9XRG2EMf",
        "colab_type": "code",
        "colab": {}
      },
      "source": [
        "#test\n",
        "assert node([[0.0,0.0]]).numpy()[0][0] < 0.5\n",
        "assert node([[0.0,1.0]]).numpy()[0][0] < 0.5\n",
        "assert node([[1.0,0.0]]).numpy()[0][0] < 0.5\n",
        "assert node([[1.0,1.0]]).numpy()[0][0] >= 0.5"
      ],
      "execution_count": null,
      "outputs": []
    },
    {
      "cell_type": "code",
      "metadata": {
        "id": "GNk00Hun2OLn",
        "colab_type": "code",
        "colab": {
          "base_uri": "https://localhost:8080/",
          "height": 35
        },
        "outputId": "a1f88f3e-0ac6-4cac-c522-e6f45c1d5e13"
      },
      "source": [
        "node([[1.0,1.0]]).numpy()[0][0]"
      ],
      "execution_count": null,
      "outputs": [
        {
          "output_type": "execute_result",
          "data": {
            "text/plain": [
              "0.6499267"
            ]
          },
          "metadata": {
            "tags": []
          },
          "execution_count": 18
        }
      ]
    },
    {
      "cell_type": "code",
      "metadata": {
        "id": "RQq8Iw3i2U1m",
        "colab_type": "code",
        "colab": {}
      },
      "source": [
        "# OR operation\n",
        "inputs = tf.constant([[0.0,0.0], [0.0,1.0], [1.0,0.0], [1.0,1.0]])\n",
        "outputs = tf.constant([[0.0], [1.0], [1.0], [1.0]])\n",
        "\n",
        "node = Node()\n",
        "# train\n",
        "node.train(inputs, outputs, 0.01)\n",
        "# test\n",
        "assert node([[0.0,0.0]]).numpy()[0][0] < 0.5\n",
        "assert node([[0.0,1.0]]).numpy()[0][0] >= 0.5\n",
        "assert node([[1.0,0.0]]).numpy()[0][0] >= 0.5\n",
        "assert node([[1.0,1.0]]).numpy()[0][0] >= 0.5"
      ],
      "execution_count": null,
      "outputs": []
    },
    {
      "cell_type": "code",
      "metadata": {
        "id": "GwxFzcTT3P4-",
        "colab_type": "code",
        "colab": {
          "base_uri": "https://localhost:8080/",
          "height": 35
        },
        "outputId": "5ad26ed6-6cde-48fc-9cce-51ae4ccc8fe1"
      },
      "source": [
        "node([[1.0,1.0]]).numpy()"
      ],
      "execution_count": null,
      "outputs": [
        {
          "output_type": "execute_result",
          "data": {
            "text/plain": [
              "array([[0.9877829]], dtype=float32)"
            ]
          },
          "metadata": {
            "tags": []
          },
          "execution_count": 22
        }
      ]
    },
    {
      "cell_type": "code",
      "metadata": {
        "id": "N8h5Z-Mr3XLW",
        "colab_type": "code",
        "colab": {}
      },
      "source": [
        ""
      ],
      "execution_count": null,
      "outputs": []
    }
  ]
}