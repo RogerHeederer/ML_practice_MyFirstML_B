{
  "nbformat": 4,
  "nbformat_minor": 0,
  "metadata": {
    "colab": {
      "name": "LSTM_ParagraphClassification.ipynb",
      "provenance": [],
      "authorship_tag": "ABX9TyMgZQpOpbDJ4bqhkYaNV7r0",
      "include_colab_link": true
    },
    "kernelspec": {
      "name": "python3",
      "display_name": "Python 3"
    }
  },
  "cells": [
    {
      "cell_type": "markdown",
      "metadata": {
        "id": "view-in-github",
        "colab_type": "text"
      },
      "source": [
        "<a href=\"https://colab.research.google.com/github/RogerHeederer/ML_practice_MyFirstML_B/blob/master/LSTM_ParagraphClassification.ipynb\" target=\"_parent\"><img src=\"https://colab.research.google.com/assets/colab-badge.svg\" alt=\"Open In Colab\"/></a>"
      ]
    },
    {
      "cell_type": "markdown",
      "metadata": {
        "id": "yRt04OG8yMJ3",
        "colab_type": "text"
      },
      "source": [
        "source reference : https://github.com/wikibook/machine-learnin\n",
        "\n",
        "위 레퍼런스를 참조하여 공부하였으며, 필요하다고 생각되는 부분에 추가적인 설명 ,코드 추가, 그림 삽입 등을 덧붙였습니다."
      ]
    },
    {
      "cell_type": "code",
      "metadata": {
        "id": "yXcvTeOgwXJH",
        "colab_type": "code",
        "colab": {}
      },
      "source": [
        "from __future__ import absolute_import, division, print_function, unicode_literals\n",
        "\n",
        "try:\n",
        "  %tensorflow_version 2.x\n",
        "except Exception:\n",
        "  pass"
      ],
      "execution_count": 2,
      "outputs": []
    },
    {
      "cell_type": "code",
      "metadata": {
        "id": "mRUDZT4Rwq-I",
        "colab_type": "code",
        "colab": {}
      },
      "source": [
        "\n",
        "from IPython.display import Image\n",
        "\n",
        "import tensorflow as tf\n",
        "from tensorflow.keras.layers import Input, Dense, LSTM, Embedding\n",
        "from tensorflow.keras.models import Model\n",
        "from tensorflow.keras.models import Sequential\n",
        "from tensorflow.keras.preprocessing.text import one_hot\n",
        "from tensorflow.keras.preprocessing.sequence import pad_sequences\n",
        "import numpy as np\n",
        "import pandas as pd\n",
        "\n",
        "# 항상 같은 결과를 갖기 위해 랜덤 시드 설정\n",
        "tf.random.set_seed(1)\n",
        "np.random.seed(1)"
      ],
      "execution_count": 3,
      "outputs": []
    },
    {
      "cell_type": "code",
      "metadata": {
        "id": "crshCJSmyGv-",
        "colab_type": "code",
        "colab": {}
      },
      "source": [
        "paragraph_dict_list = [\n",
        "         {'paragraph': 'dishplace is located in sunnyvale downtown there is parking around the area but it can be difficult to find during peak business hours my sisters and i came to this place for dinner on a weekday they were really busy so i highly recommended making reservations unless you have the patience to wait', 'category': 'food'},\n",
        "         {'paragraph': 'service can be slower during busy hours but our waiter was courteous and help gave some great entree recommendations', 'category': 'food'},\n",
        "         {'paragraph': 'portions are huge both french toast and their various omelettes are really good their french toast is probably 1.5x more than other brunch places great place to visit if you are hungry and dont want to wait 1 hour for a table', 'category': 'food'},\n",
        "         {'paragraph': 'we started with apps going the chicken and waffle slides and chicken nachos the sliders were amazing and the nachos were good too maybe by themselves the nachos would have scored better but after those sliders they were up against some tough competition', 'category': 'food'},\n",
        "         {'paragraph': 'the biscuits and gravy was too salty two people in my group had the gravy and all thought it was too salty my hubby ordered a side of double egg and it was served on two small plates who serves eggs to one person on separate plates we commented on that when it was delivered and even the server laughed and said she doesnt know why the kitchen does that presentation of food is important and they really missed on this one', 'category': 'food'},\n",
        "         {'paragraph': 'the garlic fries were a great starter (and a happy hour special) the pancakes looked and tasted great and were a fairly generous portion', 'category': 'food'},\n",
        "         {'paragraph': 'our meal was excellent i had the pasta ai formaggi which was so rich i didnt dare eat it all although i certainly wanted to excellent flavors with a great texture contrast between the soft pasta and the crisp bread crumbs too much sauce for me but a wonderful dish', 'category': 'food'},\n",
        "         {'paragraph': 'what i enjoy most about palo alto is so many restaurants have dog-friendly seating outside i had bookmarked italico from when they first opened about a 1.5 years ago and was jonesing for some pasta so time to finally knock that bookmark off', 'category': 'food'},\n",
        "         {'paragraph': 'the drinks came out fairly quickly a good two to three minutes after the orders were taken i expected my iced tea to taste a bit more sweet but this was straight up green tea with ice in it not to complain of course but i was pleasantly surprised', 'category': 'food'},\n",
        "         {'paragraph': 'despite the not so good burger the service was so slow the restaurant wasnt even half full and they took very long from the moment we got seated to the time we left it was almost 2 hours we thought that it would be quick since we ordered as soon as we sat down my coworkers did seem to enjoy their beef burgers for those who eat beef however i will not be returning it is too expensive and extremely slow service', 'category': 'food'},\n",
        "    \n",
        "         {'paragraph': 'the four reigning major champions simona halep caroline wozniacki angelique kerber and defending us open champion sloane stephens could make a case for being the quartet most likely to succeed especially as all but stephens has also enjoyed the no1 ranking within the last 14 months as they prepare for their gruelling new york campaigns they currently hold the top four places in the ranks', 'category': 'sports'},\n",
        "         {'paragraph': 'the briton was seeded nn7 here last year before a slump in form and confidence took her down to no46 after five first-round losses but there have been signs of a turnaround including a victory over a sub-par serena williams in san jose plus wins against jelena ostapenko and victoria azarenka in montreal. konta pulled out of new haven this week with illness but will hope for good things where she first scored wins in a major before her big breakthroughs to the semis in australia and wimbledon', 'category': 'sports'},\n",
        "         {'paragraph': 'stephens surged her way back from injury in stunning style to win her first major here last year—and ranked just no83 she has since proved what a big time player she is winning the miami title via four fellow major champions then reaching the final at the french open back on north american hard courts she ran to the final in montreal only just edged out by halep she has also avoided many of the big names in her quarter—except for wild card azarenka as a possible in the third round', 'category': 'sports'},\n",
        "         {'paragraph': 'when it came to england chances in the world cup it would be fair to say that most fans had never been more pessimistic than they were this year after enduring years of truly dismal performances at major tournaments – culminating in the 2014 event where they failed to win any of their three group games and finished in bottom spot those results led to the resignation of manager roy hodgson', 'category': 'sports'},\n",
        "         {'paragraph': 'the team that eliminated russia – croatia – also improved enormously during the tournament before it began their odds were 33/1 but they played with real flair and star players like luka modric ivan rakitic and ivan perisic showed their quality on the world stage having displayed their potential by winning all three of their group stage games croatia went on to face difficult tests like the semi-final against england', 'category': 'sports'},\n",
        "         {'paragraph': 'the perseyside outfit finished in fourth place in the premier league table and without a trophy last term after having reached the champions league final before losing to real madrid', 'category': 'sports'},\n",
        "         {'paragraph': 'liverpool fc will return to premier league action on saturday lunchtime when they travel to leicester city in the top flight as they look to make it four wins in a row in the league', 'category': 'sports'},\n",
        "         {'paragraph': 'alisson signed for liverpool fc from as roma this summer and the brazilian goalkeeper has helped the reds to keep three clean sheets in their first three premier league games', 'category': 'sports'},\n",
        "         {'paragraph': 'but the rankings during that run-in to new york hid some very different undercurrents for murray had struggled with a hip injury since the clay swing and had not played a match since losing his quarter-final at wimbledon and he would pull out of the us open just two days before the tournament began—too late however to promote nederer to the no2 seeding', 'category': 'sports'},\n",
        "         {'paragraph': 'then came the oh-so-familiar djokovic-nadal no-quarter-given battle for dominance in the third set there were exhilarating rallies with both chasing to the net both retrieving what looked like winning shots nadal more than once pulled off a reverse smash and had his chance to seal the tie-break but it was djokovic serving at 10-9 who dragged one decisive error from nadal for a two-sets lead', 'category': 'sports'}\n",
        "]\n",
        "df = pd.DataFrame(paragraph_dict_list)\n",
        "df = df[['paragraph', 'category']]"
      ],
      "execution_count": 4,
      "outputs": []
    },
    {
      "cell_type": "code",
      "metadata": {
        "id": "KzZ9gagtyZMq",
        "colab_type": "code",
        "colab": {
          "base_uri": "https://localhost:8080/",
          "height": 204
        },
        "outputId": "a45c8fbf-572c-4cee-a4af-1ef9732fad31"
      },
      "source": [
        "df.head()"
      ],
      "execution_count": 5,
      "outputs": [
        {
          "output_type": "execute_result",
          "data": {
            "text/html": [
              "<div>\n",
              "<style scoped>\n",
              "    .dataframe tbody tr th:only-of-type {\n",
              "        vertical-align: middle;\n",
              "    }\n",
              "\n",
              "    .dataframe tbody tr th {\n",
              "        vertical-align: top;\n",
              "    }\n",
              "\n",
              "    .dataframe thead th {\n",
              "        text-align: right;\n",
              "    }\n",
              "</style>\n",
              "<table border=\"1\" class=\"dataframe\">\n",
              "  <thead>\n",
              "    <tr style=\"text-align: right;\">\n",
              "      <th></th>\n",
              "      <th>paragraph</th>\n",
              "      <th>category</th>\n",
              "    </tr>\n",
              "  </thead>\n",
              "  <tbody>\n",
              "    <tr>\n",
              "      <th>0</th>\n",
              "      <td>dishplace is located in sunnyvale downtown the...</td>\n",
              "      <td>food</td>\n",
              "    </tr>\n",
              "    <tr>\n",
              "      <th>1</th>\n",
              "      <td>service can be slower during busy hours but ou...</td>\n",
              "      <td>food</td>\n",
              "    </tr>\n",
              "    <tr>\n",
              "      <th>2</th>\n",
              "      <td>portions are huge both french toast and their ...</td>\n",
              "      <td>food</td>\n",
              "    </tr>\n",
              "    <tr>\n",
              "      <th>3</th>\n",
              "      <td>we started with apps going the chicken and waf...</td>\n",
              "      <td>food</td>\n",
              "    </tr>\n",
              "    <tr>\n",
              "      <th>4</th>\n",
              "      <td>the biscuits and gravy was too salty two peopl...</td>\n",
              "      <td>food</td>\n",
              "    </tr>\n",
              "  </tbody>\n",
              "</table>\n",
              "</div>"
            ],
            "text/plain": [
              "                                           paragraph category\n",
              "0  dishplace is located in sunnyvale downtown the...     food\n",
              "1  service can be slower during busy hours but ou...     food\n",
              "2  portions are huge both french toast and their ...     food\n",
              "3  we started with apps going the chicken and waf...     food\n",
              "4  the biscuits and gravy was too salty two peopl...     food"
            ]
          },
          "metadata": {
            "tags": []
          },
          "execution_count": 5
        }
      ]
    },
    {
      "cell_type": "code",
      "metadata": {
        "id": "Wij6SIrsybGm",
        "colab_type": "code",
        "colab": {
          "base_uri": "https://localhost:8080/",
          "height": 204
        },
        "outputId": "79d23d2e-0647-4180-f18a-5a3dd7a80d10"
      },
      "source": [
        "df.tail()"
      ],
      "execution_count": 6,
      "outputs": [
        {
          "output_type": "execute_result",
          "data": {
            "text/html": [
              "<div>\n",
              "<style scoped>\n",
              "    .dataframe tbody tr th:only-of-type {\n",
              "        vertical-align: middle;\n",
              "    }\n",
              "\n",
              "    .dataframe tbody tr th {\n",
              "        vertical-align: top;\n",
              "    }\n",
              "\n",
              "    .dataframe thead th {\n",
              "        text-align: right;\n",
              "    }\n",
              "</style>\n",
              "<table border=\"1\" class=\"dataframe\">\n",
              "  <thead>\n",
              "    <tr style=\"text-align: right;\">\n",
              "      <th></th>\n",
              "      <th>paragraph</th>\n",
              "      <th>category</th>\n",
              "    </tr>\n",
              "  </thead>\n",
              "  <tbody>\n",
              "    <tr>\n",
              "      <th>15</th>\n",
              "      <td>the perseyside outfit finished in fourth place...</td>\n",
              "      <td>sports</td>\n",
              "    </tr>\n",
              "    <tr>\n",
              "      <th>16</th>\n",
              "      <td>liverpool fc will return to premier league act...</td>\n",
              "      <td>sports</td>\n",
              "    </tr>\n",
              "    <tr>\n",
              "      <th>17</th>\n",
              "      <td>alisson signed for liverpool fc from as roma t...</td>\n",
              "      <td>sports</td>\n",
              "    </tr>\n",
              "    <tr>\n",
              "      <th>18</th>\n",
              "      <td>but the rankings during that run-in to new yor...</td>\n",
              "      <td>sports</td>\n",
              "    </tr>\n",
              "    <tr>\n",
              "      <th>19</th>\n",
              "      <td>then came the oh-so-familiar djokovic-nadal no...</td>\n",
              "      <td>sports</td>\n",
              "    </tr>\n",
              "  </tbody>\n",
              "</table>\n",
              "</div>"
            ],
            "text/plain": [
              "                                            paragraph category\n",
              "15  the perseyside outfit finished in fourth place...   sports\n",
              "16  liverpool fc will return to premier league act...   sports\n",
              "17  alisson signed for liverpool fc from as roma t...   sports\n",
              "18  but the rankings during that run-in to new yor...   sports\n",
              "19  then came the oh-so-familiar djokovic-nadal no...   sports"
            ]
          },
          "metadata": {
            "tags": []
          },
          "execution_count": 6
        }
      ]
    },
    {
      "cell_type": "code",
      "metadata": {
        "id": "nealWHyoyf82",
        "colab_type": "code",
        "colab": {}
      },
      "source": [
        "#데이터 전처리\n",
        "def get_vocab_size(df):\n",
        "  results = set() # 단어 중복 제거\n",
        "  df['paragraph'].str.lower().str.split().apply(results.update)\n",
        "  return len(results)"
      ],
      "execution_count": 9,
      "outputs": []
    },
    {
      "cell_type": "code",
      "metadata": {
        "id": "eGxc3RTKzTXN",
        "colab_type": "code",
        "colab": {}
      },
      "source": [
        "# 전체 단어 갯수\n",
        "vocab_size = get_vocab_size(df)"
      ],
      "execution_count": 10,
      "outputs": []
    },
    {
      "cell_type": "code",
      "metadata": {
        "id": "mkAa5sWYzWuL",
        "colab_type": "code",
        "colab": {
          "base_uri": "https://localhost:8080/",
          "height": 35
        },
        "outputId": "57d90643-a32a-4a98-e11e-5ac3a728a2a8"
      },
      "source": [
        "vocab_size"
      ],
      "execution_count": 11,
      "outputs": [
        {
          "output_type": "execute_result",
          "data": {
            "text/plain": [
              "536"
            ]
          },
          "metadata": {
            "tags": []
          },
          "execution_count": 11
        }
      ]
    },
    {
      "cell_type": "code",
      "metadata": {
        "id": "uyR5UQcGzXbe",
        "colab_type": "code",
        "colab": {}
      },
      "source": [
        "paragraphs = df['paragraph'].tolist()\n",
        "encoded_paragraphs = [one_hot(paragraph, vocab_size) for paragraph in paragraphs]"
      ],
      "execution_count": 15,
      "outputs": []
    },
    {
      "cell_type": "code",
      "metadata": {
        "id": "HUJPeABCzrJl",
        "colab_type": "code",
        "colab": {
          "base_uri": "https://localhost:8080/",
          "height": 127
        },
        "outputId": "958cf1f5-cd66-4701-d923-25b08806f848"
      },
      "source": [
        "paragraphs[0:5]"
      ],
      "execution_count": 16,
      "outputs": [
        {
          "output_type": "execute_result",
          "data": {
            "text/plain": [
              "['dishplace is located in sunnyvale downtown there is parking around the area but it can be difficult to find during peak business hours my sisters and i came to this place for dinner on a weekday they were really busy so i highly recommended making reservations unless you have the patience to wait',\n",
              " 'service can be slower during busy hours but our waiter was courteous and help gave some great entree recommendations',\n",
              " 'portions are huge both french toast and their various omelettes are really good their french toast is probably 1.5x more than other brunch places great place to visit if you are hungry and dont want to wait 1 hour for a table',\n",
              " 'we started with apps going the chicken and waffle slides and chicken nachos the sliders were amazing and the nachos were good too maybe by themselves the nachos would have scored better but after those sliders they were up against some tough competition',\n",
              " 'the biscuits and gravy was too salty two people in my group had the gravy and all thought it was too salty my hubby ordered a side of double egg and it was served on two small plates who serves eggs to one person on separate plates we commented on that when it was delivered and even the server laughed and said she doesnt know why the kitchen does that presentation of food is important and they really missed on this one']"
            ]
          },
          "metadata": {
            "tags": []
          },
          "execution_count": 16
        }
      ]
    },
    {
      "cell_type": "code",
      "metadata": {
        "id": "OU80ZWH4zuNF",
        "colab_type": "code",
        "colab": {
          "base_uri": "https://localhost:8080/",
          "height": 55
        },
        "outputId": "9c386b69-5ce3-4969-ba57-3f726a31850a"
      },
      "source": [
        "print(encoded_paragraphs[0])"
      ],
      "execution_count": 29,
      "outputs": [
        {
          "output_type": "stream",
          "text": [
            "[109, 239, 321, 518, 382, 136, 207, 239, 92, 204, 212, 254, 258, 434, 440, 13, 469, 430, 340, 124, 415, 354, 408, 150, 228, 394, 509, 273, 430, 4, 435, 252, 298, 259, 321, 8, 384, 193, 211, 175, 346, 509, 111, 336, 260, 492, 306, 87, 215, 212, 37, 430, 313]\n"
          ],
          "name": "stdout"
        }
      ]
    },
    {
      "cell_type": "code",
      "metadata": {
        "id": "0poNu7M_0Esg",
        "colab_type": "code",
        "colab": {
          "base_uri": "https://localhost:8080/",
          "height": 35
        },
        "outputId": "96f8da7c-93a6-498d-a2f8-718ee8843f37"
      },
      "source": [
        "def get_max_length(df):\n",
        "  max_length = 0\n",
        "  for row in df['paragraph']:\n",
        "    if len(row.split(\" \")) > max_length:\n",
        "      max_length = len(row.split(\" \"))\n",
        "  return max_length\n",
        "\n",
        "max_length = get_max_length(df)\n",
        "print(max_length)"
      ],
      "execution_count": 22,
      "outputs": [
        {
          "output_type": "stream",
          "text": [
            "91\n"
          ],
          "name": "stdout"
        }
      ]
    },
    {
      "cell_type": "code",
      "metadata": {
        "id": "up4zFwwM9vP_",
        "colab_type": "code",
        "colab": {}
      },
      "source": [
        "#문장마다 단어 갯수가 다르기 때문에, 제로 패딩으로 문장의 길이를 동일하게 만듬\n",
        "padded_paragraphs_encoding = pad_sequences(encoded_paragraphs, maxlen=max_length, padding='post')"
      ],
      "execution_count": 24,
      "outputs": []
    },
    {
      "cell_type": "code",
      "metadata": {
        "id": "wdxqCW4q-Ah0",
        "colab_type": "code",
        "colab": {
          "base_uri": "https://localhost:8080/",
          "height": 143
        },
        "outputId": "8be03028-7756-4c0b-9dd4-a2e607f3888c"
      },
      "source": [
        "padded_paragraphs_encoding, padded_paragraphs_encoding.shape"
      ],
      "execution_count": 70,
      "outputs": [
        {
          "output_type": "execute_result",
          "data": {
            "text/plain": [
              "(array([[109, 239, 321, ...,   0,   0,   0],\n",
              "        [243, 440,  13, ...,   0,   0,   0],\n",
              "        [506,  94, 322, ...,   0,   0,   0],\n",
              "        ...,\n",
              "        [ 19, 382, 252, ...,   0,   0,   0],\n",
              "        [258, 212, 472, ...,   0,   0,   0],\n",
              "        [278, 273, 212, ...,   0,   0,   0]], dtype=int32), (20, 91))"
            ]
          },
          "metadata": {
            "tags": []
          },
          "execution_count": 70
        }
      ]
    },
    {
      "cell_type": "code",
      "metadata": {
        "id": "U4ivSgeH-EQE",
        "colab_type": "code",
        "colab": {
          "base_uri": "https://localhost:8080/",
          "height": 377
        },
        "outputId": "89b4e15d-59bb-48ab-850a-8222d7372084"
      },
      "source": [
        "categories = df['category'].tolist()\n",
        "categories"
      ],
      "execution_count": 26,
      "outputs": [
        {
          "output_type": "execute_result",
          "data": {
            "text/plain": [
              "['food',\n",
              " 'food',\n",
              " 'food',\n",
              " 'food',\n",
              " 'food',\n",
              " 'food',\n",
              " 'food',\n",
              " 'food',\n",
              " 'food',\n",
              " 'food',\n",
              " 'sports',\n",
              " 'sports',\n",
              " 'sports',\n",
              " 'sports',\n",
              " 'sports',\n",
              " 'sports',\n",
              " 'sports',\n",
              " 'sports',\n",
              " 'sports',\n",
              " 'sports']"
            ]
          },
          "metadata": {
            "tags": []
          },
          "execution_count": 26
        }
      ]
    },
    {
      "cell_type": "code",
      "metadata": {
        "id": "kEQ6SgFN-Nps",
        "colab_type": "code",
        "colab": {
          "base_uri": "https://localhost:8080/",
          "height": 55
        },
        "outputId": "90430ae2-15d0-446f-b4a0-75099cf1e066"
      },
      "source": [
        "# 카데고리 또한 수치로 변형시켜줘야 한다\n",
        "def category_encode(category):\n",
        "  if category == 'food':\n",
        "    return [1,0]\n",
        "  else:\n",
        "    return [0,1]\n",
        "\n",
        "encoded_category = [category_encode(category) for category in categories]\n",
        "print(encoded_category)"
      ],
      "execution_count": 27,
      "outputs": [
        {
          "output_type": "stream",
          "text": [
            "[[1, 0], [1, 0], [1, 0], [1, 0], [1, 0], [1, 0], [1, 0], [1, 0], [1, 0], [1, 0], [0, 1], [0, 1], [0, 1], [0, 1], [0, 1], [0, 1], [0, 1], [0, 1], [0, 1], [0, 1]]\n"
          ],
          "name": "stdout"
        }
      ]
    },
    {
      "cell_type": "markdown",
      "metadata": {
        "id": "3qS-MyXu-5uQ",
        "colab_type": "text"
      },
      "source": [
        "주제 분류하는 모델 구현"
      ]
    },
    {
      "cell_type": "code",
      "metadata": {
        "id": "aQq0o140-zCs",
        "colab_type": "code",
        "colab": {
          "base_uri": "https://localhost:8080/",
          "height": 270
        },
        "outputId": "06dc9f17-a2e0-46d2-91f6-fc61a983fa19"
      },
      "source": [
        "\n",
        "Image(url= \"https://raw.githubusercontent.com/captainchargers/deeplearning/master/img/lstm_model_overview.png\", width=500, height=250)"
      ],
      "execution_count": 30,
      "outputs": [
        {
          "output_type": "execute_result",
          "data": {
            "text/html": [
              "<img src=\"https://raw.githubusercontent.com/captainchargers/deeplearning/master/img/lstm_model_overview.png\" width=\"500\" height=\"250\"/>"
            ],
            "text/plain": [
              "<IPython.core.display.Image object>"
            ]
          },
          "metadata": {
            "tags": []
          },
          "execution_count": 30
        }
      ]
    },
    {
      "cell_type": "code",
      "metadata": {
        "id": "PUT5BlXd--Bb",
        "colab_type": "code",
        "colab": {}
      },
      "source": [
        "model = Sequential()\n",
        "model.add(Embedding(vocab_size, 5, input_length=max_length))\n",
        "model.add(LSTM(64))\n",
        "model.add(Dense(32, activation='relu'))\n",
        "model.add(Dense(2, activation='softmax'))"
      ],
      "execution_count": 59,
      "outputs": []
    },
    {
      "cell_type": "code",
      "metadata": {
        "id": "qOuLftYY_uHZ",
        "colab_type": "code",
        "colab": {}
      },
      "source": [
        "model.compile(loss='categorical_crossentropy',\n",
        "              optimizer='adam',\n",
        "              metrics=['accuracy'])"
      ],
      "execution_count": 60,
      "outputs": []
    },
    {
      "cell_type": "code",
      "metadata": {
        "id": "0vIFjJqgDEEz",
        "colab_type": "code",
        "colab": {
          "base_uri": "https://localhost:8080/",
          "height": 179
        },
        "outputId": "bd2c97c9-606e-4751-d47b-474b30864e37"
      },
      "source": [
        "model.layers[0].weights"
      ],
      "execution_count": 72,
      "outputs": [
        {
          "output_type": "execute_result",
          "data": {
            "text/plain": [
              "[<tf.Variable 'embedding_1/embeddings:0' shape=(536, 5) dtype=float32, numpy=\n",
              " array([[-0.01021043,  0.03155854,  0.01192266, -0.02288668,  0.00437133],\n",
              "        [ 0.04962002, -0.00266556, -0.06787688, -0.01795626,  0.07024096],\n",
              "        [ 0.04736006,  0.04116863,  0.00529343,  0.0270474 , -0.00992645],\n",
              "        ...,\n",
              "        [ 0.06880832, -0.01124398, -0.01989429, -0.01539994,  0.04485341],\n",
              "        [ 0.03252177,  0.05253371, -0.02468635,  0.02124182,  0.03354437],\n",
              "        [ 0.00122338,  0.00200092, -0.02889839,  0.01319774,  0.05843382]],\n",
              "       dtype=float32)>]"
            ]
          },
          "metadata": {
            "tags": []
          },
          "execution_count": 72
        }
      ]
    },
    {
      "cell_type": "code",
      "metadata": {
        "id": "bZ6QwR-9_3QM",
        "colab_type": "code",
        "colab": {}
      },
      "source": [
        "train_X = np.array(padded_paragraphs_encoding)\n",
        "train_Y = np.array(encoded_category)"
      ],
      "execution_count": 61,
      "outputs": []
    },
    {
      "cell_type": "code",
      "metadata": {
        "id": "5PaMb8NR__lz",
        "colab_type": "code",
        "colab": {
          "base_uri": "https://localhost:8080/",
          "height": 287
        },
        "outputId": "5d7c1f3d-3b9a-471e-f2da-9018b2c6be92"
      },
      "source": [
        "train_X[0:2]"
      ],
      "execution_count": 62,
      "outputs": [
        {
          "output_type": "execute_result",
          "data": {
            "text/plain": [
              "array([[109, 239, 321, 518, 382, 136, 207, 239,  92, 204, 212, 254, 258,\n",
              "        434, 440,  13, 469, 430, 340, 124, 415, 354, 408, 150, 228, 394,\n",
              "        509, 273, 430,   4, 435, 252, 298, 259, 321,   8, 384, 193, 211,\n",
              "        175, 346, 509, 111, 336, 260, 492, 306,  87, 215, 212,  37, 430,\n",
              "        313,   0,   0,   0,   0,   0,   0,   0,   0,   0,   0,   0,   0,\n",
              "          0,   0,   0,   0,   0,   0,   0,   0,   0,   0,   0,   0,   0,\n",
              "          0,   0,   0,   0,   0,   0,   0,   0,   0,   0,   0,   0,   0],\n",
              "       [243, 440,  13, 150, 124, 175, 408, 258, 302,  15, 146, 364, 394,\n",
              "        444, 137, 199, 408, 284, 193,   0,   0,   0,   0,   0,   0,   0,\n",
              "          0,   0,   0,   0,   0,   0,   0,   0,   0,   0,   0,   0,   0,\n",
              "          0,   0,   0,   0,   0,   0,   0,   0,   0,   0,   0,   0,   0,\n",
              "          0,   0,   0,   0,   0,   0,   0,   0,   0,   0,   0,   0,   0,\n",
              "          0,   0,   0,   0,   0,   0,   0,   0,   0,   0,   0,   0,   0,\n",
              "          0,   0,   0,   0,   0,   0,   0,   0,   0,   0,   0,   0,   0]],\n",
              "      dtype=int32)"
            ]
          },
          "metadata": {
            "tags": []
          },
          "execution_count": 62
        }
      ]
    },
    {
      "cell_type": "code",
      "metadata": {
        "id": "PHLh8e-dACu8",
        "colab_type": "code",
        "colab": {
          "base_uri": "https://localhost:8080/",
          "height": 53
        },
        "outputId": "3eade58c-a213-4a96-9ca0-f49d0762be62"
      },
      "source": [
        "train_Y[0:2]"
      ],
      "execution_count": 63,
      "outputs": [
        {
          "output_type": "execute_result",
          "data": {
            "text/plain": [
              "array([[1, 0],\n",
              "       [1, 0]])"
            ]
          },
          "metadata": {
            "tags": []
          },
          "execution_count": 63
        }
      ]
    },
    {
      "cell_type": "code",
      "metadata": {
        "id": "KyGSxThjAEm0",
        "colab_type": "code",
        "colab": {
          "base_uri": "https://localhost:8080/",
          "height": 1000
        },
        "outputId": "29d6ce58-feea-43e2-d8eb-596a305ceda6"
      },
      "source": [
        "print('Train...')\n",
        "model.fit(train_X, train_Y,batch_size=10,epochs=50)"
      ],
      "execution_count": 65,
      "outputs": [
        {
          "output_type": "stream",
          "text": [
            "Train...\n",
            "Epoch 1/50\n",
            "2/2 [==============================] - 0s 16ms/step - loss: 0.6941 - accuracy: 0.5500\n",
            "Epoch 2/50\n",
            "2/2 [==============================] - 0s 13ms/step - loss: 0.6927 - accuracy: 0.5000\n",
            "Epoch 3/50\n",
            "2/2 [==============================] - 0s 17ms/step - loss: 0.6927 - accuracy: 0.5000\n",
            "Epoch 4/50\n",
            "2/2 [==============================] - 0s 16ms/step - loss: 0.6926 - accuracy: 0.5000\n",
            "Epoch 5/50\n",
            "2/2 [==============================] - 0s 14ms/step - loss: 0.6924 - accuracy: 0.5500\n",
            "Epoch 6/50\n",
            "2/2 [==============================] - 0s 14ms/step - loss: 0.6922 - accuracy: 0.5500\n",
            "Epoch 7/50\n",
            "2/2 [==============================] - 0s 14ms/step - loss: 0.6919 - accuracy: 0.5500\n",
            "Epoch 8/50\n",
            "2/2 [==============================] - 0s 13ms/step - loss: 0.6917 - accuracy: 0.5500\n",
            "Epoch 9/50\n",
            "2/2 [==============================] - 0s 15ms/step - loss: 0.6914 - accuracy: 0.5500\n",
            "Epoch 10/50\n",
            "2/2 [==============================] - 0s 17ms/step - loss: 0.6912 - accuracy: 0.5500\n",
            "Epoch 11/50\n",
            "2/2 [==============================] - 0s 15ms/step - loss: 0.6910 - accuracy: 0.6000\n",
            "Epoch 12/50\n",
            "2/2 [==============================] - 0s 15ms/step - loss: 0.6905 - accuracy: 0.6000\n",
            "Epoch 13/50\n",
            "2/2 [==============================] - 0s 14ms/step - loss: 0.6893 - accuracy: 0.6000\n",
            "Epoch 14/50\n",
            "2/2 [==============================] - 0s 14ms/step - loss: 0.6893 - accuracy: 0.6000\n",
            "Epoch 15/50\n",
            "2/2 [==============================] - 0s 13ms/step - loss: 0.6874 - accuracy: 0.6000\n",
            "Epoch 16/50\n",
            "2/2 [==============================] - 0s 14ms/step - loss: 0.6882 - accuracy: 0.6000\n",
            "Epoch 17/50\n",
            "2/2 [==============================] - 0s 13ms/step - loss: 0.6824 - accuracy: 0.6000\n",
            "Epoch 18/50\n",
            "2/2 [==============================] - 0s 14ms/step - loss: 0.6789 - accuracy: 0.6000\n",
            "Epoch 19/50\n",
            "2/2 [==============================] - 0s 13ms/step - loss: 0.6770 - accuracy: 0.6000\n",
            "Epoch 20/50\n",
            "2/2 [==============================] - 0s 14ms/step - loss: 0.6478 - accuracy: 0.6000\n",
            "Epoch 21/50\n",
            "2/2 [==============================] - 0s 14ms/step - loss: 0.5904 - accuracy: 0.7500\n",
            "Epoch 22/50\n",
            "2/2 [==============================] - 0s 14ms/step - loss: 0.5911 - accuracy: 0.8500\n",
            "Epoch 23/50\n",
            "2/2 [==============================] - 0s 14ms/step - loss: 0.5042 - accuracy: 0.9000\n",
            "Epoch 24/50\n",
            "2/2 [==============================] - 0s 14ms/step - loss: 0.3972 - accuracy: 0.8500\n",
            "Epoch 25/50\n",
            "2/2 [==============================] - 0s 14ms/step - loss: 0.2898 - accuracy: 0.9500\n",
            "Epoch 26/50\n",
            "2/2 [==============================] - 0s 15ms/step - loss: 0.2537 - accuracy: 0.9500\n",
            "Epoch 27/50\n",
            "2/2 [==============================] - 0s 13ms/step - loss: 0.2056 - accuracy: 0.9500\n",
            "Epoch 28/50\n",
            "2/2 [==============================] - 0s 14ms/step - loss: 0.1906 - accuracy: 0.9500\n",
            "Epoch 29/50\n",
            "2/2 [==============================] - 0s 14ms/step - loss: 0.1801 - accuracy: 0.9500\n",
            "Epoch 30/50\n",
            "2/2 [==============================] - 0s 14ms/step - loss: 0.1790 - accuracy: 0.9500\n",
            "Epoch 31/50\n",
            "2/2 [==============================] - 0s 14ms/step - loss: 0.1770 - accuracy: 0.9500\n",
            "Epoch 32/50\n",
            "2/2 [==============================] - 0s 15ms/step - loss: 0.1773 - accuracy: 0.9500\n",
            "Epoch 33/50\n",
            "2/2 [==============================] - 0s 13ms/step - loss: 0.1764 - accuracy: 0.9500\n",
            "Epoch 34/50\n",
            "2/2 [==============================] - 0s 16ms/step - loss: 0.1758 - accuracy: 0.9500\n",
            "Epoch 35/50\n",
            "2/2 [==============================] - 0s 14ms/step - loss: 0.1717 - accuracy: 0.9500\n",
            "Epoch 36/50\n",
            "2/2 [==============================] - 0s 14ms/step - loss: 0.1701 - accuracy: 0.9500\n",
            "Epoch 37/50\n",
            "2/2 [==============================] - 0s 14ms/step - loss: 0.1707 - accuracy: 0.9500\n",
            "Epoch 38/50\n",
            "2/2 [==============================] - 0s 13ms/step - loss: 0.1678 - accuracy: 0.9500\n",
            "Epoch 39/50\n",
            "2/2 [==============================] - 0s 13ms/step - loss: 0.1675 - accuracy: 0.9500\n",
            "Epoch 40/50\n",
            "2/2 [==============================] - 0s 14ms/step - loss: 0.1696 - accuracy: 0.9500\n",
            "Epoch 41/50\n",
            "2/2 [==============================] - 0s 13ms/step - loss: 0.1677 - accuracy: 0.9500\n",
            "Epoch 42/50\n",
            "2/2 [==============================] - 0s 14ms/step - loss: 0.1679 - accuracy: 0.9500\n",
            "Epoch 43/50\n",
            "2/2 [==============================] - 0s 14ms/step - loss: 0.1680 - accuracy: 0.9500\n",
            "Epoch 44/50\n",
            "2/2 [==============================] - 0s 15ms/step - loss: 0.1680 - accuracy: 0.9500\n",
            "Epoch 45/50\n",
            "2/2 [==============================] - 0s 14ms/step - loss: 0.1686 - accuracy: 0.9500\n",
            "Epoch 46/50\n",
            "2/2 [==============================] - 0s 15ms/step - loss: 0.1681 - accuracy: 0.9500\n",
            "Epoch 47/50\n",
            "2/2 [==============================] - 0s 14ms/step - loss: 0.1681 - accuracy: 0.9500\n",
            "Epoch 48/50\n",
            "2/2 [==============================] - 0s 14ms/step - loss: 0.1682 - accuracy: 0.9500\n",
            "Epoch 49/50\n",
            "2/2 [==============================] - 0s 14ms/step - loss: 0.1682 - accuracy: 0.9500\n",
            "Epoch 50/50\n",
            "2/2 [==============================] - 0s 14ms/step - loss: 0.1683 - accuracy: 0.9500\n"
          ],
          "name": "stdout"
        },
        {
          "output_type": "execute_result",
          "data": {
            "text/plain": [
              "<tensorflow.python.keras.callbacks.History at 0x7fab5697d4e0>"
            ]
          },
          "metadata": {
            "tags": []
          },
          "execution_count": 65
        }
      ]
    },
    {
      "cell_type": "code",
      "metadata": {
        "id": "ZfDh9D9JAJrM",
        "colab_type": "code",
        "colab": {
          "base_uri": "https://localhost:8080/",
          "height": 35
        },
        "outputId": "90d50ca1-d34f-4a4e-a216-48198e295f64"
      },
      "source": [
        "score, acc = model.evaluate(train_X, train_Y, verbose=2)"
      ],
      "execution_count": 67,
      "outputs": [
        {
          "output_type": "stream",
          "text": [
            "1/1 - 0s - loss: 0.1676 - accuracy: 0.9500\n"
          ],
          "name": "stdout"
        }
      ]
    },
    {
      "cell_type": "code",
      "metadata": {
        "id": "CmFVPPFZChbm",
        "colab_type": "code",
        "colab": {
          "base_uri": "https://localhost:8080/",
          "height": 35
        },
        "outputId": "8584fff9-5cd2-44eb-cee6-bb32e07f243c"
      },
      "source": [
        "print('test score: ', score)"
      ],
      "execution_count": 68,
      "outputs": [
        {
          "output_type": "stream",
          "text": [
            "test score:  0.16756096482276917\n"
          ],
          "name": "stdout"
        }
      ]
    },
    {
      "cell_type": "code",
      "metadata": {
        "id": "2KZqsDfUCn3U",
        "colab_type": "code",
        "colab": {
          "base_uri": "https://localhost:8080/",
          "height": 305
        },
        "outputId": "caa3f999-ca9c-48ba-8842-c044213845ea"
      },
      "source": [
        "model.summary()"
      ],
      "execution_count": 74,
      "outputs": [
        {
          "output_type": "stream",
          "text": [
            "Model: \"sequential_1\"\n",
            "_________________________________________________________________\n",
            "Layer (type)                 Output Shape              Param #   \n",
            "=================================================================\n",
            "embedding_1 (Embedding)      (None, 91, 5)             2680      \n",
            "_________________________________________________________________\n",
            "lstm_1 (LSTM)                (None, 64)                17920     \n",
            "_________________________________________________________________\n",
            "dense_2 (Dense)              (None, 32)                2080      \n",
            "_________________________________________________________________\n",
            "dense_3 (Dense)              (None, 2)                 66        \n",
            "=================================================================\n",
            "Total params: 22,746\n",
            "Trainable params: 22,746\n",
            "Non-trainable params: 0\n",
            "_________________________________________________________________\n"
          ],
          "name": "stdout"
        }
      ]
    },
    {
      "cell_type": "code",
      "metadata": {
        "id": "3fGlA-tIDTYj",
        "colab_type": "code",
        "colab": {
          "base_uri": "https://localhost:8080/",
          "height": 35
        },
        "outputId": "83b7691f-e1ea-4b83-9ba8-ec9e7ece4d83"
      },
      "source": [
        "model.layers[0]"
      ],
      "execution_count": 77,
      "outputs": [
        {
          "output_type": "execute_result",
          "data": {
            "text/plain": [
              "<tensorflow.python.keras.layers.embeddings.Embedding at 0x7fab5ab3a7f0>"
            ]
          },
          "metadata": {
            "tags": []
          },
          "execution_count": 77
        }
      ]
    },
    {
      "cell_type": "code",
      "metadata": {
        "id": "H6V5hkv9DuIq",
        "colab_type": "code",
        "colab": {
          "base_uri": "https://localhost:8080/",
          "height": 179
        },
        "outputId": "08206e31-71b5-4d9c-c77a-7f6612ce6f0c"
      },
      "source": [
        "model.layers[0].weights[0]"
      ],
      "execution_count": 90,
      "outputs": [
        {
          "output_type": "execute_result",
          "data": {
            "text/plain": [
              "<tf.Variable 'embedding_1/embeddings:0' shape=(536, 5) dtype=float32, numpy=\n",
              "array([[-0.01021043,  0.03155854,  0.01192266, -0.02288668,  0.00437133],\n",
              "       [ 0.04962002, -0.00266556, -0.06787688, -0.01795626,  0.07024096],\n",
              "       [ 0.04736006,  0.04116863,  0.00529343,  0.0270474 , -0.00992645],\n",
              "       ...,\n",
              "       [ 0.06880832, -0.01124398, -0.01989429, -0.01539994,  0.04485341],\n",
              "       [ 0.03252177,  0.05253371, -0.02468635,  0.02124182,  0.03354437],\n",
              "       [ 0.00122338,  0.00200092, -0.02889839,  0.01319774,  0.05843382]],\n",
              "      dtype=float32)>"
            ]
          },
          "metadata": {
            "tags": []
          },
          "execution_count": 90
        }
      ]
    },
    {
      "cell_type": "code",
      "metadata": {
        "id": "k8lsRzVdDZD8",
        "colab_type": "code",
        "colab": {
          "base_uri": "https://localhost:8080/",
          "height": 1000
        },
        "outputId": "c4708558-19df-4375-f809-ba1f64ccefcc"
      },
      "source": [
        "model.layers[1].weights[2]"
      ],
      "execution_count": 91,
      "outputs": [
        {
          "output_type": "execute_result",
          "data": {
            "text/plain": [
              "<tf.Variable 'lstm_1/lstm_cell_1/bias:0' shape=(256,) dtype=float32, numpy=\n",
              "array([ 2.44747810e-02,  3.15554179e-02,  3.43391635e-02,  1.61706954e-02,\n",
              "        1.95455477e-02,  8.22307658e-04,  4.69247140e-02,  2.34648846e-02,\n",
              "        1.99181736e-02,  1.55924205e-02,  2.05902066e-02,  1.16462335e-02,\n",
              "        3.27920169e-03,  6.92736357e-03,  2.79465057e-02,  4.43815254e-03,\n",
              "       -8.07309337e-03,  3.32085975e-02,  3.38948481e-02,  2.74020787e-02,\n",
              "        3.12721878e-02,  2.83305589e-02,  8.46717041e-03,  3.22306603e-02,\n",
              "        3.16473171e-02,  3.07868347e-02,  3.17280255e-02,  2.24202406e-02,\n",
              "       -5.18579083e-03,  2.56428476e-02,  3.24185789e-02,  2.40560733e-02,\n",
              "        2.91861836e-02,  1.85354855e-02,  3.13460156e-02,  4.79961513e-03,\n",
              "        4.48783301e-02,  1.46639943e-02,  5.27493795e-03,  2.06000898e-02,\n",
              "       -5.61239198e-03,  3.02170515e-02,  2.88858637e-02,  1.42548326e-02,\n",
              "        2.96834875e-02,  3.06599196e-02,  4.01383685e-03,  2.23294739e-02,\n",
              "        4.00861986e-02, -1.38705561e-03,  4.99027781e-03, -1.71045829e-02,\n",
              "        3.00575681e-02,  2.89069042e-02,  2.25502886e-02,  1.34206805e-02,\n",
              "        8.34934879e-03,  1.37824100e-02,  1.73444804e-02,  2.89019980e-02,\n",
              "        3.44267972e-02,  2.06026882e-02,  1.35815963e-02,  2.63478849e-02,\n",
              "        1.02790642e+00,  1.03087592e+00,  1.04166985e+00,  1.02139795e+00,\n",
              "        1.01647115e+00,  9.98302519e-01,  1.05057728e+00,  1.03059375e+00,\n",
              "        1.02249086e+00,  1.01375210e+00,  1.01983762e+00,  1.00973856e+00,\n",
              "        1.00282240e+00,  9.98850346e-01,  1.02926147e+00,  1.00300038e+00,\n",
              "        9.91364837e-01,  1.03094018e+00,  1.03258467e+00,  1.02598131e+00,\n",
              "        1.02738857e+00,  1.03436792e+00,  1.00607681e+00,  1.03317833e+00,\n",
              "        1.03457308e+00,  1.03392911e+00,  1.03550231e+00,  1.02630174e+00,\n",
              "        9.90574718e-01,  1.02915049e+00,  1.03363371e+00,  1.02776968e+00,\n",
              "        1.03169644e+00,  1.01722419e+00,  1.03400338e+00,  1.00283182e+00,\n",
              "        1.04646742e+00,  1.02529931e+00,  1.00931656e+00,  1.02029133e+00,\n",
              "        9.93153512e-01,  1.03435469e+00,  1.02984464e+00,  1.01898217e+00,\n",
              "        1.02955902e+00,  1.02415574e+00,  1.00010180e+00,  1.02462804e+00,\n",
              "        1.03467798e+00,  9.99631763e-01,  1.00575805e+00,  9.81108904e-01,\n",
              "        1.03081489e+00,  1.03111148e+00,  1.02514160e+00,  1.01343429e+00,\n",
              "        1.01050031e+00,  1.00795591e+00,  1.01712298e+00,  1.01974082e+00,\n",
              "        1.03746927e+00,  1.02183950e+00,  1.01387680e+00,  1.02311635e+00,\n",
              "       -1.94686477e-03,  5.89313335e-04,  2.24730908e-03,  3.52716213e-03,\n",
              "        5.33296028e-03, -1.05504384e-02,  4.34249174e-04, -6.90683303e-03,\n",
              "        3.49598238e-03, -4.43649385e-03, -6.67438423e-03,  6.08909922e-03,\n",
              "       -4.89001349e-03,  3.25000816e-04,  2.78859609e-03, -2.32293550e-03,\n",
              "        4.12418367e-03,  6.05458627e-03, -4.07719472e-03, -4.95903194e-04,\n",
              "       -3.18070455e-03, -7.90683203e-04, -3.32464813e-03, -5.69906039e-03,\n",
              "       -2.33248621e-03, -5.18886093e-03,  1.09380424e-04, -1.79952628e-03,\n",
              "       -6.91080699e-03, -2.97577982e-03,  8.19077832e-04,  5.69249224e-03,\n",
              "        5.26093505e-03,  3.14906589e-03,  6.21450192e-04,  1.10592628e-02,\n",
              "        6.71867793e-03, -1.31280383e-03, -2.19301763e-03, -1.49353349e-03,\n",
              "       -9.55677684e-03, -8.48985394e-04, -7.24778045e-03, -5.29283239e-03,\n",
              "        4.33782907e-03, -8.23208975e-05, -2.72448454e-03,  4.11167089e-03,\n",
              "        3.23493639e-03, -4.64004092e-03, -1.08582024e-02, -2.06126296e-03,\n",
              "        2.59395968e-03, -2.85918126e-03,  6.54121768e-03,  1.68546289e-03,\n",
              "       -4.28737607e-03, -6.27405068e-04, -9.02424194e-03, -9.40814894e-03,\n",
              "       -3.52665363e-03,  5.19039761e-03,  4.33652103e-03, -2.42863013e-03,\n",
              "        2.50713490e-02,  3.10985427e-02,  3.40285785e-02,  1.63967218e-02,\n",
              "        2.10126117e-02,  7.31959241e-04,  4.67950851e-02,  2.33817734e-02,\n",
              "        1.94165912e-02,  1.23847844e-02,  2.23631281e-02,  9.04984772e-03,\n",
              "        3.76060256e-03,  9.23016574e-03,  2.81659588e-02,  5.70038008e-03,\n",
              "       -8.19832180e-03,  3.01597044e-02,  3.34407277e-02,  2.29261164e-02,\n",
              "        2.87257284e-02,  2.91991606e-02,  4.11042664e-03,  3.22685055e-02,\n",
              "        3.25888880e-02,  3.05671301e-02,  2.85970736e-02,  2.27429196e-02,\n",
              "       -1.56299639e-02,  2.56605577e-02,  2.95517743e-02,  2.40169261e-02,\n",
              "        2.65136939e-02,  1.92085467e-02,  3.11755408e-02,  8.40891525e-03,\n",
              "        4.49950546e-02,  1.43735195e-02,  4.35282616e-03,  2.32170559e-02,\n",
              "       -5.67460479e-03,  3.03871781e-02,  3.02370172e-02,  1.54258292e-02,\n",
              "        2.92364694e-02,  3.06708235e-02, -4.06283652e-03,  2.22810488e-02,\n",
              "        4.18920629e-02, -1.59606361e-03,  5.25432127e-03, -1.79048199e-02,\n",
              "        3.04215532e-02,  2.80572362e-02,  2.30749100e-02,  1.52440621e-02,\n",
              "        8.54593236e-03,  1.36120114e-02,  1.70038063e-02,  2.51653828e-02,\n",
              "        3.31774577e-02,  1.81668364e-02,  7.69824022e-03,  2.66819596e-02],\n",
              "      dtype=float32)>"
            ]
          },
          "metadata": {
            "tags": []
          },
          "execution_count": 91
        }
      ]
    },
    {
      "cell_type": "code",
      "metadata": {
        "id": "E8nNbNneDmbT",
        "colab_type": "code",
        "colab": {}
      },
      "source": [
        ""
      ],
      "execution_count": null,
      "outputs": []
    }
  ]
}