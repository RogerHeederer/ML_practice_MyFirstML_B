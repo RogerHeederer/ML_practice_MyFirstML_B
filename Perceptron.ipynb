{
  "nbformat": 4,
  "nbformat_minor": 0,
  "metadata": {
    "colab": {
      "name": "Perceptron.ipynb",
      "provenance": [],
      "collapsed_sections": [],
      "authorship_tag": "ABX9TyMX+9zt10uxaYVeRKW0igzL",
      "include_colab_link": true
    },
    "kernelspec": {
      "name": "python3",
      "display_name": "Python 3"
    }
  },
  "cells": [
    {
      "cell_type": "markdown",
      "metadata": {
        "id": "view-in-github",
        "colab_type": "text"
      },
      "source": [
        "<a href=\"https://colab.research.google.com/github/RogerHeederer/ML_practice_MyFirstML_B/blob/master/Perceptron.ipynb\" target=\"_parent\"><img src=\"https://colab.research.google.com/assets/colab-badge.svg\" alt=\"Open In Colab\"/></a>"
      ]
    },
    {
      "cell_type": "markdown",
      "metadata": {
        "id": "cs5b-Ysr4clA",
        "colab_type": "text"
      },
      "source": [
        "- **뉴런(노드) 하나로 AND, OR 연산 문제를 해결하는 기술 = 퍼셉트론**\n",
        "\n",
        "- **이런 뉴런들이 다수 모여 있는 구조가 신경망**\n",
        "\n",
        "- **하나 혹은 다수의 뉴런들이 일렬로 존재하는 것을 레이어라 부름**\n",
        "\n",
        "- **이런 레이어들은 가중치라는 선으로 이어져 있음**\n",
        "\n",
        "- **이렇게 레이어들이 깊게 이어져있기 때문에 딥러닝이라는 별칭이 생김**"
      ]
    },
    {
      "cell_type": "markdown",
      "metadata": {
        "id": "VU5uBnvL52P6",
        "colab_type": "text"
      },
      "source": [
        "source reference :  https://github.com/wikibook/machine-learning"
      ]
    },
    {
      "cell_type": "code",
      "metadata": {
        "id": "MdTze-4M4RFY",
        "colab_type": "code",
        "colab": {}
      },
      "source": [
        "from __future__ import absolute_import, division, print_function, unicode_literals\n",
        "\n",
        "try:\n",
        "  %tensorflw_version 2.x\n",
        "except Exception:\n",
        "  pass\n",
        "\n",
        "import tensorflow as tf\n",
        "\n",
        "#항상 같은 결과를 갖기 위해 랜듬 시드 설정\n",
        "tf.random.set_seed(678)"
      ],
      "execution_count": 1,
      "outputs": []
    },
    {
      "cell_type": "code",
      "metadata": {
        "id": "i26zbUsI6S1L",
        "colab_type": "code",
        "colab": {}
      },
      "source": [
        "#상수 설정\n",
        "T = 1.0\n",
        "F = 0.0\n",
        "bias = 1.0"
      ],
      "execution_count": 2,
      "outputs": []
    },
    {
      "cell_type": "code",
      "metadata": {
        "id": "MQyBiNRh6gmt",
        "colab_type": "code",
        "colab": {}
      },
      "source": [
        "#데이터 획득\n",
        "def get_AND_data():\n",
        "    X = [\n",
        "    [F, F, bias],\n",
        "    [F, T, bias],\n",
        "    [T, F, bias],\n",
        "    [T, T, bias]\n",
        "    ]\n",
        "    \n",
        "    y = [\n",
        "        [F],\n",
        "        [F],\n",
        "        [F],\n",
        "        [T]\n",
        "    ]\n",
        "    \n",
        "    return X, y\n",
        "\n",
        "def get_OR_data():\n",
        "    X = [\n",
        "    [F, F, bias],\n",
        "    [F, T, bias],\n",
        "    [T, F, bias],\n",
        "    [T, T, bias]\n",
        "    ]\n",
        "    \n",
        "    y = [\n",
        "        [F],\n",
        "        [T],\n",
        "        [T],\n",
        "        [T]\n",
        "    ]\n",
        "    \n",
        "    return X, y\n",
        "\n",
        "def get_XOR_data():\n",
        "    X = [\n",
        "    [F, F, bias],\n",
        "    [F, T, bias],\n",
        "    [T, F, bias],\n",
        "    [T, T, bias]\n",
        "    ]\n",
        "    \n",
        "    y = [\n",
        "        [F],\n",
        "        [T],\n",
        "        [T],\n",
        "        [F]\n",
        "    ]\n",
        "    \n",
        "    return X, y"
      ],
      "execution_count": 3,
      "outputs": []
    },
    {
      "cell_type": "code",
      "metadata": {
        "id": "545q4Hfo6n9l",
        "colab_type": "code",
        "colab": {}
      },
      "source": [
        "X, y = get_XOR_data()"
      ],
      "execution_count": 13,
      "outputs": []
    },
    {
      "cell_type": "code",
      "metadata": {
        "id": "BayJQFSG6urv",
        "colab_type": "code",
        "colab": {}
      },
      "source": [
        "class Perceptron:\n",
        "    def __init__(self):\n",
        "        self.W = tf.Variable(tf.random.normal([3, 1])) # 인풋 X1, X2, bias 3개. w1*X1 + w2*X2 + (w3)*bias = 출력값 \n",
        "                                                       # 3개의 입력과 한개의 뉴론\n",
        "    \n",
        "    def train(self,X):\n",
        "        err = 1\n",
        "        epoch, max_epochs = 0, 20\n",
        "        while err > 0.0 and epoch < max_epochs:\n",
        "            epoch += 1\n",
        "            self.optimize(X)\n",
        "            err = self.mse(y, self.pred(X)).numpy()\n",
        "            print('epoch:', epoch, 'mse:', err)\n",
        "    \n",
        "    @tf.function\n",
        "    def faster_pred(self, X):\n",
        "        return self.step(tf.matmul(X, self.W))\n",
        "    \n",
        "    def pred(self, X):\n",
        "        return self.step(tf.matmul(X, self.W))\n",
        "       \n",
        "    def mse(self, y, y_hat):\n",
        "        return tf.reduce_mean(tf.square(tf.subtract(y, y_hat)))\n",
        "    \n",
        "    def step(self,x):\n",
        "        # step(x) = { 1 if x > 0; 0 otherwise }\n",
        "        return tf.dtypes.cast(tf.math.greater(x, 0), tf.float32)\n",
        "\n",
        "    def optimize(self, X):\n",
        "        \"\"\"\n",
        "        퍼셉트론은 스텝 함수를 활성화 함수로 사용. 스텝 함수는 미분이 안돼. 그래서 경사하강법 사용 불가\n",
        "        그래서 매번 학습을 진행할 때마다 가중치를 아래의 룰에 맞게 업데이트 \n",
        "\n",
        "        if target == 1 and activation == 0:  \n",
        "          w_new = w_old + input  \n",
        "\n",
        "        if target == 0 and activation == 1:  \n",
        "          w_new = w_old - input  \n",
        "\n",
        "        위의 두가지 조건은 아래의 코드로 간단히 구현 가능합니다.  \n",
        "        \"\"\"\n",
        "        delta = tf.matmul(X, tf.subtract(y, self.step(tf.matmul(X, self.W))), transpose_a=True)\n",
        "        self.W.assign(self.W+delta)"
      ],
      "execution_count": 14,
      "outputs": []
    },
    {
      "cell_type": "code",
      "metadata": {
        "id": "lB1c4YmC61Yw",
        "colab_type": "code",
        "colab": {}
      },
      "source": [
        "perceptron = Perceptron()"
      ],
      "execution_count": 15,
      "outputs": []
    },
    {
      "cell_type": "code",
      "metadata": {
        "id": "zjsI7P4w-bR4",
        "colab_type": "code",
        "colab": {
          "base_uri": "https://localhost:8080/",
          "height": 377
        },
        "outputId": "cb0b14ba-55ad-44a8-9a9a-968e3e6faae9"
      },
      "source": [
        "perceptron.train(X)"
      ],
      "execution_count": 16,
      "outputs": [
        {
          "output_type": "stream",
          "text": [
            "epoch: 1 mse: 0.5\n",
            "epoch: 2 mse: 0.5\n",
            "epoch: 3 mse: 0.5\n",
            "epoch: 4 mse: 0.5\n",
            "epoch: 5 mse: 0.5\n",
            "epoch: 6 mse: 0.5\n",
            "epoch: 7 mse: 0.5\n",
            "epoch: 8 mse: 0.5\n",
            "epoch: 9 mse: 0.5\n",
            "epoch: 10 mse: 0.5\n",
            "epoch: 11 mse: 0.5\n",
            "epoch: 12 mse: 0.5\n",
            "epoch: 13 mse: 0.5\n",
            "epoch: 14 mse: 0.5\n",
            "epoch: 15 mse: 0.5\n",
            "epoch: 16 mse: 0.5\n",
            "epoch: 17 mse: 0.5\n",
            "epoch: 18 mse: 0.5\n",
            "epoch: 19 mse: 0.5\n",
            "epoch: 20 mse: 0.5\n"
          ],
          "name": "stdout"
        }
      ]
    },
    {
      "cell_type": "code",
      "metadata": {
        "id": "HU3Rzfjt-wX2",
        "colab_type": "code",
        "colab": {
          "base_uri": "https://localhost:8080/",
          "height": 89
        },
        "outputId": "24b373a6-5887-45b2-d4a1-a6ece409dd7b"
      },
      "source": [
        "print(perceptron.pred(X).numpy())"
      ],
      "execution_count": 17,
      "outputs": [
        {
          "output_type": "stream",
          "text": [
            "[[1.]\n",
            " [1.]\n",
            " [1.]\n",
            " [1.]]\n"
          ],
          "name": "stdout"
        }
      ]
    },
    {
      "cell_type": "markdown",
      "metadata": {
        "id": "ADSH4QzvQ1N_",
        "colab_type": "text"
      },
      "source": [
        "**한개의 퍼셉트론으로는 XOR 문제가 해결되지 않는 것을 확인**"
      ]
    },
    {
      "cell_type": "code",
      "metadata": {
        "id": "s7YcwgVk-2VO",
        "colab_type": "code",
        "colab": {}
      },
      "source": [
        ""
      ],
      "execution_count": null,
      "outputs": []
    }
  ]
}