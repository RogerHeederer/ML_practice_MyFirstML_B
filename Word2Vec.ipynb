{
  "nbformat": 4,
  "nbformat_minor": 0,
  "metadata": {
    "colab": {
      "name": "Word2Vec.ipynb",
      "provenance": [],
      "collapsed_sections": [],
      "authorship_tag": "ABX9TyOk1QBwxN/ReWxaFAHJeG69",
      "include_colab_link": true
    },
    "kernelspec": {
      "name": "python3",
      "display_name": "Python 3"
    }
  },
  "cells": [
    {
      "cell_type": "markdown",
      "metadata": {
        "id": "view-in-github",
        "colab_type": "text"
      },
      "source": [
        "<a href=\"https://colab.research.google.com/github/RogerHeederer/ML_practice_MyFirstML_B/blob/master/Word2Vec.ipynb\" target=\"_parent\"><img src=\"https://colab.research.google.com/assets/colab-badge.svg\" alt=\"Open In Colab\"/></a>"
      ]
    },
    {
      "cell_type": "markdown",
      "metadata": {
        "id": "RYfm70xz0bzE",
        "colab_type": "text"
      },
      "source": [
        "source reference : https://github.com/wikibook/machine-learnin\n",
        "\n",
        "**위 레퍼런스를 참조하여 공부하였으며, 필요하다고 생각되는 부분에 추가적인 설명 ,코드 추가, 그림 삽입 등을 덧붙였습니다..**\n"
      ]
    },
    {
      "cell_type": "code",
      "metadata": {
        "id": "hhLBf3e2K4ye",
        "colab_type": "code",
        "colab": {}
      },
      "source": [
        "from __future__ import absolute_import, division, print_function, unicode_literals\n",
        "\n",
        "try:\n",
        "  %tensorflow_version 2.x\n",
        "except Exception:\n",
        "  pass"
      ],
      "execution_count": 1,
      "outputs": []
    },
    {
      "cell_type": "code",
      "metadata": {
        "id": "oGwqNGunKSHT",
        "colab_type": "code",
        "colab": {}
      },
      "source": [
        "import tensorflow as tf\n",
        "from tensorflow.keras.layers import Input, Dense\n",
        "from tensorflow.keras.models import Model\n",
        "import numpy as np\n",
        "import pandas as pd\n",
        "import matplotlib.pyplot as plt\n",
        "\n",
        "tf.random.set_seed(1)\n",
        "np.random.seed(1)\n",
        "\n",
        "from IPython.display import Image"
      ],
      "execution_count": 2,
      "outputs": []
    },
    {
      "cell_type": "markdown",
      "metadata": {
        "id": "NrpZv_rTLcak",
        "colab_type": "text"
      },
      "source": [
        "##Word2Vec##\n",
        "- 비슷한 의미의 단어는 벡터 공간에서 가깝게 위치함\n",
        "- 비지도 학습. Label이 자동 생성되는 장점 "
      ]
    },
    {
      "cell_type": "code",
      "metadata": {
        "id": "Q97GjNq5Kflh",
        "colab_type": "code",
        "colab": {}
      },
      "source": [
        "#데이터 획득\n",
        "corpus = ['king is a strong man', \n",
        "          'queen is a wise woman', \n",
        "          'boy is a young man',\n",
        "          'girl is a young woman',\n",
        "          'prince is a young king',\n",
        "          'princess is a young queen',\n",
        "          'man is strong', \n",
        "          'woman is pretty',\n",
        "          'prince is a boy will be king',\n",
        "          'princess is a girl will be queen']"
      ],
      "execution_count": 3,
      "outputs": []
    },
    {
      "cell_type": "code",
      "metadata": {
        "id": "TKBkD_oyKpbr",
        "colab_type": "code",
        "colab": {}
      },
      "source": [
        "#불용어 제거 = Delete stop words\n",
        "\n",
        "def remove_stop_words(corpus):\n",
        "    stop_words = ['is', 'a', 'will', 'be']\n",
        "    results = []\n",
        "    for text in corpus:\n",
        "        tmp = text.split(' ')\n",
        "        for stop_word in stop_words:\n",
        "            if stop_word in tmp:\n",
        "                tmp.remove(stop_word)\n",
        "        results.append(\" \".join(tmp))\n",
        "    \n",
        "    return results"
      ],
      "execution_count": 4,
      "outputs": []
    },
    {
      "cell_type": "code",
      "metadata": {
        "id": "iJG2wTxPMUw7",
        "colab_type": "code",
        "colab": {}
      },
      "source": [
        "corpus = remove_stop_words(corpus)"
      ],
      "execution_count": 5,
      "outputs": []
    },
    {
      "cell_type": "code",
      "metadata": {
        "id": "PTXKVVBvMZj7",
        "colab_type": "code",
        "colab": {
          "base_uri": "https://localhost:8080/",
          "height": 197
        },
        "outputId": "98ccba6c-5b62-4048-c9d5-4bbbd96f87ba"
      },
      "source": [
        "for text in corpus:\n",
        "  print(text)"
      ],
      "execution_count": 6,
      "outputs": [
        {
          "output_type": "stream",
          "text": [
            "king strong man\n",
            "queen wise woman\n",
            "boy young man\n",
            "girl young woman\n",
            "prince young king\n",
            "princess young queen\n",
            "man strong\n",
            "woman pretty\n",
            "prince boy king\n",
            "princess girl queen\n"
          ],
          "name": "stdout"
        }
      ]
    },
    {
      "cell_type": "code",
      "metadata": {
        "id": "iKBEyfBDMeAw",
        "colab_type": "code",
        "colab": {}
      },
      "source": [
        "words = []\n",
        "for text in corpus:\n",
        "  for word in text.split(' '):\n",
        "    words.append(word)"
      ],
      "execution_count": 7,
      "outputs": []
    },
    {
      "cell_type": "code",
      "metadata": {
        "id": "cPPjJAK1NWPA",
        "colab_type": "code",
        "colab": {
          "base_uri": "https://localhost:8080/",
          "height": 521
        },
        "outputId": "9fd94257-c2e9-48ed-e722-bc15ac79cab3"
      },
      "source": [
        "words"
      ],
      "execution_count": 8,
      "outputs": [
        {
          "output_type": "execute_result",
          "data": {
            "text/plain": [
              "['king',\n",
              " 'strong',\n",
              " 'man',\n",
              " 'queen',\n",
              " 'wise',\n",
              " 'woman',\n",
              " 'boy',\n",
              " 'young',\n",
              " 'man',\n",
              " 'girl',\n",
              " 'young',\n",
              " 'woman',\n",
              " 'prince',\n",
              " 'young',\n",
              " 'king',\n",
              " 'princess',\n",
              " 'young',\n",
              " 'queen',\n",
              " 'man',\n",
              " 'strong',\n",
              " 'woman',\n",
              " 'pretty',\n",
              " 'prince',\n",
              " 'boy',\n",
              " 'king',\n",
              " 'princess',\n",
              " 'girl',\n",
              " 'queen']"
            ]
          },
          "metadata": {
            "tags": []
          },
          "execution_count": 8
        }
      ]
    },
    {
      "cell_type": "code",
      "metadata": {
        "id": "017JdbxiNWwC",
        "colab_type": "code",
        "colab": {}
      },
      "source": [
        "words = set(words) #중복 단어 제거"
      ],
      "execution_count": 9,
      "outputs": []
    },
    {
      "cell_type": "code",
      "metadata": {
        "id": "F_DQpFhZNcbz",
        "colab_type": "code",
        "colab": {
          "base_uri": "https://localhost:8080/",
          "height": 233
        },
        "outputId": "21554be1-a071-4ae8-d7bc-6d7dadd86673"
      },
      "source": [
        "words"
      ],
      "execution_count": 10,
      "outputs": [
        {
          "output_type": "execute_result",
          "data": {
            "text/plain": [
              "{'boy',\n",
              " 'girl',\n",
              " 'king',\n",
              " 'man',\n",
              " 'pretty',\n",
              " 'prince',\n",
              " 'princess',\n",
              " 'queen',\n",
              " 'strong',\n",
              " 'wise',\n",
              " 'woman',\n",
              " 'young'}"
            ]
          },
          "metadata": {
            "tags": []
          },
          "execution_count": 10
        }
      ]
    },
    {
      "cell_type": "markdown",
      "metadata": {
        "id": "fONKh_h8NlF3",
        "colab_type": "text"
      },
      "source": [
        "**단어별로 인덱스 매핑 만들기**"
      ]
    },
    {
      "cell_type": "code",
      "metadata": {
        "id": "wskXlmuuNdL4",
        "colab_type": "code",
        "colab": {}
      },
      "source": [
        "word2int = {}\n",
        "\n",
        "for i, word in enumerate(words):\n",
        "  word2int[word] = i"
      ],
      "execution_count": 11,
      "outputs": []
    },
    {
      "cell_type": "code",
      "metadata": {
        "id": "zJ-HoSNDN1GR",
        "colab_type": "code",
        "colab": {
          "base_uri": "https://localhost:8080/",
          "height": 233
        },
        "outputId": "3cf7031e-1a64-4658-b5ed-1e0556de3ac3"
      },
      "source": [
        "word2int"
      ],
      "execution_count": 12,
      "outputs": [
        {
          "output_type": "execute_result",
          "data": {
            "text/plain": [
              "{'boy': 8,\n",
              " 'girl': 11,\n",
              " 'king': 0,\n",
              " 'man': 2,\n",
              " 'pretty': 9,\n",
              " 'prince': 10,\n",
              " 'princess': 1,\n",
              " 'queen': 5,\n",
              " 'strong': 7,\n",
              " 'wise': 6,\n",
              " 'woman': 4,\n",
              " 'young': 3}"
            ]
          },
          "metadata": {
            "tags": []
          },
          "execution_count": 12
        }
      ]
    },
    {
      "cell_type": "code",
      "metadata": {
        "id": "qm6t1oTHN1ya",
        "colab_type": "code",
        "colab": {
          "base_uri": "https://localhost:8080/",
          "height": 197
        },
        "outputId": "9dd5aa14-363c-409c-cc48-508ede32a02d"
      },
      "source": [
        "#skip gram 방식으로 단어별 레이블 생성\n",
        "sentences = []\n",
        "for sentence in corpus:\n",
        "  sentences.append(sentence.split())\n",
        "\n",
        "sentences"
      ],
      "execution_count": 13,
      "outputs": [
        {
          "output_type": "execute_result",
          "data": {
            "text/plain": [
              "[['king', 'strong', 'man'],\n",
              " ['queen', 'wise', 'woman'],\n",
              " ['boy', 'young', 'man'],\n",
              " ['girl', 'young', 'woman'],\n",
              " ['prince', 'young', 'king'],\n",
              " ['princess', 'young', 'queen'],\n",
              " ['man', 'strong'],\n",
              " ['woman', 'pretty'],\n",
              " ['prince', 'boy', 'king'],\n",
              " ['princess', 'girl', 'queen']]"
            ]
          },
          "metadata": {
            "tags": []
          },
          "execution_count": 13
        }
      ]
    },
    {
      "cell_type": "code",
      "metadata": {
        "id": "OPhZPE2Sps_T",
        "colab_type": "code",
        "colab": {
          "base_uri": "https://localhost:8080/",
          "height": 701
        },
        "outputId": "23a76bb0-f92a-4239-f6e6-b09ceb0ee809"
      },
      "source": [
        "for sentence in sentences:\n",
        "  print(\"sentence length: \", len(sentence))\n",
        "  for idx, word in enumerate(sentence):\n",
        "    print(idx, word)\n",
        "    "
      ],
      "execution_count": 34,
      "outputs": [
        {
          "output_type": "stream",
          "text": [
            "sentence length:  3\n",
            "0 king\n",
            "1 strong\n",
            "2 man\n",
            "sentence length:  3\n",
            "0 queen\n",
            "1 wise\n",
            "2 woman\n",
            "sentence length:  3\n",
            "0 boy\n",
            "1 young\n",
            "2 man\n",
            "sentence length:  3\n",
            "0 girl\n",
            "1 young\n",
            "2 woman\n",
            "sentence length:  3\n",
            "0 prince\n",
            "1 young\n",
            "2 king\n",
            "sentence length:  3\n",
            "0 princess\n",
            "1 young\n",
            "2 queen\n",
            "sentence length:  2\n",
            "0 man\n",
            "1 strong\n",
            "sentence length:  2\n",
            "0 woman\n",
            "1 pretty\n",
            "sentence length:  3\n",
            "0 prince\n",
            "1 boy\n",
            "2 king\n",
            "sentence length:  3\n",
            "0 princess\n",
            "1 girl\n",
            "2 queen\n"
          ],
          "name": "stdout"
        }
      ]
    },
    {
      "cell_type": "code",
      "metadata": {
        "id": "c0B9yh7BOlgb",
        "colab_type": "code",
        "colab": {}
      },
      "source": [
        "WINDOW_SIZE = 2\n",
        "\n",
        "data = []\n",
        "for sentence in sentences:\n",
        "    for idx, word in enumerate(sentence):\n",
        "        for neighbor in sentence[ \n",
        "                max(idx - WINDOW_SIZE, 0) : #idx = 0~ 2사이\n",
        "                min(idx + WINDOW_SIZE, len(sentence)) + 1] : #len(sentence) = 3 \n",
        "            if neighbor != word:\n",
        "                data.append([word, neighbor])"
      ],
      "execution_count": 14,
      "outputs": []
    },
    {
      "cell_type": "code",
      "metadata": {
        "id": "9Ao8eRX6Uyhi",
        "colab_type": "code",
        "colab": {
          "base_uri": "https://localhost:8080/",
          "height": 359
        },
        "outputId": "31148ad9-8bd2-4f95-f21d-92002148adba"
      },
      "source": [
        "df = pd.DataFrame(data, columns = ['input', 'label'])\n",
        "df.head(10)"
      ],
      "execution_count": 35,
      "outputs": [
        {
          "output_type": "execute_result",
          "data": {
            "text/html": [
              "<div>\n",
              "<style scoped>\n",
              "    .dataframe tbody tr th:only-of-type {\n",
              "        vertical-align: middle;\n",
              "    }\n",
              "\n",
              "    .dataframe tbody tr th {\n",
              "        vertical-align: top;\n",
              "    }\n",
              "\n",
              "    .dataframe thead th {\n",
              "        text-align: right;\n",
              "    }\n",
              "</style>\n",
              "<table border=\"1\" class=\"dataframe\">\n",
              "  <thead>\n",
              "    <tr style=\"text-align: right;\">\n",
              "      <th></th>\n",
              "      <th>input</th>\n",
              "      <th>label</th>\n",
              "    </tr>\n",
              "  </thead>\n",
              "  <tbody>\n",
              "    <tr>\n",
              "      <th>0</th>\n",
              "      <td>king</td>\n",
              "      <td>strong</td>\n",
              "    </tr>\n",
              "    <tr>\n",
              "      <th>1</th>\n",
              "      <td>king</td>\n",
              "      <td>man</td>\n",
              "    </tr>\n",
              "    <tr>\n",
              "      <th>2</th>\n",
              "      <td>strong</td>\n",
              "      <td>king</td>\n",
              "    </tr>\n",
              "    <tr>\n",
              "      <th>3</th>\n",
              "      <td>strong</td>\n",
              "      <td>man</td>\n",
              "    </tr>\n",
              "    <tr>\n",
              "      <th>4</th>\n",
              "      <td>man</td>\n",
              "      <td>king</td>\n",
              "    </tr>\n",
              "    <tr>\n",
              "      <th>5</th>\n",
              "      <td>man</td>\n",
              "      <td>strong</td>\n",
              "    </tr>\n",
              "    <tr>\n",
              "      <th>6</th>\n",
              "      <td>queen</td>\n",
              "      <td>wise</td>\n",
              "    </tr>\n",
              "    <tr>\n",
              "      <th>7</th>\n",
              "      <td>queen</td>\n",
              "      <td>woman</td>\n",
              "    </tr>\n",
              "    <tr>\n",
              "      <th>8</th>\n",
              "      <td>wise</td>\n",
              "      <td>queen</td>\n",
              "    </tr>\n",
              "    <tr>\n",
              "      <th>9</th>\n",
              "      <td>wise</td>\n",
              "      <td>woman</td>\n",
              "    </tr>\n",
              "  </tbody>\n",
              "</table>\n",
              "</div>"
            ],
            "text/plain": [
              "    input   label\n",
              "0    king  strong\n",
              "1    king     man\n",
              "2  strong    king\n",
              "3  strong     man\n",
              "4     man    king\n",
              "5     man  strong\n",
              "6   queen    wise\n",
              "7   queen   woman\n",
              "8    wise   queen\n",
              "9    wise   woman"
            ]
          },
          "metadata": {
            "tags": []
          },
          "execution_count": 35
        }
      ]
    },
    {
      "cell_type": "code",
      "metadata": {
        "id": "k1y7BtnbU275",
        "colab_type": "code",
        "colab": {}
      },
      "source": [
        "ONE_HOT_DIM = len(words)"
      ],
      "execution_count": 16,
      "outputs": []
    },
    {
      "cell_type": "code",
      "metadata": {
        "id": "iLcnyB0OWFT4",
        "colab_type": "code",
        "colab": {}
      },
      "source": [
        "def to_one_hot_encoding(data_point_index):\n",
        "  one_hot_encoding = np.zeros(ONE_HOT_DIM)\n",
        "  one_hot_encoding[data_point_index] = 1\n",
        "  return one_hot_encoding  "
      ],
      "execution_count": 17,
      "outputs": []
    },
    {
      "cell_type": "code",
      "metadata": {
        "id": "sA2Q0AIvw01M",
        "colab_type": "code",
        "colab": {
          "base_uri": "https://localhost:8080/",
          "height": 1000
        },
        "outputId": "b7a2b184-3552-4828-ed86-a34cd581f9e6"
      },
      "source": [
        "X = []\n",
        "Y = []\n",
        "\n",
        "for x, y in zip(df['input'], df['label']):\n",
        "  print(x, y)\n",
        "  print(word2int[x], word2int[y])\n",
        "  X.append(to_one_hot_encoding(word2int[ x ]))\n",
        "  Y.append(to_one_hot_encoding(word2int[ y ]))"
      ],
      "execution_count": 59,
      "outputs": [
        {
          "output_type": "stream",
          "text": [
            "king strong\n",
            "0 7\n",
            "king man\n",
            "0 2\n",
            "strong king\n",
            "7 0\n",
            "strong man\n",
            "7 2\n",
            "man king\n",
            "2 0\n",
            "man strong\n",
            "2 7\n",
            "queen wise\n",
            "5 6\n",
            "queen woman\n",
            "5 4\n",
            "wise queen\n",
            "6 5\n",
            "wise woman\n",
            "6 4\n",
            "woman queen\n",
            "4 5\n",
            "woman wise\n",
            "4 6\n",
            "boy young\n",
            "8 3\n",
            "boy man\n",
            "8 2\n",
            "young boy\n",
            "3 8\n",
            "young man\n",
            "3 2\n",
            "man boy\n",
            "2 8\n",
            "man young\n",
            "2 3\n",
            "girl young\n",
            "11 3\n",
            "girl woman\n",
            "11 4\n",
            "young girl\n",
            "3 11\n",
            "young woman\n",
            "3 4\n",
            "woman girl\n",
            "4 11\n",
            "woman young\n",
            "4 3\n",
            "prince young\n",
            "10 3\n",
            "prince king\n",
            "10 0\n",
            "young prince\n",
            "3 10\n",
            "young king\n",
            "3 0\n",
            "king prince\n",
            "0 10\n",
            "king young\n",
            "0 3\n",
            "princess young\n",
            "1 3\n",
            "princess queen\n",
            "1 5\n",
            "young princess\n",
            "3 1\n",
            "young queen\n",
            "3 5\n",
            "queen princess\n",
            "5 1\n",
            "queen young\n",
            "5 3\n",
            "man strong\n",
            "2 7\n",
            "strong man\n",
            "7 2\n",
            "woman pretty\n",
            "4 9\n",
            "pretty woman\n",
            "9 4\n",
            "prince boy\n",
            "10 8\n",
            "prince king\n",
            "10 0\n",
            "boy prince\n",
            "8 10\n",
            "boy king\n",
            "8 0\n",
            "king prince\n",
            "0 10\n",
            "king boy\n",
            "0 8\n",
            "princess girl\n",
            "1 11\n",
            "princess queen\n",
            "1 5\n",
            "girl princess\n",
            "11 1\n",
            "girl queen\n",
            "11 5\n",
            "queen princess\n",
            "5 1\n",
            "queen girl\n",
            "5 11\n"
          ],
          "name": "stdout"
        }
      ]
    },
    {
      "cell_type": "code",
      "metadata": {
        "id": "RXh4cZ5dW3Jv",
        "colab_type": "code",
        "colab": {
          "base_uri": "https://localhost:8080/",
          "height": 53
        },
        "outputId": "e63c85a2-dd90-4583-ae4b-6bc089453a87"
      },
      "source": [
        "X[0:2]# king, king"
      ],
      "execution_count": 66,
      "outputs": [
        {
          "output_type": "execute_result",
          "data": {
            "text/plain": [
              "[array([1., 0., 0., 0., 0., 0., 0., 0., 0., 0., 0., 0.]),\n",
              " array([1., 0., 0., 0., 0., 0., 0., 0., 0., 0., 0., 0.])]"
            ]
          },
          "metadata": {
            "tags": []
          },
          "execution_count": 66
        }
      ]
    },
    {
      "cell_type": "code",
      "metadata": {
        "id": "cwB1CdHlx1-e",
        "colab_type": "code",
        "colab": {
          "base_uri": "https://localhost:8080/",
          "height": 53
        },
        "outputId": "6fe84550-2315-4d0f-a31a-2241e7d9b2f3"
      },
      "source": [
        "Y[0:2]# strong, man"
      ],
      "execution_count": 68,
      "outputs": [
        {
          "output_type": "execute_result",
          "data": {
            "text/plain": [
              "[array([0., 0., 0., 0., 0., 0., 0., 1., 0., 0., 0., 0.]),\n",
              " array([0., 0., 1., 0., 0., 0., 0., 0., 0., 0., 0., 0.])]"
            ]
          },
          "metadata": {
            "tags": []
          },
          "execution_count": 68
        }
      ]
    },
    {
      "cell_type": "code",
      "metadata": {
        "id": "A6HVbjP-YPzi",
        "colab_type": "code",
        "colab": {}
      },
      "source": [
        "X_train = np.asarray(X)\n",
        "Y_train = np.asarray(Y)"
      ],
      "execution_count": 20,
      "outputs": []
    },
    {
      "cell_type": "code",
      "metadata": {
        "id": "KWhYaJGiYdpV",
        "colab_type": "code",
        "colab": {
          "base_uri": "https://localhost:8080/",
          "height": 953
        },
        "outputId": "7b7364c6-298b-4efa-9d56-bca5f1270208"
      },
      "source": [
        "X_train"
      ],
      "execution_count": 21,
      "outputs": [
        {
          "output_type": "execute_result",
          "data": {
            "text/plain": [
              "array([[1., 0., 0., 0., 0., 0., 0., 0., 0., 0., 0., 0.],\n",
              "       [1., 0., 0., 0., 0., 0., 0., 0., 0., 0., 0., 0.],\n",
              "       [0., 0., 0., 0., 0., 0., 0., 1., 0., 0., 0., 0.],\n",
              "       [0., 0., 0., 0., 0., 0., 0., 1., 0., 0., 0., 0.],\n",
              "       [0., 0., 1., 0., 0., 0., 0., 0., 0., 0., 0., 0.],\n",
              "       [0., 0., 1., 0., 0., 0., 0., 0., 0., 0., 0., 0.],\n",
              "       [0., 0., 0., 0., 0., 1., 0., 0., 0., 0., 0., 0.],\n",
              "       [0., 0., 0., 0., 0., 1., 0., 0., 0., 0., 0., 0.],\n",
              "       [0., 0., 0., 0., 0., 0., 1., 0., 0., 0., 0., 0.],\n",
              "       [0., 0., 0., 0., 0., 0., 1., 0., 0., 0., 0., 0.],\n",
              "       [0., 0., 0., 0., 1., 0., 0., 0., 0., 0., 0., 0.],\n",
              "       [0., 0., 0., 0., 1., 0., 0., 0., 0., 0., 0., 0.],\n",
              "       [0., 0., 0., 0., 0., 0., 0., 0., 1., 0., 0., 0.],\n",
              "       [0., 0., 0., 0., 0., 0., 0., 0., 1., 0., 0., 0.],\n",
              "       [0., 0., 0., 1., 0., 0., 0., 0., 0., 0., 0., 0.],\n",
              "       [0., 0., 0., 1., 0., 0., 0., 0., 0., 0., 0., 0.],\n",
              "       [0., 0., 1., 0., 0., 0., 0., 0., 0., 0., 0., 0.],\n",
              "       [0., 0., 1., 0., 0., 0., 0., 0., 0., 0., 0., 0.],\n",
              "       [0., 0., 0., 0., 0., 0., 0., 0., 0., 0., 0., 1.],\n",
              "       [0., 0., 0., 0., 0., 0., 0., 0., 0., 0., 0., 1.],\n",
              "       [0., 0., 0., 1., 0., 0., 0., 0., 0., 0., 0., 0.],\n",
              "       [0., 0., 0., 1., 0., 0., 0., 0., 0., 0., 0., 0.],\n",
              "       [0., 0., 0., 0., 1., 0., 0., 0., 0., 0., 0., 0.],\n",
              "       [0., 0., 0., 0., 1., 0., 0., 0., 0., 0., 0., 0.],\n",
              "       [0., 0., 0., 0., 0., 0., 0., 0., 0., 0., 1., 0.],\n",
              "       [0., 0., 0., 0., 0., 0., 0., 0., 0., 0., 1., 0.],\n",
              "       [0., 0., 0., 1., 0., 0., 0., 0., 0., 0., 0., 0.],\n",
              "       [0., 0., 0., 1., 0., 0., 0., 0., 0., 0., 0., 0.],\n",
              "       [1., 0., 0., 0., 0., 0., 0., 0., 0., 0., 0., 0.],\n",
              "       [1., 0., 0., 0., 0., 0., 0., 0., 0., 0., 0., 0.],\n",
              "       [0., 1., 0., 0., 0., 0., 0., 0., 0., 0., 0., 0.],\n",
              "       [0., 1., 0., 0., 0., 0., 0., 0., 0., 0., 0., 0.],\n",
              "       [0., 0., 0., 1., 0., 0., 0., 0., 0., 0., 0., 0.],\n",
              "       [0., 0., 0., 1., 0., 0., 0., 0., 0., 0., 0., 0.],\n",
              "       [0., 0., 0., 0., 0., 1., 0., 0., 0., 0., 0., 0.],\n",
              "       [0., 0., 0., 0., 0., 1., 0., 0., 0., 0., 0., 0.],\n",
              "       [0., 0., 1., 0., 0., 0., 0., 0., 0., 0., 0., 0.],\n",
              "       [0., 0., 0., 0., 0., 0., 0., 1., 0., 0., 0., 0.],\n",
              "       [0., 0., 0., 0., 1., 0., 0., 0., 0., 0., 0., 0.],\n",
              "       [0., 0., 0., 0., 0., 0., 0., 0., 0., 1., 0., 0.],\n",
              "       [0., 0., 0., 0., 0., 0., 0., 0., 0., 0., 1., 0.],\n",
              "       [0., 0., 0., 0., 0., 0., 0., 0., 0., 0., 1., 0.],\n",
              "       [0., 0., 0., 0., 0., 0., 0., 0., 1., 0., 0., 0.],\n",
              "       [0., 0., 0., 0., 0., 0., 0., 0., 1., 0., 0., 0.],\n",
              "       [1., 0., 0., 0., 0., 0., 0., 0., 0., 0., 0., 0.],\n",
              "       [1., 0., 0., 0., 0., 0., 0., 0., 0., 0., 0., 0.],\n",
              "       [0., 1., 0., 0., 0., 0., 0., 0., 0., 0., 0., 0.],\n",
              "       [0., 1., 0., 0., 0., 0., 0., 0., 0., 0., 0., 0.],\n",
              "       [0., 0., 0., 0., 0., 0., 0., 0., 0., 0., 0., 1.],\n",
              "       [0., 0., 0., 0., 0., 0., 0., 0., 0., 0., 0., 1.],\n",
              "       [0., 0., 0., 0., 0., 1., 0., 0., 0., 0., 0., 0.],\n",
              "       [0., 0., 0., 0., 0., 1., 0., 0., 0., 0., 0., 0.]])"
            ]
          },
          "metadata": {
            "tags": []
          },
          "execution_count": 21
        }
      ]
    },
    {
      "cell_type": "code",
      "metadata": {
        "id": "RaBVLUOnYegX",
        "colab_type": "code",
        "colab": {
          "base_uri": "https://localhost:8080/",
          "height": 35
        },
        "outputId": "2433edf1-5ba4-4faa-e603-401e6c4966ac"
      },
      "source": [
        "ONE_HOT_DIM"
      ],
      "execution_count": 22,
      "outputs": [
        {
          "output_type": "execute_result",
          "data": {
            "text/plain": [
              "12"
            ]
          },
          "metadata": {
            "tags": []
          },
          "execution_count": 22
        }
      ]
    },
    {
      "cell_type": "code",
      "metadata": {
        "id": "4vosItk0YyZn",
        "colab_type": "code",
        "colab": {}
      },
      "source": [
        "# 시각화를 위해 2차원으로 인코딩합니다.\n",
        "encoding_dim = 2\n",
        "\n",
        "# 입력값은 원 핫 인코딩입니다. 단어의 갯수만큼의 차원인 벡터입니다.\n",
        "input_word = Input(shape=(ONE_HOT_DIM,))\n",
        "# 가중치를 그대로 word2vec으로 사용하기 위해 편향값을 주지 않습니다.\n",
        "encoded = Dense(encoding_dim, use_bias=False)(input_word)\n",
        "# 디코더는 전달된 값을 원 핫 인코딩으로 전환합니다.\n",
        "decoded = Dense(ONE_HOT_DIM, activation='softmax')(encoded)\n",
        "\n",
        "# this model maps an input to its reconstruction\n",
        "w2v_model = Model(input_word, decoded)"
      ],
      "execution_count": 36,
      "outputs": []
    },
    {
      "cell_type": "code",
      "metadata": {
        "id": "uFR_S7SGtK74",
        "colab_type": "code",
        "colab": {}
      },
      "source": [
        "\n",
        "w2v_model.compile(optimizer='adam', loss='categorical_crossentropy')"
      ],
      "execution_count": 38,
      "outputs": []
    },
    {
      "cell_type": "code",
      "metadata": {
        "id": "hqYyh7PRtSB0",
        "colab_type": "code",
        "colab": {
          "base_uri": "https://localhost:8080/",
          "height": 35
        },
        "outputId": "ff1ea85d-41b8-4e27-d6c1-4a7843b64fd2"
      },
      "source": [
        "w2v_model.fit(X_train, Y_train,\n",
        "                epochs=1000,\n",
        "                shuffle=True, verbose=0)"
      ],
      "execution_count": 39,
      "outputs": [
        {
          "output_type": "execute_result",
          "data": {
            "text/plain": [
              "<tensorflow.python.keras.callbacks.History at 0x7f9c42d204a8>"
            ]
          },
          "metadata": {
            "tags": []
          },
          "execution_count": 39
        }
      ]
    },
    {
      "cell_type": "code",
      "metadata": {
        "id": "7splqieutZWq",
        "colab_type": "code",
        "colab": {
          "base_uri": "https://localhost:8080/",
          "height": 269
        },
        "outputId": "f02e2e50-8d80-4c89-f02c-4f145b842b01"
      },
      "source": [
        "w2v_model.summary()"
      ],
      "execution_count": 40,
      "outputs": [
        {
          "output_type": "stream",
          "text": [
            "Model: \"functional_1\"\n",
            "_________________________________________________________________\n",
            "Layer (type)                 Output Shape              Param #   \n",
            "=================================================================\n",
            "input_1 (InputLayer)         [(None, 12)]              0         \n",
            "_________________________________________________________________\n",
            "dense (Dense)                (None, 2)                 24        \n",
            "_________________________________________________________________\n",
            "dense_1 (Dense)              (None, 12)                36        \n",
            "=================================================================\n",
            "Total params: 60\n",
            "Trainable params: 60\n",
            "Non-trainable params: 0\n",
            "_________________________________________________________________\n"
          ],
          "name": "stdout"
        }
      ]
    },
    {
      "cell_type": "code",
      "metadata": {
        "id": "4nThqPlhtddD",
        "colab_type": "code",
        "colab": {
          "base_uri": "https://localhost:8080/",
          "height": 233
        },
        "outputId": "701d7563-886b-4bc9-82ec-715f7466c31c"
      },
      "source": [
        "w2v_model.layers[1].get_weights()"
      ],
      "execution_count": 47,
      "outputs": [
        {
          "output_type": "execute_result",
          "data": {
            "text/plain": [
              "[array([[-1.3239999 , -0.3605242 ],\n",
              "        [ 0.8802525 ,  0.71858585],\n",
              "        [-0.3573395 , -0.8664189 ],\n",
              "        [-0.11806741,  0.02356684],\n",
              "        [ 0.46581763,  0.8301304 ],\n",
              "        [ 1.5548221 ,  0.46402952],\n",
              "        [ 1.5144501 ,  1.6264374 ],\n",
              "        [-0.8439687 , -2.299894  ],\n",
              "        [-0.46706927, -1.1833842 ],\n",
              "        [ 1.8793051 ,  1.8287808 ],\n",
              "        [ 1.2753644 , -1.9178241 ],\n",
              "        [ 0.87851715,  0.60015315]], dtype=float32)]"
            ]
          },
          "metadata": {
            "tags": []
          },
          "execution_count": 47
        }
      ]
    },
    {
      "cell_type": "code",
      "metadata": {
        "id": "jbcp2D6Utt_b",
        "colab_type": "code",
        "colab": {
          "base_uri": "https://localhost:8080/",
          "height": 179
        },
        "outputId": "723afbf1-8ada-4b41-da26-dd7a4f605a59"
      },
      "source": [
        "w2v_model.layers[2].get_weights() # 단어 1개당 one_hot_dim = 12 / 문장 1개당 단어는 3개"
      ],
      "execution_count": 50,
      "outputs": [
        {
          "output_type": "execute_result",
          "data": {
            "text/plain": [
              "[array([[ 0.1576258 ,  0.7762416 , -1.0666156 ,  0.5427238 ,  0.97700083,\n",
              "          0.5162024 ,  0.76077175, -1.0518162 , -0.19811301,  0.07610439,\n",
              "         -1.400596  ,  0.6565472 ],\n",
              "        [-1.2016414 ,  0.8672147 , -1.1155746 , -0.1298119 ,  1.4314219 ,\n",
              "          1.57801   ,  1.1538208 , -0.31785393, -0.7094113 ,  1.3871182 ,\n",
              "         -0.07813247,  1.1432887 ]], dtype=float32),\n",
              " array([ 0.12043077,  0.07711692, -0.2835341 ,  0.95821583, -0.09699578,\n",
              "         0.29031423, -0.65080255, -0.1885484 ,  0.1046576 , -0.89388657,\n",
              "        -0.04550865, -0.02913976], dtype=float32)]"
            ]
          },
          "metadata": {
            "tags": []
          },
          "execution_count": 50
        }
      ]
    },
    {
      "cell_type": "code",
      "metadata": {
        "id": "oTHQKzCDuP9k",
        "colab_type": "code",
        "colab": {}
      },
      "source": [
        "# 히든 레이어의 가중치 = word2vec / 인풋값이 one hot encoding이라 1과 곱한 가중치만 살아남기 때문\n",
        "\n",
        "vectors = w2v_model.layers[1].weights[0].numpy().tolist()"
      ],
      "execution_count": 51,
      "outputs": []
    },
    {
      "cell_type": "code",
      "metadata": {
        "id": "UzbidGmcv0em",
        "colab_type": "code",
        "colab": {
          "base_uri": "https://localhost:8080/",
          "height": 233
        },
        "outputId": "897a25a7-221d-4b06-c146-791b7286598c"
      },
      "source": [
        "vectors"
      ],
      "execution_count": 54,
      "outputs": [
        {
          "output_type": "execute_result",
          "data": {
            "text/plain": [
              "[[-1.3239998817443848, -0.3605242073535919],\n",
              " [0.880252480506897, 0.7185858488082886],\n",
              " [-0.3573395013809204, -0.8664188981056213],\n",
              " [-0.11806740611791611, 0.02356683649122715],\n",
              " [0.4658176302909851, 0.830130398273468],\n",
              " [1.5548220872879028, 0.4640295207500458],\n",
              " [1.5144500732421875, 1.6264374256134033],\n",
              " [-0.8439686894416809, -2.299894094467163],\n",
              " [-0.46706926822662354, -1.1833841800689697],\n",
              " [1.879305124282837, 1.8287807703018188],\n",
              " [1.2753643989562988, -1.917824149131775],\n",
              " [0.8785171508789062, 0.6001531481742859]]"
            ]
          },
          "metadata": {
            "tags": []
          },
          "execution_count": 54
        }
      ]
    },
    {
      "cell_type": "code",
      "metadata": {
        "id": "7lfkmcbiv39D",
        "colab_type": "code",
        "colab": {
          "base_uri": "https://localhost:8080/",
          "height": 421
        },
        "outputId": "5fa34136-6384-4ae4-ec0a-1bf5b877c15e"
      },
      "source": [
        "w2v_df = pd.DataFrame(vectors, columns=['x1', 'x2'])\n",
        "w2v_df"
      ],
      "execution_count": 56,
      "outputs": [
        {
          "output_type": "execute_result",
          "data": {
            "text/html": [
              "<div>\n",
              "<style scoped>\n",
              "    .dataframe tbody tr th:only-of-type {\n",
              "        vertical-align: middle;\n",
              "    }\n",
              "\n",
              "    .dataframe tbody tr th {\n",
              "        vertical-align: top;\n",
              "    }\n",
              "\n",
              "    .dataframe thead th {\n",
              "        text-align: right;\n",
              "    }\n",
              "</style>\n",
              "<table border=\"1\" class=\"dataframe\">\n",
              "  <thead>\n",
              "    <tr style=\"text-align: right;\">\n",
              "      <th></th>\n",
              "      <th>x1</th>\n",
              "      <th>x2</th>\n",
              "    </tr>\n",
              "  </thead>\n",
              "  <tbody>\n",
              "    <tr>\n",
              "      <th>0</th>\n",
              "      <td>-1.324000</td>\n",
              "      <td>-0.360524</td>\n",
              "    </tr>\n",
              "    <tr>\n",
              "      <th>1</th>\n",
              "      <td>0.880252</td>\n",
              "      <td>0.718586</td>\n",
              "    </tr>\n",
              "    <tr>\n",
              "      <th>2</th>\n",
              "      <td>-0.357340</td>\n",
              "      <td>-0.866419</td>\n",
              "    </tr>\n",
              "    <tr>\n",
              "      <th>3</th>\n",
              "      <td>-0.118067</td>\n",
              "      <td>0.023567</td>\n",
              "    </tr>\n",
              "    <tr>\n",
              "      <th>4</th>\n",
              "      <td>0.465818</td>\n",
              "      <td>0.830130</td>\n",
              "    </tr>\n",
              "    <tr>\n",
              "      <th>5</th>\n",
              "      <td>1.554822</td>\n",
              "      <td>0.464030</td>\n",
              "    </tr>\n",
              "    <tr>\n",
              "      <th>6</th>\n",
              "      <td>1.514450</td>\n",
              "      <td>1.626437</td>\n",
              "    </tr>\n",
              "    <tr>\n",
              "      <th>7</th>\n",
              "      <td>-0.843969</td>\n",
              "      <td>-2.299894</td>\n",
              "    </tr>\n",
              "    <tr>\n",
              "      <th>8</th>\n",
              "      <td>-0.467069</td>\n",
              "      <td>-1.183384</td>\n",
              "    </tr>\n",
              "    <tr>\n",
              "      <th>9</th>\n",
              "      <td>1.879305</td>\n",
              "      <td>1.828781</td>\n",
              "    </tr>\n",
              "    <tr>\n",
              "      <th>10</th>\n",
              "      <td>1.275364</td>\n",
              "      <td>-1.917824</td>\n",
              "    </tr>\n",
              "    <tr>\n",
              "      <th>11</th>\n",
              "      <td>0.878517</td>\n",
              "      <td>0.600153</td>\n",
              "    </tr>\n",
              "  </tbody>\n",
              "</table>\n",
              "</div>"
            ],
            "text/plain": [
              "          x1        x2\n",
              "0  -1.324000 -0.360524\n",
              "1   0.880252  0.718586\n",
              "2  -0.357340 -0.866419\n",
              "3  -0.118067  0.023567\n",
              "4   0.465818  0.830130\n",
              "5   1.554822  0.464030\n",
              "6   1.514450  1.626437\n",
              "7  -0.843969 -2.299894\n",
              "8  -0.467069 -1.183384\n",
              "9   1.879305  1.828781\n",
              "10  1.275364 -1.917824\n",
              "11  0.878517  0.600153"
            ]
          },
          "metadata": {
            "tags": []
          },
          "execution_count": 56
        }
      ]
    },
    {
      "cell_type": "code",
      "metadata": {
        "id": "jMQE6mRxwQ8r",
        "colab_type": "code",
        "colab": {
          "base_uri": "https://localhost:8080/",
          "height": 233
        },
        "outputId": "e2eee222-196c-4f32-a7f9-84a5242e50b6"
      },
      "source": [
        "words"
      ],
      "execution_count": 58,
      "outputs": [
        {
          "output_type": "execute_result",
          "data": {
            "text/plain": [
              "{'boy',\n",
              " 'girl',\n",
              " 'king',\n",
              " 'man',\n",
              " 'pretty',\n",
              " 'prince',\n",
              " 'princess',\n",
              " 'queen',\n",
              " 'strong',\n",
              " 'wise',\n",
              " 'woman',\n",
              " 'young'}"
            ]
          },
          "metadata": {
            "tags": []
          },
          "execution_count": 58
        }
      ]
    },
    {
      "cell_type": "code",
      "metadata": {
        "id": "4KGGf72jwX1y",
        "colab_type": "code",
        "colab": {}
      },
      "source": [
        "w2v_df = w2v_df[['word', 'x1', 'x2']]\n",
        "w2v_df['word'] = words"
      ],
      "execution_count": 71,
      "outputs": []
    },
    {
      "cell_type": "markdown",
      "metadata": {
        "id": "G-fJl_SKy74j",
        "colab_type": "text"
      },
      "source": [
        "##word2int에서 단어별 인덱스를 정해놨기 때문에, w2v_df['word'] = words 명령으로도 단어들이 자기 자리를 찾아감"
      ]
    },
    {
      "cell_type": "code",
      "metadata": {
        "id": "33AL9c5RybDm",
        "colab_type": "code",
        "colab": {
          "base_uri": "https://localhost:8080/",
          "height": 421
        },
        "outputId": "1341f59a-fb06-48df-c142-334b1412bf0c"
      },
      "source": [
        "w2v_df"
      ],
      "execution_count": 72,
      "outputs": [
        {
          "output_type": "execute_result",
          "data": {
            "text/html": [
              "<div>\n",
              "<style scoped>\n",
              "    .dataframe tbody tr th:only-of-type {\n",
              "        vertical-align: middle;\n",
              "    }\n",
              "\n",
              "    .dataframe tbody tr th {\n",
              "        vertical-align: top;\n",
              "    }\n",
              "\n",
              "    .dataframe thead th {\n",
              "        text-align: right;\n",
              "    }\n",
              "</style>\n",
              "<table border=\"1\" class=\"dataframe\">\n",
              "  <thead>\n",
              "    <tr style=\"text-align: right;\">\n",
              "      <th></th>\n",
              "      <th>word</th>\n",
              "      <th>x1</th>\n",
              "      <th>x2</th>\n",
              "    </tr>\n",
              "  </thead>\n",
              "  <tbody>\n",
              "    <tr>\n",
              "      <th>0</th>\n",
              "      <td>king</td>\n",
              "      <td>-1.324000</td>\n",
              "      <td>-0.360524</td>\n",
              "    </tr>\n",
              "    <tr>\n",
              "      <th>1</th>\n",
              "      <td>princess</td>\n",
              "      <td>0.880252</td>\n",
              "      <td>0.718586</td>\n",
              "    </tr>\n",
              "    <tr>\n",
              "      <th>2</th>\n",
              "      <td>man</td>\n",
              "      <td>-0.357340</td>\n",
              "      <td>-0.866419</td>\n",
              "    </tr>\n",
              "    <tr>\n",
              "      <th>3</th>\n",
              "      <td>young</td>\n",
              "      <td>-0.118067</td>\n",
              "      <td>0.023567</td>\n",
              "    </tr>\n",
              "    <tr>\n",
              "      <th>4</th>\n",
              "      <td>woman</td>\n",
              "      <td>0.465818</td>\n",
              "      <td>0.830130</td>\n",
              "    </tr>\n",
              "    <tr>\n",
              "      <th>5</th>\n",
              "      <td>queen</td>\n",
              "      <td>1.554822</td>\n",
              "      <td>0.464030</td>\n",
              "    </tr>\n",
              "    <tr>\n",
              "      <th>6</th>\n",
              "      <td>wise</td>\n",
              "      <td>1.514450</td>\n",
              "      <td>1.626437</td>\n",
              "    </tr>\n",
              "    <tr>\n",
              "      <th>7</th>\n",
              "      <td>strong</td>\n",
              "      <td>-0.843969</td>\n",
              "      <td>-2.299894</td>\n",
              "    </tr>\n",
              "    <tr>\n",
              "      <th>8</th>\n",
              "      <td>boy</td>\n",
              "      <td>-0.467069</td>\n",
              "      <td>-1.183384</td>\n",
              "    </tr>\n",
              "    <tr>\n",
              "      <th>9</th>\n",
              "      <td>pretty</td>\n",
              "      <td>1.879305</td>\n",
              "      <td>1.828781</td>\n",
              "    </tr>\n",
              "    <tr>\n",
              "      <th>10</th>\n",
              "      <td>prince</td>\n",
              "      <td>1.275364</td>\n",
              "      <td>-1.917824</td>\n",
              "    </tr>\n",
              "    <tr>\n",
              "      <th>11</th>\n",
              "      <td>girl</td>\n",
              "      <td>0.878517</td>\n",
              "      <td>0.600153</td>\n",
              "    </tr>\n",
              "  </tbody>\n",
              "</table>\n",
              "</div>"
            ],
            "text/plain": [
              "        word        x1        x2\n",
              "0       king -1.324000 -0.360524\n",
              "1   princess  0.880252  0.718586\n",
              "2        man -0.357340 -0.866419\n",
              "3      young -0.118067  0.023567\n",
              "4      woman  0.465818  0.830130\n",
              "5      queen  1.554822  0.464030\n",
              "6       wise  1.514450  1.626437\n",
              "7     strong -0.843969 -2.299894\n",
              "8        boy -0.467069 -1.183384\n",
              "9     pretty  1.879305  1.828781\n",
              "10    prince  1.275364 -1.917824\n",
              "11      girl  0.878517  0.600153"
            ]
          },
          "metadata": {
            "tags": []
          },
          "execution_count": 72
        }
      ]
    },
    {
      "cell_type": "code",
      "metadata": {
        "id": "Wq7jCMvqybuK",
        "colab_type": "code",
        "colab": {
          "base_uri": "https://localhost:8080/",
          "height": 265
        },
        "outputId": "07db7b3f-f28e-4f5c-967f-960fe9aab09d"
      },
      "source": [
        "flg, ax = plt.subplots()\n",
        "\n",
        "for word, x1, x2 in zip(w2v_df['word'], w2v_df['x1'], w2v_df['x2']):\n",
        "  ax.annotate(word, (x1, x2))\n",
        "\n",
        "PADDING = 1.0\n",
        "x_axis_min = np.amin(vectors, axis=0)[0] - PADDING\n",
        "y_axis_min = np.amin(vectors, axis=0)[1] - PADDING\n",
        "x_axis_max = np.amax(vectors, axis=0)[0] + PADDING\n",
        "y_axis_max = np.amax(vectors, axis=0)[1] + PADDING\n",
        "\n",
        "plt.xlim(x_axis_min,x_axis_max)\n",
        "plt.ylim(y_axis_min,y_axis_max)\n",
        "plt.rcParams[\"figure.figsize\"] = (9,9)\n",
        "\n",
        "plt.show()"
      ],
      "execution_count": 74,
      "outputs": [
        {
          "output_type": "display_data",
          "data": {
            "image/png": "[encoded data removed]",
            "text/plain": [
              "<Figure size 432x288 with 1 Axes>"
            ]
          },
          "metadata": {
            "tags": [],
            "needs_background": "light"
          }
        }
      ]
    },
    {
      "cell_type": "code",
      "metadata": {
        "id": "KllhaBKA0N2h",
        "colab_type": "code",
        "colab": {}
      },
      "source": [
        ""
      ],
      "execution_count": null,
      "outputs": []
    }
  ]
}