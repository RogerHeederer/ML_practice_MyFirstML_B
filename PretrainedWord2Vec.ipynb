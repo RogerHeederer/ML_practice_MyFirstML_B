{
  "nbformat": 4,
  "nbformat_minor": 0,
  "metadata": {
    "colab": {
      "name": "PretrainedWord2Vec.ipynb",
      "provenance": [],
      "authorship_tag": "ABX9TyPkJvMeZeRYwMQR7hTTNK3d",
      "include_colab_link": true
    },
    "kernelspec": {
      "name": "python3",
      "display_name": "Python 3"
    }
  },
  "cells": [
    {
      "cell_type": "markdown",
      "metadata": {
        "id": "view-in-github",
        "colab_type": "text"
      },
      "source": [
        "<a href=\"https://colab.research.google.com/github/RogerHeederer/ML_practice_MyFirstML_B/blob/master/PretrainedWord2Vec.ipynb\" target=\"_parent\"><img src=\"https://colab.research.google.com/assets/colab-badge.svg\" alt=\"Open In Colab\"/></a>"
      ]
    },
    {
      "cell_type": "markdown",
      "metadata": {
        "id": "UC6Ogau-EIeO",
        "colab_type": "text"
      },
      "source": [
        "source reference : https://github.com/wikibook/machine-learnin\n",
        "\n",
        "**위 레퍼런스를 참조하여 공부하였으며, 필요하다고 생각되는 부분에 추가적인 설명 ,코드 추가, 그림 삽입 등을 덧붙였습니다..**\n"
      ]
    },
    {
      "cell_type": "code",
      "metadata": {
        "id": "Q2x_LC0lD95f",
        "colab_type": "code",
        "colab": {
          "base_uri": "https://localhost:8080/",
          "height": 215
        },
        "outputId": "cf6a69a7-df24-4923-d021-a7de85f9b985"
      },
      "source": [
        "!wget -P . -c \"https://s3.amazonaws.com/dl4j-distribution/GoogleNews-vectors-negative300.bin.gz\""
      ],
      "execution_count": 1,
      "outputs": [
        {
          "output_type": "stream",
          "text": [
            "--2020-08-28 07:55:58--  https://s3.amazonaws.com/dl4j-distribution/GoogleNews-vectors-negative300.bin.gz\n",
            "Resolving s3.amazonaws.com (s3.amazonaws.com)... 52.217.1.102\n",
            "Connecting to s3.amazonaws.com (s3.amazonaws.com)|52.217.1.102|:443... connected.\n",
            "HTTP request sent, awaiting response... 200 OK\n",
            "Length: 1647046227 (1.5G) [application/x-gzip]\n",
            "Saving to: ‘./GoogleNews-vectors-negative300.bin.gz’\n",
            "\n",
            "GoogleNews-vectors- 100%[===================>]   1.53G  62.4MB/s    in 27s     \n",
            "\n",
            "2020-08-28 07:56:25 (59.1 MB/s) - ‘./GoogleNews-vectors-negative300.bin.gz’ saved [1647046227/1647046227]\n",
            "\n"
          ],
          "name": "stdout"
        }
      ]
    },
    {
      "cell_type": "code",
      "metadata": {
        "id": "P1P2O2fAENNE",
        "colab_type": "code",
        "colab": {}
      },
      "source": [
        "import gensim"
      ],
      "execution_count": 2,
      "outputs": []
    },
    {
      "cell_type": "code",
      "metadata": {
        "id": "gFqP5joREXND",
        "colab_type": "code",
        "colab": {
          "base_uri": "https://localhost:8080/",
          "height": 73
        },
        "outputId": "92ff13ab-841e-44f7-c537-65a847d5245d"
      },
      "source": [
        "model = gensim.models.KeyedVectors.load_word2vec_format('GoogleNews-vectors-negative300.bin.gz', binary=True)"
      ],
      "execution_count": 3,
      "outputs": [
        {
          "output_type": "stream",
          "text": [
            "/usr/local/lib/python3.6/dist-packages/smart_open/smart_open_lib.py:254: UserWarning: This function is deprecated, use smart_open.open instead. See the migration notes for details: https://github.com/RaRe-Technologies/smart_open/blob/master/README.rst#migrating-to-the-new-open-function\n",
            "  'See the migration notes for details: %s' % _MIGRATION_NOTES_URL\n"
          ],
          "name": "stderr"
        }
      ]
    },
    {
      "cell_type": "code",
      "metadata": {
        "id": "nNZW60rzEfMU",
        "colab_type": "code",
        "colab": {
          "base_uri": "https://localhost:8080/",
          "height": 163
        },
        "outputId": "96e9920e-c987-48f8-8680-8d80a3ce9d67"
      },
      "source": [
        "model.most_similar(positive=['coffee'], topn=5)"
      ],
      "execution_count": 4,
      "outputs": [
        {
          "output_type": "stream",
          "text": [
            "/usr/local/lib/python3.6/dist-packages/gensim/matutils.py:737: FutureWarning: Conversion of the second argument of issubdtype from `int` to `np.signedinteger` is deprecated. In future, it will be treated as `np.int64 == np.dtype(int).type`.\n",
            "  if np.issubdtype(vec.dtype, np.int):\n"
          ],
          "name": "stderr"
        },
        {
          "output_type": "execute_result",
          "data": {
            "text/plain": [
              "[('coffees', 0.721267819404602),\n",
              " ('gourmet_coffee', 0.7057087421417236),\n",
              " ('Coffee', 0.6900455355644226),\n",
              " ('o_joe', 0.6891065835952759),\n",
              " ('Starbucks_coffee', 0.6874972581863403)]"
            ]
          },
          "metadata": {
            "tags": []
          },
          "execution_count": 4
        }
      ]
    },
    {
      "cell_type": "code",
      "metadata": {
        "id": "e0VrOrZgFDqM",
        "colab_type": "code",
        "colab": {
          "base_uri": "https://localhost:8080/",
          "height": 91
        },
        "outputId": "c5a606fd-43d9-4364-e988-70d2b745aa3a"
      },
      "source": [
        "# 왕 + 여자 - 남자 = 왕비\n",
        "model.most_similar(positive=['king', 'woman'], negative=['man'], topn=1)"
      ],
      "execution_count": 5,
      "outputs": [
        {
          "output_type": "stream",
          "text": [
            "/usr/local/lib/python3.6/dist-packages/gensim/matutils.py:737: FutureWarning: Conversion of the second argument of issubdtype from `int` to `np.signedinteger` is deprecated. In future, it will be treated as `np.int64 == np.dtype(int).type`.\n",
            "  if np.issubdtype(vec.dtype, np.int):\n"
          ],
          "name": "stderr"
        },
        {
          "output_type": "execute_result",
          "data": {
            "text/plain": [
              "[('queen', 0.7118192911148071)]"
            ]
          },
          "metadata": {
            "tags": []
          },
          "execution_count": 5
        }
      ]
    },
    {
      "cell_type": "code",
      "metadata": {
        "id": "Df4x9ZT8GIxU",
        "colab_type": "code",
        "colab": {
          "base_uri": "https://localhost:8080/",
          "height": 91
        },
        "outputId": "4e736904-46fd-4a1a-d4c7-94facf18a30e"
      },
      "source": [
        "# 다른 예제 테스트\n",
        "model.most_similar(positive=['KOREA', 'JAPAN'], negative=['SEOUL'], topn=1)"
      ],
      "execution_count": 11,
      "outputs": [
        {
          "output_type": "stream",
          "text": [
            "/usr/local/lib/python3.6/dist-packages/gensim/matutils.py:737: FutureWarning: Conversion of the second argument of issubdtype from `int` to `np.signedinteger` is deprecated. In future, it will be treated as `np.int64 == np.dtype(int).type`.\n",
            "  if np.issubdtype(vec.dtype, np.int):\n"
          ],
          "name": "stderr"
        },
        {
          "output_type": "execute_result",
          "data": {
            "text/plain": [
              "[('IN_JAPAN', 0.5934022665023804)]"
            ]
          },
          "metadata": {
            "tags": []
          },
          "execution_count": 11
        }
      ]
    },
    {
      "cell_type": "code",
      "metadata": {
        "id": "_nSBo1UoGXeU",
        "colab_type": "code",
        "colab": {
          "base_uri": "https://localhost:8080/",
          "height": 35
        },
        "outputId": "3c4d4b80-33e9-43c8-8bc4-a648051fbe99"
      },
      "source": [
        "len(model['coffee'])"
      ],
      "execution_count": 12,
      "outputs": [
        {
          "output_type": "execute_result",
          "data": {
            "text/plain": [
              "300"
            ]
          },
          "metadata": {
            "tags": []
          },
          "execution_count": 12
        }
      ]
    },
    {
      "cell_type": "code",
      "metadata": {
        "id": "YlMY_vCQGqfj",
        "colab_type": "code",
        "colab": {
          "base_uri": "https://localhost:8080/",
          "height": 1000
        },
        "outputId": "6d52cfe1-1e8f-4863-bc9e-9ec509b0a29e"
      },
      "source": [
        "model['coffee']"
      ],
      "execution_count": 13,
      "outputs": [
        {
          "output_type": "execute_result",
          "data": {
            "text/plain": [
              "array([-1.61132812e-01, -1.36718750e-01, -3.73046875e-01,  6.17187500e-01,\n",
              "        1.08398438e-01,  2.72216797e-02,  1.00097656e-01, -1.51367188e-01,\n",
              "       -1.66015625e-02,  3.80859375e-01,  6.54296875e-02, -1.31835938e-01,\n",
              "        2.53906250e-01,  9.08203125e-02,  2.86865234e-02,  2.53906250e-01,\n",
              "       -2.05078125e-01,  1.64062500e-01,  2.20703125e-01, -1.74804688e-01,\n",
              "       -2.01171875e-01,  1.30859375e-01, -3.22265625e-02, -2.41210938e-01,\n",
              "       -3.19824219e-02,  2.48046875e-01, -2.37304688e-01,  2.89062500e-01,\n",
              "        1.64794922e-02,  1.29394531e-02,  1.72119141e-02, -3.53515625e-01,\n",
              "       -1.66992188e-01, -5.90820312e-02, -2.81250000e-01,  9.94873047e-03,\n",
              "       -1.94091797e-02, -3.22265625e-01,  1.73339844e-02, -5.83496094e-02,\n",
              "       -2.59765625e-01,  1.42669678e-03,  5.81054688e-02,  1.13769531e-01,\n",
              "       -8.64257812e-02,  3.54003906e-02, -4.29687500e-01,  2.86865234e-03,\n",
              "        6.98852539e-03,  1.80664062e-01, -1.79687500e-01,  2.95410156e-02,\n",
              "       -1.56250000e-01, -2.08007812e-01, -9.08203125e-02,  4.15039062e-03,\n",
              "        1.07421875e-01,  3.12500000e-01, -1.04980469e-01, -3.24218750e-01,\n",
              "       -1.24023438e-01, -7.05718994e-04, -1.05957031e-01,  2.12890625e-01,\n",
              "        1.12304688e-01, -1.58203125e-01, -1.67968750e-01, -9.71679688e-02,\n",
              "        1.53320312e-01, -1.11328125e-01,  3.22265625e-01,  2.28515625e-01,\n",
              "        3.20312500e-01, -1.72119141e-02, -4.57031250e-01,  3.23486328e-03,\n",
              "       -1.76757812e-01, -5.00488281e-02,  3.05175781e-02, -2.75390625e-01,\n",
              "       -1.65039062e-01, -3.56445312e-02,  7.95898438e-02,  1.35742188e-01,\n",
              "       -8.64257812e-02, -7.32421875e-02,  1.36718750e-01,  2.33398438e-01,\n",
              "        7.95898438e-02,  1.32446289e-02, -4.71191406e-02,  1.01074219e-01,\n",
              "        2.37304688e-01, -1.81640625e-01, -2.14843750e-01, -1.65039062e-01,\n",
              "       -1.66015625e-02, -1.51367188e-01,  3.06640625e-01, -2.40234375e-01,\n",
              "       -2.29492188e-01, -1.29882812e-01,  8.97216797e-03,  1.97265625e-01,\n",
              "        7.47070312e-02, -1.64031982e-03,  1.54296875e-01, -6.80541992e-03,\n",
              "       -1.12304688e-01, -7.61718750e-02, -8.74023438e-02, -1.31835938e-01,\n",
              "       -2.94921875e-01, -2.46093750e-01,  6.15234375e-02, -1.23046875e-01,\n",
              "       -8.34960938e-02, -8.39843750e-02, -1.61132812e-02, -4.30297852e-03,\n",
              "       -4.05273438e-02, -2.84423828e-02,  1.36718750e-01,  2.13623047e-02,\n",
              "       -2.81250000e-01,  2.40234375e-01, -3.75976562e-02, -9.66796875e-02,\n",
              "        1.28906250e-01,  1.43554688e-01, -1.37695312e-01, -1.38549805e-02,\n",
              "       -4.12597656e-02, -4.51660156e-02, -3.75976562e-02,  1.89453125e-01,\n",
              "        5.32226562e-02,  1.17675781e-01, -8.25195312e-02, -1.56250000e-01,\n",
              "        1.47460938e-01, -2.63671875e-01, -2.79296875e-01, -4.31640625e-01,\n",
              "       -5.90820312e-02,  2.74658203e-03,  2.87109375e-01, -2.71606445e-03,\n",
              "       -2.46093750e-01,  2.74658203e-02, -9.08203125e-02,  6.54296875e-02,\n",
              "       -1.94335938e-01, -2.16064453e-02,  2.77343750e-01,  5.98144531e-02,\n",
              "        2.33154297e-02, -1.37695312e-01, -5.39062500e-01, -1.64794922e-02,\n",
              "       -1.25976562e-01, -1.36718750e-01,  3.02734375e-02,  2.50000000e-01,\n",
              "        5.53131104e-04,  1.36718750e-01,  2.96875000e-01, -5.10253906e-02,\n",
              "        9.08203125e-02, -2.39257812e-01,  1.35742188e-01,  1.11328125e-01,\n",
              "        1.96289062e-01, -1.54296875e-01, -3.37890625e-01, -3.36914062e-02,\n",
              "       -9.47265625e-02, -1.69921875e-01, -1.04003906e-01,  1.46484375e-01,\n",
              "        4.54101562e-02, -4.12109375e-01, -2.47070312e-01, -6.10351562e-03,\n",
              "        4.55078125e-01, -2.35595703e-02,  4.93164062e-02,  1.42578125e-01,\n",
              "        2.66113281e-02,  4.11987305e-03, -7.27539062e-02,  2.53906250e-02,\n",
              "       -3.39355469e-02,  7.91015625e-02,  2.87109375e-01,  3.88671875e-01,\n",
              "       -1.58691406e-02, -8.44726562e-02, -1.15722656e-01, -1.22558594e-01,\n",
              "       -1.02050781e-01,  1.32812500e-01,  2.21679688e-01, -2.03125000e-01,\n",
              "        7.91015625e-02,  1.69677734e-02,  2.16796875e-01,  2.33398438e-01,\n",
              "       -2.08984375e-01, -1.36718750e-01, -2.45117188e-01,  3.93066406e-02,\n",
              "       -1.80664062e-01,  1.37695312e-01,  1.50390625e-01, -3.90625000e-02,\n",
              "       -1.32812500e-01,  2.75878906e-02, -1.78710938e-01,  1.55273438e-01,\n",
              "        1.36718750e-01, -1.14257812e-01, -2.79296875e-01, -7.86132812e-02,\n",
              "        3.08593750e-01, -5.32226562e-02, -1.65039062e-01,  5.83496094e-02,\n",
              "        2.19726562e-01, -1.25000000e-01,  6.10351562e-02, -3.39355469e-02,\n",
              "       -3.16406250e-01,  2.14843750e-01, -4.12597656e-02, -1.94335938e-01,\n",
              "        7.76367188e-02, -5.21850586e-03,  6.93359375e-02,  2.18750000e-01,\n",
              "        1.71875000e-01, -1.97265625e-01,  1.07910156e-01,  8.25195312e-02,\n",
              "        3.39355469e-02, -1.15722656e-01, -2.02941895e-03,  4.83398438e-02,\n",
              "        1.50390625e-01, -2.73437500e-01, -9.61914062e-02,  3.39843750e-01,\n",
              "        2.98828125e-01,  1.32812500e-01, -3.68652344e-02, -3.08593750e-01,\n",
              "        2.94189453e-02, -1.31835938e-01, -7.12890625e-02, -2.57873535e-03,\n",
              "       -1.17187500e-01,  6.34765625e-03, -1.66992188e-01,  2.01171875e-01,\n",
              "       -1.33789062e-01, -1.77734375e-01, -1.09863281e-01,  5.06591797e-03,\n",
              "       -1.07910156e-01, -1.30859375e-01, -5.17578125e-02,  2.57812500e-01,\n",
              "        5.41992188e-02, -6.34765625e-03,  3.00598145e-03,  7.95898438e-02,\n",
              "       -2.37304688e-01, -8.05664062e-02,  6.07910156e-02,  9.27734375e-02,\n",
              "        1.65039062e-01, -1.22558594e-01,  1.88476562e-01,  2.50000000e-01,\n",
              "       -1.42578125e-01, -7.91015625e-02, -1.78710938e-01,  1.52343750e-01,\n",
              "       -7.76367188e-02,  2.42187500e-01,  2.56347656e-02, -1.26953125e-01,\n",
              "       -1.25000000e-01, -3.19824219e-02, -1.27929688e-01,  1.49414062e-01,\n",
              "       -1.34277344e-02,  6.59179688e-02,  2.17773438e-01,  2.02148438e-01],\n",
              "      dtype=float32)"
            ]
          },
          "metadata": {
            "tags": []
          },
          "execution_count": 13
        }
      ]
    },
    {
      "cell_type": "code",
      "metadata": {
        "id": "iZjNE8VlGsgy",
        "colab_type": "code",
        "colab": {}
      },
      "source": [
        ""
      ],
      "execution_count": null,
      "outputs": []
    }
  ]
}