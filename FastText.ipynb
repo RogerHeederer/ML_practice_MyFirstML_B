{
  "nbformat": 4,
  "nbformat_minor": 0,
  "metadata": {
    "colab": {
      "name": "FastText.ipynb",
      "provenance": [],
      "authorship_tag": "ABX9TyPJxjTveMF1s3xZQSpZc7jj",
      "include_colab_link": true
    },
    "kernelspec": {
      "name": "python3",
      "display_name": "Python 3"
    }
  },
  "cells": [
    {
      "cell_type": "markdown",
      "metadata": {
        "id": "view-in-github",
        "colab_type": "text"
      },
      "source": [
        "<a href=\"https://colab.research.google.com/github/RogerHeederer/ML_practice_MyFirstML_B/blob/master/FastText.ipynb\" target=\"_parent\"><img src=\"https://colab.research.google.com/assets/colab-badge.svg\" alt=\"Open In Colab\"/></a>"
      ]
    },
    {
      "cell_type": "markdown",
      "metadata": {
        "id": "-NlGUma0lY0s",
        "colab_type": "text"
      },
      "source": [
        "source reference : https://github.com/wikibook/machine-learning/tree/2.0\n",
        "\n",
        "**위 레퍼런스를 참조하여 공부하였으며, 필요하다고 생각되는 부분에 추가적인 설명 ,코드 추가, 그림 삽입 등을 덧붙였습니다..**\n"
      ]
    },
    {
      "cell_type": "markdown",
      "metadata": {
        "id": "U25cSmGsmmKX",
        "colab_type": "text"
      },
      "source": [
        "## FastText\n",
        "\n",
        "Word2Vec의 단점인 OOV( out of vocabulary). 즉 학습 시 사용되지 않은 단어는 임베딩을 가지고 있지 못함.\n",
        "\n",
        "예를들어, word2vec 학습 시에, \"smart\" \"phone\" 두 단어가 있었다면, 두 단어에 대한 임베딩은 존재하지만, \"smartphone\"에 대한 임베딩은 없음. \n",
        "\n",
        "FastText는 형태학적 유사성을 보존하는 방법을 제시함\n",
        "\n",
        "\"smart\" 단어를 학습할 때 sma, mar, art를 각각 임베딩을 가지게 되고 smart는 위 3개의 임베딩을 더한 값으료 표현\n",
        "\n"
      ]
    },
    {
      "cell_type": "code",
      "metadata": {
        "id": "_lcOi9RalYlG",
        "colab_type": "code",
        "colab": {}
      },
      "source": [
        "from gensim.models.fasttext import FastText as FT_gensim"
      ],
      "execution_count": 1,
      "outputs": []
    },
    {
      "cell_type": "code",
      "metadata": {
        "id": "8iblONuBlXP4",
        "colab_type": "code",
        "colab": {}
      },
      "source": [
        "# 샘플 텍스트\n",
        "texts = [\n",
        "    ['smart', 'student', 'college'],\n",
        "    ['phone', 'call'],\n",
        "    ['phone', 'talk', 'friend'],\n",
        "    ['phone', 'chat', 'friend'],\n",
        "    ['smart', 'girl', 'intelligent'],\n",
        "    ['smart', 'idea']\n",
        "]"
      ],
      "execution_count": 2,
      "outputs": []
    },
    {
      "cell_type": "code",
      "metadata": {
        "id": "M9-QhkzYl-Xx",
        "colab_type": "code",
        "colab": {}
      },
      "source": [
        "model = FT_gensim(size=2, window=2, min_count=1)\n",
        "model.build_vocab(sentences=texts)\n",
        "model.train(sentences=texts, total_examples=len(texts), epochs=100)"
      ],
      "execution_count": 5,
      "outputs": []
    },
    {
      "cell_type": "code",
      "metadata": {
        "id": "1qI60UMImY8L",
        "colab_type": "code",
        "colab": {
          "base_uri": "https://localhost:8080/",
          "height": 35
        },
        "outputId": "585f2a6a-81db-4aa9-c000-06e426a03c29"
      },
      "source": [
        "model.wv['smart']"
      ],
      "execution_count": 6,
      "outputs": [
        {
          "output_type": "execute_result",
          "data": {
            "text/plain": [
              "array([-0.04108725,  0.06589911], dtype=float32)"
            ]
          },
          "metadata": {
            "tags": []
          },
          "execution_count": 6
        }
      ]
    },
    {
      "cell_type": "code",
      "metadata": {
        "id": "Ised8kSNmi1L",
        "colab_type": "code",
        "colab": {
          "base_uri": "https://localhost:8080/",
          "height": 35
        },
        "outputId": "68461869-44cb-4fdd-86cb-0edadf623bcf"
      },
      "source": [
        "model.wv['smartphone'] #기존에 없는 단어에 대해서도 임베딩 제공하는 걸 확인"
      ],
      "execution_count": 7,
      "outputs": [
        {
          "output_type": "execute_result",
          "data": {
            "text/plain": [
              "array([-0.04479307,  0.01863904], dtype=float32)"
            ]
          },
          "metadata": {
            "tags": []
          },
          "execution_count": 7
        }
      ]
    },
    {
      "cell_type": "code",
      "metadata": {
        "id": "BfV8z36gmk67",
        "colab_type": "code",
        "colab": {
          "base_uri": "https://localhost:8080/",
          "height": 127
        },
        "outputId": "24aa458d-a00c-4e11-deb9-3ada89d2c209"
      },
      "source": [
        "#smartphone과 유사한 단어가 뭐있는지 체크\n",
        "model.wv.most_similar(positive=['smartphone'], topn=3)"
      ],
      "execution_count": 8,
      "outputs": [
        {
          "output_type": "stream",
          "text": [
            "/usr/local/lib/python3.6/dist-packages/gensim/matutils.py:737: FutureWarning: Conversion of the second argument of issubdtype from `int` to `np.signedinteger` is deprecated. In future, it will be treated as `np.int64 == np.dtype(int).type`.\n",
            "  if np.issubdtype(vec.dtype, np.int):\n"
          ],
          "name": "stderr"
        },
        {
          "output_type": "execute_result",
          "data": {
            "text/plain": [
              "[('call', 0.939025342464447),\n",
              " ('student', 0.9378506541252136),\n",
              " ('friend', 0.9014017581939697)]"
            ]
          },
          "metadata": {
            "tags": []
          },
          "execution_count": 8
        }
      ]
    },
    {
      "cell_type": "code",
      "metadata": {
        "id": "Nls9LPArnawM",
        "colab_type": "code",
        "colab": {
          "base_uri": "https://localhost:8080/",
          "height": 127
        },
        "outputId": "d728a82f-3cbf-47ac-8e2b-08c7a6e5a62d"
      },
      "source": [
        "#friends와 형태학적으로 유사한 단어인 friend도 유사 단어로 등장함\n",
        "model.wv.most_similar(positive=['friends'], topn=3)"
      ],
      "execution_count": 9,
      "outputs": [
        {
          "output_type": "stream",
          "text": [
            "/usr/local/lib/python3.6/dist-packages/gensim/matutils.py:737: FutureWarning: Conversion of the second argument of issubdtype from `int` to `np.signedinteger` is deprecated. In future, it will be treated as `np.int64 == np.dtype(int).type`.\n",
            "  if np.issubdtype(vec.dtype, np.int):\n"
          ],
          "name": "stderr"
        },
        {
          "output_type": "execute_result",
          "data": {
            "text/plain": [
              "[('smart', 0.998569130897522),\n",
              " ('friend', 0.9894208908081055),\n",
              " ('chat', 0.987799346446991)]"
            ]
          },
          "metadata": {
            "tags": []
          },
          "execution_count": 9
        }
      ]
    },
    {
      "cell_type": "code",
      "metadata": {
        "id": "PuSAealkoYpy",
        "colab_type": "code",
        "colab": {
          "base_uri": "https://localhost:8080/",
          "height": 127
        },
        "outputId": "662d2875-4071-4228-a3f8-2510edbfcb50"
      },
      "source": [
        "model.wv.most_similar(positive=['girl'], topn=3)"
      ],
      "execution_count": 10,
      "outputs": [
        {
          "output_type": "stream",
          "text": [
            "/usr/local/lib/python3.6/dist-packages/gensim/matutils.py:737: FutureWarning: Conversion of the second argument of issubdtype from `int` to `np.signedinteger` is deprecated. In future, it will be treated as `np.int64 == np.dtype(int).type`.\n",
            "  if np.issubdtype(vec.dtype, np.int):\n"
          ],
          "name": "stderr"
        },
        {
          "output_type": "execute_result",
          "data": {
            "text/plain": [
              "[('idea', 0.7614880800247192),\n",
              " ('college', 0.5849746465682983),\n",
              " ('talk', 0.5574522018432617)]"
            ]
          },
          "metadata": {
            "tags": []
          },
          "execution_count": 10
        }
      ]
    },
    {
      "cell_type": "code",
      "metadata": {
        "id": "f1QDbyGBoip4",
        "colab_type": "code",
        "colab": {}
      },
      "source": [
        ""
      ],
      "execution_count": null,
      "outputs": []
    }
  ]
}