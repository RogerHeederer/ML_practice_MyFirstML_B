{
  "nbformat": 4,
  "nbformat_minor": 0,
  "metadata": {
    "colab": {
      "name": "VotingEnsenble_mnist.ipynb",
      "provenance": [],
      "authorship_tag": "ABX9TyNrNAcM+ibVitMiktHvZTI1",
      "include_colab_link": true
    },
    "kernelspec": {
      "name": "python3",
      "display_name": "Python 3"
    }
  },
  "cells": [
    {
      "cell_type": "markdown",
      "metadata": {
        "id": "view-in-github",
        "colab_type": "text"
      },
      "source": [
        "<a href=\"https://colab.research.google.com/github/RogerHeederer/ML_practice_MyFirstML_B/blob/master/VotingEnsenble_mnist.ipynb\" target=\"_parent\"><img src=\"https://colab.research.google.com/assets/colab-badge.svg\" alt=\"Open In Colab\"/></a>"
      ]
    },
    {
      "cell_type": "code",
      "metadata": {
        "id": "X9X0f8AnND9F",
        "colab_type": "code",
        "colab": {}
      },
      "source": [
        "from sklearn import datasets\n",
        "from sklearn import tree\n",
        "from sklearn.neighbors import KNeighborsClassifier\n",
        "from sklearn.svm import SVC\n",
        "from sklearn.ensemble import VotingClassifier\n",
        "from sklearn.model_selection import train_test_split\n",
        "from sklearn.metrics import accuracy_score\n",
        "\n",
        "import numpy as np\n",
        "import matplotlib.pyplot as plt\n",
        "%matplotlib inline\n",
        "np.random.seed(5)"
      ],
      "execution_count": 2,
      "outputs": []
    },
    {
      "cell_type": "code",
      "metadata": {
        "id": "8mWmk_VuSJaw",
        "colab_type": "code",
        "colab": {}
      },
      "source": [
        "mnist = datasets.load_digits() ##MNIST에서 제공하는 원조 데이터(28 by 28)랑 다름. sklearn은 8 by 8\n",
        "features, labels = mnist.data, mnist.target\n",
        "X_train, X_test, y_train, y_test = train_test_split(features, labels, test_size=0.2)"
      ],
      "execution_count": 3,
      "outputs": []
    },
    {
      "cell_type": "code",
      "metadata": {
        "id": "w_1DjUyYUoLn",
        "colab_type": "code",
        "colab": {
          "base_uri": "https://localhost:8080/",
          "height": 35
        },
        "outputId": "101a1594-4458-40b4-c92f-8743b6fabb73"
      },
      "source": [
        "X_train.shape, y_train.shape"
      ],
      "execution_count": 4,
      "outputs": [
        {
          "output_type": "execute_result",
          "data": {
            "text/plain": [
              "((1437, 64), (1437,))"
            ]
          },
          "metadata": {
            "tags": []
          },
          "execution_count": 4
        }
      ]
    },
    {
      "cell_type": "code",
      "metadata": {
        "id": "ZhsCgt8uUuWB",
        "colab_type": "code",
        "colab": {
          "base_uri": "https://localhost:8080/",
          "height": 107
        },
        "outputId": "b80f67d8-ec5d-4489-c665-e47f4f001912"
      },
      "source": [
        "X_train[1400], y_train[1400]"
      ],
      "execution_count": 26,
      "outputs": [
        {
          "output_type": "execute_result",
          "data": {
            "text/plain": [
              "(array([ 0.,  4., 13., 16., 16., 12.,  3.,  0.,  0.,  3.,  7.,  4., 13.,\n",
              "        16.,  6.,  0.,  0.,  0.,  0.,  8., 15.,  5.,  0.,  0.,  0.,  0.,\n",
              "         0., 12.,  8.,  0.,  0.,  0.,  0.,  0.,  0.,  7., 12.,  0.,  0.,\n",
              "         0.,  0.,  0.,  0.,  4., 12.,  0.,  0.,  0.,  0.,  1.,  7., 12.,\n",
              "        11.,  0.,  0.,  0.,  0.,  3., 15., 12.,  2.,  0.,  0.,  0.]), 3)"
            ]
          },
          "metadata": {
            "tags": []
          },
          "execution_count": 26
        }
      ]
    },
    {
      "cell_type": "code",
      "metadata": {
        "id": "706ftA86aNXf",
        "colab_type": "code",
        "colab": {
          "base_uri": "https://localhost:8080/",
          "height": 283
        },
        "outputId": "12a33a41-11b5-44e6-ac42-ecbcfc5ce696"
      },
      "source": [
        "plt.imshow(X_train[0].reshape(8,8))"
      ],
      "execution_count": 6,
      "outputs": [
        {
          "output_type": "execute_result",
          "data": {
            "text/plain": [
              "<matplotlib.image.AxesImage at 0x7ff5d7597ac8>"
            ]
          },
          "metadata": {
            "tags": []
          },
          "execution_count": 6
        },
        {
          "output_type": "display_data",
          "data": {
            "image/png": "[encoded data removed]",
            "text/plain": [
              "<Figure size 432x288 with 1 Axes>"
            ]
          },
          "metadata": {
            "tags": [],
            "needs_background": "light"
          }
        }
      ]
    },
    {
      "cell_type": "markdown",
      "metadata": {
        "id": "m4MOoQLsYgAl",
        "colab_type": "text"
      },
      "source": [
        "##단일 개별 모델들의 정확도 측정##"
      ]
    },
    {
      "cell_type": "code",
      "metadata": {
        "id": "BCaF7UVLU-On",
        "colab_type": "code",
        "colab": {}
      },
      "source": [
        "#의사결정나무\n",
        "dtree = tree.DecisionTreeClassifier(criterion=\"gini\", max_depth=8, max_features=32, random_state=35)\n",
        "dtree = dtree.fit(X_train, y_train)\n",
        "dtree_predicted = dtree.predict(X_test)\n",
        "\n",
        "#kNN\n",
        "knn = KNeighborsClassifier(n_neighbors=299).fit(X_train, y_train)\n",
        "knn_predicted = knn.predict(X_test)\n",
        "\n",
        "#SVM\n",
        "svm = SVC(C=0.1, gamma=0.003, probability=True, random_state=35).fit(X_train, y_train)\n",
        "svm_predicted = svm.predict(X_test)"
      ],
      "execution_count": 7,
      "outputs": []
    },
    {
      "cell_type": "code",
      "metadata": {
        "id": "vJLerVl-ZWjp",
        "colab_type": "code",
        "colab": {
          "base_uri": "https://localhost:8080/",
          "height": 89
        },
        "outputId": "97e44ebb-f969-4132-e427-bbd7f47c549b"
      },
      "source": [
        "print(\"[accuarcy]\")\n",
        "print(\"d-tree: \",accuracy_score(y_test, dtree_predicted))\n",
        "print(\"knn   : \",accuracy_score(y_test, knn_predicted))\n",
        "print(\"svm   : \",accuracy_score(y_test, svm_predicted))"
      ],
      "execution_count": 8,
      "outputs": [
        {
          "output_type": "stream",
          "text": [
            "[accuarcy]\n",
            "d-tree:  0.8277777777777777\n",
            "knn   :  0.8944444444444445\n",
            "svm   :  0.8916666666666667\n"
          ],
          "name": "stdout"
        }
      ]
    },
    {
      "cell_type": "code",
      "metadata": {
        "id": "DJ0PnUSUZfFf",
        "colab_type": "code",
        "colab": {
          "base_uri": "https://localhost:8080/",
          "height": 35
        },
        "outputId": "d35245c4-6f83-43bc-b0da-14828072e22f"
      },
      "source": [
        "#sklearn 라이브러리 통해 voting 구현가능\n",
        "svm_proba = svm.predict_proba(X_test)\n",
        "svm_proba.shape"
      ],
      "execution_count": 10,
      "outputs": [
        {
          "output_type": "execute_result",
          "data": {
            "text/plain": [
              "(360, 10)"
            ]
          },
          "metadata": {
            "tags": []
          },
          "execution_count": 10
        }
      ]
    },
    {
      "cell_type": "code",
      "metadata": {
        "id": "vvYnGplyjWgR",
        "colab_type": "code",
        "colab": {
          "base_uri": "https://localhost:8080/",
          "height": 53
        },
        "outputId": "4b722583-7495-4ad9-e0c9-7506e9fd9b71"
      },
      "source": [
        "svm_proba[0] #첫번째 prediction 값의 확률(0~9 숫자 중 뭐에 가까운지)"
      ],
      "execution_count": 11,
      "outputs": [
        {
          "output_type": "execute_result",
          "data": {
            "text/plain": [
              "array([0.00198803, 0.00839195, 0.00810019, 0.00463173, 0.00482916,\n",
              "       0.88824992, 0.00230768, 0.00694883, 0.06909342, 0.00545907])"
            ]
          },
          "metadata": {
            "tags": []
          },
          "execution_count": 11
        }
      ]
    },
    {
      "cell_type": "code",
      "metadata": {
        "id": "YjPlhTFvjlKT",
        "colab_type": "code",
        "colab": {}
      },
      "source": [
        "#하드 보팅은 현실 세계에서의 투표와 같다. 가장 다득표를 받은 예측값을 최종 pick!\n",
        "voting_clf = VotingClassifier(estimators=[\n",
        "  ('decision_tree', dtree), ('knn', knn), ('svm', svm)],\n",
        "  weights=[1,1,1], voting='hard').fit(X_train, y_train)"
      ],
      "execution_count": 12,
      "outputs": []
    },
    {
      "cell_type": "code",
      "metadata": {
        "id": "saBl2ns-kw_g",
        "colab_type": "code",
        "colab": {}
      },
      "source": [
        "hard_voting_predicted = voting_clf.predict(X_test)"
      ],
      "execution_count": 13,
      "outputs": []
    },
    {
      "cell_type": "code",
      "metadata": {
        "id": "HbhoTd6wk1YJ",
        "colab_type": "code",
        "colab": {
          "base_uri": "https://localhost:8080/",
          "height": 35
        },
        "outputId": "d55b8087-5782-43d1-f628-bad78e78ed1f"
      },
      "source": [
        "hard_voting_predicted.shape"
      ],
      "execution_count": 15,
      "outputs": [
        {
          "output_type": "execute_result",
          "data": {
            "text/plain": [
              "(360,)"
            ]
          },
          "metadata": {
            "tags": []
          },
          "execution_count": 15
        }
      ]
    },
    {
      "cell_type": "code",
      "metadata": {
        "id": "SYbRfB9Yk8PD",
        "colab_type": "code",
        "colab": {
          "base_uri": "https://localhost:8080/",
          "height": 35
        },
        "outputId": "7da2dff5-c2ec-4747-9817-4b104d81ace6"
      },
      "source": [
        "hard_voting_predicted[0:10]"
      ],
      "execution_count": 16,
      "outputs": [
        {
          "output_type": "execute_result",
          "data": {
            "text/plain": [
              "array([5, 2, 5, 5, 5, 3, 2, 2, 3, 5])"
            ]
          },
          "metadata": {
            "tags": []
          },
          "execution_count": 16
        }
      ]
    },
    {
      "cell_type": "code",
      "metadata": {
        "id": "TnY9_LNYlF3b",
        "colab_type": "code",
        "colab": {
          "base_uri": "https://localhost:8080/",
          "height": 35
        },
        "outputId": "2c3666c9-3dca-46e9-e40b-b35c27576ac2"
      },
      "source": [
        "accuracy_score(y_test, hard_voting_predicted)"
      ],
      "execution_count": 17,
      "outputs": [
        {
          "output_type": "execute_result",
          "data": {
            "text/plain": [
              "0.9222222222222223"
            ]
          },
          "metadata": {
            "tags": []
          },
          "execution_count": 17
        }
      ]
    },
    {
      "cell_type": "code",
      "metadata": {
        "id": "D0T4Tex4lNAB",
        "colab_type": "code",
        "colab": {
          "base_uri": "https://localhost:8080/",
          "height": 35
        },
        "outputId": "bc8c4a88-bc5f-45e3-f1ef-cb3d9cb26723"
      },
      "source": [
        "#소프트 보팅은 각 분류 모델의 predict_proba를 활용하여, 모든 분류값들의 확률들을 더해서\n",
        "#가장 높은 점수를 획득한 분류값을 최종 pick\n",
        "\n",
        "voting_clf = VotingClassifier(estimators=[('decision_tree', dtree),('knn', knn),('svm', svm)],\n",
        "                              weights=[1,1,1], voting='soft').fit(X_train, y_train)\n",
        "soft_voting_predicted = voting_clf.predict(X_test)\n",
        "accuracy_score(y_test, soft_voting_predicted)"
      ],
      "execution_count": 23,
      "outputs": [
        {
          "output_type": "execute_result",
          "data": {
            "text/plain": [
              "0.8944444444444445"
            ]
          },
          "metadata": {
            "tags": []
          },
          "execution_count": 23
        }
      ]
    },
    {
      "cell_type": "markdown",
      "metadata": {
        "id": "-J3vEfL3nGQI",
        "colab_type": "text"
      },
      "source": [
        "##정확도 비교 시각화"
      ]
    },
    {
      "cell_type": "code",
      "metadata": {
        "id": "jKdTA_h5mvBB",
        "colab_type": "code",
        "colab": {
          "base_uri": "https://localhost:8080/",
          "height": 265
        },
        "outputId": "77b7e7a2-52a9-4a86-e874-9617248b3905"
      },
      "source": [
        "x = np.arange(5)\n",
        "plt.bar(x, height= [accuracy_score(y_test, dtree_predicted),\n",
        "                    accuracy_score(y_test, knn_predicted),\n",
        "                    accuracy_score(y_test, svm_predicted),\n",
        "                    accuracy_score(y_test, hard_voting_predicted),\n",
        "                    accuracy_score(y_test, soft_voting_predicted)])\n",
        "plt.xticks(x, ['decision tree','knn','svm','hard voting','soft voting']);"
      ],
      "execution_count": 24,
      "outputs": [
        {
          "output_type": "display_data",
          "data": {
            "image/png": "[encoded data removed]",
            "text/plain": [
              "<Figure size 432x288 with 1 Axes>"
            ]
          },
          "metadata": {
            "tags": [],
            "needs_background": "light"
          }
        }
      ]
    },
    {
      "cell_type": "markdown",
      "metadata": {
        "id": "88okUslYnTlk",
        "colab_type": "text"
      },
      "source": [
        "##예측값 사진으로 확인하기"
      ]
    },
    {
      "cell_type": "code",
      "metadata": {
        "id": "MewJpYoSnOdi",
        "colab_type": "code",
        "colab": {
          "base_uri": "https://localhost:8080/",
          "height": 35
        },
        "outputId": "ad422de3-9bb6-4e69-d1fa-48340242fafc"
      },
      "source": [
        "# 랜덤하게 데이터 가져오기\n",
        "random_pick = np.random.randint(low=0, high=359, size=10)\n",
        "random_pick"
      ],
      "execution_count": 30,
      "outputs": [
        {
          "output_type": "execute_result",
          "data": {
            "text/plain": [
              "array([266, 161, 208, 142,  60,  40,  11, 152, 102, 296])"
            ]
          },
          "metadata": {
            "tags": []
          },
          "execution_count": 30
        }
      ]
    },
    {
      "cell_type": "code",
      "metadata": {
        "id": "NZkyQzhnp8lp",
        "colab_type": "code",
        "colab": {
          "base_uri": "https://localhost:8080/",
          "height": 35
        },
        "outputId": "ec6cfb8a-bd82-4481-a9f3-60a44d5751bf"
      },
      "source": [
        "y_test[random_pick] #정답"
      ],
      "execution_count": 31,
      "outputs": [
        {
          "output_type": "execute_result",
          "data": {
            "text/plain": [
              "array([0, 0, 8, 9, 6, 5, 8, 1, 7, 5])"
            ]
          },
          "metadata": {
            "tags": []
          },
          "execution_count": 31
        }
      ]
    },
    {
      "cell_type": "code",
      "metadata": {
        "id": "CklaYakyrCTw",
        "colab_type": "code",
        "colab": {
          "base_uri": "https://localhost:8080/",
          "height": 35
        },
        "outputId": "3361cef1-5dd2-453d-be18-15f37a567003"
      },
      "source": [
        "hard_voting_predicted[random_pick] #x_test로 테스트한 예측값"
      ],
      "execution_count": 32,
      "outputs": [
        {
          "output_type": "execute_result",
          "data": {
            "text/plain": [
              "array([0, 0, 2, 9, 6, 5, 8, 1, 7, 5])"
            ]
          },
          "metadata": {
            "tags": []
          },
          "execution_count": 32
        }
      ]
    },
    {
      "cell_type": "code",
      "metadata": {
        "id": "2KTMssvgrzL5",
        "colab_type": "code",
        "colab": {
          "base_uri": "https://localhost:8080/",
          "height": 917
        },
        "outputId": "efd7296a-ad18-4c1d-92ae-64895ea3331f"
      },
      "source": [
        "X_test[random_pick] # 테스트 자료 분포"
      ],
      "execution_count": 36,
      "outputs": [
        {
          "output_type": "execute_result",
          "data": {
            "text/plain": [
              "array([[ 0.,  0.,  2., 14., 13.,  3.,  0.,  0.,  0.,  0., 13., 13.,  9.,\n",
              "        11.,  0.,  0.,  0.,  0., 16.,  7.,  0., 12.,  0.,  0.,  0.,  3.,\n",
              "        16.,  5.,  0., 10.,  5.,  0.,  0.,  5., 16.,  1.,  0.,  8.,  5.,\n",
              "         0.,  0.,  3., 16.,  1.,  0., 10.,  5.,  0.,  0.,  0., 16.,  8.,\n",
              "         5., 14.,  3.,  0.,  0.,  0.,  4., 16., 16.,  9.,  1.,  0.],\n",
              "       [ 0.,  0.,  2., 10., 15.,  7.,  0.,  0.,  0.,  0., 14., 15.,  7.,\n",
              "        15.,  2.,  0.,  0.,  4., 16.,  3.,  0., 11.,  4.,  0.,  0.,  4.,\n",
              "        14.,  0.,  0.,  7.,  8.,  0.,  0.,  7., 12.,  0.,  0.,  6.,  7.,\n",
              "         0.,  0.,  4., 16.,  1.,  0., 12.,  4.,  0.,  0.,  1., 14., 12.,\n",
              "        10., 16.,  1.,  0.,  0.,  0.,  1., 14., 13.,  5.,  0.,  0.],\n",
              "       [ 0.,  0., 15., 12.,  3.,  0.,  0.,  0.,  0.,  0., 15.,  9., 14.,\n",
              "         1.,  0.,  0.,  0.,  0., 12., 10., 15.,  1.,  0.,  0.,  0.,  0.,\n",
              "         5., 16.,  4., 10.,  7.,  0.,  0.,  0.,  0., 11., 14., 11.,  0.,\n",
              "         0.,  0.,  0.,  1., 12., 13., 11.,  0.,  0.,  0.,  0., 12.,  6.,\n",
              "         0.,  9.,  4.,  0.,  0.,  0., 15.,  4.,  5., 13.,  6.,  0.],\n",
              "       [ 0.,  0.,  6., 13., 10.,  4.,  0.,  0.,  0.,  4., 16., 15., 13.,\n",
              "        13.,  0.,  0.,  0.,  4., 16., 14., 16., 16.,  1.,  0.,  0.,  2.,\n",
              "        10., 16., 16., 16.,  5.,  0.,  0.,  0.,  0.,  0.,  3., 16.,  5.,\n",
              "         0.,  0.,  0.,  0.,  0.,  0., 16.,  8.,  0.,  0.,  0.,  0.,  2.,\n",
              "         8., 16.,  8.,  0.,  0.,  0.,  7., 16., 14.,  9.,  1.,  0.],\n",
              "       [ 0.,  0.,  0., 11., 16.,  6.,  0.,  0.,  0.,  0.,  9., 16., 11.,\n",
              "         2.,  0.,  0.,  0.,  3., 16., 11.,  0.,  0.,  0.,  0.,  0.,  6.,\n",
              "        16., 12.,  4.,  0.,  0.,  0.,  0.,  7., 16., 13., 15., 11.,  0.,\n",
              "         0.,  0.,  1., 15.,  8.,  3., 16.,  5.,  0.,  0.,  0.,  9., 14.,\n",
              "         5., 16., 10.,  0.,  0.,  0.,  0.,  9., 16., 16., 10.,  0.],\n",
              "       [ 0.,  2., 15., 16., 16., 14.,  2.,  0.,  0.,  3., 16., 14.,  9.,\n",
              "        10.,  1.,  0.,  0.,  7., 16.,  6.,  0.,  0.,  0.,  0.,  0.,  3.,\n",
              "        14., 15.,  6.,  0.,  0.,  0.,  0.,  0.,  1., 13., 12.,  0.,  0.,\n",
              "         0.,  0.,  0.,  0.,  8., 16.,  0.,  0.,  0.,  0.,  0.,  9., 16.,\n",
              "        11.,  0.,  0.,  0.,  0.,  3., 16., 13.,  1.,  0.,  0.,  0.],\n",
              "       [ 0.,  0.,  0.,  9., 16.,  9.,  0.,  0.,  0.,  0.,  3., 15.,  5.,\n",
              "        16.,  0.,  0.,  0.,  0.,  7., 12.,  7., 12.,  0.,  0.,  0.,  0.,\n",
              "         1., 16., 16.,  5.,  0.,  0.,  0.,  0.,  2., 16., 14.,  1.,  0.,\n",
              "         0.,  0.,  3., 16.,  8.,  9., 11.,  0.,  0.,  0.,  0., 12., 13.,\n",
              "         4., 12.,  8.,  0.,  0.,  0.,  0.,  8., 14., 16., 14.,  0.],\n",
              "       [ 0.,  0.,  2., 15., 14.,  1.,  0.,  0.,  0.,  0., 11., 16., 16.,\n",
              "         4.,  0.,  0.,  0.,  4., 16., 16., 16.,  1.,  0.,  0.,  0.,  7.,\n",
              "        16., 16., 14.,  0.,  0.,  0.,  0.,  9., 16., 16., 11.,  0.,  0.,\n",
              "         0.,  0.,  1., 13., 16.,  9.,  0.,  0.,  0.,  0.,  0.,  5., 16.,\n",
              "         5.,  0.,  0.,  0.,  0.,  0.,  2., 14.,  9.,  0.,  0.,  0.],\n",
              "       [ 0.,  0.,  4., 15., 14., 12., 11.,  0.,  0.,  0.,  7., 15., 13.,\n",
              "        16., 10.,  0.,  0.,  0., 10.,  7.,  6., 16.,  2.,  0.,  0.,  0.,\n",
              "         7.,  1., 12., 12.,  0.,  0.,  0.,  0.,  5.,  8., 16., 12.,  1.,\n",
              "         0.,  0.,  4., 16., 16., 16., 14.,  2.,  0.,  0.,  0.,  0., 15.,\n",
              "         9.,  1.,  0.,  0.,  0.,  0.,  5., 15.,  2.,  0.,  0.,  0.],\n",
              "       [ 0.,  0., 13., 16., 16., 16., 13.,  0.,  0.,  4., 16.,  9.,  8.,\n",
              "         5.,  4.,  0.,  0.,  9., 15.,  7.,  8.,  2.,  0.,  0.,  0., 11.,\n",
              "        16., 16., 14., 15.,  1.,  0.,  0.,  1.,  3.,  0.,  4., 16.,  4.,\n",
              "         0.,  0.,  0.,  0.,  0.,  8., 14.,  0.,  0.,  0.,  0., 11.,  8.,\n",
              "        16.,  6.,  0.,  0.,  0.,  1., 15., 16., 10.,  0.,  0.,  0.]])"
            ]
          },
          "metadata": {
            "tags": []
          },
          "execution_count": 36
        }
      ]
    },
    {
      "cell_type": "code",
      "metadata": {
        "id": "FWyH47SYoZjc",
        "colab_type": "code",
        "colab": {
          "base_uri": "https://localhost:8080/",
          "height": 315
        },
        "outputId": "30f08d7a-58b2-4f0b-bca5-1a013e94f3fb"
      },
      "source": [
        "figure = plt.figure()\n",
        "figure.set_size_inches(12,5)\n",
        "\n",
        "axes=[]\n",
        "for i in range(1, 11):\n",
        "  axes.append(figure.add_subplot(2, 5, i))\n",
        "\n",
        "tmp_list = []\n",
        "for i in range(10):\n",
        "  tmp = X_test[random_pick[i]]\n",
        "  tmp = tmp.reshape(8,8)\n",
        "  tmp_list.append(tmp)\n",
        "\n",
        "for i in range(10):\n",
        "  axes[i].matshow(tmp_list[i])"
      ],
      "execution_count": 44,
      "outputs": [
        {
          "output_type": "display_data",
          "data": {
            "image/png": "[encoded data removed]",
            "text/plain": [
              "<Figure size 864x360 with 10 Axes>"
            ]
          },
          "metadata": {
            "tags": [],
            "needs_background": "light"
          }
        }
      ]
    },
    {
      "cell_type": "code",
      "metadata": {
        "id": "W4HMAiU3rXTo",
        "colab_type": "code",
        "colab": {
          "base_uri": "https://localhost:8080/",
          "height": 35
        },
        "outputId": "dc5e48bc-3d94-44a1-aeb9-fecfdc3fb97c"
      },
      "source": [
        "hard_voting_predicted[random_pick] #x_test로 테스트한 예측값"
      ],
      "execution_count": 45,
      "outputs": [
        {
          "output_type": "execute_result",
          "data": {
            "text/plain": [
              "array([0, 0, 2, 9, 6, 5, 8, 1, 7, 5])"
            ]
          },
          "metadata": {
            "tags": []
          },
          "execution_count": 45
        }
      ]
    },
    {
      "cell_type": "code",
      "metadata": {
        "id": "XtV3o-k-tHi6",
        "colab_type": "code",
        "colab": {
          "base_uri": "https://localhost:8080/",
          "height": 35
        },
        "outputId": "2ff3d325-c420-4fd3-c191-4f27162993a9"
      },
      "source": [
        "y_test[random_pick] #정답"
      ],
      "execution_count": 46,
      "outputs": [
        {
          "output_type": "execute_result",
          "data": {
            "text/plain": [
              "array([0, 0, 8, 9, 6, 5, 8, 1, 7, 5])"
            ]
          },
          "metadata": {
            "tags": []
          },
          "execution_count": 46
        }
      ]
    },
    {
      "cell_type": "code",
      "metadata": {
        "id": "qFzkTbQztLDB",
        "colab_type": "code",
        "colab": {}
      },
      "source": [
        ""
      ],
      "execution_count": null,
      "outputs": []
    }
  ]
}