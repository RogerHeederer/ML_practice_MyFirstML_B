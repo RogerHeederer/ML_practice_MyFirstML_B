{
  "nbformat": 4,
  "nbformat_minor": 0,
  "metadata": {
    "colab": {
      "name": "Basketball_knn_predict.ipynb",
      "provenance": [],
      "authorship_tag": "ABX9TyP0qEQB7sTuZb+QfwuWCGun",
      "include_colab_link": true
    },
    "kernelspec": {
      "name": "python3",
      "display_name": "Python 3"
    }
  },
  "cells": [
    {
      "cell_type": "markdown",
      "metadata": {
        "id": "view-in-github",
        "colab_type": "text"
      },
      "source": [
        "<a href=\"https://colab.research.google.com/github/RogerHeederer/ML_practice_MyFirstML_B/blob/master/Basketball_knn_predict.ipynb\" target=\"_parent\"><img src=\"https://colab.research.google.com/assets/colab-badge.svg\" alt=\"Open In Colab\"/></a>"
      ]
    },
    {
      "cell_type": "markdown",
      "metadata": {
        "id": "SWJZ9tJkH16b",
        "colab_type": "text"
      },
      "source": [
        "Source referernce : https://github.com/wikibook/machine-learning"
      ]
    },
    {
      "cell_type": "code",
      "metadata": {
        "id": "19lwvXAK9TkC",
        "colab_type": "code",
        "colab": {
          "base_uri": "https://localhost:8080/",
          "height": 73
        },
        "outputId": "60f59075-4542-4be4-f934-eb9d4f8617c4"
      },
      "source": [
        "import pandas as pd\n",
        "import pickle\n",
        "import matplotlib.pyplot as plt\n",
        "import seaborn as sns\n",
        "import numpy as np\n",
        "\n",
        "%matplotlib inline\n",
        "np.random.seed(5)"
      ],
      "execution_count": 2,
      "outputs": [
        {
          "output_type": "stream",
          "text": [
            "/usr/local/lib/python3.6/dist-packages/statsmodels/tools/_testing.py:19: FutureWarning: pandas.util.testing is deprecated. Use the functions in the public API at pandas.testing instead.\n",
            "  import pandas.util.testing as tm\n"
          ],
          "name": "stderr"
        }
      ]
    },
    {
      "cell_type": "code",
      "metadata": {
        "id": "2SCTCDE19tSA",
        "colab_type": "code",
        "colab": {}
      },
      "source": [
        "train = pd.read_csv(\"https://raw.githubusercontent.com/wikibook/machine-learning/2.0/data/csv/basketball_train.csv\")\n",
        "test = pd.read_csv(\"https://raw.githubusercontent.com/wikibook/machine-learning/2.0/data/csv/basketball_test.csv\")"
      ],
      "execution_count": 4,
      "outputs": []
    },
    {
      "cell_type": "code",
      "metadata": {
        "id": "Qe2XQ8WN-E5_",
        "colab_type": "code",
        "colab": {}
      },
      "source": [
        "from sklearn.neighbors import KNeighborsClassifier\n",
        "from sklearn.model_selection import cross_val_score"
      ],
      "execution_count": 5,
      "outputs": []
    },
    {
      "cell_type": "markdown",
      "metadata": {
        "id": "YsGiqVU0-p8C",
        "colab_type": "text"
      },
      "source": [
        "가장 적합한 K를 찾기 위해 cross validation 교차 검증 실행한다"
      ]
    },
    {
      "cell_type": "code",
      "metadata": {
        "id": "PGpLjMSZ-o5Y",
        "colab_type": "code",
        "colab": {
          "base_uri": "https://localhost:8080/",
          "height": 35
        },
        "outputId": "eee42d56-8796-4644-d835-a8677e77af74"
      },
      "source": [
        "train.shape"
      ],
      "execution_count": 9,
      "outputs": [
        {
          "output_type": "execute_result",
          "data": {
            "text/plain": [
              "(80, 5)"
            ]
          },
          "metadata": {
            "tags": []
          },
          "execution_count": 9
        }
      ]
    },
    {
      "cell_type": "code",
      "metadata": {
        "id": "9Wmd-YQa-48p",
        "colab_type": "code",
        "colab": {
          "base_uri": "https://localhost:8080/",
          "height": 35
        },
        "outputId": "579469c0-730c-4c86-d96c-6e582c9af205"
      },
      "source": [
        "max_k_range = train.shape[0] // 2\n",
        "max_k_range"
      ],
      "execution_count": 10,
      "outputs": [
        {
          "output_type": "execute_result",
          "data": {
            "text/plain": [
              "40"
            ]
          },
          "metadata": {
            "tags": []
          },
          "execution_count": 10
        }
      ]
    },
    {
      "cell_type": "code",
      "metadata": {
        "id": "IQKuErcH_HQo",
        "colab_type": "code",
        "colab": {}
      },
      "source": [
        "k_list = []\n",
        "for i in range(3, max_k_range, 2):\n",
        "  k_list.append(i) # knn에서 k값은 홀수로 지정해준다.\n",
        "\n",
        "cross_validation_scores = []\n",
        "x_train = train[['3P', 'BLK', 'TRB']]\n",
        "y_train = train[['Pos']] # 정답=레이블 값"
      ],
      "execution_count": 11,
      "outputs": []
    },
    {
      "cell_type": "code",
      "metadata": {
        "id": "enwvTefkAUMq",
        "colab_type": "code",
        "colab": {
          "base_uri": "https://localhost:8080/",
          "height": 35
        },
        "outputId": "fbd4721e-8169-4472-ce97-7bd8e4215a4b"
      },
      "source": [
        "k_list"
      ],
      "execution_count": 12,
      "outputs": [
        {
          "output_type": "execute_result",
          "data": {
            "text/plain": [
              "[3, 5, 7, 9, 11, 13, 15, 17, 19, 21, 23, 25, 27, 29, 31, 33, 35, 37, 39]"
            ]
          },
          "metadata": {
            "tags": []
          },
          "execution_count": 12
        }
      ]
    },
    {
      "cell_type": "code",
      "metadata": {
        "id": "uahXmqS3AWtY",
        "colab_type": "code",
        "colab": {
          "base_uri": "https://localhost:8080/",
          "height": 161
        },
        "outputId": "de2071c8-a43d-4fc2-d116-5de5e9eb9fe4"
      },
      "source": [
        "print(x_train.head(3), end='\\n')\n",
        "print(y_train.head(3))"
      ],
      "execution_count": 20,
      "outputs": [
        {
          "output_type": "stream",
          "text": [
            "    3P  BLK  TRB\n",
            "0  1.3  0.1  2.6\n",
            "1  2.4  0.3  2.8\n",
            "2  2.1  0.1  1.5\n",
            "  Pos\n",
            "0  SG\n",
            "1  SG\n",
            "2  SG\n"
          ],
          "name": "stdout"
        }
      ]
    },
    {
      "cell_type": "code",
      "metadata": {
        "id": "7o8cvzmRAZCY",
        "colab_type": "code",
        "colab": {
          "base_uri": "https://localhost:8080/",
          "height": 359
        },
        "outputId": "4b5e8158-2b36-4fac-902b-0912bc2061f2"
      },
      "source": [
        "# 10-fold cross validation\n",
        "for k in k_list: # k= 3,5,7, .... 쭉 다 테스트 해봄.\n",
        "  knn = KNeighborsClassifier(n_neighbors=k)\n",
        "  scores = cross_val_score(knn, x_train, y_train.values.ravel(),\n",
        "                           cv=10, scoring='accuracy') # cv = 10 검증값을 10으로\n",
        "  cross_validation_scores.append(scores.mean())\n",
        "\n",
        "cross_validation_scores"
      ],
      "execution_count": 21,
      "outputs": [
        {
          "output_type": "execute_result",
          "data": {
            "text/plain": [
              "[0.8875,\n",
              " 0.875,\n",
              " 0.875,\n",
              " 0.8625,\n",
              " 0.875,\n",
              " 0.8625,\n",
              " 0.8625,\n",
              " 0.8625,\n",
              " 0.8625,\n",
              " 0.875,\n",
              " 0.875,\n",
              " 0.875,\n",
              " 0.8625,\n",
              " 0.8625,\n",
              " 0.85,\n",
              " 0.85,\n",
              " 0.825,\n",
              " 0.8,\n",
              " 0.8]"
            ]
          },
          "metadata": {
            "tags": []
          },
          "execution_count": 21
        }
      ]
    },
    {
      "cell_type": "code",
      "metadata": {
        "id": "tHNVOgvwCWyf",
        "colab_type": "code",
        "colab": {
          "base_uri": "https://localhost:8080/",
          "height": 279
        },
        "outputId": "1ffe892c-9a2f-4874-f8ec-b105633ed653"
      },
      "source": [
        "plt.plot(k_list, cross_validation_scores)\n",
        "plt.xlabel('the number of k')\n",
        "plt.ylabel('Accuracy')\n",
        "plt.show()\n",
        "# k가 3일 때 가장 정답을 잘 맞춘 것으로 확인 됨\n",
        "# 즉 3P, BLK, TRB 컬럼으로 어떤 포지션인지 제일 잘 맞춤"
      ],
      "execution_count": 22,
      "outputs": [
        {
          "output_type": "display_data",
          "data": {
            "image/png": "[encoded data removed]",
            "text/plain": [
              "<Figure size 432x288 with 1 Axes>"
            ]
          },
          "metadata": {
            "tags": [],
            "needs_background": "light"
          }
        }
      ]
    },
    {
      "cell_type": "code",
      "metadata": {
        "id": "cE-D3fiTCiSf",
        "colab_type": "code",
        "colab": {
          "base_uri": "https://localhost:8080/",
          "height": 35
        },
        "outputId": "3444aa90-0ba7-48bc-d378-2aafdba077ec"
      },
      "source": [
        "cvs = cross_validation_scores\n",
        "k = k_list[cvs.index(max(cross_validation_scores))]\n",
        "print(\"The best number of k : \", str(k))"
      ],
      "execution_count": 29,
      "outputs": [
        {
          "output_type": "stream",
          "text": [
            "The best number of k :  3\n"
          ],
          "name": "stdout"
        }
      ]
    },
    {
      "cell_type": "markdown",
      "metadata": {
        "id": "WY70hr86DlUe",
        "colab_type": "text"
      },
      "source": [
        "**2개의 컬럼=특징 으로 예측하기(3점, 블로킹**"
      ]
    },
    {
      "cell_type": "code",
      "metadata": {
        "id": "c-6exj5JDGNX",
        "colab_type": "code",
        "colab": {}
      },
      "source": [
        "from sklearn.neighbors import KNeighborsClassifier\n",
        "from sklearn.metrics import accuracy_score\n",
        "\n",
        "knn = KNeighborsClassifier(n_neighbors=k)"
      ],
      "execution_count": 31,
      "outputs": []
    },
    {
      "cell_type": "code",
      "metadata": {
        "id": "4ShVR2n2EDwh",
        "colab_type": "code",
        "colab": {
          "base_uri": "https://localhost:8080/",
          "height": 71
        },
        "outputId": "03d8973c-46df-4db8-ab67-7692f4024c18"
      },
      "source": [
        "knn"
      ],
      "execution_count": 32,
      "outputs": [
        {
          "output_type": "execute_result",
          "data": {
            "text/plain": [
              "KNeighborsClassifier(algorithm='auto', leaf_size=30, metric='minkowski',\n",
              "                     metric_params=None, n_jobs=None, n_neighbors=3, p=2,\n",
              "                     weights='uniform')"
            ]
          },
          "metadata": {
            "tags": []
          },
          "execution_count": 32
        }
      ]
    },
    {
      "cell_type": "code",
      "metadata": {
        "id": "_QIZjoMMEKWX",
        "colab_type": "code",
        "colab": {}
      },
      "source": [
        "x_train = train[['3P', 'BLK']]\n",
        "y_train = train[['Pos']]\n",
        "\n",
        "knn.fit(x_train, y_train.values.ravel()) # x_train 데이터와 y_train 라벨(정답) 넣어서 훈련시킴\n",
        "\n",
        "x_test = test[['3P', 'BLK']]\n",
        "y_test = test[['Pos']]\n",
        "\n",
        "pred = knn.predict(x_test)"
      ],
      "execution_count": 33,
      "outputs": []
    },
    {
      "cell_type": "code",
      "metadata": {
        "id": "77W7q9uDE0jB",
        "colab_type": "code",
        "colab": {
          "base_uri": "https://localhost:8080/",
          "height": 669
        },
        "outputId": "5ea6f9a9-45a0-414b-a727-f8b4bbfc12ae"
      },
      "source": [
        "comparison = pd.DataFrame({'prediction':pred, 'ground_truth':y_test.values.ravel()})\n",
        "comparison"
      ],
      "execution_count": 35,
      "outputs": [
        {
          "output_type": "execute_result",
          "data": {
            "text/html": [
              "<div>\n",
              "<style scoped>\n",
              "    .dataframe tbody tr th:only-of-type {\n",
              "        vertical-align: middle;\n",
              "    }\n",
              "\n",
              "    .dataframe tbody tr th {\n",
              "        vertical-align: top;\n",
              "    }\n",
              "\n",
              "    .dataframe thead th {\n",
              "        text-align: right;\n",
              "    }\n",
              "</style>\n",
              "<table border=\"1\" class=\"dataframe\">\n",
              "  <thead>\n",
              "    <tr style=\"text-align: right;\">\n",
              "      <th></th>\n",
              "      <th>prediction</th>\n",
              "      <th>ground_truth</th>\n",
              "    </tr>\n",
              "  </thead>\n",
              "  <tbody>\n",
              "    <tr>\n",
              "      <th>0</th>\n",
              "      <td>C</td>\n",
              "      <td>C</td>\n",
              "    </tr>\n",
              "    <tr>\n",
              "      <th>1</th>\n",
              "      <td>SG</td>\n",
              "      <td>SG</td>\n",
              "    </tr>\n",
              "    <tr>\n",
              "      <th>2</th>\n",
              "      <td>C</td>\n",
              "      <td>C</td>\n",
              "    </tr>\n",
              "    <tr>\n",
              "      <th>3</th>\n",
              "      <td>SG</td>\n",
              "      <td>SG</td>\n",
              "    </tr>\n",
              "    <tr>\n",
              "      <th>4</th>\n",
              "      <td>C</td>\n",
              "      <td>C</td>\n",
              "    </tr>\n",
              "    <tr>\n",
              "      <th>5</th>\n",
              "      <td>C</td>\n",
              "      <td>C</td>\n",
              "    </tr>\n",
              "    <tr>\n",
              "      <th>6</th>\n",
              "      <td>C</td>\n",
              "      <td>C</td>\n",
              "    </tr>\n",
              "    <tr>\n",
              "      <th>7</th>\n",
              "      <td>SG</td>\n",
              "      <td>SG</td>\n",
              "    </tr>\n",
              "    <tr>\n",
              "      <th>8</th>\n",
              "      <td>SG</td>\n",
              "      <td>SG</td>\n",
              "    </tr>\n",
              "    <tr>\n",
              "      <th>9</th>\n",
              "      <td>C</td>\n",
              "      <td>C</td>\n",
              "    </tr>\n",
              "    <tr>\n",
              "      <th>10</th>\n",
              "      <td>SG</td>\n",
              "      <td>SG</td>\n",
              "    </tr>\n",
              "    <tr>\n",
              "      <th>11</th>\n",
              "      <td>C</td>\n",
              "      <td>C</td>\n",
              "    </tr>\n",
              "    <tr>\n",
              "      <th>12</th>\n",
              "      <td>SG</td>\n",
              "      <td>SG</td>\n",
              "    </tr>\n",
              "    <tr>\n",
              "      <th>13</th>\n",
              "      <td>C</td>\n",
              "      <td>C</td>\n",
              "    </tr>\n",
              "    <tr>\n",
              "      <th>14</th>\n",
              "      <td>C</td>\n",
              "      <td>C</td>\n",
              "    </tr>\n",
              "    <tr>\n",
              "      <th>15</th>\n",
              "      <td>SG</td>\n",
              "      <td>SG</td>\n",
              "    </tr>\n",
              "    <tr>\n",
              "      <th>16</th>\n",
              "      <td>SG</td>\n",
              "      <td>SG</td>\n",
              "    </tr>\n",
              "    <tr>\n",
              "      <th>17</th>\n",
              "      <td>C</td>\n",
              "      <td>C</td>\n",
              "    </tr>\n",
              "    <tr>\n",
              "      <th>18</th>\n",
              "      <td>SG</td>\n",
              "      <td>SG</td>\n",
              "    </tr>\n",
              "    <tr>\n",
              "      <th>19</th>\n",
              "      <td>C</td>\n",
              "      <td>C</td>\n",
              "    </tr>\n",
              "  </tbody>\n",
              "</table>\n",
              "</div>"
            ],
            "text/plain": [
              "   prediction ground_truth\n",
              "0           C            C\n",
              "1          SG           SG\n",
              "2           C            C\n",
              "3          SG           SG\n",
              "4           C            C\n",
              "5           C            C\n",
              "6           C            C\n",
              "7          SG           SG\n",
              "8          SG           SG\n",
              "9           C            C\n",
              "10         SG           SG\n",
              "11          C            C\n",
              "12         SG           SG\n",
              "13          C            C\n",
              "14          C            C\n",
              "15         SG           SG\n",
              "16         SG           SG\n",
              "17          C            C\n",
              "18         SG           SG\n",
              "19          C            C"
            ]
          },
          "metadata": {
            "tags": []
          },
          "execution_count": 35
        }
      ]
    },
    {
      "cell_type": "code",
      "metadata": {
        "id": "tu3HvVH4FBiH",
        "colab_type": "code",
        "colab": {
          "base_uri": "https://localhost:8080/",
          "height": 35
        },
        "outputId": "3ee8ac9a-7a2f-4b91-e566-444a337eba51"
      },
      "source": [
        "# 예측한 값과, 실제 정답 값이 전부 일치한 것을 볼 수 있다.\n",
        "print(\"accuracy :\" + str(accuracy_score(y_test.values.ravel(), pred)))"
      ],
      "execution_count": 36,
      "outputs": [
        {
          "output_type": "stream",
          "text": [
            "accuracy :1.0\n"
          ],
          "name": "stdout"
        }
      ]
    },
    {
      "cell_type": "markdown",
      "metadata": {
        "id": "hBxgJWQIFW33",
        "colab_type": "text"
      },
      "source": [
        "**3개의 컬럼(특징)으로 예측하기 - 3점슛, 블로킹, 리바운드**"
      ]
    },
    {
      "cell_type": "code",
      "metadata": {
        "id": "ojqpZcQLFTaI",
        "colab_type": "code",
        "colab": {}
      },
      "source": [
        "knn = KNeighborsClassifier(n_neighbors=k)\n",
        "\n",
        "x_train = train[['3P', 'BLK', 'TRB']]\n",
        "y_train = train[['Pos']]\n",
        "\n",
        "knn.fit(x_train, y_train.values.ravel())\n",
        "\n",
        "x_test = test[['3P', 'BLK', 'TRB']]\n",
        "y_test = test[['Pos']]\n",
        "\n",
        "pred = knn.predict(x_test)"
      ],
      "execution_count": 37,
      "outputs": []
    },
    {
      "cell_type": "code",
      "metadata": {
        "id": "NotJRrI9Fi3_",
        "colab_type": "code",
        "colab": {
          "base_uri": "https://localhost:8080/",
          "height": 669
        },
        "outputId": "d31347fa-8d8a-4446-f4cd-0438072f175f"
      },
      "source": [
        "comparison = pd.DataFrame({\n",
        "    'prediction':pred, 'ground_truth':y_test.values.ravel()})\n",
        "\n",
        "comparison"
      ],
      "execution_count": 38,
      "outputs": [
        {
          "output_type": "execute_result",
          "data": {
            "text/html": [
              "<div>\n",
              "<style scoped>\n",
              "    .dataframe tbody tr th:only-of-type {\n",
              "        vertical-align: middle;\n",
              "    }\n",
              "\n",
              "    .dataframe tbody tr th {\n",
              "        vertical-align: top;\n",
              "    }\n",
              "\n",
              "    .dataframe thead th {\n",
              "        text-align: right;\n",
              "    }\n",
              "</style>\n",
              "<table border=\"1\" class=\"dataframe\">\n",
              "  <thead>\n",
              "    <tr style=\"text-align: right;\">\n",
              "      <th></th>\n",
              "      <th>prediction</th>\n",
              "      <th>ground_truth</th>\n",
              "    </tr>\n",
              "  </thead>\n",
              "  <tbody>\n",
              "    <tr>\n",
              "      <th>0</th>\n",
              "      <td>C</td>\n",
              "      <td>C</td>\n",
              "    </tr>\n",
              "    <tr>\n",
              "      <th>1</th>\n",
              "      <td>SG</td>\n",
              "      <td>SG</td>\n",
              "    </tr>\n",
              "    <tr>\n",
              "      <th>2</th>\n",
              "      <td>C</td>\n",
              "      <td>C</td>\n",
              "    </tr>\n",
              "    <tr>\n",
              "      <th>3</th>\n",
              "      <td>SG</td>\n",
              "      <td>SG</td>\n",
              "    </tr>\n",
              "    <tr>\n",
              "      <th>4</th>\n",
              "      <td>C</td>\n",
              "      <td>C</td>\n",
              "    </tr>\n",
              "    <tr>\n",
              "      <th>5</th>\n",
              "      <td>C</td>\n",
              "      <td>C</td>\n",
              "    </tr>\n",
              "    <tr>\n",
              "      <th>6</th>\n",
              "      <td>C</td>\n",
              "      <td>C</td>\n",
              "    </tr>\n",
              "    <tr>\n",
              "      <th>7</th>\n",
              "      <td>SG</td>\n",
              "      <td>SG</td>\n",
              "    </tr>\n",
              "    <tr>\n",
              "      <th>8</th>\n",
              "      <td>SG</td>\n",
              "      <td>SG</td>\n",
              "    </tr>\n",
              "    <tr>\n",
              "      <th>9</th>\n",
              "      <td>C</td>\n",
              "      <td>C</td>\n",
              "    </tr>\n",
              "    <tr>\n",
              "      <th>10</th>\n",
              "      <td>SG</td>\n",
              "      <td>SG</td>\n",
              "    </tr>\n",
              "    <tr>\n",
              "      <th>11</th>\n",
              "      <td>SG</td>\n",
              "      <td>C</td>\n",
              "    </tr>\n",
              "    <tr>\n",
              "      <th>12</th>\n",
              "      <td>SG</td>\n",
              "      <td>SG</td>\n",
              "    </tr>\n",
              "    <tr>\n",
              "      <th>13</th>\n",
              "      <td>C</td>\n",
              "      <td>C</td>\n",
              "    </tr>\n",
              "    <tr>\n",
              "      <th>14</th>\n",
              "      <td>C</td>\n",
              "      <td>C</td>\n",
              "    </tr>\n",
              "    <tr>\n",
              "      <th>15</th>\n",
              "      <td>SG</td>\n",
              "      <td>SG</td>\n",
              "    </tr>\n",
              "    <tr>\n",
              "      <th>16</th>\n",
              "      <td>SG</td>\n",
              "      <td>SG</td>\n",
              "    </tr>\n",
              "    <tr>\n",
              "      <th>17</th>\n",
              "      <td>C</td>\n",
              "      <td>C</td>\n",
              "    </tr>\n",
              "    <tr>\n",
              "      <th>18</th>\n",
              "      <td>SG</td>\n",
              "      <td>SG</td>\n",
              "    </tr>\n",
              "    <tr>\n",
              "      <th>19</th>\n",
              "      <td>C</td>\n",
              "      <td>C</td>\n",
              "    </tr>\n",
              "  </tbody>\n",
              "</table>\n",
              "</div>"
            ],
            "text/plain": [
              "   prediction ground_truth\n",
              "0           C            C\n",
              "1          SG           SG\n",
              "2           C            C\n",
              "3          SG           SG\n",
              "4           C            C\n",
              "5           C            C\n",
              "6           C            C\n",
              "7          SG           SG\n",
              "8          SG           SG\n",
              "9           C            C\n",
              "10         SG           SG\n",
              "11         SG            C\n",
              "12         SG           SG\n",
              "13          C            C\n",
              "14          C            C\n",
              "15         SG           SG\n",
              "16         SG           SG\n",
              "17          C            C\n",
              "18         SG           SG\n",
              "19          C            C"
            ]
          },
          "metadata": {
            "tags": []
          },
          "execution_count": 38
        }
      ]
    },
    {
      "cell_type": "code",
      "metadata": {
        "id": "4YambNxxFxHo",
        "colab_type": "code",
        "colab": {
          "base_uri": "https://localhost:8080/",
          "height": 35
        },
        "outputId": "b61a8bbc-4a55-4be7-c2f8-92b05ce8bb88"
      },
      "source": [
        "# 특징을 3개 줬을때는, 앞선 특징 2개 조건보다 정답률이 떨어지는 걸 확인할 수 있다.\n",
        "# 즉, 센터 포지션과 슈팅가드 포지션에 영향을 끼치는 가장 중요한 2가지 특징은 3P, BLK이며 리바운드는 덜 영향을 끼치는 것으로 판단할 수 있다\n",
        "print(\"accuracy : \" + \n",
        "          str( accuracy_score(y_test.values.ravel(), pred)) )"
      ],
      "execution_count": 40,
      "outputs": [
        {
          "output_type": "stream",
          "text": [
            "accuracy : 0.95\n"
          ],
          "name": "stdout"
        }
      ]
    },
    {
      "cell_type": "code",
      "metadata": {
        "id": "kNqCzizzFz33",
        "colab_type": "code",
        "colab": {}
      },
      "source": [
        ""
      ],
      "execution_count": null,
      "outputs": []
    }
  ]
}