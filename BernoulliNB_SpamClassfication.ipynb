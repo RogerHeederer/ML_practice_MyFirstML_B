{
  "nbformat": 4,
  "nbformat_minor": 0,
  "metadata": {
    "colab": {
      "name": "BernoulliNB_SpamClassfication.ipynb",
      "provenance": [],
      "collapsed_sections": [],
      "authorship_tag": "ABX9TyOS02fXezsDL42gjsDUVHPF",
      "include_colab_link": true
    },
    "kernelspec": {
      "name": "python3",
      "display_name": "Python 3"
    }
  },
  "cells": [
    {
      "cell_type": "markdown",
      "metadata": {
        "id": "view-in-github",
        "colab_type": "text"
      },
      "source": [
        "<a href=\"https://colab.research.google.com/github/RogerHeederer/ML_practice_MyFirstML_B/blob/master/BernoulliNB_SpamClassfication.ipynb\" target=\"_parent\"><img src=\"https://colab.research.google.com/assets/colab-badge.svg\" alt=\"Open In Colab\"/></a>"
      ]
    },
    {
      "cell_type": "markdown",
      "metadata": {
        "id": "1sWP15tFZV4D",
        "colab_type": "text"
      },
      "source": [
        "source reference : https://github.com/wikibook/machine-learnin\n",
        "\n",
        "**위 레퍼런스를 참조하여 공부하였으며, 필요하다고 생각되는 부분에 추가적인 설명 ,코드 추가, 그림 삽입 등을 덧붙였습니다.**\n"
      ]
    },
    {
      "cell_type": "code",
      "metadata": {
        "id": "dQioklFpZH_8",
        "colab_type": "code",
        "colab": {}
      },
      "source": [
        "import numpy as np\n",
        "import pandas as pd\n",
        "from sklearn.feature_extraction.text import CountVectorizer\n",
        "from sklearn.naive_bayes import BernoulliNB\n",
        "from sklearn.metrics import accuracy_score\n",
        "np.random.seed(5)"
      ],
      "execution_count": 3,
      "outputs": []
    },
    {
      "cell_type": "code",
      "metadata": {
        "id": "NuhDr-WUepBK",
        "colab_type": "code",
        "colab": {}
      },
      "source": [
        "email_list = [\n",
        "                {'email title': 'free game only today', 'spam': True},\n",
        "                {'email title': 'cheapest flight deal', 'spam': True},\n",
        "                {'email title': 'limited time offer only today only today', 'spam': True},\n",
        "                {'email title': 'today meeting schedule', 'spam': False},\n",
        "                {'email title': 'your flight schedule attached', 'spam': False},\n",
        "                {'email title': 'your credit card statement', 'spam': False}\n",
        "             ]\n",
        "df = pd.DataFrame(email_list)"
      ],
      "execution_count": 4,
      "outputs": []
    },
    {
      "cell_type": "code",
      "metadata": {
        "id": "Qu6UpxvdfOPL",
        "colab_type": "code",
        "colab": {
          "base_uri": "https://localhost:8080/",
          "height": 235
        },
        "outputId": "69986df3-e9fb-48a8-d448-5925233ad3f7"
      },
      "source": [
        "df"
      ],
      "execution_count": 5,
      "outputs": [
        {
          "output_type": "execute_result",
          "data": {
            "text/html": [
              "<div>\n",
              "<style scoped>\n",
              "    .dataframe tbody tr th:only-of-type {\n",
              "        vertical-align: middle;\n",
              "    }\n",
              "\n",
              "    .dataframe tbody tr th {\n",
              "        vertical-align: top;\n",
              "    }\n",
              "\n",
              "    .dataframe thead th {\n",
              "        text-align: right;\n",
              "    }\n",
              "</style>\n",
              "<table border=\"1\" class=\"dataframe\">\n",
              "  <thead>\n",
              "    <tr style=\"text-align: right;\">\n",
              "      <th></th>\n",
              "      <th>email title</th>\n",
              "      <th>spam</th>\n",
              "    </tr>\n",
              "  </thead>\n",
              "  <tbody>\n",
              "    <tr>\n",
              "      <th>0</th>\n",
              "      <td>free game only today</td>\n",
              "      <td>True</td>\n",
              "    </tr>\n",
              "    <tr>\n",
              "      <th>1</th>\n",
              "      <td>cheapest flight deal</td>\n",
              "      <td>True</td>\n",
              "    </tr>\n",
              "    <tr>\n",
              "      <th>2</th>\n",
              "      <td>limited time offer only today only today</td>\n",
              "      <td>True</td>\n",
              "    </tr>\n",
              "    <tr>\n",
              "      <th>3</th>\n",
              "      <td>today meeting schedule</td>\n",
              "      <td>False</td>\n",
              "    </tr>\n",
              "    <tr>\n",
              "      <th>4</th>\n",
              "      <td>your flight schedule attached</td>\n",
              "      <td>False</td>\n",
              "    </tr>\n",
              "    <tr>\n",
              "      <th>5</th>\n",
              "      <td>your credit card statement</td>\n",
              "      <td>False</td>\n",
              "    </tr>\n",
              "  </tbody>\n",
              "</table>\n",
              "</div>"
            ],
            "text/plain": [
              "                                email title   spam\n",
              "0                      free game only today   True\n",
              "1                      cheapest flight deal   True\n",
              "2  limited time offer only today only today   True\n",
              "3                    today meeting schedule  False\n",
              "4             your flight schedule attached  False\n",
              "5                your credit card statement  False"
            ]
          },
          "metadata": {
            "tags": []
          },
          "execution_count": 5
        }
      ]
    },
    {
      "cell_type": "code",
      "metadata": {
        "id": "uILXodgGfPa-",
        "colab_type": "code",
        "colab": {}
      },
      "source": [
        "##데이터 트리밍##\n",
        "#베르누이 나이브베이즈는 숫자만을 다루기 때문에, True, False를 1과 0으로 치환"
      ],
      "execution_count": 6,
      "outputs": []
    },
    {
      "cell_type": "code",
      "metadata": {
        "id": "q9LmejWqffZJ",
        "colab_type": "code",
        "colab": {
          "base_uri": "https://localhost:8080/",
          "height": 235
        },
        "outputId": "971ae5f9-9b11-487a-b9e6-b61270a87529"
      },
      "source": [
        "df['label'] = df['spam'].map({True:1, False:0})\n",
        "df"
      ],
      "execution_count": 8,
      "outputs": [
        {
          "output_type": "execute_result",
          "data": {
            "text/html": [
              "<div>\n",
              "<style scoped>\n",
              "    .dataframe tbody tr th:only-of-type {\n",
              "        vertical-align: middle;\n",
              "    }\n",
              "\n",
              "    .dataframe tbody tr th {\n",
              "        vertical-align: top;\n",
              "    }\n",
              "\n",
              "    .dataframe thead th {\n",
              "        text-align: right;\n",
              "    }\n",
              "</style>\n",
              "<table border=\"1\" class=\"dataframe\">\n",
              "  <thead>\n",
              "    <tr style=\"text-align: right;\">\n",
              "      <th></th>\n",
              "      <th>email title</th>\n",
              "      <th>spam</th>\n",
              "      <th>label</th>\n",
              "    </tr>\n",
              "  </thead>\n",
              "  <tbody>\n",
              "    <tr>\n",
              "      <th>0</th>\n",
              "      <td>free game only today</td>\n",
              "      <td>True</td>\n",
              "      <td>1</td>\n",
              "    </tr>\n",
              "    <tr>\n",
              "      <th>1</th>\n",
              "      <td>cheapest flight deal</td>\n",
              "      <td>True</td>\n",
              "      <td>1</td>\n",
              "    </tr>\n",
              "    <tr>\n",
              "      <th>2</th>\n",
              "      <td>limited time offer only today only today</td>\n",
              "      <td>True</td>\n",
              "      <td>1</td>\n",
              "    </tr>\n",
              "    <tr>\n",
              "      <th>3</th>\n",
              "      <td>today meeting schedule</td>\n",
              "      <td>False</td>\n",
              "      <td>0</td>\n",
              "    </tr>\n",
              "    <tr>\n",
              "      <th>4</th>\n",
              "      <td>your flight schedule attached</td>\n",
              "      <td>False</td>\n",
              "      <td>0</td>\n",
              "    </tr>\n",
              "    <tr>\n",
              "      <th>5</th>\n",
              "      <td>your credit card statement</td>\n",
              "      <td>False</td>\n",
              "      <td>0</td>\n",
              "    </tr>\n",
              "  </tbody>\n",
              "</table>\n",
              "</div>"
            ],
            "text/plain": [
              "                                email title   spam  label\n",
              "0                      free game only today   True      1\n",
              "1                      cheapest flight deal   True      1\n",
              "2  limited time offer only today only today   True      1\n",
              "3                    today meeting schedule  False      0\n",
              "4             your flight schedule attached  False      0\n",
              "5                your credit card statement  False      0"
            ]
          },
          "metadata": {
            "tags": []
          },
          "execution_count": 8
        }
      ]
    },
    {
      "cell_type": "code",
      "metadata": {
        "id": "UquIynxSfljd",
        "colab_type": "code",
        "colab": {}
      },
      "source": [
        "#학습 데이터와 학습 데이터의 정답 분류\n",
        "df_x=df[\"email title\"]\n",
        "df_y=df[\"label\"]"
      ],
      "execution_count": 9,
      "outputs": []
    },
    {
      "cell_type": "code",
      "metadata": {
        "id": "FLepP78YgUVX",
        "colab_type": "code",
        "colab": {}
      },
      "source": [
        "cv = CountVectorizer(binary=True)\n",
        "x_traincv = cv.fit_transform(df_x)"
      ],
      "execution_count": 48,
      "outputs": []
    },
    {
      "cell_type": "markdown",
      "metadata": {
        "id": "XCTH_sNcjFhm",
        "colab_type": "text"
      },
      "source": [
        "**CountVectorizer 함수를 통해서 email_title에 있는 단어의 갯수를 전부 수집.**<br/>\n",
        "**free, game, only, today ......statement 총 17개 단어**<br/>\n",
        "**그리고 그 크기를 기준을 삼아 벡터로 인코딩(표현)하는 함수이다**<br/>\n",
        "**중복되서 나오는 단어는 0으로 표시한다**<br/>\n",
        "**limited time offer only today only today: [0, 0, 0, 0, 0, 0, 0, 0, 1, 0, 1, 1, 0, 0, 1, 1, 0]**"
      ]
    },
    {
      "cell_type": "code",
      "metadata": {
        "id": "OcELjeCig1ae",
        "colab_type": "code",
        "colab": {
          "base_uri": "https://localhost:8080/",
          "height": 125
        },
        "outputId": "d7a976d8-7089-49ea-a894-9adb2f562908"
      },
      "source": [
        "cv"
      ],
      "execution_count": 49,
      "outputs": [
        {
          "output_type": "execute_result",
          "data": {
            "text/plain": [
              "CountVectorizer(analyzer='word', binary=True, decode_error='strict',\n",
              "                dtype=<class 'numpy.int64'>, encoding='utf-8', input='content',\n",
              "                lowercase=True, max_df=1.0, max_features=None, min_df=1,\n",
              "                ngram_range=(1, 1), preprocessor=None, stop_words=None,\n",
              "                strip_accents=None, token_pattern='(?u)\\\\b\\\\w\\\\w+\\\\b',\n",
              "                tokenizer=None, vocabulary=None)"
            ]
          },
          "metadata": {
            "tags": []
          },
          "execution_count": 49
        }
      ]
    },
    {
      "cell_type": "code",
      "metadata": {
        "id": "bg3cdbApg102",
        "colab_type": "code",
        "colab": {
          "base_uri": "https://localhost:8080/",
          "height": 125
        },
        "outputId": "e92f378d-6b1d-47da-84a3-cbdacf292c50"
      },
      "source": [
        "x_traincv.toarray()"
      ],
      "execution_count": 52,
      "outputs": [
        {
          "output_type": "execute_result",
          "data": {
            "text/plain": [
              "array([[0, 0, 0, 0, 0, 0, 1, 1, 0, 0, 0, 1, 0, 0, 0, 1, 0],\n",
              "       [0, 0, 1, 0, 1, 1, 0, 0, 0, 0, 0, 0, 0, 0, 0, 0, 0],\n",
              "       [0, 0, 0, 0, 0, 0, 0, 0, 1, 0, 1, 1, 0, 0, 1, 1, 0],\n",
              "       [0, 0, 0, 0, 0, 0, 0, 0, 0, 1, 0, 0, 1, 0, 0, 1, 0],\n",
              "       [1, 0, 0, 0, 0, 1, 0, 0, 0, 0, 0, 0, 1, 0, 0, 0, 1],\n",
              "       [0, 1, 0, 1, 0, 0, 0, 0, 0, 0, 0, 0, 0, 1, 0, 0, 1]])"
            ]
          },
          "metadata": {
            "tags": []
          },
          "execution_count": 52
        }
      ]
    },
    {
      "cell_type": "code",
      "metadata": {
        "id": "uhTJhhtpkpVc",
        "colab_type": "code",
        "colab": {}
      },
      "source": [
        "encoded_input = x_traincv.toarray()"
      ],
      "execution_count": 53,
      "outputs": []
    },
    {
      "cell_type": "code",
      "metadata": {
        "id": "ApHTjZJBkzv2",
        "colab_type": "code",
        "colab": {}
      },
      "source": [
        "#벡터로 인코딩된 이메일 제목 디코딩하기"
      ],
      "execution_count": 54,
      "outputs": []
    },
    {
      "cell_type": "code",
      "metadata": {
        "id": "bCGISkd0k30B",
        "colab_type": "code",
        "colab": {
          "base_uri": "https://localhost:8080/",
          "height": 35
        },
        "outputId": "e531903c-f74c-440c-8af4-fe3b566579e6"
      },
      "source": [
        "cv.inverse_transform(encoded_input[0])"
      ],
      "execution_count": 55,
      "outputs": [
        {
          "output_type": "execute_result",
          "data": {
            "text/plain": [
              "[array(['free', 'game', 'only', 'today'], dtype='<U9')]"
            ]
          },
          "metadata": {
            "tags": []
          },
          "execution_count": 55
        }
      ]
    },
    {
      "cell_type": "code",
      "metadata": {
        "id": "-EnZLw2Bk7aN",
        "colab_type": "code",
        "colab": {
          "base_uri": "https://localhost:8080/",
          "height": 35
        },
        "outputId": "224a110c-3b79-4a80-bac4-5904aacb7250"
      },
      "source": [
        "cv.inverse_transform(encoded_input[1])"
      ],
      "execution_count": 56,
      "outputs": [
        {
          "output_type": "execute_result",
          "data": {
            "text/plain": [
              "[array(['cheapest', 'deal', 'flight'], dtype='<U9')]"
            ]
          },
          "metadata": {
            "tags": []
          },
          "execution_count": 56
        }
      ]
    },
    {
      "cell_type": "code",
      "metadata": {
        "id": "SFyZbKZ-k9IH",
        "colab_type": "code",
        "colab": {
          "base_uri": "https://localhost:8080/",
          "height": 323
        },
        "outputId": "cec7992b-9e88-4e43-d59f-9fa5ca90d4b3"
      },
      "source": [
        "#각 단어의 인덱스가 어떤 단어를 가르키는지 알아보기\n",
        "cv.get_feature_names()"
      ],
      "execution_count": 61,
      "outputs": [
        {
          "output_type": "execute_result",
          "data": {
            "text/plain": [
              "['attached',\n",
              " 'card',\n",
              " 'cheapest',\n",
              " 'credit',\n",
              " 'deal',\n",
              " 'flight',\n",
              " 'free',\n",
              " 'game',\n",
              " 'limited',\n",
              " 'meeting',\n",
              " 'offer',\n",
              " 'only',\n",
              " 'schedule',\n",
              " 'statement',\n",
              " 'time',\n",
              " 'today',\n",
              " 'your']"
            ]
          },
          "metadata": {
            "tags": []
          },
          "execution_count": 61
        }
      ]
    },
    {
      "cell_type": "markdown",
      "metadata": {
        "id": "R8graPM7lP3I",
        "colab_type": "text"
      },
      "source": [
        "##베르누이 나이브베이즈 분류##"
      ]
    },
    {
      "cell_type": "code",
      "metadata": {
        "id": "717TQhlolHys",
        "colab_type": "code",
        "colab": {
          "base_uri": "https://localhost:8080/",
          "height": 35
        },
        "outputId": "7eee854f-c1da-4db3-ea7a-59afae35b49e"
      },
      "source": [
        "bnb = BernoulliNB()\n",
        "y_train=df_y.astype('int')\n",
        "bnb.fit(x_traincv,y_train)"
      ],
      "execution_count": 87,
      "outputs": [
        {
          "output_type": "execute_result",
          "data": {
            "text/plain": [
              "BernoulliNB(alpha=1.0, binarize=0.0, class_prior=None, fit_prior=True)"
            ]
          },
          "metadata": {
            "tags": []
          },
          "execution_count": 87
        }
      ]
    },
    {
      "cell_type": "code",
      "metadata": {
        "id": "DinX8jxjli5M",
        "colab_type": "code",
        "colab": {}
      },
      "source": [
        "# 테스트 데이터 트리밍\n",
        "test_email_list = [\n",
        "                {'email title': 'free flight offer', 'spam': True},\n",
        "                {'email title': 'hey traveler free flight deal', 'spam': True},\n",
        "                {'email title': 'limited free game offer', 'spam': True},\n",
        "                {'email title': 'today flight schedule', 'spam': False},\n",
        "                {'email title': 'your credit card attached', 'spam': False},\n",
        "                {'email title': 'free credit card offer only today', 'spam': False}\n",
        "             ]"
      ],
      "execution_count": 153,
      "outputs": []
    },
    {
      "cell_type": "code",
      "metadata": {
        "id": "fPB1IgAcl_mN",
        "colab_type": "code",
        "colab": {}
      },
      "source": [
        "test_df = pd.DataFrame(test_email_list)"
      ],
      "execution_count": 144,
      "outputs": []
    },
    {
      "cell_type": "code",
      "metadata": {
        "id": "y1GFBCx9mDq9",
        "colab_type": "code",
        "colab": {
          "base_uri": "https://localhost:8080/",
          "height": 235
        },
        "outputId": "61960c20-3cc3-49bb-d1bc-a443d2aad006"
      },
      "source": [
        "test_df"
      ],
      "execution_count": 145,
      "outputs": [
        {
          "output_type": "execute_result",
          "data": {
            "text/html": [
              "<div>\n",
              "<style scoped>\n",
              "    .dataframe tbody tr th:only-of-type {\n",
              "        vertical-align: middle;\n",
              "    }\n",
              "\n",
              "    .dataframe tbody tr th {\n",
              "        vertical-align: top;\n",
              "    }\n",
              "\n",
              "    .dataframe thead th {\n",
              "        text-align: right;\n",
              "    }\n",
              "</style>\n",
              "<table border=\"1\" class=\"dataframe\">\n",
              "  <thead>\n",
              "    <tr style=\"text-align: right;\">\n",
              "      <th></th>\n",
              "      <th>email title</th>\n",
              "      <th>spam</th>\n",
              "    </tr>\n",
              "  </thead>\n",
              "  <tbody>\n",
              "    <tr>\n",
              "      <th>0</th>\n",
              "      <td>free flight offer</td>\n",
              "      <td>True</td>\n",
              "    </tr>\n",
              "    <tr>\n",
              "      <th>1</th>\n",
              "      <td>hey traveler free flight deal</td>\n",
              "      <td>True</td>\n",
              "    </tr>\n",
              "    <tr>\n",
              "      <th>2</th>\n",
              "      <td>limited free game offer</td>\n",
              "      <td>True</td>\n",
              "    </tr>\n",
              "    <tr>\n",
              "      <th>3</th>\n",
              "      <td>today flight schedule</td>\n",
              "      <td>False</td>\n",
              "    </tr>\n",
              "    <tr>\n",
              "      <th>4</th>\n",
              "      <td>your credit card attached</td>\n",
              "      <td>False</td>\n",
              "    </tr>\n",
              "    <tr>\n",
              "      <th>5</th>\n",
              "      <td>free credit card offer only today</td>\n",
              "      <td>False</td>\n",
              "    </tr>\n",
              "  </tbody>\n",
              "</table>\n",
              "</div>"
            ],
            "text/plain": [
              "                         email title   spam\n",
              "0                  free flight offer   True\n",
              "1      hey traveler free flight deal   True\n",
              "2            limited free game offer   True\n",
              "3              today flight schedule  False\n",
              "4          your credit card attached  False\n",
              "5  free credit card offer only today  False"
            ]
          },
          "metadata": {
            "tags": []
          },
          "execution_count": 145
        }
      ]
    },
    {
      "cell_type": "code",
      "metadata": {
        "id": "TL6IXrl-mEit",
        "colab_type": "code",
        "colab": {}
      },
      "source": [
        "test_df['label'] = test_df['spam'].map({True:1, False:0})"
      ],
      "execution_count": 146,
      "outputs": []
    },
    {
      "cell_type": "code",
      "metadata": {
        "id": "oc10TZ2LmMPd",
        "colab_type": "code",
        "colab": {
          "base_uri": "https://localhost:8080/",
          "height": 235
        },
        "outputId": "64e4578c-487f-4f19-a0bd-1b91fa0ac084"
      },
      "source": [
        "test_df"
      ],
      "execution_count": 147,
      "outputs": [
        {
          "output_type": "execute_result",
          "data": {
            "text/html": [
              "<div>\n",
              "<style scoped>\n",
              "    .dataframe tbody tr th:only-of-type {\n",
              "        vertical-align: middle;\n",
              "    }\n",
              "\n",
              "    .dataframe tbody tr th {\n",
              "        vertical-align: top;\n",
              "    }\n",
              "\n",
              "    .dataframe thead th {\n",
              "        text-align: right;\n",
              "    }\n",
              "</style>\n",
              "<table border=\"1\" class=\"dataframe\">\n",
              "  <thead>\n",
              "    <tr style=\"text-align: right;\">\n",
              "      <th></th>\n",
              "      <th>email title</th>\n",
              "      <th>spam</th>\n",
              "      <th>label</th>\n",
              "    </tr>\n",
              "  </thead>\n",
              "  <tbody>\n",
              "    <tr>\n",
              "      <th>0</th>\n",
              "      <td>free flight offer</td>\n",
              "      <td>True</td>\n",
              "      <td>1</td>\n",
              "    </tr>\n",
              "    <tr>\n",
              "      <th>1</th>\n",
              "      <td>hey traveler free flight deal</td>\n",
              "      <td>True</td>\n",
              "      <td>1</td>\n",
              "    </tr>\n",
              "    <tr>\n",
              "      <th>2</th>\n",
              "      <td>limited free game offer</td>\n",
              "      <td>True</td>\n",
              "      <td>1</td>\n",
              "    </tr>\n",
              "    <tr>\n",
              "      <th>3</th>\n",
              "      <td>today flight schedule</td>\n",
              "      <td>False</td>\n",
              "      <td>0</td>\n",
              "    </tr>\n",
              "    <tr>\n",
              "      <th>4</th>\n",
              "      <td>your credit card attached</td>\n",
              "      <td>False</td>\n",
              "      <td>0</td>\n",
              "    </tr>\n",
              "    <tr>\n",
              "      <th>5</th>\n",
              "      <td>free credit card offer only today</td>\n",
              "      <td>False</td>\n",
              "      <td>0</td>\n",
              "    </tr>\n",
              "  </tbody>\n",
              "</table>\n",
              "</div>"
            ],
            "text/plain": [
              "                         email title   spam  label\n",
              "0                  free flight offer   True      1\n",
              "1      hey traveler free flight deal   True      1\n",
              "2            limited free game offer   True      1\n",
              "3              today flight schedule  False      0\n",
              "4          your credit card attached  False      0\n",
              "5  free credit card offer only today  False      0"
            ]
          },
          "metadata": {
            "tags": []
          },
          "execution_count": 147
        }
      ]
    },
    {
      "cell_type": "code",
      "metadata": {
        "id": "ec2PgNC3mVyk",
        "colab_type": "code",
        "colab": {}
      },
      "source": [
        "test_x = test_df[\"email title\"]\n",
        "test_y = test_df[\"label\"]\n",
        "x_testcv = cv.transform(test_x)\n",
        "x_testcv2 = cv.fit_transform(test_x)\n",
        "## 문제 상황. 책에서 제시하는 test_email의 단어 갯수는 총 15개\n",
        "## 모델에게 트레인 시킨 email의 단어 갯수는 총 17개\n",
        "## prediction할 때, 훈련한 모델의 파라미터 갯수와, 테스트의 파라미터 갯수가 맞지 않는다고 나온다\n",
        "## 그리고 한 가지 더 의문, fit_transform과 transform의 차이가 뭔지 알아보기 위해 데이터를 수정해봤는데,\n",
        "## 4번 인덱스와 5번 인덱스에  텍스트 lala, haha, hoho를 추가했다. 그 후 실행을 해보면\n",
        "## transform은 증가된 단어의 갯수를 반영하지 못하고, fit_transform은 바로 반영한다.\n",
        "## 그런데?? 이상하게, test_email_list 정의 실행문을 다시 한번(즉 2번 shift+enter) 실행해주면, transform도 늘어난 데이터수를 반영한다.\n"
      ],
      "execution_count": 148,
      "outputs": []
    },
    {
      "cell_type": "markdown",
      "metadata": {
        "id": "3GuHelYhsqNZ",
        "colab_type": "text"
      },
      "source": [
        "**책에서 제공하는 예문은 잘 실행된다. 테스트 단어 갯수가 15개임에도 불구하고, x_testcv를 찍어보면 6 x 17 matrix로 나온다.. 내가 테스트 하는 과정에서 fit_transform을 먼저 썻는데 이게 문제가 된거 같다.\n",
        "\n",
        "**fit_transform을 테스트 데이터셋에 먼저 적용함으로써, 뭔가 데이터에 fit 하는 과정이 다시 발생하여, 기존 트레인 데이터에 적용되었던 6x17 형태가 -> 6x15 형태로 변한 것 같다. fit_transform의 자세한 기능은 좀 찾아봐야겠다\n",
        "\n",
        "##결론은 책에서 제시하는 예문처럼 \n",
        "## x_traincv= cv.fit_transform 그 후에  x_testcv=cv.transform을 썻으면 \n",
        "## 훈련 데이터셋에 맞춰 fit한 6 x 17 형태가 그대로 살아있기 때문에,\n",
        "## test 셋의 단어 갯수가 15개라도 feature 형태는 변함없기 때문에 모델 적용이 된다."
      ]
    },
    {
      "cell_type": "code",
      "metadata": {
        "id": "ysgBR7ZOmuV8",
        "colab_type": "code",
        "colab": {
          "base_uri": "https://localhost:8080/",
          "height": 53
        },
        "outputId": "072e5789-a45b-467a-bed0-6ed50f2d042e"
      },
      "source": [
        "x_testcv"
      ],
      "execution_count": 154,
      "outputs": [
        {
          "output_type": "execute_result",
          "data": {
            "text/plain": [
              "<6x18 sparse matrix of type '<class 'numpy.int64'>'\n",
              "\twith 25 stored elements in Compressed Sparse Row format>"
            ]
          },
          "metadata": {
            "tags": []
          },
          "execution_count": 154
        }
      ]
    },
    {
      "cell_type": "code",
      "metadata": {
        "id": "ufaViQ-mnndU",
        "colab_type": "code",
        "colab": {
          "base_uri": "https://localhost:8080/",
          "height": 53
        },
        "outputId": "3156c406-6fd7-48dc-b744-a79ba6048d99"
      },
      "source": [
        "x_testcv2"
      ],
      "execution_count": 150,
      "outputs": [
        {
          "output_type": "execute_result",
          "data": {
            "text/plain": [
              "<6x15 sparse matrix of type '<class 'numpy.int64'>'\n",
              "\twith 25 stored elements in Compressed Sparse Row format>"
            ]
          },
          "metadata": {
            "tags": []
          },
          "execution_count": 150
        }
      ]
    },
    {
      "cell_type": "code",
      "metadata": {
        "id": "eIecDNMsmvH1",
        "colab_type": "code",
        "colab": {
          "base_uri": "https://localhost:8080/",
          "height": 125
        },
        "outputId": "17984525-a522-4c88-b6a7-e7abbb5995f2"
      },
      "source": [
        "x_testcv.toarray()"
      ],
      "execution_count": 107,
      "outputs": [
        {
          "output_type": "execute_result",
          "data": {
            "text/plain": [
              "array([[0, 0, 0, 0, 1, 1, 0, 0, 0, 1, 0, 0, 0, 0, 0],\n",
              "       [0, 0, 0, 1, 1, 1, 0, 1, 0, 0, 0, 0, 0, 1, 0],\n",
              "       [0, 0, 0, 0, 0, 1, 1, 0, 1, 1, 0, 0, 0, 0, 0],\n",
              "       [0, 0, 0, 0, 1, 0, 0, 0, 0, 0, 0, 1, 1, 0, 0],\n",
              "       [1, 1, 1, 0, 0, 0, 0, 0, 0, 0, 0, 0, 0, 0, 1],\n",
              "       [0, 1, 1, 0, 0, 1, 0, 0, 0, 1, 1, 0, 1, 0, 0]])"
            ]
          },
          "metadata": {
            "tags": []
          },
          "execution_count": 107
        }
      ]
    },
    {
      "cell_type": "code",
      "metadata": {
        "id": "5LaZK6O0mww1",
        "colab_type": "code",
        "colab": {
          "base_uri": "https://localhost:8080/",
          "height": 125
        },
        "outputId": "9defbc46-4815-4e7f-d954-5bea5eabe31b"
      },
      "source": [
        "x_testcv2.toarray()"
      ],
      "execution_count": 108,
      "outputs": [
        {
          "output_type": "execute_result",
          "data": {
            "text/plain": [
              "array([[0, 0, 0, 0, 1, 1, 0, 0, 0, 0, 0, 1, 0, 0, 0, 0, 0],\n",
              "       [0, 0, 0, 1, 1, 1, 0, 0, 1, 0, 0, 0, 0, 0, 0, 1, 0],\n",
              "       [0, 0, 0, 0, 0, 1, 1, 0, 0, 0, 1, 1, 0, 0, 0, 0, 0],\n",
              "       [0, 0, 0, 0, 1, 0, 0, 0, 0, 0, 0, 0, 0, 1, 1, 0, 0],\n",
              "       [1, 1, 1, 0, 0, 0, 0, 0, 0, 0, 0, 0, 0, 0, 0, 0, 1],\n",
              "       [0, 1, 1, 0, 0, 1, 0, 1, 0, 1, 0, 1, 1, 0, 1, 0, 0]])"
            ]
          },
          "metadata": {
            "tags": []
          },
          "execution_count": 108
        }
      ]
    },
    {
      "cell_type": "code",
      "metadata": {
        "id": "1GSM3qUPnfJb",
        "colab_type": "code",
        "colab": {}
      },
      "source": [
        "predictions=bnb.predict(x_testcv2)"
      ],
      "execution_count": 110,
      "outputs": []
    },
    {
      "cell_type": "code",
      "metadata": {
        "id": "HQGWo2ZNoU7Y",
        "colab_type": "code",
        "colab": {
          "base_uri": "https://localhost:8080/",
          "height": 35
        },
        "outputId": "31607ad8-2c30-4115-e114-0dcdcf814cbe"
      },
      "source": [
        "accuracy_score(test_y, predictions)"
      ],
      "execution_count": 112,
      "outputs": [
        {
          "output_type": "execute_result",
          "data": {
            "text/plain": [
              "0.6666666666666666"
            ]
          },
          "metadata": {
            "tags": []
          },
          "execution_count": 112
        }
      ]
    },
    {
      "cell_type": "code",
      "metadata": {
        "id": "ZcrlLmEopNh_",
        "colab_type": "code",
        "colab": {}
      },
      "source": [
        ""
      ],
      "execution_count": null,
      "outputs": []
    }
  ]
}