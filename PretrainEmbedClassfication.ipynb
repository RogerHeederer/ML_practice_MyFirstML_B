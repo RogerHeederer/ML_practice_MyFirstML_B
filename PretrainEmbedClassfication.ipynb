{
  "nbformat": 4,
  "nbformat_minor": 0,
  "metadata": {
    "colab": {
      "name": "PretrainEmbedClassfication.ipynb",
      "provenance": [],
      "collapsed_sections": [],
      "authorship_tag": "ABX9TyMd7wIXJfK/mRUvB6Hghm6a",
      "include_colab_link": true
    },
    "kernelspec": {
      "name": "python3",
      "display_name": "Python 3"
    }
  },
  "cells": [
    {
      "cell_type": "markdown",
      "metadata": {
        "id": "view-in-github",
        "colab_type": "text"
      },
      "source": [
        "<a href=\"https://colab.research.google.com/github/RogerHeederer/ML_practice_MyFirstML_B/blob/master/PretrainEmbedClassfication.ipynb\" target=\"_parent\"><img src=\"https://colab.research.google.com/assets/colab-badge.svg\" alt=\"Open In Colab\"/></a>"
      ]
    },
    {
      "cell_type": "code",
      "metadata": {
        "id": "YDCiF2cRutPC",
        "colab_type": "code",
        "colab": {}
      },
      "source": [
        "from __future__ import absolute_import, division, print_function, unicode_literals\n",
        "\n",
        "try:\n",
        "  %tensorflow_version 2.x\n",
        "except Exception:\n",
        "  pass"
      ],
      "execution_count": 1,
      "outputs": []
    },
    {
      "cell_type": "code",
      "metadata": {
        "id": "-lQVtc60vCpT",
        "colab_type": "code",
        "colab": {}
      },
      "source": [
        "import os\n",
        "import sys\n",
        "\n",
        "import numpy as np\n",
        "import pandas as pd\n",
        "from numpy import array\n",
        "from numpy import asarray\n",
        "from numpy import zeros\n",
        "\n",
        "from tensorflow.keras.preprocessing.text import Tokenizer\n",
        "from tensorflow.keras.preprocessing.sequence import pad_sequences\n",
        "from tensorflow.keras import models, regularizers, layers, optimizers, losses, metrics\n",
        "from tensorflow.keras.models import Sequential\n",
        "from tensorflow.keras.layers import Dense, Embedding, LSTM, Flatten\n",
        "from tensorflow.keras.utils import to_categorical\n",
        "from tensorflow.keras.datasets import imdb\n",
        "from tensorflow.keras.preprocessing import sequence\n",
        "\n",
        "import tensorflow as tf\n",
        "tf.random.set_seed(1)\n",
        "np.random.seed(1)"
      ],
      "execution_count": 2,
      "outputs": []
    },
    {
      "cell_type": "code",
      "metadata": {
        "id": "2RnighIPvdU3",
        "colab_type": "code",
        "colab": {}
      },
      "source": [
        "paragraph_dict_list = [\n",
        "         {'paragraph': 'dishplace is located in sunnyvale downtown there is parking around the area but it can be difficult to find during peak business hours my sisters and i came to this place for dinner on a weekday they were really busy so i highly recommended making reservations unless you have the patience to wait', 'category': 'food'},\n",
        "         {'paragraph': 'service can be slower during busy hours but our waiter was courteous and help gave some great entree recommendations', 'category': 'food'},\n",
        "         {'paragraph': 'portions are huge both french toast and their various omelettes are really good their french toast is probably 1.5x more than other brunch places great place to visit if you are hungry and dont want to wait 1 hour for a table', 'category': 'food'},\n",
        "         {'paragraph': 'we started with apps going the chicken and waffle slides and chicken nachos the sliders were amazing and the nachos were good too maybe by themselves the nachos would have scored better but after those sliders they were up against some tough competition', 'category': 'food'},\n",
        "         {'paragraph': 'the biscuits and gravy was too salty two people in my group had the gravy and all thought it was too salty my hubby ordered a side of double egg and it was served on two small plates who serves eggs to one person on separate plates we commented on that when it was delivered and even the server laughed and said she doesnt know why the kitchen does that presentation of food is important and they really missed on this one', 'category': 'food'},\n",
        "         {'paragraph': 'the garlic fries were a great starter (and a happy hour special) the pancakes looked and tasted great and were a fairly generous portion', 'category': 'food'},\n",
        "         {'paragraph': 'our meal was excellent i had the pasta ai formaggi which was so rich i didnt dare eat it all although i certainly wanted to excellent flavors with a great texture contrast between the soft pasta and the crisp bread crumbs too much sauce for me but a wonderful dish', 'category': 'food'},\n",
        "         {'paragraph': 'what i enjoy most about palo alto is so many restaurants have dog-friendly seating outside i had bookmarked italico from when they first opened about a 1.5 years ago and was jonesing for some pasta so time to finally knock that bookmark off', 'category': 'food'},\n",
        "         {'paragraph': 'the drinks came out fairly quickly a good two to three minutes after the orders were taken i expected my iced tea to taste a bit more sweet but this was straight up green tea with ice in it not to complain of course but i was pleasantly surprised', 'category': 'food'},\n",
        "         {'paragraph': 'despite the not so good burger the service was so slow the restaurant wasnt even half full and they took very long from the moment we got seated to the time we left it was almost 2 hours we thought that it would be quick since we ordered as soon as we sat down my coworkers did seem to enjoy their beef burgers for those who eat beef however i will not be returning it is too expensive and extremely slow service', 'category': 'food'},\n",
        "    \n",
        "         {'paragraph': 'the four reigning major champions simona halep caroline wozniacki angelique kerber and defending us open champion sloane stephens could make a case for being the quartet most likely to succeed especially as all but stephens has also enjoyed the no1 ranking within the last 14 months as they prepare for their gruelling new york campaigns they currently hold the top four places in the ranks', 'category': 'sports'},\n",
        "         {'paragraph': 'the briton was seeded nn7 here last year before a slump in form and confidence took her down to no46 after five first-round losses but there have been signs of a turnaround including a victory over a sub-par serena williams in san jose plus wins against jelena ostapenko and victoria azarenka in montreal. konta pulled out of new haven this week with illness but will hope for good things where she first scored wins in a major before her big breakthroughs to the semis in australia and wimbledon', 'category': 'sports'},\n",
        "         {'paragraph': 'stephens surged her way back from injury in stunning style to win her first major here last year—and ranked just no83 she has since proved what a big time player she is winning the miami title via four fellow major champions then reaching the final at the french open back on north american hard courts she ran to the final in montreal only just edged out by halep she has also avoided many of the big names in her quarter—except for wild card azarenka as a possible in the third round', 'category': 'sports'},\n",
        "         {'paragraph': 'when it came to england chances in the world cup it would be fair to say that most fans had never been more pessimistic than they were this year after enduring years of truly dismal performances at major tournaments – culminating in the 2014 event where they failed to win any of their three group games and finished in bottom spot those results led to the resignation of manager roy hodgson', 'category': 'sports'},\n",
        "         {'paragraph': 'the team that eliminated russia – croatia – also improved enormously during the tournament before it began their odds were 33/1 but they played with real flair and star players like luka modric ivan rakitic and ivan perisic showed their quality on the world stage having displayed their potential by winning all three of their group stage games croatia went on to face difficult tests like the semi-final against england', 'category': 'sports'},\n",
        "         {'paragraph': 'the perseyside outfit finished in fourth place in the premier league table and without a trophy last term after having reached the champions league final before losing to real madrid', 'category': 'sports'},\n",
        "         {'paragraph': 'liverpool fc will return to premier league action on saturday lunchtime when they travel to leicester city in the top flight as they look to make it four wins in a row in the league', 'category': 'sports'},\n",
        "         {'paragraph': 'alisson signed for liverpool fc from as roma this summer and the brazilian goalkeeper has helped the reds to keep three clean sheets in their first three premier league games', 'category': 'sports'},\n",
        "         {'paragraph': 'but the rankings during that run-in to new york hid some very different undercurrents for murray had struggled with a hip injury since the clay swing and had not played a match since losing his quarter-final at wimbledon and he would pull out of the us open just two days before the tournament began—too late however to promote nederer to the no2 seeding', 'category': 'sports'},\n",
        "         {'paragraph': 'then came the oh-so-familiar djokovic-nadal no-quarter-given battle for dominance in the third set there were exhilarating rallies with both chasing to the net both retrieving what looked like winning shots nadal more than once pulled off a reverse smash and had his chance to seal the tie-break but it was djokovic serving at 10-9 who dragged one decisive error from nadal for a two-sets lead', 'category': 'sports'}\n",
        "]\n",
        "df = pd.DataFrame(paragraph_dict_list)\n",
        "df = df[['paragraph', 'category']]"
      ],
      "execution_count": 3,
      "outputs": []
    },
    {
      "cell_type": "code",
      "metadata": {
        "id": "2TwGF0YWvvo0",
        "colab_type": "code",
        "colab": {
          "base_uri": "https://localhost:8080/",
          "height": 204
        },
        "outputId": "892e67b2-1e69-4e27-e275-7bf29445ea9b"
      },
      "source": [
        "df.head()"
      ],
      "execution_count": 4,
      "outputs": [
        {
          "output_type": "execute_result",
          "data": {
            "text/html": [
              "<div>\n",
              "<style scoped>\n",
              "    .dataframe tbody tr th:only-of-type {\n",
              "        vertical-align: middle;\n",
              "    }\n",
              "\n",
              "    .dataframe tbody tr th {\n",
              "        vertical-align: top;\n",
              "    }\n",
              "\n",
              "    .dataframe thead th {\n",
              "        text-align: right;\n",
              "    }\n",
              "</style>\n",
              "<table border=\"1\" class=\"dataframe\">\n",
              "  <thead>\n",
              "    <tr style=\"text-align: right;\">\n",
              "      <th></th>\n",
              "      <th>paragraph</th>\n",
              "      <th>category</th>\n",
              "    </tr>\n",
              "  </thead>\n",
              "  <tbody>\n",
              "    <tr>\n",
              "      <th>0</th>\n",
              "      <td>dishplace is located in sunnyvale downtown the...</td>\n",
              "      <td>food</td>\n",
              "    </tr>\n",
              "    <tr>\n",
              "      <th>1</th>\n",
              "      <td>service can be slower during busy hours but ou...</td>\n",
              "      <td>food</td>\n",
              "    </tr>\n",
              "    <tr>\n",
              "      <th>2</th>\n",
              "      <td>portions are huge both french toast and their ...</td>\n",
              "      <td>food</td>\n",
              "    </tr>\n",
              "    <tr>\n",
              "      <th>3</th>\n",
              "      <td>we started with apps going the chicken and waf...</td>\n",
              "      <td>food</td>\n",
              "    </tr>\n",
              "    <tr>\n",
              "      <th>4</th>\n",
              "      <td>the biscuits and gravy was too salty two peopl...</td>\n",
              "      <td>food</td>\n",
              "    </tr>\n",
              "  </tbody>\n",
              "</table>\n",
              "</div>"
            ],
            "text/plain": [
              "                                           paragraph category\n",
              "0  dishplace is located in sunnyvale downtown the...     food\n",
              "1  service can be slower during busy hours but ou...     food\n",
              "2  portions are huge both french toast and their ...     food\n",
              "3  we started with apps going the chicken and waf...     food\n",
              "4  the biscuits and gravy was too salty two peopl...     food"
            ]
          },
          "metadata": {
            "tags": []
          },
          "execution_count": 4
        }
      ]
    },
    {
      "cell_type": "code",
      "metadata": {
        "id": "LNTqzbWYvxMm",
        "colab_type": "code",
        "colab": {}
      },
      "source": [
        "docs = df['paragraph'].tolist()\n",
        "categories = df['category'].tolist()"
      ],
      "execution_count": 5,
      "outputs": []
    },
    {
      "cell_type": "code",
      "metadata": {
        "id": "QQu7KavDv7HW",
        "colab_type": "code",
        "colab": {}
      },
      "source": [
        "t = Tokenizer()\n",
        "t.fit_on_texts(docs)\n",
        "vocab_size = len(t.word_index) + 1\n",
        "encoded_docs = t.texts_to_sequences(docs)"
      ],
      "execution_count": 12,
      "outputs": []
    },
    {
      "cell_type": "code",
      "metadata": {
        "id": "O0N99NRxwHR1",
        "colab_type": "code",
        "colab": {
          "base_uri": "https://localhost:8080/",
          "height": 35
        },
        "outputId": "91028b3e-3738-468e-cfe0-d8ea899459bd"
      },
      "source": [
        "vocab_size"
      ],
      "execution_count": 13,
      "outputs": [
        {
          "output_type": "execute_result",
          "data": {
            "text/plain": [
              "539"
            ]
          },
          "metadata": {
            "tags": []
          },
          "execution_count": 13
        }
      ]
    },
    {
      "cell_type": "code",
      "metadata": {
        "id": "jtO0Hvg4wHmt",
        "colab_type": "code",
        "colab": {
          "base_uri": "https://localhost:8080/",
          "height": 53
        },
        "outputId": "bc5d9ff6-60cc-41e4-8485-1ddfb30112c9"
      },
      "source": [
        "print(docs[1],'\\n', encoded_docs[1])"
      ],
      "execution_count": 25,
      "outputs": [
        {
          "output_type": "stream",
          "text": [
            "service can be slower during busy hours but our waiter was courteous and help gave some great entree recommendations \n",
            " [60, 91, 25, 181, 40, 93, 57, 9, 96, 182, 7, 183, 3, 184, 185, 43, 27, 186, 187]\n"
          ],
          "name": "stdout"
        }
      ]
    },
    {
      "cell_type": "code",
      "metadata": {
        "id": "fkoeikB5wYCu",
        "colab_type": "code",
        "colab": {
          "base_uri": "https://localhost:8080/",
          "height": 35
        },
        "outputId": "ebafe3be-654d-4f9c-b895-9d6b47b8ee87"
      },
      "source": [
        "def get_max_length(df):\n",
        "    \"\"\"\n",
        "    데이터에서 가장 긴 문장의 단어 갯수를 리턴합니다.\n",
        "    \"\"\"\n",
        "    max_length = 0\n",
        "    for row in df['paragraph']:\n",
        "        if len(row.split(\" \")) > max_length:\n",
        "            max_length = len(row.split(\" \"))\n",
        "    return max_length\n",
        "\n",
        "max_length = get_max_length(df)\n",
        "print(max_length)"
      ],
      "execution_count": 32,
      "outputs": [
        {
          "output_type": "stream",
          "text": [
            "91\n"
          ],
          "name": "stdout"
        }
      ]
    },
    {
      "cell_type": "markdown",
      "metadata": {
        "id": "nVAJ9kR3xqLr",
        "colab_type": "text"
      },
      "source": [
        ""
      ]
    },
    {
      "cell_type": "code",
      "metadata": {
        "id": "LJIocbowxL36",
        "colab_type": "code",
        "colab": {}
      },
      "source": [
        "padded_docs = pad_sequences(encoded_docs, maxlen=max_length, padding='post')"
      ],
      "execution_count": 33,
      "outputs": []
    },
    {
      "cell_type": "code",
      "metadata": {
        "id": "d1yZ5wNzxXhk",
        "colab_type": "code",
        "colab": {
          "base_uri": "https://localhost:8080/",
          "height": 161
        },
        "outputId": "21ac25c9-e734-4b7f-cc7f-f740711882fb"
      },
      "source": [
        "padded_docs[1] #max_length로 고정 벡터 박아두고 나머지는 padding 0 처리"
      ],
      "execution_count": 34,
      "outputs": [
        {
          "output_type": "execute_result",
          "data": {
            "text/plain": [
              "array([ 60,  91,  25, 181,  40,  93,  57,   9,  96, 182,   7, 183,   3,\n",
              "       184, 185,  43,  27, 186, 187,   0,   0,   0,   0,   0,   0,   0,\n",
              "         0,   0,   0,   0,   0,   0,   0,   0,   0,   0,   0,   0,   0,\n",
              "         0,   0,   0,   0,   0,   0,   0,   0,   0,   0,   0,   0,   0,\n",
              "         0,   0,   0,   0,   0,   0,   0,   0,   0,   0,   0,   0,   0,\n",
              "         0,   0,   0,   0,   0,   0,   0,   0,   0,   0,   0,   0,   0,\n",
              "         0,   0,   0,   0,   0,   0,   0,   0,   0,   0,   0,   0,   0],\n",
              "      dtype=int32)"
            ]
          },
          "metadata": {
            "tags": []
          },
          "execution_count": 34
        }
      ]
    },
    {
      "cell_type": "code",
      "metadata": {
        "id": "zF4xT9UIzf1d",
        "colab_type": "code",
        "colab": {}
      },
      "source": [
        "def category_encode(category):\n",
        "  if category == 'food':\n",
        "    return [1,0]\n",
        "  else:\n",
        "    return [0,1]\n",
        "\n",
        "labels = array([category_encode(category) for category in categories])"
      ],
      "execution_count": 35,
      "outputs": []
    },
    {
      "cell_type": "code",
      "metadata": {
        "id": "lCG0Vj6M0ztR",
        "colab_type": "code",
        "colab": {
          "base_uri": "https://localhost:8080/",
          "height": 71
        },
        "outputId": "71376de1-a2d9-4807-b948-495a9bbee894"
      },
      "source": [
        "print(docs[1],'\\n', encoded_docs[1], '\\n', labels[1])"
      ],
      "execution_count": 39,
      "outputs": [
        {
          "output_type": "stream",
          "text": [
            "service can be slower during busy hours but our waiter was courteous and help gave some great entree recommendations \n",
            " [60, 91, 25, 181, 40, 93, 57, 9, 96, 182, 7, 183, 3, 184, 185, 43, 27, 186, 187] \n",
            " [1 0]\n"
          ],
          "name": "stdout"
        }
      ]
    },
    {
      "cell_type": "markdown",
      "metadata": {
        "id": "CPJK6fLc1ASq",
        "colab_type": "text"
      },
      "source": [
        "# Glove 워드 임베딩 다운로드"
      ]
    },
    {
      "cell_type": "code",
      "metadata": {
        "id": "ryRMA3kD01cr",
        "colab_type": "code",
        "colab": {
          "base_uri": "https://localhost:8080/",
          "height": 377
        },
        "outputId": "30abd97e-cc46-42a8-8a0e-149895b20016"
      },
      "source": [
        "!wget -P . \"http://nlp.stanford.edu/data/glove.6B.zip\""
      ],
      "execution_count": 40,
      "outputs": [
        {
          "output_type": "stream",
          "text": [
            "--2020-09-02 08:00:12--  http://nlp.stanford.edu/data/glove.6B.zip\n",
            "Resolving nlp.stanford.edu (nlp.stanford.edu)... 171.64.67.140\n",
            "Connecting to nlp.stanford.edu (nlp.stanford.edu)|171.64.67.140|:80... connected.\n",
            "HTTP request sent, awaiting response... 302 Found\n",
            "Location: https://nlp.stanford.edu/data/glove.6B.zip [following]\n",
            "--2020-09-02 08:00:12--  https://nlp.stanford.edu/data/glove.6B.zip\n",
            "Connecting to nlp.stanford.edu (nlp.stanford.edu)|171.64.67.140|:443... connected.\n",
            "HTTP request sent, awaiting response... 301 Moved Permanently\n",
            "Location: http://downloads.cs.stanford.edu/nlp/data/glove.6B.zip [following]\n",
            "--2020-09-02 08:00:12--  http://downloads.cs.stanford.edu/nlp/data/glove.6B.zip\n",
            "Resolving downloads.cs.stanford.edu (downloads.cs.stanford.edu)... 171.64.64.22\n",
            "Connecting to downloads.cs.stanford.edu (downloads.cs.stanford.edu)|171.64.64.22|:80... connected.\n",
            "HTTP request sent, awaiting response... 200 OK\n",
            "Length: 862182613 (822M) [application/zip]\n",
            "Saving to: ‘./glove.6B.zip’\n",
            "\n",
            "glove.6B.zip        100%[===================>] 822.24M  1.78MB/s    in 6m 28s  \n",
            "\n",
            "2020-09-02 08:06:40 (2.12 MB/s) - ‘./glove.6B.zip’ saved [862182613/862182613]\n",
            "\n"
          ],
          "name": "stdout"
        }
      ]
    },
    {
      "cell_type": "code",
      "metadata": {
        "id": "lpZzm16K1JLC",
        "colab_type": "code",
        "colab": {
          "base_uri": "https://localhost:8080/",
          "height": 107
        },
        "outputId": "64f9a80f-7772-42c6-d053-4e6003255ff5"
      },
      "source": [
        "!unzip glove.6B.zip"
      ],
      "execution_count": 42,
      "outputs": [
        {
          "output_type": "stream",
          "text": [
            "Archive:  glove.6B.zip\n",
            "  inflating: glove.6B.50d.txt        \n",
            "  inflating: glove.6B.100d.txt       \n",
            "  inflating: glove.6B.200d.txt       \n",
            "  inflating: glove.6B.300d.txt       \n"
          ],
          "name": "stdout"
        }
      ]
    },
    {
      "cell_type": "code",
      "metadata": {
        "id": "tIkSN-QB1mcv",
        "colab_type": "code",
        "colab": {}
      },
      "source": [
        "embeddings_index = dict()\n",
        "f = open('glove.6B.100d.txt')\n",
        "for line in f:\n",
        "    values = line.split()\n",
        "    word = values[0]\n",
        "    coefs = asarray(values[1:], dtype='float32')\n",
        "    embeddings_index[word] = coefs\n",
        "f.close()\n",
        "\n",
        "# Glove 벡터로 실습 문장들의 단어를 인코딩합니다.\n",
        "embedding_matrix = zeros((vocab_size, 100))\n",
        "for word, i in t.word_index.items():\n",
        "    embedding_vector = embeddings_index.get(word)\n",
        "    if embedding_vector is not None:\n",
        "        embedding_matrix[i] = embedding_vector"
      ],
      "execution_count": 100,
      "outputs": []
    },
    {
      "cell_type": "code",
      "metadata": {
        "id": "Xol-Ohz0A9jd",
        "colab_type": "code",
        "colab": {
          "base_uri": "https://localhost:8080/",
          "height": 1000
        },
        "outputId": "57829478-db95-48bb-c3d4-97a1c15a8586"
      },
      "source": [
        "i, word, embeddings_index.get('lead'), embedding_vector, embedding_matrix[i]"
      ],
      "execution_count": 109,
      "outputs": [
        {
          "output_type": "execute_result",
          "data": {
            "text/plain": [
              "(538,\n",
              " 'lead',\n",
              " array([-0.25386  , -0.18414  ,  0.77174  , -0.40845  ,  0.54685  ,\n",
              "        -0.11824  ,  0.3168   , -0.38241  , -0.77227  , -0.05886  ,\n",
              "        -0.096802 ,  0.11445  , -0.53188  ,  0.28516  , -0.18447  ,\n",
              "        -0.0059722, -0.10476  , -0.25732  , -0.45006  ,  0.089648 ,\n",
              "         0.83928  , -0.43357  , -0.17928  ,  0.87369  ,  0.37506  ,\n",
              "        -0.21013  , -0.21159  , -0.39015  ,  0.52559  , -0.53812  ,\n",
              "        -0.71283  ,  0.48146  , -0.19663  ,  0.084202 , -0.19941  ,\n",
              "        -0.71916  ,  0.23898  ,  0.47872  , -0.23237  ,  0.55953  ,\n",
              "        -0.025114 , -0.35138  , -0.019317 , -0.18183  ,  0.57951  ,\n",
              "        -0.1633   ,  0.017283 , -0.0097227, -0.65136  , -1.2412   ,\n",
              "        -0.23302  , -0.3414   , -0.67617  ,  1.0098   ,  0.6952   ,\n",
              "        -2.8957   , -0.53449  ,  0.10996  ,  0.86611  ,  0.67889  ,\n",
              "        -0.81849  , -0.060675 ,  0.39015  ,  0.35857  ,  0.83608  ,\n",
              "         0.20377  ,  0.39232  ,  0.34525  , -0.20694  , -0.11292  ,\n",
              "        -0.29517  ,  0.48383  , -0.057634 , -0.35746  ,  0.42784  ,\n",
              "        -0.27638  , -0.95681  , -0.61017  , -0.04624  ,  0.054447 ,\n",
              "         0.55389  ,  0.2427   , -0.21798  ,  0.20777  , -1.3083   ,\n",
              "        -0.41173  ,  0.6368   ,  0.47136  , -0.41169  , -0.019002 ,\n",
              "        -0.53963  , -0.74079  , -0.48792  ,  0.21871  , -0.47377  ,\n",
              "        -0.28958  ,  0.22992  , -0.35196  ,  0.48037  ,  0.17369  ],\n",
              "       dtype=float32),\n",
              " array([-0.25386  , -0.18414  ,  0.77174  , -0.40845  ,  0.54685  ,\n",
              "        -0.11824  ,  0.3168   , -0.38241  , -0.77227  , -0.05886  ,\n",
              "        -0.096802 ,  0.11445  , -0.53188  ,  0.28516  , -0.18447  ,\n",
              "        -0.0059722, -0.10476  , -0.25732  , -0.45006  ,  0.089648 ,\n",
              "         0.83928  , -0.43357  , -0.17928  ,  0.87369  ,  0.37506  ,\n",
              "        -0.21013  , -0.21159  , -0.39015  ,  0.52559  , -0.53812  ,\n",
              "        -0.71283  ,  0.48146  , -0.19663  ,  0.084202 , -0.19941  ,\n",
              "        -0.71916  ,  0.23898  ,  0.47872  , -0.23237  ,  0.55953  ,\n",
              "        -0.025114 , -0.35138  , -0.019317 , -0.18183  ,  0.57951  ,\n",
              "        -0.1633   ,  0.017283 , -0.0097227, -0.65136  , -1.2412   ,\n",
              "        -0.23302  , -0.3414   , -0.67617  ,  1.0098   ,  0.6952   ,\n",
              "        -2.8957   , -0.53449  ,  0.10996  ,  0.86611  ,  0.67889  ,\n",
              "        -0.81849  , -0.060675 ,  0.39015  ,  0.35857  ,  0.83608  ,\n",
              "         0.20377  ,  0.39232  ,  0.34525  , -0.20694  , -0.11292  ,\n",
              "        -0.29517  ,  0.48383  , -0.057634 , -0.35746  ,  0.42784  ,\n",
              "        -0.27638  , -0.95681  , -0.61017  , -0.04624  ,  0.054447 ,\n",
              "         0.55389  ,  0.2427   , -0.21798  ,  0.20777  , -1.3083   ,\n",
              "        -0.41173  ,  0.6368   ,  0.47136  , -0.41169  , -0.019002 ,\n",
              "        -0.53963  , -0.74079  , -0.48792  ,  0.21871  , -0.47377  ,\n",
              "        -0.28958  ,  0.22992  , -0.35196  ,  0.48037  ,  0.17369  ],\n",
              "       dtype=float32),\n",
              " array([-0.25386   , -0.18414   ,  0.77174002, -0.40845001,  0.54685003,\n",
              "        -0.11824   ,  0.3168    , -0.38240999, -0.77227002, -0.05886   ,\n",
              "        -0.096802  ,  0.11445   , -0.53188002,  0.28516001, -0.18447   ,\n",
              "        -0.0059722 , -0.10476   , -0.25731999, -0.45006001,  0.089648  ,\n",
              "         0.83928001, -0.43357   , -0.17928   ,  0.87369001,  0.37505999,\n",
              "        -0.21013001, -0.21159001, -0.39015001,  0.52559   , -0.53811997,\n",
              "        -0.71283001,  0.48146001, -0.19663   ,  0.084202  , -0.19941001,\n",
              "        -0.71916002,  0.23898   ,  0.47872001, -0.23237   ,  0.55953002,\n",
              "        -0.025114  , -0.35137999, -0.019317  , -0.18183   ,  0.57950997,\n",
              "        -0.16329999,  0.017283  , -0.0097227 , -0.65135998, -1.24119997,\n",
              "        -0.23301999, -0.3414    , -0.67616999,  1.00979996,  0.69520003,\n",
              "        -2.89569998, -0.53448999,  0.10996   ,  0.86611003,  0.67888999,\n",
              "        -0.81849003, -0.060675  ,  0.39015001,  0.35857001,  0.83608001,\n",
              "         0.20377   ,  0.39232001,  0.34525001, -0.20694   , -0.11292   ,\n",
              "        -0.29517001,  0.48383   , -0.057634  , -0.35745999,  0.42783999,\n",
              "        -0.27638   , -0.95681   , -0.61017001, -0.04624   ,  0.054447  ,\n",
              "         0.55388999,  0.2427    , -0.21798   ,  0.20777   , -1.30830002,\n",
              "        -0.41172999,  0.63679999,  0.47136   , -0.41169   , -0.019002  ,\n",
              "        -0.53963   , -0.74079001, -0.48791999,  0.21871001, -0.47376999,\n",
              "        -0.28957999,  0.22992   , -0.35196   ,  0.48036999,  0.17369001]))"
            ]
          },
          "metadata": {
            "tags": []
          },
          "execution_count": 109
        }
      ]
    },
    {
      "cell_type": "code",
      "metadata": {
        "id": "Eudt97dt7hXm",
        "colab_type": "code",
        "colab": {
          "base_uri": "https://localhost:8080/",
          "height": 755
        },
        "outputId": "d73d844a-f77f-4d26-dc94-0c6f8e32ea94"
      },
      "source": [
        "# 모델 생성\n",
        "model = Sequential()\n",
        "e = Embedding(vocab_size, 100, weights=[embedding_matrix], input_length=max_length, trainable=False)\n",
        "model.add(e)\n",
        "model.add(Flatten())\n",
        "model.add(Dense(2, activation='softmax'))\n",
        "# 모델의 손실 함수 및 옵티마이저를 정합니다.\n",
        "model.compile(loss='categorical_crossentropy',\n",
        "              optimizer='adam',\n",
        "              metrics=['accuracy'])\n",
        "\n",
        "# 모델 학습\n",
        "model.fit(padded_docs, array(labels), epochs=20, verbose=1)"
      ],
      "execution_count": 101,
      "outputs": [
        {
          "output_type": "stream",
          "text": [
            "Epoch 1/20\n",
            "1/1 [==============================] - 0s 2ms/step - loss: 0.6076 - accuracy: 0.7000\n",
            "Epoch 2/20\n",
            "1/1 [==============================] - 0s 4ms/step - loss: 0.3995 - accuracy: 0.8500\n",
            "Epoch 3/20\n",
            "1/1 [==============================] - 0s 1ms/step - loss: 0.1585 - accuracy: 1.0000\n",
            "Epoch 4/20\n",
            "1/1 [==============================] - 0s 2ms/step - loss: 0.0879 - accuracy: 1.0000\n",
            "Epoch 5/20\n",
            "1/1 [==============================] - 0s 1ms/step - loss: 0.0642 - accuracy: 1.0000\n",
            "Epoch 6/20\n",
            "1/1 [==============================] - 0s 3ms/step - loss: 0.0475 - accuracy: 1.0000\n",
            "Epoch 7/20\n",
            "1/1 [==============================] - 0s 2ms/step - loss: 0.0335 - accuracy: 1.0000\n",
            "Epoch 8/20\n",
            "1/1 [==============================] - 0s 2ms/step - loss: 0.0229 - accuracy: 1.0000\n",
            "Epoch 9/20\n",
            "1/1 [==============================] - 0s 2ms/step - loss: 0.0155 - accuracy: 1.0000\n",
            "Epoch 10/20\n",
            "1/1 [==============================] - 0s 2ms/step - loss: 0.0107 - accuracy: 1.0000\n",
            "Epoch 11/20\n",
            "1/1 [==============================] - 0s 2ms/step - loss: 0.0075 - accuracy: 1.0000\n",
            "Epoch 12/20\n",
            "1/1 [==============================] - 0s 2ms/step - loss: 0.0055 - accuracy: 1.0000\n",
            "Epoch 13/20\n",
            "1/1 [==============================] - 0s 2ms/step - loss: 0.0041 - accuracy: 1.0000\n",
            "Epoch 14/20\n",
            "1/1 [==============================] - 0s 2ms/step - loss: 0.0032 - accuracy: 1.0000\n",
            "Epoch 15/20\n",
            "1/1 [==============================] - 0s 2ms/step - loss: 0.0026 - accuracy: 1.0000\n",
            "Epoch 16/20\n",
            "1/1 [==============================] - 0s 2ms/step - loss: 0.0021 - accuracy: 1.0000\n",
            "Epoch 17/20\n",
            "1/1 [==============================] - 0s 3ms/step - loss: 0.0017 - accuracy: 1.0000\n",
            "Epoch 18/20\n",
            "1/1 [==============================] - 0s 2ms/step - loss: 0.0015 - accuracy: 1.0000\n",
            "Epoch 19/20\n",
            "1/1 [==============================] - 0s 2ms/step - loss: 0.0013 - accuracy: 1.0000\n",
            "Epoch 20/20\n",
            "1/1 [==============================] - 0s 2ms/step - loss: 0.0011 - accuracy: 1.0000\n"
          ],
          "name": "stdout"
        },
        {
          "output_type": "execute_result",
          "data": {
            "text/plain": [
              "<tensorflow.python.keras.callbacks.History at 0x7f53ee1ecf98>"
            ]
          },
          "metadata": {
            "tags": []
          },
          "execution_count": 101
        }
      ]
    },
    {
      "cell_type": "code",
      "metadata": {
        "id": "_x8JdtPm-2Q9",
        "colab_type": "code",
        "colab": {
          "base_uri": "https://localhost:8080/",
          "height": 269
        },
        "outputId": "374b6737-ab99-4205-dc36-76a6a545f776"
      },
      "source": [
        "model.summary()"
      ],
      "execution_count": 98,
      "outputs": [
        {
          "output_type": "stream",
          "text": [
            "Model: \"sequential_1\"\n",
            "_________________________________________________________________\n",
            "Layer (type)                 Output Shape              Param #   \n",
            "=================================================================\n",
            "embedding_1 (Embedding)      (None, 91, 100)           53900     \n",
            "_________________________________________________________________\n",
            "flatten_1 (Flatten)          (None, 9100)              0         \n",
            "_________________________________________________________________\n",
            "dense_1 (Dense)              (None, 2)                 18202     \n",
            "=================================================================\n",
            "Total params: 72,102\n",
            "Trainable params: 18,202\n",
            "Non-trainable params: 53,900\n",
            "_________________________________________________________________\n"
          ],
          "name": "stdout"
        }
      ]
    },
    {
      "cell_type": "code",
      "metadata": {
        "id": "XbHoM3CC_JJP",
        "colab_type": "code",
        "colab": {
          "base_uri": "https://localhost:8080/",
          "height": 125
        },
        "outputId": "6132d13a-c52e-4719-aaff-28ab30c2454f"
      },
      "source": [
        "print(padded_docs[1], labels[1])"
      ],
      "execution_count": 112,
      "outputs": [
        {
          "output_type": "stream",
          "text": [
            "[ 60  91  25 181  40  93  57   9  96 182   7 183   3 184 185  43  27 186\n",
            " 187   0   0   0   0   0   0   0   0   0   0   0   0   0   0   0   0   0\n",
            "   0   0   0   0   0   0   0   0   0   0   0   0   0   0   0   0   0   0\n",
            "   0   0   0   0   0   0   0   0   0   0   0   0   0   0   0   0   0   0\n",
            "   0   0   0   0   0   0   0   0   0   0   0   0   0   0   0   0   0   0\n",
            "   0] [1 0]\n"
          ],
          "name": "stdout"
        }
      ]
    },
    {
      "cell_type": "code",
      "metadata": {
        "id": "VtX-7GmOASWv",
        "colab_type": "code",
        "colab": {
          "base_uri": "https://localhost:8080/",
          "height": 179
        },
        "outputId": "f3ed9600-9b6d-4ad0-aedd-e77e0050e41e"
      },
      "source": [
        "model.predict(padded_docs[1:10])"
      ],
      "execution_count": 123,
      "outputs": [
        {
          "output_type": "execute_result",
          "data": {
            "text/plain": [
              "array([[9.9445504e-01, 5.5449503e-03],\n",
              "       [9.9898988e-01, 1.0101526e-03],\n",
              "       [9.9975532e-01, 2.4465958e-04],\n",
              "       [9.9999678e-01, 3.2330349e-06],\n",
              "       [9.9431497e-01, 5.6849578e-03],\n",
              "       [9.9994922e-01, 5.0735885e-05],\n",
              "       [9.9947435e-01, 5.2564702e-04],\n",
              "       [9.9988759e-01, 1.1242177e-04],\n",
              "       [9.9999952e-01, 5.1466083e-07]], dtype=float32)"
            ]
          },
          "metadata": {
            "tags": []
          },
          "execution_count": 123
        }
      ]
    },
    {
      "cell_type": "code",
      "metadata": {
        "id": "5YHW68bRB0iN",
        "colab_type": "code",
        "colab": {
          "base_uri": "https://localhost:8080/",
          "height": 377
        },
        "outputId": "5725725a-2fba-4b5b-8a4e-102397d1d8c5"
      },
      "source": [
        "print(array(labels))"
      ],
      "execution_count": 127,
      "outputs": [
        {
          "output_type": "stream",
          "text": [
            "[[1 0]\n",
            " [1 0]\n",
            " [1 0]\n",
            " [1 0]\n",
            " [1 0]\n",
            " [1 0]\n",
            " [1 0]\n",
            " [1 0]\n",
            " [1 0]\n",
            " [1 0]\n",
            " [0 1]\n",
            " [0 1]\n",
            " [0 1]\n",
            " [0 1]\n",
            " [0 1]\n",
            " [0 1]\n",
            " [0 1]\n",
            " [0 1]\n",
            " [0 1]\n",
            " [0 1]]\n"
          ],
          "name": "stdout"
        }
      ]
    },
    {
      "cell_type": "code",
      "metadata": {
        "id": "_PoAdZj5C5E2",
        "colab_type": "code",
        "colab": {}
      },
      "source": [
        ""
      ],
      "execution_count": null,
      "outputs": []
    }
  ]
}