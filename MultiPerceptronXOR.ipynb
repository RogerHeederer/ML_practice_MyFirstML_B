{
  "nbformat": 4,
  "nbformat_minor": 0,
  "metadata": {
    "colab": {
      "name": "MultiPerceptronXOR.ipynb",
      "provenance": [],
      "authorship_tag": "ABX9TyPwnRZhsK0nfXmrZhRzPcEx",
      "include_colab_link": true
    },
    "kernelspec": {
      "name": "python3",
      "display_name": "Python 3"
    }
  },
  "cells": [
    {
      "cell_type": "markdown",
      "metadata": {
        "id": "view-in-github",
        "colab_type": "text"
      },
      "source": [
        "<a href=\"https://colab.research.google.com/github/RogerHeederer/ML_practice_MyFirstML_B/blob/master/MultiPerceptronXOR.ipynb\" target=\"_parent\"><img src=\"https://colab.research.google.com/assets/colab-badge.svg\" alt=\"Open In Colab\"/></a>"
      ]
    },
    {
      "cell_type": "markdown",
      "metadata": {
        "id": "WQ1E7rIlqAZB",
        "colab_type": "text"
      },
      "source": [
        "source reference : https://github.com/wikibook/machine-learnin\n",
        "\n",
        "위 레퍼런스를 참조하여 공부하였으며, 필요하다고 생각되는 부분에 추가적인 설명 및 그림들을 덧붙였습니다."
      ]
    },
    {
      "cell_type": "code",
      "metadata": {
        "id": "0ueFAbuUSpGK",
        "colab_type": "code",
        "colab": {}
      },
      "source": [
        "from __future__ import absolute_import, division, print_function, unicode_literals\n",
        "\n",
        "try:\n",
        "  %tensorflow_version 2.x\n",
        "except Exception:\n",
        "  pass\n",
        "\n",
        "import tensorflow as tf\n",
        "from tensorflow.keras.layers import Dense\n",
        "from tensorflow.keras.models import Sequential\n",
        "\n",
        "tf.random.set_seed(678)\n",
        "\n",
        "import numpy as np"
      ],
      "execution_count": null,
      "outputs": []
    },
    {
      "cell_type": "code",
      "metadata": {
        "id": "OulQhFQRTRfj",
        "colab_type": "code",
        "colab": {
          "base_uri": "https://localhost:8080/",
          "height": 35
        },
        "outputId": "aa579b49-4600-4a29-bdcd-b6f8b6ae99ed"
      },
      "source": [
        "print(tf.__version__)"
      ],
      "execution_count": null,
      "outputs": [
        {
          "output_type": "stream",
          "text": [
            "2.3.0\n"
          ],
          "name": "stdout"
        }
      ]
    },
    {
      "cell_type": "code",
      "metadata": {
        "id": "ANrWGFGgTdRA",
        "colab_type": "code",
        "colab": {}
      },
      "source": [
        "# 입력 벡터 (4,2)  출력 벡터 (1,4)\n",
        "X = np.array([[0., 0.], [0., 1.], [1., 0.], [1., 1.]])\n",
        "y = np.array([0., 1., 1., 0.])"
      ],
      "execution_count": null,
      "outputs": []
    },
    {
      "cell_type": "code",
      "metadata": {
        "id": "PQvs_VQGTVqr",
        "colab_type": "code",
        "colab": {}
      },
      "source": [
        "model = Sequential()\n",
        "model.add(Dense(units=2, activation='sigmoid', input_dim=2)) #첫번째 히든 레이어. 뉴런 2개\n",
        "model.add(Dense(units=1, activation='sigmoid')) #두번째 히든 레이어. 뉴런 1개"
      ],
      "execution_count": null,
      "outputs": []
    },
    {
      "cell_type": "code",
      "metadata": {
        "id": "fGz1T1_zUlI6",
        "colab_type": "code",
        "colab": {}
      },
      "source": [
        "# 손실함수를 정하고, 그 손실함수를 최적화 하는 도구(옵티마이져)를 sgd로 정함. stochastic gradient descending\n",
        "# 손실함수를 최적화 한다는 얘기는, 모델이 예측한 값과 실제 정답 y의 차이를 최대한 줄인다!는 얘기\n",
        "model.compile(loss='binary_crossentropy', optimizer='sgd', metrics=['accuracy'])"
      ],
      "execution_count": null,
      "outputs": []
    },
    {
      "cell_type": "code",
      "metadata": {
        "id": "ylr13FzYVLr7",
        "colab_type": "code",
        "colab": {
          "base_uri": "https://localhost:8080/",
          "height": 251
        },
        "outputId": "8ea8d81e-a329-4368-fd47-38607c2c6787"
      },
      "source": [
        "print(model.summary())"
      ],
      "execution_count": 59,
      "outputs": [
        {
          "output_type": "stream",
          "text": [
            "Model: \"sequential\"\n",
            "_________________________________________________________________\n",
            "Layer (type)                 Output Shape              Param #   \n",
            "=================================================================\n",
            "dense (Dense)                (None, 2)                 6         \n",
            "_________________________________________________________________\n",
            "dense_1 (Dense)              (None, 1)                 3         \n",
            "=================================================================\n",
            "Total params: 9\n",
            "Trainable params: 9\n",
            "Non-trainable params: 0\n",
            "_________________________________________________________________\n",
            "None\n"
          ],
          "name": "stdout"
        }
      ]
    },
    {
      "cell_type": "markdown",
      "metadata": {
        "id": "sTPYBtTUMsTQ",
        "colab_type": "text"
      },
      "source": [
        "![](https://drive.google.com/uc?export=view&id=1iPT0REq-6ZIAqWPQ9hvukCcmteZjPHqW)"
      ]
    },
    {
      "cell_type": "markdown",
      "metadata": {
        "id": "hYUNPdZDf5-d",
        "colab_type": "text"
      },
      "source": [
        "**위 그림의 빨간색 글자들이 파라미터이다.**\n",
        "- 첫번째 레이어에 들어가는 파라미터의 갯수는 총 6개\n",
        "- 두번째 레이어에 들어가는 파라미터의 갯수는 총 3개\n"
      ]
    },
    {
      "cell_type": "markdown",
      "metadata": {
        "id": "QaCjLi-qg7Hx",
        "colab_type": "text"
      },
      "source": [
        "**웨이트 기호에 대한 설명은 다음과 같다**"
      ]
    },
    {
      "cell_type": "markdown",
      "metadata": {
        "id": "SGlydIL4N-Kk",
        "colab_type": "text"
      },
      "source": [
        "![](https://drive.google.com/uc?export=view&id=1XFzIyYYhWyUV3dFUspDn4dB9v5LcpDEj)"
      ]
    },
    {
      "cell_type": "code",
      "metadata": {
        "id": "VjHS7obdhg5_",
        "colab_type": "code",
        "colab": {
          "base_uri": "https://localhost:8080/",
          "height": 35
        },
        "outputId": "b63a392e-f84e-489c-bb1f-141b5f2b1d56"
      },
      "source": [
        "model.fit(X,y, epochs=20000, batch_size=4, verbose=0) #verbose를 1로 하면 트레이닝 과정 볼 수 있다"
      ],
      "execution_count": null,
      "outputs": [
        {
          "output_type": "execute_result",
          "data": {
            "text/plain": [
              "<tensorflow.python.keras.callbacks.History at 0x7f04c709dc50>"
            ]
          },
          "metadata": {
            "tags": []
          },
          "execution_count": 13
        }
      ]
    },
    {
      "cell_type": "code",
      "metadata": {
        "id": "BTx3D-nkj71K",
        "colab_type": "code",
        "colab": {
          "base_uri": "https://localhost:8080/",
          "height": 89
        },
        "outputId": "7da32313-cd3a-47f8-cd55-091bf7eb1e69"
      },
      "source": [
        "print(model.predict(X,batch_size=4))"
      ],
      "execution_count": null,
      "outputs": [
        {
          "output_type": "stream",
          "text": [
            "[[0.06085929]\n",
            " [0.94197905]\n",
            " [0.94220614]\n",
            " [0.07106161]]\n"
          ],
          "name": "stdout"
        }
      ]
    },
    {
      "cell_type": "code",
      "metadata": {
        "id": "UhmYr-NlkC1q",
        "colab_type": "code",
        "colab": {
          "base_uri": "https://localhost:8080/",
          "height": 71
        },
        "outputId": "84bc7da4-f8de-48bf-f69c-1b47c0fd5e8a"
      },
      "source": [
        "#첫번째 레이어 파라미터\n",
        "print(\"first layer weights: \",model.layers[0].get_weights()[0])\n",
        "print(\"first layer bias: \",model.layers[0].get_weights()[1])"
      ],
      "execution_count": null,
      "outputs": [
        {
          "output_type": "stream",
          "text": [
            "first layer weights:  [[3.5763602 5.804214 ]\n",
            " [3.5690916 5.7559724]]\n",
            "first layer bias:  [-5.437236  -2.3402834]\n"
          ],
          "name": "stdout"
        }
      ]
    },
    {
      "cell_type": "code",
      "metadata": {
        "id": "YuMqYXQokgfg",
        "colab_type": "code",
        "colab": {
          "base_uri": "https://localhost:8080/",
          "height": 71
        },
        "outputId": "205758a8-8cd5-454c-e9de-e57d6963d56e"
      },
      "source": [
        "#두번째 레이어 파라미터\n",
        "print(\"second layer weights: \",model.layers[1].get_weights()[0])\n",
        "print(\"second layer bias: \",model.layers[1].get_weights()[1])"
      ],
      "execution_count": null,
      "outputs": [
        {
          "output_type": "stream",
          "text": [
            "second layer weights:  [[-7.846282]\n",
            " [ 7.427812]]\n",
            "second layer bias:  [-3.354873]\n"
          ],
          "name": "stdout"
        }
      ]
    },
    {
      "cell_type": "markdown",
      "metadata": {
        "id": "HLkaxd96k6_h",
        "colab_type": "text"
      },
      "source": [
        "**학습을 통해 구한 weight, bias를 사용해서 직접 계산해보자**"
      ]
    },
    {
      "cell_type": "code",
      "metadata": {
        "id": "a6xmqBYCkomi",
        "colab_type": "code",
        "colab": {}
      },
      "source": [
        "import math\n",
        "\n",
        "def sigmoid(x):\n",
        "  return 1 / (1+ math.exp(-x))"
      ],
      "execution_count": null,
      "outputs": []
    },
    {
      "cell_type": "code",
      "metadata": {
        "id": "2_ru97SqlEVq",
        "colab_type": "code",
        "colab": {}
      },
      "source": [
        "def get_output(x):\n",
        "    layer0 = model.layers[0]\n",
        "    # 첫번째 레이어, 첫번째 노드의 결과값\n",
        "    layer0_weights, layer0_bias = layer0.get_weights()\n",
        "    layer0_node0_weights = np.transpose(layer0_weights)[0]\n",
        "    layer0_node0_bias = layer0_bias[0]\n",
        "    layer0_node0_output = sigmoid( np.dot( x, layer0_node0_weights ) + layer0_node0_bias )\n",
        "    # 첫번째 레이어, 두번째 노드의 결과값\n",
        "    layer0_node1_weights = np.transpose(layer0_weights)[1]\n",
        "    layer0_node1_bias = layer0_bias[1]\n",
        "    layer0_node1_output = sigmoid( np.dot( x, layer0_node1_weights ) + layer0_node1_bias )\n",
        "    # 두번째 레이어 결과값\n",
        "    layer1 = model.layers[1]\n",
        "    layer1_weights, layer1_bias = layer1.get_weights()\n",
        "    layer1_output = sigmoid( np.dot( [layer0_node0_output, layer0_node1_output], layer1_weights ) + layer1_bias )\n",
        "\n",
        "    print(layer1_output)"
      ],
      "execution_count": null,
      "outputs": []
    },
    {
      "cell_type": "code",
      "metadata": {
        "id": "Z3MmwNmxphTf",
        "colab_type": "code",
        "colab": {
          "base_uri": "https://localhost:8080/",
          "height": 35
        },
        "outputId": "b5410c88-1409-457f-e99c-f9877be99cac"
      },
      "source": [
        "get_output([1,0])"
      ],
      "execution_count": null,
      "outputs": [
        {
          "output_type": "stream",
          "text": [
            "0.9422061634380694\n"
          ],
          "name": "stdout"
        }
      ]
    },
    {
      "cell_type": "markdown",
      "metadata": {
        "id": "k-jsLy2cpkBU",
        "colab_type": "text"
      },
      "source": [
        "**레이어 스트럭쳐**"
      ]
    },
    {
      "cell_type": "code",
      "metadata": {
        "id": "vsRbujYUm6p8",
        "colab_type": "code",
        "colab": {
          "base_uri": "https://localhost:8080/",
          "height": 53
        },
        "outputId": "482e1e39-7dfc-4505-cf61-f15522a69995"
      },
      "source": [
        "layers = model.layers\n",
        "layers"
      ],
      "execution_count": null,
      "outputs": [
        {
          "output_type": "execute_result",
          "data": {
            "text/plain": [
              "[<tensorflow.python.keras.layers.core.Dense at 0x7f04d2166cc0>,\n",
              " <tensorflow.python.keras.layers.core.Dense at 0x7f04e6abc358>]"
            ]
          },
          "metadata": {
            "tags": []
          },
          "execution_count": 48
        }
      ]
    },
    {
      "cell_type": "code",
      "metadata": {
        "id": "b3x1N43qoPlJ",
        "colab_type": "code",
        "colab": {
          "base_uri": "https://localhost:8080/",
          "height": 71
        },
        "outputId": "b64b107b-c15a-4ebe-c0e1-4f0e836044e7"
      },
      "source": [
        "hiddenlayer1 = layers[0]\n",
        "hiddenlayer1_weights, hiddenlayer1_bias = hiddenlayer1.get_weights()\n",
        "hiddenlayer1_weights, hiddenlayer1_bias"
      ],
      "execution_count": null,
      "outputs": [
        {
          "output_type": "execute_result",
          "data": {
            "text/plain": [
              "(array([[3.5763602, 5.804214 ],\n",
              "        [3.5690916, 5.7559724]], dtype=float32),\n",
              " array([-5.437236 , -2.3402834], dtype=float32))"
            ]
          },
          "metadata": {
            "tags": []
          },
          "execution_count": 50
        }
      ]
    },
    {
      "cell_type": "code",
      "metadata": {
        "id": "7Y2hX0GRoUxp",
        "colab_type": "code",
        "colab": {
          "base_uri": "https://localhost:8080/",
          "height": 53
        },
        "outputId": "4875f306-cdce-4c7f-b6ed-89afd37f6997"
      },
      "source": [
        "hiddenlayer2 = layers[1]\n",
        "hiddenlayer2_weights, hiddenlayer2_bias = hiddenlayer2.get_weights()\n",
        "hiddenlayer2_weights, hiddenlayer2_bias"
      ],
      "execution_count": null,
      "outputs": [
        {
          "output_type": "execute_result",
          "data": {
            "text/plain": [
              "(array([[-7.846282],\n",
              "        [ 7.427812]], dtype=float32), array([-3.354873], dtype=float32))"
            ]
          },
          "metadata": {
            "tags": []
          },
          "execution_count": 52
        }
      ]
    }
  ]
}