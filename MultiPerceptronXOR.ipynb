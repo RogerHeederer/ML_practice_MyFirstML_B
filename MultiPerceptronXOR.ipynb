{
  "nbformat": 4,
  "nbformat_minor": 0,
  "metadata": {
    "colab": {
      "name": "MultiPerceptronXOR.ipynb",
      "provenance": [],
      "authorship_tag": "ABX9TyMIDgePG6hNq5N7c50E2e3M",
      "include_colab_link": true
    },
    "kernelspec": {
      "name": "python3",
      "display_name": "Python 3"
    }
  },
  "cells": [
    {
      "cell_type": "markdown",
      "metadata": {
        "id": "view-in-github",
        "colab_type": "text"
      },
      "source": [
        "<a href=\"https://colab.research.google.com/github/RogerHeederer/ML_practice_MyFirstML_B/blob/master/MultiPerceptronXOR.ipynb\" target=\"_parent\"><img src=\"https://colab.research.google.com/assets/colab-badge.svg\" alt=\"Open In Colab\"/></a>"
      ]
    },
    {
      "cell_type": "markdown",
      "metadata": {
        "id": "WQ1E7rIlqAZB",
        "colab_type": "text"
      },
      "source": [
        "source reference : https://github.com/wikibook/machine-learnin\n",
        "\n",
        "위 레퍼런스를 참조하여 공부하였으며, 필요하다고 생각되는 부분에 추가적인 설명 및 그림들을 덧붙였습니다."
      ]
    },
    {
      "cell_type": "code",
      "metadata": {
        "id": "0ueFAbuUSpGK",
        "colab_type": "code",
        "colab": {}
      },
      "source": [
        "from __future__ import absolute_import, division, print_function, unicode_literals\n",
        "\n",
        "try:\n",
        "  %tensorflow_version 2.x\n",
        "except Exception:\n",
        "  pass\n",
        "\n",
        "import tensorflow as tf\n",
        "from tensorflow.keras.layers import Dense\n",
        "from tensorflow.keras.models import Sequential\n",
        "\n",
        "tf.random.set_seed(678)\n",
        "\n",
        "import numpy as np"
      ],
      "execution_count": null,
      "outputs": []
    },
    {
      "cell_type": "code",
      "metadata": {
        "id": "OulQhFQRTRfj",
        "colab_type": "code",
        "colab": {
          "base_uri": "https://localhost:8080/",
          "height": 35
        },
        "outputId": "aa579b49-4600-4a29-bdcd-b6f8b6ae99ed"
      },
      "source": [
        "print(tf.__version__)"
      ],
      "execution_count": null,
      "outputs": [
        {
          "output_type": "stream",
          "text": [
            "2.3.0\n"
          ],
          "name": "stdout"
        }
      ]
    },
    {
      "cell_type": "code",
      "metadata": {
        "id": "ANrWGFGgTdRA",
        "colab_type": "code",
        "colab": {}
      },
      "source": [
        "# 입력 벡터 (4,2)  출력 벡터 (1,4)\n",
        "X = np.array([[0., 0.], [0., 1.], [1., 0.], [1., 1.]])\n",
        "y = np.array([0., 1., 1., 0.])"
      ],
      "execution_count": null,
      "outputs": []
    },
    {
      "cell_type": "code",
      "metadata": {
        "id": "PQvs_VQGTVqr",
        "colab_type": "code",
        "colab": {}
      },
      "source": [
        "model = Sequential()\n",
        "model.add(Dense(units=2, activation='sigmoid', input_dim=2)) #첫번째 히든 레이어. 뉴런 2개\n",
        "model.add(Dense(units=1, activation='sigmoid')) #두번째 히든 레이어. 뉴런 1개"
      ],
      "execution_count": null,
      "outputs": []
    },
    {
      "cell_type": "code",
      "metadata": {
        "id": "fGz1T1_zUlI6",
        "colab_type": "code",
        "colab": {}
      },
      "source": [
        "# 손실함수를 정하고, 그 손실함수를 최적화 하는 도구(옵티마이져)를 sgd로 정함. stochastic gradient descending\n",
        "# 손실함수를 최적화 한다는 얘기는, 모델이 예측한 값과 실제 정답 y의 차이를 최대한 줄인다!는 얘기\n",
        "model.compile(loss='binary_crossentropy', optimizer='sgd', metrics=['accuracy'])"
      ],
      "execution_count": null,
      "outputs": []
    },
    {
      "cell_type": "code",
      "metadata": {
        "id": "ylr13FzYVLr7",
        "colab_type": "code",
        "colab": {
          "base_uri": "https://localhost:8080/",
          "height": 251
        },
        "outputId": "6f4c7c9b-da89-4257-ecb0-5be8509c08a2"
      },
      "source": [
        "print(model.summary())"
      ],
      "execution_count": null,
      "outputs": [
        {
          "output_type": "stream",
          "text": [
            "Model: \"sequential\"\n",
            "_________________________________________________________________\n",
            "Layer (type)                 Output Shape              Param #   \n",
            "=================================================================\n",
            "dense (Dense)                (None, 2)                 6         \n",
            "_________________________________________________________________\n",
            "dense_1 (Dense)              (None, 1)                 3         \n",
            "=================================================================\n",
            "Total params: 9\n",
            "Trainable params: 9\n",
            "Non-trainable params: 0\n",
            "_________________________________________________________________\n",
            "None\n"
          ],
          "name": "stdout"
        }
      ]
    },
    {
      "cell_type": "markdown",
      "metadata": {
        "id": "ZmogIrcBVQ-t",
        "colab_type": "text"
      },
      "source": [
        "**파라미터에 대한 설명**\n",
        "\n",
        "![MultiPerceptron.png](data:image/png;base64,iVBORw0KGgoAAAANSUhEUgAAA1cAAAJoCAIAAAAF+4xrAACdY0lEQVR42uy9D1Bc2X3ne8eeIdgjx0ASD/jFDHiIzR9tGbK2jHaoEtJ7iaTnkiIZIQnt1gPVhopUuCpia6uQXI80/ag8iVRqUW0FSxNcQUwqQkJQaKSkxKTKEs7DRpFnjcbFH+1EDj2sMzC2BykJnlHIZPR+fQ99uNy+ffv+P+d2fz81xbS6b997+t5zfud7zvn9fucZBQAAAAAAZB/PiC4AAAAAAAAQAFQgAAAAAEA2AhUIAAAAAJCNQAUCAAAAAGQjUIEAAAAAANkIVCAAAAAAQDYCFQgAAAAAkI1ABQIAAAAAZCNQgQAAAAAA2QhUIAAAAABANgIVCAAAAACQjUAFAgAAAABkI1CBAAAAAADZCFQgAAAAAEA2AhUIAAAAAJCNQAUCAAAAAGQjUIEAAAAAANkIVCAAAAAAQDYCFQgAAAAAkI1ABQIAAAAAZCNQgQAAAAAA2QhUIAAAAABANgIVCHynq0uJRJSdO5WJifg/79xR6uvjL/AO3sE7tt6Rh6dP11888wzewTsevANEgScA/IUkIPVkO3bI0o/iHbwTuncGB5WWFkUGqDkzaFzHkERD4J2QvhONblQqIASoQOAvvLXL1rPiHbwTlncUaaZMeHPmyKYq8E643lGkqdtZC24/8BfM/APgGNmaj2zlAeEFdUkScPuBv/DZfkz7A2AX2ZqPbOUB4QV1SRKgAgEAAAAAshGoQAAAAACAbAQqEPgLpv0BcIxszUe28oDwgrokCVCBwF/gAgyAY2RrPrKVB4QX1CVJwO0H/oKmDoBjZGs+spUHhBfUJUnA7Qf+gml/ABwjW/ORrTwgvKAuSQJUIAAAAABANgIVCAAAAACQjUAFAn/BtD8AjpGt+chWHhBeUJckASoQ+AtcgAFwjGzNR7bygPCCuiQJuP3AX9DUAXCMbM1HtvKA8IK6JAm4/cBfMO1vSFWXMhNRoluVrlkPDgOZimzNR7byWAFtTU7CWJcyEqhAANLQNaNEFGXrVmXWwqesL5mNKlu7zM4pZ88U/y1VyuFnlGtBXM1jGoeVYbJoh0WXA7gAbU1mqhqVqxGlqkr9x6wSjSpdISo9SAFUIABpQM8kOY1dSoQ6J3p1DSow3KCtSUt8lNWof/PaYeVwWH4ASAFUIPCXDJj2t9UzWQQ9kyeQ/huOxF/MUokblaqMU4GyNR+/y4O2JilVysxMfJR1JKrMqveHbtdVdejl+CfIVrezFqhA4C8Z4AKMnklaGofjNz8aVa7NKsNPlcaMU4GyNR+/y4O2JilVSlelfv2X3THH04Gy1e2sBbcf+EsGNHX0TKEAKjADyoO2FiYalafDUIGhB7cf+EsGTPvb65mMLGNVY9xxrZF7VR9RrjUadDkWD6Nx+fDVxGHqYuiRw5vKxvVQfKqsUWEHXosq0a403WfanqmqSolcVSqr1s9Jl2bzcErCbciwS9DrM8vlH55RD7Om7TJSBcrWfORaEUZbE9TW1s/tTjfLVrezFqhAANLgsmditlLHtWtKY+MmA2rxMDr/zLBSpTtudlPxmGWPVsa7mc2nS2Pi0/ZM8TMnvbl+vOo5lOyZp182clD+LFaB2QbamqI9c9KbkrS1je/O2p6aBbIBFQhAGpi9NmM2dc/E7LWy6Z2uSHzagNjocmwdtjlHA5sY0EZKrvcf6gwH+2KV2h8o6Vy50/ZMdMDskfUJCX48LzMrie7rm3pum+U/rLlWWqACMwC0Ne0B0rY1Xh6kV8wAoAKBv2TAtL+bninV2o3Ohto6LLnn0M2RMMuuM9Amq0i6y9nwVWKRg7xTUX/7pswdRnfDWfnTkpEqULbmE8SKMNqaIfK0tcQqs0sJKFvdzlqgAoG/ZIALsJtVqlTf1bnU2DgsdR/JLb6xHrLgym2lZ6qqii+cVVbG/2P5Y7Vdke6H6LoiG+W3v9KUkSpQtuYjV3QI2lrgbW19Md3+3GEystXtrAW3H/hLBjR1Nz1TKmmi63IsHia4Z9rsac7R9kybPJN0sxcuy58OqMAMKA/aWqI0MrY1vqB8JF3sixVkq9tZC24/8JcMmPZ32zPNpp94sHiYxUwZPvVM7FMWqzinxOcDZpOXpTRXTw4hdFX+dGSkCpSt+cgcI4y25mtbs7LMbQvZ6nbWAhUIQBrcrlIZOdDo3rd4GDPEad1xfOqZkk+b7GyuJHpTOkljiuMdlj8dGakCsw20tVSnFdzWkuYaQcYAFQhAGtz0TDwnRfRwIlJPs9bDbbTFw9jJFTW8MXotsZtqldIY30Bjw9z72DMpyuGtmqRllcpsVVLfwDqM2XjB9JdzU/50QAVmAGhrG6eVqa0FnFIbBAlUIPCXDJj2d5nDzNBBJxqNJ63Vr+BYOMww1ZmyOcrPZc9kQCIvrm47eepHDw0bzBCsH5l63c1J+dORkSpQtuYj84qwgra2+UwetrXk8ugK7ADZ6nbWAhUI/CUDXIDd72fQ2BXvYPgeAEfIaBqNrS0etmnbAyW+uftIdNMWnz71TIq2M2AJ0pQU60RGPkxuy5+OjFSBsjUfmaND1t9DW9PgVVszizVx2uhkq9tZC24/8Bc09SwkE/ZIlQPZmo9s5QHhbWuoS5KA2w/8BdP+WQdzSMq4aTkhyNZ8ZCtPthPmtoa6JAlQgQAA76hSt6W3v/MHAMAeaGvAC6ACAQAeoHVFn0VGCQB8A20NeAhUIPAXTPtnCbxnuhZVDneJLk2mIFvzka082UlmtDXUJUmACgT+AhdgABwjW/ORrTwgvKAuSQJuP/AXNHUAHCNb85GtPCC8oC5JAm4/8BdM+wPgGNmaj2zlAeEFdUkSoAIBAAAAALIRqEAAAAAAgGwEKhD4C6b9AXCMbM1HtvKA8IK6JAlQgcBf4AIMgGNkaz6ylQeEF9QlScDtB/6Cpg6AY2RrPrKVB4QX1CVJwO0H/oJpfwAcI1vzka08ILygLkkCVCAAAAAAQDYCFQgAAAAAkI1ABQJ/wbQ/AI6RrfnIVh4QXlCXJAEqEPgLXIABcIxszUe28oDwgrokCbj9wF/Q1AFwjGzNR7bygPCCuiQJuP3AXzDtD4BjZGs+spUHhBfUJUmACgQAAAAAyEagAgEAAAAAshGoQOAvmPYHwDGyNR/ZygPCC+qSJEAFAn+BCzAAjpGt+chWHhBeUJckAbcf+AuaOgCOka35yFYeEF5QlyQBtx/4C6b9AXCMbM1HtvKA8IK6JAlQgQAAAAAA2QhUIAAAAABANgIVCPwF0/4AOEa25iNbeUB4QV2SBKhA4C9wAQbAMbI1H9nKA8IL6pIk4PYDf0FTB8AxsjUf2coDwgvqkiTg9gN/wbQ/AI6RrfnIVh4QXlCXJAEqEAAAAAAgG4EKBAAAAADIRqACgb9g2h8Ax8jWfGQrDwgvqEuSABUI/AUuwAA4RrbmI1t5QHhBXZIE3H7gL2jqADhGtuYjW3lAeEFdkgTcfuAvmPYHwDGyNR/ZygPCC+qSJEAFAgAAAABkI1CBAAAAAADZCFQg8BdM+wPgGNmaj2zlAeEFdUkSoAKBv8AFGADHyNZ8ZCsPCC+oS5KA2w/8BU0dAMfI1nxkKw8IL6hLkoDbD/wF0/4AOEa25iNbeUB4QV2SBKhAAAAAAIBsBCoQAAAAACAbgQoE/oJpfwAcI1vzka08ILygLkkCVCDwF7gAA+AY2ZqPbOUB4QV1SRJw+4G/oKkD4BjZmo9s5QHhBXVJEmS//ZWVlYWFhcXFxfT6pZde2rJlS/Ixy8vL77777urq6kMVeiG61GADyaf9C1WomuXk5Dz//PNlZWWGh7355pv0l2oXVTb6K7rUwIxMMhqyNR/ZygPCC+qSJEinAsmCv/zyy8yOEw7OsLKysri4ODc3Rz33vXv3RP8gIBdUqbZt2/aVr3yloKCAqpmzkzA5yCoYVTbRvynbgdEAAABnSKECecdcXV1tOHB3w/3798myT05OYgona8nJyeEVjE0ReQgJCF7H6LXo35otwGgAAIB7RKpA6pvr6up2795N1jyAy9FYf3R09Pbt29Ku/mQkYqf9KysrqYLt2rXLc6FgCNWuO3fukHoQ8FOzg2wzGrKtmslWHhBeUJckQYwKLC4ubmhoCKxv1rK2tkY2/ebNm3Nzc0J+e7YhxAWY6tX+/ftJK3g+82eFlZWV8fFxUg+YGvSQ7DQasnnQy1YeEF5QlyQh6NtfWFjY1tZGo3nRPzy+6DM4OEh/RRckwwm4qZNEOHToEMmF4LWCDpION27cGBoaghZ0STYbDdl6StnKA8IL6pIkBHf7yZQ3Nzfv2bNH9E/eBLSg3wQ27Z+Tk0P6r6mpSbj+0wIt6AYYDdlWzWQrDwgvqEuSEIQKpO6ZTPmxY8dE/9iU3Lt3r6enB/10eCGh0NraWlBQILogxpAWHBkZIelAL0SXJRzAaAAAQAD4rgIrKys7OjqEuGfZYnV1ta+vb3x8XHRBgD1I+VEFCyZWwCWLi4ukG+CQmhYYDQAACAYfVeCWLVtaW1v3798v+jfaAON7z/F12v/QoUMtLS3PP/+86F9pAxINJB0QqG4IjIYO2VbNZCsPCC+oS5Lglwqk0XxnZ6ezDK5ioe65t7f39u3boguSIfjkAlxQUEAVrLq6WvTvcwIpBio8JgV1wGgkI5sHvWzlAeEFdUkSfLn9NJRva2vLyckR/eucMzIy0tfXJ7oUmYAfTZ3kQnd3t7RegFZYW1ujCnbjxg3RBZEFGA1DZOspZSsPCC+oS5Lg8e0nI06mPFwLOqm4f/9+Z2cnVu5c4vm0P9Wub3zjG88995zoX+YBpAJJN2R5yAiMhgmyrZrJVh4QXlCXJMFLFVhYWNjd3V1WVib6R3nG8vIy2XTsIiUJJBc6Ojp27doluiBeMjc3Rz8qawcbMBoAACAQz1QgWfPe3t4w+vSYQ91ze3s7bLpwSAKSXAhFLLBdqHaREMzCmCQYDQAAEIs3KjBTrTkDNt0Nnkz7Z7AEZCwvL1Mdo7+iCxIcMBpWkG3VTLbygPCCuiQJHqjAzLbmDAhBx7h3Ac54CcjIKiEIo2ER2TzoZSsPCC+oS5Lg9vYXFBT09fVltjVnQAg6w2VTJwnY09MT0owwdskSIQijYR3ZekrZygPCC+qSJLi6/dRDkzXPJM9uc1ZWVtra2jK+k/YWl9P+3d3ddXV1on9EcCwuLlIdy+BgERgNW8i2aiZbeUB4QV2SBFcqsKenJ+PX6XRkfCctFXSrDx06JLoUQXP//v2Ojo5MTR8DowEAAPLgXAVmZw+tqBtGdXZ2ZmonLQ9Uu6iOiS6FGMbHx0ktiS6F98BoiC4IAABswqEKzOYeWlGT/fb29oouRThwNu1fV1fX3d0tuuwi6e/vv3z5suhSeAmMhgOjIduqmWzlAeEFdUkSnKjA4uJi6qJCvdeTe2hkPzk5KboUIcCBC3BBQcG3v/3t/Px80WUXydraWnt7e8bsNQyjoTgyGrJ50MtWHhBeUJckwcnt7+vrq6ysFF1ywaysrLS2tmZhpl+7OGjqWeg6Zsji4iLVscxYRoTRUBwZDdl6StnKA8IL6pIk2L79LS0tzc3NoostBffv329vbxddCtmxO+2/Z8+ejo4O0aWWhcxwEITR4Ng1GrKtmslWHhBeUJckwZ4KLCsr+9a3vvXcc8+JLrYs9PX1jYyMiC5F5lBYWDg4OJjl64Y6wu57AKOhA0YDACAP9lRgf39/9iT6ssLa2lpTUxPWhb0Ca8HJUO2iOhbedWEYDR0wGgAAebChArFUZwjihc2xPu2PuOBUXL58mbSU6FI4AUbDEOtGQ7ZVM9nKA8IL6pIkWFWBOTk5V65cyfKwzWSePn36zDPPtLa2Zt7OcsPq38Ouz2PRBZgqGAmd4uJi0b9bRkI6ewSjYYgtoyGbB71s5QHhBXVJEqzefrJZx44dE11aSZmcnOzs7BRdCs9oVP9jBKYCszyZXFrCWMdgNEyw+EBl6yllKw8IL6hLkmDp9hcWFr766qvw7zaEjew7Ojru3bsnpACk2CKKckRRZje/P6wo19T/nNGlKJVeqEAr0/4FBQVDQ0MICjEnXFPOMBomWDcasq2ayVYeEF5QlyTBkgrM2n2frCMkawzTf1Xq662yqkAroIJZIVzTgXimaUGqKQCAcNKrQMzTWCT4qZqnihJVdd7MZhVI/2Q7TtDfQ+pfB2KuKygVSFVrdHR0y5YtQd22UBIuD1QYDYuE5YECADKV9CoQzj0WETVVU5WkAvmb11SZOOvotF1BrQjDI9A6YZkOhNGwSNoHKtuqmWzlAeEFdUkS0qhARPnZoqmpaXl52dtzPlXFHFdjw6o426o5wFAFsuXgRnUisCtxjKI5TBsCPKMecG2z5gsmRpgq2NDQUEFBgbc3LYNpaGiQPFgYRsMW5kZDNg962coDwgvqkiSkuf2Yp7HFyMhIX1+ft+fUirxGVZw9k/oA/s5V9R3+Qkl8lx/GRWHyGRoTEpBx2IVzoZKuqe/atSsUk1vy4Ecd8xYYDVuYP1DZekrZygPCC+qSJKS5/YODg0jhZp3V1dWGhgbPt3noUt37jqhaLVmTGc4FJqM9jL2e1ajAiG8ugObT/r29vdXV1f5cOTPxqY55CIyGLcwfqGyrZrKVB4QX1CVJMFOBZMrJoIsuYcjo7u6+ffu256dlU3cjqiLUYUsFMhE5rK4URxKPf9iF+6AbCgsLh4aGAr9s6PGpjnkCjIYDZH6gAIDMxkwFtrS0NDc3iy5hyCBr7sc2aMPqQm3UhQpUVBdDNuEXScwsblW9DKs2n9Yrj8C0HDt2rLW11f/rZBo+1TFPgNFwgMwPFACQ2ZipQKzsOGBtba2hoWF1ddXDc3ZpVoST1Z51FTijziYeSqSYfqp+66om1sTbXUPWC9+lf8Hp6+urrKz08EYZMxHdGZ3w7Gz1kTuRet/LbIofdcwrYDQcYPJAZVs1k608ILygLklCShWIlR3H9PT0jI+Pe3U2rcjr0izjGh5gDosF5hOKT9WvRJMcDbs8zRSYygU4yAqm1YGOVFxsYjAavRRz/H3P8baOeQWMhmNSPVDZPOhlKw8IL6hLkpDy9mNlxzHeJnV7unkheCYpC7R1FajLMjOTwtGwKxAVGGwFiw0eP85UnKKUtAwMNJfYPsW6lJRDBcqZOBBGwzGpHqhsPaVs5QHhBXVJElLe/u7u7rq6OtHFCyWrq6v79u0TXQrndHmqAlNN+wddwdzrQCYD5VCBctYxGA3HpHqgsq2ayVYeEF5QlyQhpQq8efMmNvVyTHNz8+LiouhSOKQrkL3jgq9grnWgKgPlUIGKlHUMRsMNEj5QAEDGY6wCy8rK+vv7RZctxMjptmWRAGKERVUwdw6CqowskUUFylbHYDRcItsDBQBkA8YqENn/XULWnGy66FLYxttdQxiG0/7iKpjrQBFpkK2OwWi4xPCByrZqJlt5QHhBXZIEYxXY0dGxZ88e0WULMYuLi3CTZxi6AIusYNqF4TDrQNnqGIyGSwwfqGwe9LKVB4QX1CVJML79SPrlnt27d8u8zVdgGDZ1sRUsU3SgXHUMRsM9yQ9Utp5StvKA8IK6JAkGtz8nJ+f1118XXbDQ09ra+vDhQ9GlEI/htD9VMKpm4grlQeIYGZAnngBGwxOSjYZsq2aylQeEF9QlSTBQgUj96gnYGzQVclQwjYNgaHVgZ2fn5OSk6FLEkeOZhh4YDQBAwBiowLq6uvBvahmbiEajSrPA1b7+/v7Lly+Lvg8ysm3bNinCGsKvA/v6+kZGRkSXIk5GGA3PUKeaFQd1CkYDABAwBirw2LFjra2togvmmNjE4ODgpYmYItjnCzvEM5Kn/eUJJg27g+CNGzd6e3tFlyKO50aDPRrZ1LnFUjlWgclGQ7ZVM9nKA8IL6pIkGKjAzs7OXbt2iS6YEyYGj7PNXkvq65WJiZjQjn1ubk4SrRMkAwMDLS0t169fb29vj8ViipELMH20f/9+0SVlhFsH3rt3r6OjQ3Qp4nhuNLJTBSYbDdk86GUrDwgvqEuSYHD7e3t7q6urRRfMCRPRnYNKfCfT+hLx2zwsLy83NTWJviVB88EHH+Tm5tKLJ0+enD9/vqen59Gjx+wj3tTlSikSZh0oz0gjvEbDDxyrwGSjIVtPKVt5QHhBXZKEjFKBGqACxXDixIkLFy5ob8L/+B/73njjDUUz7S9dBQutg6A8dUy6ZyoUD1WgbKtmspUHhBfUJUkwUIF9fX2VlZWiC5aE0WIMe89I7IlXgSsrKw0NDaKuLhBSA6QJ6uvr+Tt3795tb2+nv+yfEiqGkOpAeVSgpEZDEI5VYNYaDQCAKAxU4NDQUGFhoeiCGZCk+UyknngVSOzcuVPg1cVy4MCBCxcuaCvSlStXSAuScJEyvbBmYTg8OnBtbW337t1+X2XPnj1jY2P04OjxXb9+3fAYh0ZDDeWamFAdSJWSkvrmSKS+hH1k1II1kV9x59+WSGTHdzfrLa6/dsSi0UF2YvVA9fPYYDS6/vWNNzeXh3+LFahe9S/ZOMBZqeyQzUYDABA8YVKB6zY40Ulv+ofhkUJVYImKqKvLRBd/8eTJk56ensrKyl/7tV8TXaokwukgGIBoYBE/7PXExARpwfv37+uOcWI0tDc8wcaNT2rBRoezMLBkFdhScunSxKYDWwaaY8ejE4ruzaSFheRibjrKWansoHugsq2ayVYeEF5QlyQhXCpQI/3SDLehAuWB17F1Z2DSgg8ePHj8+LHogunZ6NHDMx0YgAosLy+/c+eO1iacP38+Go1qn6ADo8FW4esjA4npv/ic2tsvRprrNz7eaMHrz6akPpKYLtyYgivRqUB6a+O8sYno8Y3V/khEndpbfzP5i/Hz0xGJAtGvjF8gpTa1WCoXD1Q2D3rZygPCC+qSJIRNBSZ0YElJLGY22IYKlIdNKnBubu4LX/jCL37xi+npadEFSybRq4dGBAa0gJiXl9fR0XHq1CkWAE6QBCSJRHKQ/dOpCkzdRDd/nJCMuqOTnIUNU7mse31u+rbuwBTnT/rAWansABUIsgTUJUkInwq01lOLV4FKdrv4UBWKRCInTpzgK8KPH58i6cCU8dra2ve//33RZUyC9eoh0oDB1jF6dhcuXNBm+Xnw4MHJkycnJiacGI31ux33BuTTb7pPEy04ZbiF/gPDAw2DyDY5lJiEc2z+yFmp7IAVYZAloC5JQvgyxWws25mJPPEqcHV1tbGx8cmTJ6IKIJBTp06RBMzLy2P/JM33zjvv6GZGJycnP/zwQ9El1bBesUQPHVIg89Ty9evXV1ZWPv/5z9v+pjZcY1NsiK4Fp2zO1lWg6Zsm5mKzhHRWKsuQ0di3b58PjwgAAIwJmwpMGN7mt1PliNl8nLgO/ZlnnvniF7/Y3t5+5coVUWUIntra2oGBgfLycv7Ou++++8ILLyQf+aMf/Yikg+jycuTWgHKrQIIE/cOHD5eXl518ORab+O56qHAKD7yUkWBeqsASu3OBlktlGTIaL7744smTJ8fHx317VgAAsIGBCuzu7q6rqxNdMEO0Zjd1rkB+pLgu/dd//dfLysoUNaNbRUWFhJEQPrG0tMRXBv/xH//x05/+tDZGWHtkTEV0eROFkVwDyq0CqZJPTU3l5+e7O026tVcDTztjv0D7KjC1X6DOzDgrlTW40aB2QUaDLSPItmomW3lAeEFdkgQDFSjXBl8a9EPvlJZbEa4Cc3JyvvzlL9Nfen3p0qXjx48Lu2vBMj09XV1dvba2xn67ij5GmPHzn/98ZmZGdHlVQugOyHj48GFra2uQVzxx4kQkEuFCn+8T+Hu/93t2jcbEYPTtF5t3bATkxleHdfEavAUn/EB4lK8mglfxQAUmIkgMY4T1Nsd2qaxBTaampuYTn/iEokZht7e3K/J50MtWHhBeUJckweD2t7TEt+IVXbAkjJZfUutA8SvC//zP/8xdfPbu3ZslSzx5eXmjo6O7du3SvGesAj/88MPJyUnR5VVCrAFV38rOzs5grlVbW9vb20t/+TtUpU+ePMkmdB0YDc1+LRukzhdomM6vvqUldsmDFeGUF1AUbS4bp6WyjNZokCK8f/++bD2lbOUB4QV1SRIMbj914YF1LRnM5cuXjx07xjZS0y7xZDxjY2MHDhxQ1ADSz3/+8zk5/2/iky7dkffu3Xv//feFFjZ8qWG0UB3r7+/3+yq5ubkDAwNHjx7l79CTbW9v1w5snBiNpI06UkeHJL6g36SjWfHGL1B7gYmURXJcKsvQA/3617/OZlVJAm7fvv306XWjIcmqGVbxgFegLkmCgQosKysLoGvJeHp6eqiznJ+fZynWLl68ePLkSdGFCoK8vLxTp06RvKM7oH3/3/7t3z7+8Y9r36H74zCewCPkdwc0h+5wAHPMvb299EDZ68ePH9NFz58/rxvSiDIaphsIhQ+d0Thz5sy5c+dEFwoAkMkYqMAtW7bcvHlTdMFCT1tb29zc3IkTJy5cuMDeoZH93bt3RZcrIIaGhrSzRyQKP/nJT+qO+clPfvLw4UNhRQy7BkzUMb+vcvr06bNnzyqanaCTjxFjNFylZ5YR9kBJc5PyVlS3y5qaGtKFossFAMhYjBfkR0dHCwoKRJct3Ozbt291dZVeTE1NMW8qsuZk07NkXZh+8l/8xV+8+OKLH/94N/3znXfe+exn/1R3DN2fN954Q1ABQ+wOyOF1zG/oaT5+/NhcjvhrNGKD0UFlhyaYJDbx3Xg0SZh2+0sPf6Asykr9nS2Dg4OKNKtmWMUDXoG6JAnGKrCnp2fbtm2iyxZitNlfy8vLyaazJZ5z586dOXNGdOkC4s6dO6pbpHF0CPHRRx9NTk7S3+DLlgEaULYMw/4ajVSxG6F+hJvRPlCSgDR6VI3GevORxIMeHv3AK1CXJMH49ksaJhwedMGbfE1NSYT+iS6g7xw9enRoaEh9uaECP/zww2effZZevffee7/yK79CL+7evRv85Gi4Q0ISBBkgbAW/jUZy6EY9XW9T7Ea40T1QshhkN6ACQaaCuiQJxre/rq6uu7tbdNlCTF9f38jICP8njelpZM+WeFjoX2avC+fl5c3Pz7Oscnfv7qGfr/72LurnqGqdP3/+/fff/+Y3v/lP//RPP/zhD4MuXPjdARm6OiYcGA2XJBuN6enp8vL4zkMzMzP/7t+Nii5gHKziAa9AXZIEYxWIABGXtLa26uIeNEs8SjQa7croin/hwoUTJ04oia1TFhYW2J7CPD5GXAVzpQEd7wzmB8l1TCwwGi5JfqD19fV37txhrw8ePHj9+nXRZQQAZBopp2L7+/vZdkbALmtra/v27aO/uvcTSzwZHvpXW1tLepe9pq6LfuytW7cUNWliaWkpP0xIBXPpDihPXpJUdUwsMBqOSfVAdQMqP/aibFSUiKJUqa+jyVk9AQAZTUoV2NbWdujQIdHFCyX3799nuz/pSCzxlCuqP9z27dtFl9R7tGvf169fJxX4gx987ctf/rISz5hYqM2YKKCCuQ0JMd+6OlBS1TGxwGg4JtUDPXcul+7qli1bSJ75lHN0WFGuqf81qq/NfbSwige8AnVJElI2eXj5OKa/v//y5cuGH2nnycjonz9/XnRhPYbHwTx58qS0tHR5eZm7AO/cWT8xMcGPDLqCuQ8Jkcmh0KSOCQRGwzGpHujTjcD6+KudO3dqG5G3VCnKTDoVCI9+4BWoS5KQ8vbn5OSMjo6qY1Bgj6amJpMtMfgSD+mkioqKWCLmMQMoKSnh2x4wjas6Nk2wT3VNnSrY0NBQUGkpXSu42MQgS08nhwo0r2OigNFwTKoHqlOB/uUcJQl4VV0RvmZ6GHpu4BWoS5JgdvupI9+/f7/oEoaMubm5trY2kwNIJJFUKlGT39Kwngb3oovsGbdu3eJboFJfpaxL3uXEO6/pjg9sATFVsjknSOAWmLaOCQRGwwEmD5QtlpGw/s//+X+xECs/Ysu6VNfAWQsqEKt4wCtQlyTBTAVWV1ezjYyAdaws1WlD/46TPrl0SXSpPUCTIHAjJ+LCwgLTu3v37k3e8baysrKvr8/3kjF3QK+QQAXKuRzMgNFwgJUHyveifPLkyfbt2/3IOcr8AreqchAAkCWkmYrFVnJ2sbhUNzAw0NLSQi8eP35cUVEh4eqeLbQJAs+fP8/83LkTJP3GoqIiw2WswcHB4uJiX8vmrQiUYUFYzuVgDoyGXSw+0MRmPOljy5iHn6KRdMPq38Pq3xn1gGuJf/LoEPYtqEAAsoo0KrC1tfXYsWOiCxkarEduamXT+Pj43r17RZfdFdp8FqWlpUzwJTLjdNFtee211wyn/Q8dOiTt4qacyBkdrAVGwxbmD1S7aqbdizJtbJluYo+LQiVJ7TGPQJYp5jBWhEFQoC5JQhoVSGP6K1euPPfcc6LLGQ46OzsnJyctHnzgwIGxsTH2uqmpie6zV8WoUr18GtXXASQAq66ups4p+YckloPNtsCiCjY0NJSTk+NzGTMHW3VMCDAatjB/oDoPem0MvnlsmVbqsdezGhUYSUwE2gUe/cArUJckIf3tJyO1a9cu0eUMAQ8fPmxtbbX1FRJAR48eVdQptJqaGq+W+YYVZU4Vf1YSgLmHJCBLEKid1CwvL5+fn1dfptkIFUnmrOOgjgkBRsMiaR+orqfU5uM0X0Ngyo/N7TGDEEk0xWF1cOhs2Rc9N/AK1CVJSH/7y8rK+vv7RZczBDjY17WwsHB6+krhK33Ktapb//cX/8+mJu2n3F/HMVYSgLnk1KlTLBpANznR1dUViVC/o8zMHBodHVVST/sXFBSwA0Bauru7b9++LboU6YHRsEhao5G8aqbNOWq+hvA0MeFH7fBIYmqwUjULXZrDtC6DacEqHvAK1CVJsKQQqO+pq6sTXVSpWVlZIYtsd0evRkUhAfW/0auqLmUmogukda8CuzR//YBU7MLCAnNUOnPmzLlz5/hH8/PzbJcUK4vdqGBWcFbHRIFnmhbHD5TGXTT6UtKtIZDsI4F5SJWAs6oo3Kq6AG5NHNCY8BtRnC4QAwDCjiUViC0B0uJgIlBR7XJUUf73//Ri3fRxUoF8q9AZdQVHUf8eUv86sNHMxPtq3MfGxg4cOKCoHu7bt2/nUcAlJSWkDhV1grCoqCjt5qeYOrKCszomChiNtDh+oNqco5cuXTp+/LjhYSwWmHsGP02REbBLnSCECgQgO7G6WoiRvQkuJ2l2bHl24tf/qzIfd/rmW4WyxdxrTj14ApCA2ugWkoB3797lH3Ef9vHx8b/923XXJfNpf1Qwcx4+fNjW1haWiUAGnqkJFo1GqlWzPXv23Lp1i702TMapqIsJlZqZPzY12JV8CTsqEKt4wCtQlyTBqgrEbI0J5t5aTzWpuZQk06wwwZf/ZWXlB+yfbKvQ4cT+7izOw1YCsCrNuk+X+r7nCcByc3MXFhZYppvkTe6npqZqa2sVNSf2wMAl9qa5CzCChVPx9OnTZ555pqOj4969e6LLYg8YDRMsuniaeNDznKOxWKyiosLxtnJddlSgVB79lZWVZIJYwtGXXnrJcOvC5eXld999d3V19aEKvRBdarCOVHUpm7Fx+xHLaUjaKD9tygbDoF12wA/u3PmKmhKWbPrXv1D25//6b1s36znrCcBmEtm/lMQxnqtArWcSW8XmH/HlYCI/P//Ro/WP0jZ1VLBUTE5OdnZ2ii6FE/BMDbEe623SU6qxZdO6VO0O6AqPCiTZ9/LLLzPxx364XVZWVhYXF+fm5t58883QDasyDKhASbBx+zFbYwhZc7Lp5sd0JXy0Z4zysjIN99slJTfm51mkxblz586cOaMYHeZ5AjAHpEoQyOBbXbFdkq1P+1PVogqGbSd0rK2tNTc3y7xZiAkwGoZYMRoM8+bT0tIyMDDAXvNtG+0ieYwwqb1t27Z95StfIbNjONvnBrpjJAdplGXxcQAPwYqwJNgT4djpQcf4+HhPT4+VI9nUnaFfDpd3+xLudEqSp53iWwIwBxgmCOTwfa5Onjx58eJFW2fes2dPR0dHUL8jHAwODoZ6p2kYDR3WjYYVbt26Ra1GSYrQskJjQgIy0m4cEiQ0cqirq9u9ezdJwAAut7i4ODo6evv2bSwZg2zD9lRsb28vUwBgeXmZxvQWrcawanOjpipwVuNRZ2jT/UgAZpdUCQIZNHBfWlpir4uKihzMYCGkQMvc3Fx7e3u4gkKSgdHg2DIaVigpKZlPrCHosjWFlOLi4oaGhl27dnk+85cWamgkBG/evEntTvRtACAgbKtA6ub7+/uDb59SwRz2qXu2uATTpVkRTvbS06pA6ixJCDKbHo1GuzbPlQtPAKZNEJhcPEWzRMU3vLc77V9QUEAVDOvCitonkWJYXFwUXRC3wGgo9o0Gw0rz0Q7MampqHjx44N+v8HUVj+pJW1ubDINAekaDg4POVtiBRbAiLAlO3DKxbEeMjIz09fVZOVIr8ro0y7iGByiaXTfIppOQ0loi4QnA+JZ31NNQf5O8/MTXp/i0hAMXYJLCrFfLcsKVINAcGA3FjtHgWGw+fA2BOeP69xN88ugn/dfc3MxMhzxAC/oKokMkweHtz/Jlu8XFxdbWVovrdE83LwTPJGWB1qlA7VahZIBIbPEj/UgAZh1tijKWzkZ3QF5e3tLSEpspLC0tZYvFzpo6Ykvp0TuO+pQTGA3rRoNjsflo1xAc+ON6Xh7r5OTkkP47duyYTwV2z71793p6elZWVkQXJNOACpQEh7d/y5YtNKhliZqyjdXVVdIovq7TaYNwHfj6dPmgAq1sV8CXg7Xi1dm0P/UNJBqCcQyXkOXlZapjGdbxwGg4MBrWmw9fQ3j8+HFFRYVPQeXeruJVVlZ2dHTIXyXo8VHVNUzNDRyDFWFJcC7CCwsLqWFkm/8WDeXJbAWwRnD27NnTp08rjnx9unxQgbw8JluX8vViQ5dBu5Bo6O3tLSsr8/R3hIAAhhmigNHwDxqn0dCRbd595cqVpqYm0b/bDGrdra2t+/fvF10QG2BSEGQkrqZiqYcmm55VycAsZvx3j9am2/X18TxGWLvedPz4ccPEJfTpo0eP2DEVFRWeuKiTaCAh6Cw9bEgJbJghChgN/6ivr79z5w57ffDgwevXr4v+6cZUVlZ2dnaGsV3TCI0sUjBPE4BgcLsgn1V7xgecuU1r0y36+viUAMyK7/nRo0eHhoYUNXCEVCB/3+W0P4kGMrvZE17a09OT8QtPMBrWsdt8Lly4cOLECcVoUx9PcL+Kt3///ra2tlAPAxxE+YBksCIsCR64ZWZJ9J+Q5L3cpj958qS0tFTIBhJ8LxDztWm+q6luOdi9C3D2CMFskIAMGA2L2G0+eXl58/PzqTb4do+b5kzKj/RfuFaBU3H//v3Ozk6kmHYDokMkwZvbT4N7ahKhHt6ZI2r/htzc3IWFBWbTDTfq8Bu6NHUq1LUopt5+VM6lpSV2mG7XE0+aesYLwbW1NfqBWSIBGTAaVnDQfA4cODA2NsZeG8byB1weBlmS7u7uTHLzpTE5VWBsPecYqEBJ8Oz2b9u2jRp5Rtp0sVt4afOzpPLJ84+0CQJ1hYzFYqWlpdqPvJr2z2AfQZKA1J1k4d72MBppcdZ8LDbbwMqTqY13dXW1vb0dQtAZWBGWBC9FONl06swybMKmv7//8uXLYsvAF1tN4nP9QCtA9+7dazJTxUt47ty5M2fO+FQe6kV6enrkzythC+pISAlloQRkwGj4gcUp/MAKk5ESkAEhCMKOx1Ox1ENTl5YZ/TQ1b9Ick5OTogsSN6PT09PMjAaWA0KbIDDtRZeWlljxPF+B0kFyoaOjI2OSDy8uLpIGysikMNaB0fADrTuvbguiIMlsCciAEAShxvsF+bD302y7T2rS1D0LicYwhEfgEiTISJb5fUXrSWh5LDMdU1RUlHQe/Qv3tLS0NDc3+30H/Ia0AikGOJgrMBqpcdN8qFVS21Q0m3oHXJ6CgoK+vr7MloAMCEEHYEVYEvxyywx1P3379m3qnu3u9eQ33NfHpxwQWsrLy6enpy1uSMUDmQ1jEn1yASbFQLohvCuJYp1N5QRGIxk3zUfbikmjnD9/Psjy5OTkkATMpHAQc1ZWVtra2uSZOJAfRIdIgo+3f9u2bdRPh2ufAJl3CtL6+qTaw80rbM0iLCwssIVjw+Vg/5p6cXEx9W1sw+UQsbi4SHJhbm5OdEFkBEZDh8vmc/r06bNnzyrqujANHdnW3sGUhyp5tu0ASU2bhCBm9y0CFSgJ/t7+LVu2NDU1ybxTuBb5NwjiG/Uq6cI1PLmKFY+i2traqakpRV04LioqSo5G9Hvaf8+ePWR5wzIpePny5cHBQdmmmaUCRkOLy+aTm5tLzZONlDxJNWWxPNQkDx065NM9kRmqD52dnaFu4GUqn/vc5yorK3UfLS8v//jHP3748KEnbqZYEZaEIES4/FuGkxEnUx6KOM1bt26R7lHUnCw0uPcwBwRDG4liJeCX7y/s9/SkCQUFBVTBJJ94mJub6+vrwxSgRWA0vIIkILVo9joYl2LSf6QCRf9uYdy4caO3t1d0KWxDbW3fvn27du2yMhNPMvf27duvv/56Bu91mT0ENBWbk5Ozf/9+skGyrfVQbR4aGhoZGQnLNH5JScn8/Dzz9fFjbwCe88WiyuTLwf7NTVqkrq6uublZQj8kGkAPDg7K6WYgMzAaXkGi5NSpU0ogqaZITPT392dkDkjrdHZ2yhAnboUtW7aQ8iP958xyUl26efMmKUI4RIaXQBfkpTLrZMpp0EbWXOYlYEN4DgglaaMOl2h3Lrai6vg0A4nF/Px8Q8mouhfG8TOBzAZSaUGqWlTBqJqFeoVILFluNDxpPtqsTy7n7NOWp6+vL3klMdug6tHa2ip5z0Iti0ylV64XpHppsGHrJwfcNYBUCHDLZGa9oaFBVAYBGsFTlR0cHAzv8GVqaqq2tlbxdG8A6ipI0pWXlyuWsxLybDImxwtxASYtSKNbgWvEVLVGR0eh/7wia42GV83HegZ4N+UJdZS3t9y/f7+9vV10KVLih8eF3TApRIdIgsjbT5307t27d+3aFdgVqWW+/vrrt2/fDnvfrM0B4dV2HdYTBHLm5+eZajTxNxLY1EkxkBak/i+waSSmFW7evAn/P5/INqPhYfOx6+xhtzxlZWXf+ta3nnvuueDvkpyQJBoZGRFdCj3eTgEmYz1eCipQEsTffuqhyaa//PLL/qX8oC75e9/7Xob5LmhzQLjfG8BBajH6CqlAxXQ5WIknnVl/sXOnsHvFK5hPcpDEH9m+H/zgBxkwwAgF2WM0PGw+2sAvauDOZqpMytPf3y+JJ4YkkCmg4bFU68LBBF2RPezt7aW2Y36YDF0DUGRQgRwao5BN/9KXvkR/3XuWkO1mHTPJo7A4cduFbDrrBek3khB0sy7MEwTSqWpqaqx8hcvQ69evHzx4UPTNsAT1UryOuU8uw4QC3THM/IkCRsMW2i2IqJl7GOC5Z88ekheif590SBUvvG3btu7u7sACd3p6ehASFwokUoE6qMOmYStLXFSgkmoEQ4OtxcVFGnjNz88vq1CvnA1TMtTzTU1NsQk8N3vGO+sbuG/i8ePHw7gNBqtRVMFeeOEFNodBMiKViWQ1iqrWu+++S6/pRZZv/isnMBpp4amm3A8dOdRqrly5kp+fL/rHyQXbV7C1tVWGneUCloAMCMFQIK8KBFbgznxkzUnAPXjwwO4Z8vLyqCO0u05UUlKysLDArltUVGSynR0CwQBwjOfNh1o6tVw2dDxz5sy5c+fcl4eETliyfAfP5ORkZ2en2DIIkYAMEyGIrkESoALDjTaw19me8XwX4OXl5dLSUotzA6dOnWIrHWk3JIALMACO8aP58MbrYOiYXB6Sla+++iqCQgxh04EdHR0Cs4sLlICMVEIQXYMk4PaHHr6Hm2J/z3jtdw8ePHj9+nWLX+R+hCdPnrx48aLJkWjqADjGp+bD3TkmJiZ22nHOTy5P1m4WZx2BWWMkSeJtqIPRNUgCbn8mwPcGsLVnvHaPUVsRHjT6X1paYq+LiorMgygRCAaAY3xqPlqX4rQDOZPyFBQUDA0NCRcZ8iPKO1CSJN4rKyvNzc26iCt0DZIAFZgJaPcGsD641+aaKS0ttZ4Rg29eYnciAQAgCQ7ygyYDj0CLCPEOpEdDD0j0T19nfHy8p6dHdCmAAVCBGYJ28zcrQbva/YjtriPzMEO7XwQASIKDvYJ0IDTYFnSHg8w9KclasBax/pEgFVCBmQOP87AyuNcmjLCYIJCRl5e3tLTE5GNpaWna1WcEggHgGF+bjwO3YG15Dh061NbWJvoOhYaRkZG+vr5grkXij64lWxJv3bowugZJgArMHLQ5X8z9/Nwkj21paRkYGFAshyTDBRgAx/jdfLQpAmjoaJLyKbk8g4ODfu9CkUmQ+mloaAgmJ6W0Gzpr14XRNUgCbn9God0zPtXevs4SBHLGxsYOHDigWE42hqYOgGP8bj5aa3Dx4sWTJ09aLM+LLxaTChR9e0JGd3d32n3V3CP5Sj0PlEHXIAm4/ZnG0NDQ0aNHFXVwX1NTk7wubHf0ryU3N/fRo0dsOZi+ayXTGALBAHBMAM2HBnU0tEtcZeeE6focL8/goKSzTTJDEpCEoN9XkXylnq+Mo2uQBKjATEO7Z/ylS5eOHz+u/bS6upo+Za9TTRaawJeSSf+RChT9WwEAHsCHjtSuaehoJXV8EMvBE9Gd0QnPzlYfuROp97fA6VhbW2toaPB7i2rJV+rpJlDXs7KyIrogYB2owAxE6/a3d+9ebd52koAsQWDaPT8M4b2Fm22LAQBSQYPG+fn5vLw8xVrTJpERzHKwVgc6UnGxicFo9FLM8fc9x++tdevq6gKYbnRJf3//5cuXRZcCrAMVmJnwEGDtsq925yjryaU5ubm5S0tLrKuwHlOCQDAAHBNY8+FRX2Qctm/fnqp1s/KQbfnqVzsCuQGxwePHmYpTlBIqYnOJ7VOsS0k5VKDfiQPJwrNxvsysrKw0NTX9h/+wHiiDrkEsUIGZiXZwz5y+Xe4ir2hCT0g+lpaWWvwWXIABcEyQzYdvC2kS/s/LMzFxx+p5XeJeBzIZKIcKXF1d3bdvn08nLysr6+/vF/0TLdHT03Pr1vqcKLoGseD2Zyx8hw9Fdfr+/d//fRbbS6N8MvFWXH90DAwMtLS00AtSkKQjLX4LKhAAxwTZfKxkkhegAj3QgaoMlEMFEs3NzYuLi36cOUR7OlM3dOrUenoKdA1iwe3PZPjg/qc//elnPvMZ9iZJQBrrOzjbo0eP2OSirTMgEAwAxwTcfLS7Sho6jVB5PvGJT3zxi1+8f783yPvgzkFQlZElsqhA/1wD+/v7ZcsUnYq1tbXc3L0fffSRgq5BNFCBmYx2cM+wkhLMEL5Dna3lYABAiCBbMTU1lRxAdvTo0YGBgYmJCXpHUCIS14Ei0uDTjroFBQWjo6Oif5wNsKGcJEAFZjg8IoR47733aKRoK0Egh2cZdKwjAQDyY5hMikebbd++fceOHex10GgXhsOsAxcXF/1ItUgPhXSV6B9ngyC31AMmQAVmOFqb/vbbb5eXlzvwCCSWlpZYDsK0eWV1IEYYAMcIaT5nz549ffq0osk8z31L2ttr9u7d+5nPfObxYwGBqJmiA5Xdu3d7vpUcSUAx6twpv/jFX/3xH/+xkmVdQ+Pw02Hl8DOHr/HXWw9fm7V/BrvfMgEqMMPhCQIZzvL88V3nqT8oKiqy9V1EhwDgGCHNJzc3d35+vqSkRElknueRYbzLCDI6RIMHiWNkgO+i5iFDQ0NsoB4W6uvX/QGl6xriOqtx45+zs9dGjhzu8kZ06VVgZXTrVnundvYtE2S7/cBL+HLwhx9++OyzzyrpkoGlgs8NJG9GkhaoQAAcI6r5cD9gRc08f+TIETlUoLLJQTC0OtDzDYVJ//GdApKJ3zIlMhCpLwnwN5pflD7tStQg6boGrVJTlKrGrqvDkapr/A0Pz22Fqq6Zq6T6vLi4MbLdfuAZ2pSBf/iHf/i1r32NTQqaJANLxcLCApsY0O1EYgXECAPgmICbT21tLQ0U2SiRz//FYjEyGmzToLff/vynP/1pJZ7pI9AY4U2EXwd6vnkG2Xbu/51M/IbFgr5T5helT+t7S174pQ/effdd6bqGZKVmX7tZP7f337AJVGDGotsbtLy8nDsI2soazT0LHz9+XFRU5MytEAAgOTzD6MTERDQaJbvBdySnVs9SDVy9evWFF14QXdLQOwjevn3b233eQhcawmYKW3/jHRnTXCfrrqqumZlDI16swkIFgoDg+3womngOvrBLNp10IVl5K6fq6uqKRCKKo+VgAEBY0OaZV1QtSCaCZQbg3Llz5xkpFvDCrQPn5ua8zbYjKH2Pc5gK7PjqEz+S5rjFdC5wXRBGK68ON1bNJvzzqrqGr0Yaq+LHzl6Lar0IqxrVT6rWP7lWOaOLDtm4ju7Qw10KXStSxUvBrqb7VlVjvINuXD9q9trhIzxuZL2oR5TIetl0RVtHhvYMPCbZuZu/T4P78vJyRTXxO61NxNOp2Fd42ghbIEYYAMcE3Hx6e3tJ9mkzjOqYm/sWC24VEiO8iTDrwOXlZTKnVo4cGxurra0lMx6NRk3WYVpbW48dOyb6Z9mAVOB3q5t/76u5r7zyinRdg94vcJgE31zi36q0Umbnohtqi8VrHD7SFX+DDp/ZiN7QfaR6GCrXjFRg/LwRRXNoo9LVZaQVN/1bPT9XfuwCyoY0jYtILgzVkjUm+zdCBWYgyYke+Ec82pc4efLkxYsXzU9F+o9UoKJOH+bn5ztYDkZ0CACOCb75FBYWdnR0pNaCwqNDNITWQdCiCqSR/MLCAv9Ke3t7qnH4RpqYWHw1fyIW/3Z9JMJiM9jEGxfK8UMGJ2LsmJbIjthx/mlcWk/UD0SUweil+EnWzxEbjLJ/a066fqrBwUH2if7DtBeVOzpEGyN8LZ5bQzvBFpnTzuDRG5VR3cxhZC6uxJIXkjd9O3mG0WjJ2UQFGn1L9/GmohqvLst2+0F6htW/h1N8Wl1dTTqPWfDjNFi+dEl3AM//TJKutLRUqxGT4TtKkfWxOHjVARUIgGNENR+mBU+dOpX0iUwqMLQ6cGVlpaGhwcqR3L2bcffuXRq9Jyd56Onp2bZt2+bAXNJd31UizfU6QcaiNiL0QcmGiqvXqMBLSn1Lc3P8YzrD8Wisvl6JlUTUe8s+5jdaPRVXfnQu0or8U9OL0oGxIOu2xSnVdUw98fTKq2rzqm2C+JTbnLlI077mwjF9aTb+bSgdNW8mfw4VGHoa1f8YqVQgSUCq7krqNV/terF2kyjzsxkKSisgRhgAx4htPmQlqItP5IiJ8+TJdtaJiowR3oRmYThMOlCx6JBDHDhwgIbu2lyAFy9eJDWjHcD39fVVVlYmpvL0d0EjyJKP2LTJsv5jnexLc6pNH6e9aPNYSXVJHilav+u29SnVdWyrwBSzeFWWVaBZ9AlUYAihYcFV9S/jWpJiG1bfdBzx06UolSlUIPfvNo//0MaOmMg73njobEVFRc62ngMAhBqtFlxcXPz7v/970SXaTDgdBK2rQEUdup8+fbqjo4Mv05M1JiF4/vx59s9Eymh2L0pK6uvZbB5jQ5ClUW7Jn+vWddOcSvumxYvaug+OsTiluo4tFWiWxdk42NhoRdjGSdJ8y3TBGCowIKrUGbuuxOuZJCHokwrUJghMu0cITwaW7DvI4cvBaacMAQCZTXV1dXzpr77ebs75ANjQgUKnAwsKCoqLiy0e7OA2koVngXocGue3t7eTfe7v7y8rK1u/G/EV17gLXtz/LhK/G1CBirUp1XXsqcD1uI6N4NyqxuFIVVSNxdWHfAxHIpWNVXNG0SFJcR7a6BCt1LMXHQIVKAONquxjN5oU4Zz6gv4eUv8etn/CrhQqUJcg0Nz7gcQiSUbWJFL5/PHNQx0vByuIEQbABTI0H7IV1IPu3r3761//+rPPTs7MzHz00UfiY4Q3sa4Dxa4JJ6u0YLh+/XosFtPuFMpvCVvpNV6nTT7Olgo0TAttfCXji8YONP8/X3/pD/7gDwKr22mnVNexqQKVRBwxWwCcVfOx8F1+N3LIqO/PRp6myhSjzfmizfjCz5A+U0xyIAtUoAyw6cCt9IA0/6SHEE28Y5cuIxWoXeS1uMMHSUa+6dDBgwfJlGg/JYu2tLTEXufn5zteDkZ0CACOEdh8yAKQ+Pud3/md9eDTREHY/ySJDlmHBYmI9gsUogInJiba29tJo8cfU2xi8LvKDrYUbDgtxz39eKBGdHAwNhFzogJtRIcYXjThqqev235nwDaZUg342UmC7D1zZWUlPTM2zf7SSy9t2bIl+Zjl5eV33313dXX1oQq9CKZsTzcv9Q6r4mxr0mHauUAlsRzcqE4EdiVEoaKRidoQ4Bn1gOQFZWXzO9pEgLaCefn0Id3DiooKrdTTbiTgZtJechVYqELVLCcn5/nnn+erKjrefPNN+ku1i26U59vAA2+R2WjYJfjmQ2aExN+RI0f0c0uJgrD/SaQC1+cBxbsE5qpYOfKDDz745je/aevkVKXPnj3LovoYVIdPnjzJRu9tbW2HDh3S5omJ52NJ+Abqk7Zo8r6QMntx0NGKMDuVNlOM5opWLpoqU0xLCwnJgUCfnArdyYMHDwZ/XeFI1zOTBX/55ZeZHdcu4VtnZWVlcXFxbm6Oeu579+75V1TtJJ9O6ml5qk77dSW+clX9Cn+hJL7LVSAXhUrSPGJjQgIyDiecC/n2HiTjSMyZJ3/RQneYbxKl2xqELwdbSStogmwxwvRjt23b9pWvfKWgoCAeVecIJgdZBaPKJvo3ZTshMhp2cdx8yFZEEjFq3P6YwBbLSPylm83a+eGHH5Joli1GWLwGtIP1rNGK+mhOnTpFFp5LzCdP4ltunDt3jrv9kHIiAeaoLJtWhIOkurr90aNHb7/9tq5uC1GBbEpVQp/XAJBCBfKOmUafhgN3N9BzJcs+OTnpxxROl+red0TVaoeTAj6Y1Evr/KeVeuz1rEYFRtJ9nW0QzAyEA8WmbXJ8KTkvL29paYmds6ioyLqslJOcnBxeway7b1uEBASvY/Ra9G/NFsJrNIKBh6CZDFC18JFkWj766CO6M/RX9E+ME0oNaEcF0lCc7LN2CvDKlSukV3Q22cUqarLTXnDcuHGjt1c/nChR8emK5lOq2YlIFUh9c11d3e7du9V0l75DY/3R0dHbt297u/rDpu5GkkbbzPhaGYVXaUTksKoaI4kHM2zBfZBP2t29e3f79u0OfsKtW7eY608sFquoqKDxJZeGjs8pCZWVlVTBdu3a5blQMIRqFz0O6iNF/+6MJTOMRpAw85LW0POEANT8qUd87bXXjhw5cuDAAcODZ2Zmfv7zn4v+ZbK4AzqARhetra1pD9OOxhXVGpP+o7/JR1Kj6O7utnLpicHo2y8m1m3ZArIi7AbGl5Odxh3axcqUanYiRgUWFxc3NDQE1jdrWVtbI5t+8+bNubk5T044rAo+ndrrSszhWUwH8zQx4RdJzCxuVb0MqzRLyZFEymjttbhco3pMcs3ZhDYNjxYWFljbuHjxIg2MuC48c+YMNRI390dIkCPVq/3795NW8HzmzworKyvj4+OkHjA16CGZZDSs47L5sOWIqDVDxAaTE+qVUk8Nxj/92c9+Njv7awHfiuSShFUDKgoNFDs7O9Mexi3z8vIyyTWTdZ6ysrL+/n5L197syldS36zdES5I8vLuv/rqq9PT0wF0DRanVLOToFUgVeu2tjYauIj+4fFFH2oMLv0AujQrwjrvva12QoBn1NlEdqpZVRRu1TgOKok5wq7N6ztarz7SaqTYHP8QHgtC7Nix4/XXX2eisLS0NKZu/eiYgN3bSSIcOnSI5ELwWkEHSYcbN24MDQ1BC7okw4yGLdw0ny516DhrWQVyTp06pV2ne/r06TMbl5ckOkSK1DCOuXz5skXRVl1dTdqFpHnaLA00ShFu9GxRX7/uD+h312B9SjU7CU4Fkilvbm7enHRAPG7Mutafr2vzMq5iMxEgiwXmk3xPU9tu7foOz/zMV3Ld3Aq+svzOO+989rOfZTenpqbG5R0OTAXm5OSQ/mtqapLKFEILuiHzjIZd3Dcfu4NSbQIp4u/+7u9+4zd+g71eXl4uLCxirycn/78PP/wwgDtgSEjdATk9PT2e5yXp7u6WYaRkncBUoPUpVceY7QAnPUGoQOqeyZQfO3ZM9I9Nyb1796hZ2u2nn25enJ1JBIIMa3b75ZivDuuyzMwYORoyuhJ/SbHdSQQQWkwQaI42yoSRdgMSKwQTI0xCobW1taCgwMdruIC04MjICEkHeiG6LOEgU42GXbTNx1ZWKR4dosszYA61o7GxMW4EfvSjH126dOm//bf/xv5J3ed//I/f/tSnPkWv5+b6fvrTnwZ2tzcRdg2oJnbx3LuAxsB0WtG/zAbFxc0swUIA6SOsT6lu2uJNQ+Pw08hcSpkHFWhGZWVlR0eHEPcsW6yurvb19UmeN7JR/e+wiwSB5nAPcUZFRUWqnYjlgZQfVbBgYgVcQiaPdEPwvmWhA0YjFdazSml3M7fooEw95dTUFJeAb7zxxm/91m/19vayBQdFzS3P9pFT1HlBQcYhxO6AnH379nkeb2TDNVAO/JgQ9QKjzXnjKq8ymmI3EcWVCqSvXqXLHbbltOEpPqrALVu2tLa27t+/X9iPs08w43tncAmouEgQmJYf//jHn//85xU13CQ/P1/y4Cka/lIX9fzzz4suiA3I8JF0CG/Mqa/AaJjjMquUCTSkJAnIdiGPxWK/+7u/+53vfEeJb4c1y9Jqrq2tvfDCC6QC2RIEWQYhnlUZoAGp7ZMK9OPM4XINbGpqkjM4I2k6ML3Gc6ECTberCwS/VCAZjs7OTmcZXMVCTZSGv7dv3xZdkE1os0z/yad+9Xd/+r9+SR2yt7e36/dAdMdrr73G+2D3AcKKbzHCBQUFVMFSbG8gO6QYqPCYFNQBo5GMrvm4zCqVipKSEtJ2LIKSBpY1NTU8JmxmZqaqKj6l+Dd/8zc7duz47d/O+au/+qtnn32WijYR+N7G4Q4JSWAxQNgBIXINJP33yivrS1jybTG/WZlZ0GlQgXpIRrS1teXk5Aj7Wa4ZGRnp6+sTXYoNZhKLO3Fe/E9K7M8Vj6I3tOTm5i4tLbH5AEUd7tP5Xa77+BEdQnKB7J20XoBWWFtbowp248YN0QWRBRgNQ5Kbj+OsUqmg9j41NcXcS5ITTv3lX/7l1772NSUxJuTlWV5eCnpFOPzugAyqJFRV/Djzrl27fNKXnnP58uU//dP19WsJNxfVqDpLAm/9oCNK5GqkUe2qZ68d1qzyVjXGV+/YJ/GPjhy+Nrs+6bjRsc9GxTgWenz7yYiTKQ/Xgk4qyBRSi5Jt5U4bwUcSzdtARR5xQhqF9cfus0Z7rgKpdn3jG9947rnnPPzhoiAVSF1CloeMwGiYkNx8nGWVSgUN/EgCsjl1koAHDx7UumrRp48ePWKegsza8PIEninGlQZUvywuOfJmWltbfdqThpoS9Q6SD4+fPn36r//6r01NTe+9t+5EIaEK3JiiUyxN1TE9N3steuRwXMeR6Ls6HFG4qmvsGq6ajXbFlR8dOjwT0fgdZtZcYGFhYXd3d1lZmbBf4zXLy8tk0+XZRYpG7fPz82zJ7Pz58+3t7d6e/8KFCydOnKAXV69ePXLkCHvT5aKzhzHCZOM6OjpovOvtrxbL3Nwc/SjZBhuBAaNhTnLzcZZVyhCSd2NjYzwRD3XMV65c0R7Ah4X0o4qKinh5vvjFL/7P/+l9ug0TXLoDql+XYiGZhnz79u3zb+AXikhhtiYu2xbzOtTpvblrNJiKppdoyZHFJuLO9nqzz3imAsma9/b2htGnxxzqnkkGSSIEuUojo1xaWup56MbS0hJ7gjt37ty9e/fp06cVdYagoqLCZe5o95AEJLkQilhgu1DtIiEoZ0ySr8BoOMBBVqlUDA0NHT16lL023IL87NmzzAhcunTp+PHj/H3SGaQ2fL+PHLchIWweUYql5Pv373s+etdSUFBAj1VazwqWgdy/2VBPieuzRmvLtMnLxrqo4viScGNlPNCKudleyzgVmKnWnCGJEKytrZ2ammKvDx486Pnu17pxf25u7vz8PHMYn5iY2Cl0vJbBEpBB9zzbtjOC0fAVbUoBQ/iQUkmdGXR6epotFpME1O73an3XWg9wHxIik0Nhf3//5cuXfb1E0BrdJnNzc/LPVjKsCzRTFahOFCrXqJVdm4tH3Vdm3lxgZltzhnCbrnXfIf1HKtDzS/BxP9tKWNmcmFrXDVjHfYxwxktARlYJQRgNizhrPmkloHabYN7eddDTWVpaYq/z8/NZul1Wnmefffb3f38skKQkrhVcbGIwGqUzKHKowADSoxQXFw8ODor+oSnp7OycnJxUBG0xbwtvVKD+M93qcfhVYEFBQV9fX2Zbc4ZYIcjzOT958qS0tNQPO7KwsMBm/nbu3MlzQPAJA8eJCV1Gh5AE7OnpCWlGGLtkiRCE0bCOg+ajzSrVpfoL6tazWlpaBgYG2GuTnPP8MG2IGC/Pf/kv7QEE9KxrQE+QwC0wsGkwaVPGUFtobW1lrwPeYt4BHs0FatNQx+NGIpGqqs0rwpWCooMZrm4/9dBkzTPJs9uclZUVasPBd9Ikzubn53P9SRDI4MvNpPaKioq4x6E2HsXZHKTLpi6tOfOJxcVFqmMZHCwCo2ELB81nU1appL3jDhw4MDY2xl6Pj49Ti07lXsy9BrXrxbw8NTXVvb29/t475g7oFRKowACWgxlkselaUmWQZh6B2q3zskYFxmOEZ+LST4lniYkeiSpXN7kMdg2z9DKhzBTT09OT8et0OoR00rdu3WJxfJ4nCOTwFSKdG7iibi1KBWCvk6MI0+ImEExyBxefoKfc0dGRqeljYDRs4W0cpXabYKpm27dvN4kwe/ToEUsdql0c0JZndHTU16Qk3opAGRaEg9wtg541mRGxv1cHKWDtHneSxwhnD85VYHb20Iq6YVRnZ2dgnbSvCQI58/PzLG3s3r17k/d2HBgYYHuJkgmjMgRjyEKR8sAn6BGQWhJdCu+B0RBYBrb5GxN2Dx48IAnIXP0M0S4O5OfnGx7T2tp67Ngxgb8oXPgdHZyMVCMuGgtRhcnUwW2ocagCs7mHVtRkv76vhqj4nSCQQfqPrqKk3juYCjA9Pc2KkTxZ6AeBBiFKSWCLR4EBoxGM0TCkpKSEmjDfJnjnzp3muZ/44oCJ42BBQQF9mhn52wOAR0UEBj0gMiOSJJHWrgWHFjV3TNK714TGdrjHiQosLi6muiVtRqJgCKZJU7dx6tQpRZ2Eq6ioMBm7u8GKxddOSRrOF6bCQSAYma1vf/vbqWYgsgQaNJPoD7/dXAdGQ3FkNDyJo9RtE0wSMO2SwtTUVG1trZKUHEBXHvpFGZbF3Se0URFBIsmecrq1YIb8McJZghMV2NfXF09+mN2srKxQq/Y10291dTUN39lrBw551uEW3/wqY2NjBw4cUGzmrHbgAizVQoZAMmkNBUZDcWQ03HvQ5+XlkQTke8SRBLx7927arzx69Ii9ppaunTXUlaesrCy5dwfJ+Ld3cFpaWlqam5sF/vZU7hDyR4dkCbZvv/AqJQ9++3nwlK3j4+N79+716SolJSULCwtK6uVgTmFh4fz8PFtUSpVjLBm7TV1Cp2aBZIaDIIwGx67RcNlT5ubmkgRkY7zkbYJTwSf+k8PRksuTbVH8DiDdTwNsgcM5gQ3QxCMWKlAS7N1+Gvl961vfgiMIx78R3qlTp5gXkd8buPFMhFa0pjbTmDZy0ARbgWAkNAcHB7N83VBH8O5E3gKjocOW0XATR6nbJth64nceDXbu3LkzZ86YlwcuvGkROBHIESIEzYOiECMsCfZUYH9/f/Yk+rIC1W8a5Hm+LkxiaGFhgSV0ICtMtti/n3Dnzp161UHDYifBjydhSvLU272MsRacjPCJBJfAaOjwyWgkw8WcYjPPqHY/cSsjPUwHmiBP+w1YCMoQFw+sYEMFYqnOED9C/7gHXtqcXi7hm0TRJYqKiqxEn2hTWCdPFbgBkwqpMPStDgUwGoYEEC/MN4RUUm8TbAh3R07rIsKBd6AJZNNu374tuhTrHDt2LJgglcnJSfrhkIChwKoKzMnJuXLlSpaHbSbD8qFTu/JwZzltcn+SgGldud1w4sSJCxcuKPEorYmdlufl+beslNBiIBhVMOpIiouL/fux4SWw2SNvgdEwxJbRcBZHyd08FPupnfh3DfcKSlWerM0EaY6o0GATKisraWDmn6VdXV3t6+uz4n6KGGFJsKoCkSDUBBr3eBWNn5ubu7CwwJZjrEdgOIYv79KF6HLWv8jDitPOVlp0Ac7yZHJp8bCOBQaMhgkWH6gDD3qt866DXR+5TTBcRE5VnoKCgqGhIXj06vB2gsAr6DE1Nzf70Tbv3bvX09NjcbyK6BBJsHT7SZS8+uqr8O82hI3saXRFDcD92YJJEMjQ5oMoKiqytSNIeXn59PQ0Wxc2X2+y0tTRhVhBzh4lFTAaJlg3Gg5C7Pl+jxMTE3v37rXlT0ItmmwCa9e6HDFpy4OBnA7JA/y9nRS0PgXIgQqUBEu3H7P9afEka0xgCQIZfM7A1nIwh68cUTezffv2VHlorQSCoYJZIVzTgXimabFiNGzFUdbX15ME5NsEU6O2O4zk7iik/0gF2i0PDWJZcitAg2oatgW847xdaOC9a9cuqiduYvJoaHrz5s3bt2/b/bGIEZaE9CoQ8zQWcT9VwxMEOpNldqEOg2WRsBU/yKHOZmpqihX47t27JASdFYOq1ujo6JYtW/z+vaHGDw9U/4DRsIiHD1S7TTBpOGqPDvb7vnDhwokTJxSn+1UWFhb29/dneVtmTZXunk97vvsBPTiSg/v27WPOSFZYWVmhcSmZ7sXFRdHFB65IrwLh3GMRl1M12gSBNTU1Dx488LW01FssLS2ZLP1YgToeEoIuM9pgIck6YZkOhNGwiFcPtKSkhFoi68JJ/JEEdNaiFxYW2EZzBw8evH79uoMzICqcGBkZ6evrE10KJ1RWVm7btu2ll14qVtF9SsqPNN+bb75JQ5dQJzEFWtKoQET52aKpqcnB+FvZvC2HrbQOjuHbA7iZxlM0CSlSZbc2DwSjCkbFkGS/81DQ0NAgebAwjIYtzI2GlThKsh4kAW1tE2yIlW2ErJQny9MHZtLGj76CGGFJSKMCMU9jC8dDQFJCJMvoxYMHD2pqavxLEJh8RZdZqXNzc6enp8vLy5UUC9nmLsCSbHYeIuSfZoDRsIX5A03rQa/bJnjv3r1W8jwbwpcjTDxSrHj0b9myhX5RdmZ9Wl1dpcqPRVIrIDpEEtLc/sHBwexszM4gE9DQ0GB3FKgN67OYrN8l2kjAiooKl6vPtbW1U1NT7HVyxhnzpg53crs4q2NBAqNhC/MHat58dHvEkQS0FaSpw4qjsMWeu7CwkIRgts3x00Ps6OgIkTugWKACJcHs9pMpJ4MuuoQhw26meLLj8/PzbDXHbn5Xx/BIQNJ/pALdn5A7lT958qS0tFS7wmUSCEZdBVuVBraQajcCHTAaDjB5oOZxlHyTIcXONsGGaEeGNTU1bkL+GWVlZSQEsypCSOaGKSGIEZYEMxUoZP/psENWwNY2aNyvjpQTGV9nboV24RuMeuWDqNWy4+Pje/futfKtwLYzyjDs1rEggdFwgLMHqt0m2P1u4/X19XfUbjlVjhgHZNWekDT4caPCARCFmQrEyo4D1tbWGhoaLGZO0sbYuhzKW4cut7S0xCJRTAb9duG9iPXf0tfXV1lZ6fsPnojujE54drb6yJ1Ive9lNsVWHQsYGA0HOHigNHiLRCLstSfbefN89d6uSGRJyDAkIAgvKVUgVnYc09PTY9E7h+/DFkyCQAZ3Q7Q+6K9SFOpwGtXXUeqBUhzGJye085qpAsGCrGBaHehIxcUmBqPRSzHH3/cc63UsSGA0HJPqgRo2Hx7GoXgn2ubn51mMl3mOGAdxnXV1dZ2dnRm8NAwJ6AzECEtCShWIlR3HWMwBduLEiQsXLihBJQjkcB8+61MIw4oyp4q/RvV1qkqTl5dHfQlLWnblypWmpiYltQtwsBUsNnj8OFNxilLSMjDQXGL7FOtSUg4VKGfiQBgNx6R6oMnNR7tNMAlHEm3uUwrwHDFEfn6+yY4jzjz6t23b1t3dnZFCEBLQMYgOkYSUtz/Lcz65YXV1dd++febH+JEgsEpRrqp/GdcU5fDmA4bVN//70hITatu3b797967dS8yYuhHwuBMlMamQqqkHXcHc60AmA+VQgVbqWPDAaDgm1QPVNZ89e/ZQ+2I+JNR4d+7c6UlWKeubSTruuUkIkszNsG1F+vv7L1++LLoUYQUqUBJS3v6bN29mWIsNkubmZvOUUTxdXywWq6io8MSUV6lzdV2J1zNJQjA+pVdPKibuvbe8vFxUVGT3El2av2l/Gl2CftrY2Pq8gq5zCb6CudaBqgyUQwUqFupY8MBouMHwgWrjKGtra+/cueNmm+BU8FjjtCNSN3GdxcXFNE7IDLdRUu09PT3YP8MNiBGWBGMVWFZWRqMc0WULMeZuW9oEgS5TfJmgXb2dUZd0ic/tqa4d/1dleObiexdPnjxp94SNSfOLyRQWFk5PT7PpxlROS6IqmDsHQVVGlsiiAmVzDYTRcIn5A9VtE0wS0Nkecclow8UcrA/YggYJHR0d4Z0wZnsEP3z4sLOzM5h8DgD4jbEKRPZ/l5A1J5tu+JF2sw3uPOcHbDpwq6LMav75i1N//Xzvbyn201NblIAMreuS9kJTU1PUmR08eJA6A0EVzHWgiDSY1DEhwGi4xOSBlpSUkATke8TV1NR4JQEVTXQ/nTmYff9C7T96+/Ztekwyp20HwBbGKpCGazwfPXDA4uJiKjPHUzyQza2oqHAwoHy6eal3WFEqVbWnQxfJQa/vf+k3/vDNHGVmZvlXlv+PoqIZ9X0uE4fVv+y0M6pq5FdhHofsEl3q+7PpCsn3IVhevkK3gozmkyfrW4xQb0e6UFgF0y4Mh1kHmtQxIcBouMTwgdbX8w3Z/i/F3TbBqeAWyUq4sVdxndu2baMKE67NRVZXV+lBSDUBH2oQIywJxioQSb/cs3v37uTxYnl5+fT0NPPsSd5szSLaST6ToN2nmqwuTMbdPHv29L/8UFEil178AZl79l2uArkoVJLmEWc0QSeK5n0TNOEv66Wrqamm366oLk0/+tGPBFawTNGBxnVMFDAa7kl+oNyDnl4+efLk4MGDnqsQapVsF0craT499OgnddvU1HTs2DFvf45P3Lt3r6enZ2VlRXRBMgdEh0iCwe3Pycl5/fXXRRcs9LS2tj58+FD35p07d+rVEdDdu3e3b9/u+ORdinJIUY6o+uywOjmnhWm+uaQFXJ4SjDkjaqUeez2rUYERy+u/qUikwlmvY6Wl69koYrHYW2+9JTRthAeJY2RAngARGA1P0BkNGi5+8AGPG3tqnsnPGTROe/ToEXtdVFSUdmnC8567srKyo6ND5vEDKT/Sf6QCRRck04AKlASD24/Ur56QvKck95ajMT1JQJfLOmzqbiQpYpfN8CXndib9RypQUReVyNxTGao0IpJlBIwkKgQ7Q9oJv7SoqpfOpLz//vv//t//EyvAz372s9lZ9+d2icZBMLQ6sLOzU5IoRRgNLeogQ3FQq3RGQw23f4W9Pn68xI+8dNwokTmqqalJe7wfcZ00hNi/f39TU5NsC8Rra2v0CEZGRuTcpyfsIEZYEgxUYKg3f4xNRKODE+ue0yX1cSfk+hIhJdGlktJGznqy49OwKvh0aq8rMYd3Lel4Q++fp4kJv0hiZnGr6mVYpVlKtrJriJa8vLzq6uoHDx4sLy+XlJSQ8mMr4PSr2Y7JipqWLMhnYUz4dWBfXx91UaJLEcdzo8Fma2V7LhZL5VgFao0Gz+6ueJdSNBnPtxR3jFRakPTfjRs3SAJiCRhkPAYq8NixY62traIL5oSJ6PHoREz3Zn1kICJCCOp2iOfW1pMEgV2aFWHupafz89PBvX/Izl65coW9OaPOJrJTzaqicKsmEESxvGuIFrbqTT/w4sWLPT099KvPnj2rqDOgTA4qkqjA8DsIUkfFdxITi+dGIztVIDca2m2CqR3ZTepknUePHrEcMXaTBvgE04INDQ1swBw8q6urk5OTg4ODSAQDsgSDbr2zs3PXrl2iC2YfZnrrI5HmejWjQiw2OBi9RKpQTP8+NzfHE2fwXAyKFwkCtf58XZuXcZUUznx8hyiSYvn5+VyDsrAPPsn3VD1n1GgqMe2uIRwuN9nl/vIv/2tdXZ1q0+v5Md///vflCGsItw68d+9eR0eH6FLECavR8AfHKpAZDb63pBLXhX/AdKEfCo3aKQvY4l4iab8SWFzntm3bdu/eHWSlun///uuvv05CXA7TlPkgRlgSDLr13t5e3ouHCRJ9sR269V/WyQvp3mkoyXIBep4g8OnmxdmZRCDIcGLpVgtbHT59+jSbkNMVQJdlZsbI0ZDRpflrDlWegYEBTRXidWwj3PHu3buebJfiAWHWgdqRhljCajT8wbEKJKPx2muvDQ0NsX/ScHHPnr3stR8e9HzG8fr16wcPHrTylYA9+gsKCkgIvvzyy/7VLmpE3/ve90j8YfIvYBAdIgkZpAINEbfpF1eB3NSS7iktLRVia6ampmpraxVrySCSsZUymnHgwAH61WpFMlCBb7zxhkQO16F1EOR1TDgZZTRc41gFPvPMM1/96lf5HnHbt2/nMcJ+9JQ8ZYF1syCq587JyaEK9qUvfYn+VlZWujwbNZx79+794Ac/oJsskSHKMqACJcHg9vf19blvZt5j5JKTdqrPsTl2z8rKSkNDgzZBYHt7+/nz54O/c4WFhUtLS4oqQ4uKiuzuPepAAnJIC/75n/8ksbfsHf4+GV+vtkD1hJDqQHlUoEOjEZsYHBycWI/mKimpb45wH16j8Zt6+KV119+S+pZIZMd3Nzdw3uB3xHiYmHqg+nlsMBpd//rGm5vLowkuixeoXhde5qxU1qBmUlNT8/GPf5xeP3jwgCQgtRH/4ii1OWJodGpxMxJJ4jrLysrIrNHfz33ucwUqqXLNkB1eXFxcW1ubn59fVpmbm8OarwxIUpeAgQocGhoS5ZlrTpLmSzvRpx4grlvfuXMn30LDYiIGP+BuRuPj43v37rX1Xbu7hrAgmOvXr5Pk5f2KZl5wHdlU4KaF4fDoQOrMdu/eLeTSVKvHxsaoT6UHTY/bidHQrsUn2GjNSY3b6HCSaXGnoiQV2FJy6dLEpgNbBppjx6MTiu7NpCFlcjE3HeWsVNZ49tlnqY2QFvR2m+BUUKukJ6ioirOiosLXawEApCVMKlCn6tJJPPFRhq+88gp38SEJ6O2+T9ZxsO7DsbtryAcffMAmPp88eXL+/Pmenh6u9rRakOWREXI3UhJOB8GdgsbRPOZdUSO+/+Vf/uWXfumXbJ2Bzb9qQvjjc2pvvxhprt/4eOM5rD+dkvpIYrpwYwquRKcC6a2N88bUzAHskiUtauwYfzP5iyUb0WVsZlBNOpBSm1oslWU+9rGPvfPOO3RVaiCBPUFqpyTl/b4cAEBOwqUCNdLPfNFlfelHpASkkT1btlCE2lm7ewO4RBveqKhLlkNDv3fjxg0lEQhGWvDP/uzP3nvvvZ/85CdCbogJGzowPNOBolRgeXk5jS60hoIeaCwW+/DDDy2eIc1M/uaPE5JRd3TSSM9w6Le+3r/p27oDU5w/6QNnpbKD7oH6F0e5sLBQospdW1kLENcJvAJ1SRLCpgITOrCkJBZLoQGTx+dC+MIXvvDZz35WUZVQaWmpqJBYvjfAxMREMIqhurq6t7e3njfxRB1jLsBUnj/5kz955513/uEf/kHIDTElUXdCIwKFqUBFHWB0dHScOnWKp4EkCUhC0Kq+ZxpK9Qbk02+6TxMCK6V/r/4DwwMN3Yc3LSWY+A9v/shZqeyge6A+edDzHDG61FFpgUc/8ArUJUkInwo076lZ4mi+8iOKX/7lX/7N3/xN9tqP3T+twx0TT548efHixcCue+DAgQsXLqgVab2O/e3f3iVZ/LnPfU6Rc0VY4bokPBpQqApk0ICMHjSrY4z333//rbfesuT3qQ3X2BQbotNbKecNratA0zdN5iU3S0hnpbJDMCqQtDvLN27XVxg9N/AK1CVJCF+mmI1luyT7y4b3gucAVX71V3+1vLz82WefFVsMOeC9mrwxwnHWK1Z4XAIVhVT1F77wBdGlMObnP//5w4cPLU0yxWIT310PFU7hgZfSB9hLFVhidy7Qcqkss7q6um/fPu07PsVRcl9hu4kLENcJvAJ1SRLCpgITVrj57aRFHoFZYYx44YUXEHmXitnZ2Z/97GeiS6ElhBpQHWxs3brV/Xl84qOPPnrrrbcsT/qmW3s18LQz9gu0rwJT+wXqVpOdlcoywaT+yc3NffToEVvHJxsVQCQKAEBaDFRgd3d3XV2d6IIZoh186519JBOBsvfQYrl37977778vuhQbhFIDyl3H1tbWHj58+NOf/jTVAROD0bdfbN6xEZAbXx3WxWvwB5JYAdD4evAIXsUDFZiIIDGMEdac31mpLBOMCtyzZ8+tW7cUdU/z0tJSvy8HAJAZAxXY0dGh9fKRB/0CzObxuybxbxIienfqAltbW0XdK2XziN96Vlj3VFdXj42NlWy4+08kXtTzYyTaQU4JpTsgQ3gdY5w4ceKP/uiPPvWpT7F/fvTRRz/5yU8WFxfN44UNG2zqfIGG6fzqW1pilzxYEU55AUXR5rJxWirLJD9QP+Ioe3t7T506RS8uXrx48uRJW99FXCfwCtQlSTBQgS0tLc3NzaILloSRE45GB6ay4SoiVODk5GRnZ6eYe6Vy9OhRlq0w4ITVPANFAoMd5L7//e9Lk74/tBpQgjpWW1tLkoJtTshYWVl56623rLkD6jfqSB0dkviCfpOOZsUbv0DtBSZSFslxqSyT/ED98KDnLdRB4Bo8+oFXoC5JgsHt37Vrl9iuJTO4fPlyf3+/wALwrLDRaLSrqyuYi5Ig+M53vvPJT35S8956HXvy5AOeUmRCltFf+FLDaBFYx+hRUgWjkQZ/5/3333/48CGpwCCLIXh3IK9JfqCe95Sk/0gFKk73k0TPDbwCdUkSDG5/WVmZWPmSGfT09FjPxeo51EkvLS3l5eUpwTqA00V5mqH79+/39fW98spbH/vYx5R4NGI1S06hSKMCQ+oOyBFYx/iqIkFK4tvf/va2bds++uijQAshfnsgj0l+oJ7HUfK87s4SiCKuE3gF6pIkGKjALVu23Lx5U3TBQk9bW9vc3Jyoq3MH8IA3CZ2enq6uriZZEI1GL168ODU1xeLN796929TUxCYh3n77bfZCMGHXgELr2OnTp8+ePUsvrly50t7evrq66q/RiA1GB5UdmmCS2MR349EkYdrnJT0BPNCxsbEDBw7QizNnzpw7d070LwYACMZ4KnZ0dLSgoEB02cLNvn37qGsUdXW+HEyGnsx9YNfNy8sj2cfSAXZ1dUUiEUVde6qpqaG/TPzFYrEf/vCHoitYiN0BOWLrWG1tLT1lPs3sr9FI5fcb7geox+8Hqo0YE7izOQBAHoxVYE9Pz7Zt20SXLcQkZ38NGL4yu3379rt37wZfgPLy8unpabW/Ub3nL1168qR2ampKUVeK//qv/1psBcsADSi8junw22gkh27UNzcL3SHIYwwfqLdxlPX19XfUdbjl5eWioiJHZ/CyPCCbQV2SBGMVKGmYcHgQG7zJbb3AfGAk+BKho+t1bPv2dRU4Pj5+9epVgRUs3CEhCYQHCOuA0XCJ4QP11oP+7Nmzp0+fphc0Kjt+/LiDM8CjH3gF6pIkGN/+urq67u5u0WULMX19fSMjI6KufuHChRMnTtCL8+fPt7e3B18Avkupynodo6Z+69at6upq6n5WV1eFVbDwuwMyxNaxZGA0XGL4QL3tKZnbLr1oamq6cuWKgzOg5wZegbokCca3HwEiLmltbX348KGoq/N8YDt37gw+GpcuPT8/z3yPzp07V1u77pWoDQQTV8FcaUCp9qcRW8eSgdFwieED9TCOkueIIfLz851t5I24TuAVqEuSkFKE9/f3l5WViS5eKFlbW9u3b5+orMi1tesLr45df1zCN6p/8OABCwoxPExIBXPpDihPdjqxdSwVMBqOCeCBtrRQzR1Q1ID97du3i/7FAAApSKkC29raDh06JLp4oeT+/ftC1mEZ3PXHwfZQ7uE9jZJuJlJABXMbEqLfulogYutYKmA0HBPAAx0aGmJZvoNMIw8AkJyUKhBePo7p7++/fPmyqKvz5eC9e/cGnFK4sLBwfn6eparmGjRVIFjQFcx9SIhMDoVi61gqYDQck+qBehhH+ejRI9Y23TiKIK4TeAXqkiSkVIE5OTmjo6NbtmwRXcLw0dTUtLy8LOTS5eXlpMMUdTuHoqIiS9u5egdPSBuLxSoqKtjVU7kAUwUbGhoKKmugawUXmxhkSYrlUIEC65gJMBqOSfVAvfKg544iZBny8/Mdnwce/cArUJckwez2t7e379+/X3QJQ8bc3FxbW5uoq/NEzY4zQTjm6NGjpOrYa+00pElTD2wBMVXKYSdI4BYoto6ZA6PhAJMH6lVPyS3DlStXSHE6Pg96buAVqEuSYHb7q6urNfk+gCXELtXNz8+Xl5crgS8HFxYWTk9PszzVOgFqEghWWVnZ19fne+GYO6BXSKAC5VwOZsBoOMDkgXoVR8nzd1LbpBbq+DyI6wRegbokCWlEOLaSs4vApTqeCeLJkyf5+flBLgdzx3P67RUVFdaTUAwODhYXF/taNm9FoAwLwnIuB3NgNOzi9wPNy8t79OgRe11aWhpL7L8CAABpVGBra+uxY8dEFzI0iI3cPH369NmzZxXXiz522bNnz61bt9hru9loDx06JO3ippzIGR2sBUbDFgE8UO6tQdeqqakR/YsBABKRRgXSmJ469eeee050OcNBZ2fn5OSkqKvzRR/HGwM4IC8vb35+nq0FG6pP80AwqmDUP+Xk5Ai6Z+FDbB2zAoyGLcwfqCdxlAMDAy0tLYqaxf3MmTNuSou4TuAVqEuSkN4tk4zUrl27RJczBDx8+LC1tVXU1UUtB/Pd6h4/flxRUZG8sJXWBRhJ5qwjto5ZB0bDImkfqCce9EtLS2yc5n4zIXj0A69AXZKE9Le/rKysv79fdDlDgNh9XUmKkSCjF+Pj43v37g3movX19XcSLr6pvM7TNvWCgoLR0dGAb1dI6e7uvn37tuhSpAdGwyJpjYb7nrK6unp6elrxaHyInht4BeqSJFi6/dT31NXViS6q1KysrDQ1NQnc0Yvv2+YyBtA6ubm58/PzLEO1ifS0EgiGCmYF4XXMFnimabHyQN3HUXJ34evXrx88eNBlmRHXCbwCdUkSLKlAbAmQFrETgYWFhUtLS4o63C8qKvr/27uDmDbSu/Hjs6qW+kAriPq2ZqVEpIsqTFdau1JR6CK9SS6BQ6Kg7Ns35EJSCQmUHuBEOKCAOACXkgslFYeEHgLbsiJKKsFeshxYEbGVYPXvizkgBdFKeC+AKg4Iqcr/iSeZ9Rpjz4xn/PzG8/0cIscx5vHk+T3+zTzP8xt394l3yrpVnfqlsVismI2HXDqyQ28fc4pBo6DS/Ida54fd3d0PHz7U/aEByGL3Uixn9nlov0hj3b13aWnpUklOrKxbERgefbvQwfLb2tq6e/duUC4Emvg/zaM0g0ZVVZU6P4xEIgY1YgDkYjcL5GpNHtpXay0sLLS0tBilOt1XXyoqBYzH44aNvNPmRjA2C5/m9evX7733Xl9f3+rqqu62OMOgkYfNQaPIfZTXr1+fn5830jd1VFlg8c1mXye8Ql8SwsGyTPZy5qR922bm6X5NTU0J6glbd6M6OjpKJBKbm5t5Xmx/CTAd7DTLy8sDAwO6W+EG/6c52R80ilxBb23hf/DggSdVCVnRD6/Ql4RwcPi5WpOTGs3VmK6xASWeDo7H4ysrK2bS2d/fPzo6mv/19kNddS3VwbjtRJbj4+OOjg7JNwvJg0EjJ/uDRpHflK9evTL3b7W1tT19+rT4lvPNDa/Ql4Rwdvi500OWxcXFsbExvW2w7t5mJycrnlWb2uZ9CBxtBGtpaenr6/P7IwTL9PR0aTZ9+4RBI4ujQaOYfZR+1BBlXye8Ql8SwnESPj4+bi4IQyqVUuf0h4eHGtsQiUT29/dLtvrbqjqhvlGamppUIuj5r2BLQaaNjY3e3t5gbQo5iUHDUspBo6enRx15o4SbxgAEjuMsMBqNTk1NVVZW6m65TuaCffX17Eca5Ih1h9CXL1+qtMzX31VfX7+2tmZmnENDQ4ODg378ljNnzqgOxrywkZ4LVhnDzs6O7oYUi0HD0DFoWJvG1C998OCB7gMAQCI3E/JM2ylzc3MTExO6W/HdHUL9S8ssVuGxzc3NRCJhc4LJxUaweDxuXsMIuWAVCMyPQcNwNWi43keZOUugotWr1JN9nfAKfUkIl8syQz5tt7Oz09nZqX2eTg3xu7u7VVVV6nEsFsu/V7dI1h3qlKamppcvX9r8QXdLgNlbqr62PdnUKQeDhotBw/UKeuvujl7ViCmyPUAW+pIQLg9/ZWWlOqk9d+6c7vZrcHh4qHIUCfN0LS0tCwsLRvrinMoC/ftF0Wj01atX5nUFpyUn3IV6RUWFShoaGxv9+1CSpVIp1cf29vZ0N8RLDBouBg3X35Tj4+M9PT3qwePHj+/cuePVB+GbG16hLwnh/vCrzECN6WFbv6VO5fv6+rQvBzSVbDrYWmC0vb2t0k1Hmw1dbwRTSYP6Jqurq/Pvc8kk5zTDcwwaTrkOn2QyWV9fb3hXI6bI9gBZ6EtCFJWEq29oNaaHqhiY9tuEZNrf3zengz1c93OSVY/QeBOul5ZKuIhDJQ0qEVR/luw3aifqNMMPDBolYNWIUaqrq0tzY3EAQVTspdhQ3TNeVOU2n9b9ZFEZ2NrampmHPXz4sLu7u8QfUyUNKhEMz/bSsbGxxcVF3a3wF4OG30p/Y3EAAeXBhHxIdv+JSgGNjHtDjY6O9vf3+/RbrJLUqVQqFou5uKhQ/Eaw8CSCYUgBTQwaNrkLn/n5+evXrxs+rBVhXye8Ql8SwptlmerkfmBgoIxneaSlgMru7q55ic7Rjl1HrFvRK62tre4SFE+WAJd9Inh8fKw+YEhSQBODhh0uwiezdIDna0VY0Q+v0JeE8OzwNzY2Dg8Pl+WYLjAFvHDhwsrKipG+RFdTU+PHr1DfIslk0kw0Z2dn29vb3b2PV6FexmsEVQqo8qHV1VXdDSk1Bo2CXISPtVbk4OCgurra28/FNze8Ql8SwsvDr8Z09WVWZhdspqamnjx5orsV2UZGRu7du2f4uVbP2oCsEs1EIqH+dPc+Hm4EUyng2NhYmZUaOTw8VJlQCFNAE4NGfi7CZ3Bw8P79+4bXNWJctwfIib4khMdJuPqGVl9p5fE9rb6eVc6xvLysuyE5vHr1qra21vBt065ViVBpb2+fnZ3V/YnfUulCX19f2RQf3tnZUTlQWRaFsY9Bw1tra2vmXZtVCihtEgOANN5fig3697R5u8+trS319ez6Apiv1BCvBnrDnxkfI72uKJlMmlnm4uJia2ur7k+c7fbt2x0dHbpbUSyVK6iMQeUNuhuiH4OGV6LR6O7urvm4pqZG5ggGQA6/JuQD/T394sUL9fWs/QZxp/F1xsfI2H2sssxYLFbkF4lPG8FUxqDyhuDOJApcbKodg8ZJTsPHqhGzvr6eSCQ8/5js64RX6EtC+Lgss7GxUX1PB+s+AYeHhxMTE8K3alp3BXC9bzcPa9+J0t3d/fDhwyLf0L8lwOfOnevt7TUnvwJkZ2dHpQsbGxu6GyIRg0YWp+Hj9/2EWNEPr9CXhPD38FdWVra3t9+6dUv3x7RldXVVfT0Lv3mryv9UFmikL9TV1NQ4uplbQZFIZG1tzUwxvao363eot7S03L17NygXBZ88eTI9PS32MrMEDBqZnIaPdT8hn1YM880Nr9CXhCjF4W9oaFDn95JXf6tBXA3lgdinee/evZGREaO46i2nsbYeq+QyFottb28X/54l2Ah25swZ1cEaGxv9+gVe2NjYmJiY4BKgTQwaJkfhk7li2PNTRBftAfKgLwlRoiS8oqLi2rVrKmuRNtdzfHw8MzMzNzcXlEX6KysrFy5cMHzYuqu+QtSbRyIR9bi/v390dFT3Z3Wmubm5o6Ojrq5Od0OypVKp6elp4csMBGLQcMpaMfz06dO2tjbdzQEQACW9FCtqWFdD+bNnz9RoLnwKOJN1k3h1ll9dXe3hub5K/lQKaK6xe/nyZVNTk+7P6pKoXFB1LdXBVDdjCtg1Bg37vvzyy4vpJffUiAFgk4YJeXNYv3Hjhq77QKgz+OXl5enp6cCVUejp6RkfHzd8mA62JppVZplIJDY3N716Zy0bwVQuePXqVY1zxKprff755+R/XgntoGE/fKqqqvb3983H58+f92Q5RzHtAfKjLwmhc1mm+pK+cuXK5cuXS/Yb19fXv/jiixcvXgT0u9mnc/36+vq1tTVzLtjzrYUalwCrjEHlgi0tLSW7jGTmCs+fP2f9n0/CNmjYDx/rrt/qFC4Wi2lvD5AffUkI/YdffUOrMf2TTz7xr+SH+kr+6quv1DgeuIt/max6sEdHRzU1NQcHB169s7XWUH3hNTU1ebuoXEKoWx3Mp3RQJX+rq6tff/11cE8wgiU8g4b98LFqxDx48KC3t1d7e4D86EtCCDr8FRUVakz/+OOP1Z8NDQ1Fvpsau80vZpXZSFvE7U5XV9fk5KTh9f08rFlmJZFIqMPlbbNFbQSrq6uz+ljxxWXMREEdMa786VL2g4b98PH7rpJO2wPkR18SQlAWmEV9YUejUfXn2bNnz6SdVjZib29vZ2fn+Pg4mUym0tS3cvldkllYWGhpaTE8nQ5WXxvqoJlzwaOjo/39/bo/ZemYPUp1sJ/97GfmbhKVRqisIueLzR6luta3336rHqsHIb/5r0yhHTSsGjGe7xsDUN7kZoHIVFVVtbu7a6ZrHt4e1FpouLm5mUgk+PIAgsi6oi/zxt8AxCILDAbr9qBe3dIj8z0NP2eR2AgGuGYzfKzTud7e3gcPHmhvD1AQfUkIssBgmJ+fv379uuHRvX2N9F6TZDJp3mxKvaF6W59azhJgwDU74ROJRPb3982Jglgs5mGZJ3ftAeygLwnB4Q+AzFHeq0pgVlqZSqXUe/o3F0yoA67ZCR+rRowaGVQsa28PYAd9SQgOv+/+xzD+UtyBvnnz5szMjOHdXT2sN1RaW1t9vbkZG8EA1+yEz/j4eE9Pj+HzRX377QHsoC8JQRboO5tZoHrZfcP4X8P4vxP/pDI2lbcZHt3eNxqNrq2tmfdgePz48Z07d3QfIQDuWTVi2tranj59qrs5AIKELNB3BbNAM//7ZfrxRyeywEgksru7ay7g82Q62Koum0qlYrGYh9WnAZRY5r3F8xSTL35GAkBZYljwXcHx97VhDBnGXw3jH7mywJaWloWFBcOjG0NZ76a0t7fPzs76/fHZCAa4VjB8rGLy+asH5B+F1CnoZ+9ORI30WPRbt+0BbKIvCUEW6DubZ+G/PCULtC7dFX+H30gk8urVK3MuWOV/KgsswcdnCTDgWsHwsbZ55V8uUjALVC8YfPf4H6cngoQzvEJfEoLD7ztr/P1L+rGRzvNOrv87LQvc3983p4OLrwExOTnZ1dWlHhwcHKh3K80NUgl1wLX84ZNZPSD/7R8dzQjneTHhDK/Ql4Tg8PvOHFL/mp72NTM8Mx3MOvQ5s8CLFy9+md5JVXwNCOutDE/vQVcQG8EA1/KHjxXU6oyupqYmz/s4ygJPOyMt2B7APvqSEGSBvjPH39+mE0HL6xPP5Bx5rat3Rd7kNxKJJJNJcyMh95gCysPIyMi9e/cMG5v9bc5IZL0YQNkj0n2Xc0hVCd/cu4U4ppxZ4O7urrmMr6mp6eXLl67bYH1bHB0dxWIxT+pOA9BrbW0tHo8bNnZ62ZyRMJn71QZ1fzoAJUAW6DvXWaBX08EXLlxYWVkxH3t1Azr72AgGuJYnfKwaMUp1dXX+kk/2ZyQ+M4wN9gjDf/QlIcgCfWeOv1kX+ezMCFsX8B48eNDb2+vut0ciEZUCmhcMvLr1iCMsAQZcyxM+t2/ffvTokWEvru2ci5qvyX8VkHCGV+hLQnD4fWeOrdYqHPNs20gnfJlOZoHWLQEuXbq05PZ0aXBw8P79+0Z6LjiRSPh6p/mcCHXAtTzhY91SyE4NqYJZ4GC6dn3Wqamj9gCO0JeE4PD7zroWaNVlzVmLKysLtKZxC+7+yyMej6s3MQtJeHL3ORfYCAa4lid8rBpSdhYN55+RyPmvTtsDOEJfEoIsUCjrGl4xd4hXKaDKJtWD9fX1RCKh+zMB8Ia1aPjg4KC6urrg6/PPSPwl/edvC74LgLJDFihUMpmsr69XD1pbWxcXF128w71790ZGRoz0XHBTU1OeirJAOWloaIhGo+fOnVOPP/zww8rKypOvSaVS33777eHh4VaaeqC71c5YZ4k2bwKUf0bCKh+TqeDsMIAyQBYokcr/VBZopE/0a2pqVBrn9B1qa2vVO5hzwcXfeq4YbASD31Ta98knn5jJn1lZyam9vb2dnZ2NjY1vvvlmdXVV9wf6zmnhY13mL2UFeINwhnfoS0KQBUpknegXLAZ7mi+//PJiOsg2NzcTiYSLPNIrLAGGH1S219jY+Otf/zoej+e82leM9fV1lQ4uLy9vbW3p/Zg5w6eqqmp/f998fP78+VKW/ySc4RX6khAcfomsE/22tranT586/fGurq7JyUnzcZHlpotHqMNDFRUVzc3NV65cUSlgCX7dzs7O559//uLFC11TxjnD5+bNmzMzM4aO9b6EM7xCXxKCwy+OVQz26Oiourra6WW8aDSqftycCy6m0KBX2AgGT5w7d+7GjRuXL1/2/MpfQcfHxyoRfP78+cbGRol/dc7wefTo0e3bt42ibyzpVXsAF+hLQpAFimPt6rC57jvLwsJCS0uLkb7jSCwW0zgXDHhCndjcvXu3ublZd0PeXHubnp7WvtHKurFkMZVEAcAgCxTIWtJX8N6gJ1m3EzD4hkDwqVyno6PDPKuRQ28uGI/H19bWDLdzBQCQSXoWGIaiD5nUh1Un+kZ6iK+pqcl/b9CTP6u+HsyLBK63lXiOjWBwoaKiQuV/t27d0t2QU62uro6Nje3t7fn6W06GjzVX8PTp07a2thJ/asIZXqEvCSEuCyzjog92WBs7FhcXW1tbHf2sdUcplRbHYjFHGaR/WAIMp1T49/X1med+kqkTzomJCXflPG06GT7WXEF3d/fDhw9L/JEJZ3iFviSEiMMfkqIPdlhDvNMyYNevX5+fnzcfu9tZ7BNCHfap8O/s7Lx27Zruhjjg60XBrPCpqqra3d01936VuEZMzvYArtGXhNB5+MNW9KEga4h3Oh2sfjCZTJqXTt3tKfEPG8FgU0NDw8DAgLsZAL3UkDI+Pq7GFs/fOSt8rJM9lf+pLLD0n5RwhlfoS0LoyQLDWfShIGtvx9LS0iUnkWFVjkilUolEQv2p+6MAzly7du3u3bvqzFB3Q9ybm5ubmJjw9VdMTk52dXUZMopAASgDpc4CKfqQh1XkxdGKH+u+8oarbcWAXirzU2NCsGaBT6PGk4GBAf9mG169elVbW2sUcXtxAMhUuiyQog/5RSKR/f19c8VPTU2Nzet56vXJZNL8YrC5ocS8r3zJ/uPZCIY81LAwPDxcV1enuyGeUZGrEkGvViFnho91e3GNNWIIZ3iFviREKZIBij7YYd0VytF0sDVDdHBwEIvF7OSONrNA9bL7hvG/hvF/xX0ulgDjNCoFHB8fD+JCwPwODw97e3s9SQQzw6enp0cdLsP5ihEPEc7wCn1JCN8PP0UfbLLqvPT394+Ojtr5kQsXLqysrJiP7U8iF8wCzfzvl+nHH5EFwh/lmgKavEoEM8PHWjGi3vnBgwdaPhfhDK/Ql4Tw8fBT9MG+zOlgmwUg1IvX1tbq6+sNh9cGCmaBKjaHDOOvhvEPL7JANoLhpPJOAU2eJIJW+LS2fjdEJBIJXYtYCGd4hb4khF9ZIEUfHFGn+OpEXz14+fJlU1OTnR8ZGRm5d++ekV4kFIvF7FcOszkj/EuPskAgy5kzZyYmJoI4ODjl4dSwtQlMV40YAGXJlyyQog9OWaVehoaGBgcHC74+Ho+vrKyYFwbszyCbrCzwL+nHRjrPO7n+jywQflDDgoqsctoOkt/e3p4aDIsv3qROTXt6egxJN4cEUAY8zgIp+uCCSuZ2d3erqqrU41gstrm5WfD1KgVUiaDh5NqhxcwC/5qe9jUzPDMdzOoKXmWBbARDprGxsdJUiZdjZ2dHjYruRhIrfCYnk+byD713BiKc4RX6khBeZoEUfXDHmutR+Z/KAgu+3rqd/NHRkUoBna4QMrPA36YTQcvrE894lQWyBBgWlQx9+umnuluhwerqqhpJjo+Pnf6gFT7pGH2jurpa4y3CCWd4hb4khGeHv1yXe3u4suc0VrUXO9PB9fX1a2tr5lywzenjLDnXBaqEb84wMt+LLBDeUvmfygJ1t0KbZ8+emXVeHMnKAjXWiMlqD+GMItGXhPDm8JdrCmjyOxHc3d01D11TU9PLly/zv3hlZeXChQtGesJavd5F5dgSZ4FsBIORvmnk1NRUoNcKF29gYGB5ednRj5jh89FHH/3kJ//PcHvi5yHCGV6hLwnhQRZY3imgyb9E0NHWv66ursnJSfOx62oRZhaYld75NyMMKBMTEw0NDbpbodne3l5nZ6fTQlSZ64Y11ogBUJaKzQIp+lAkq+DL6Ohof39/nlfW1tYmk0lzLrjgi/Mws0BrX7DK9j5LP//R919GFgiv3L59u6OjQ3crRFA5nBpGHP2IdaJ4cHBQXV2t+xMAKCtFZYEUfSiedXv4gtPB6pvgYnpX1ebmZiKRcH0XUeta4GfvbhDy1/SFwCzsEYYn1Pjwxz/+8f3339fdECnUmDk3N2fzxSp83uXQFyXUiCGc4RX6khBFZYEUfSiSdQs4lVnW1NTkeaX6Jnj06JH5+NKlS0vBiRuWAIfc1NRUeE4U7Tg+Pm5vb7c5L5y5O0SlgCoR1Nt4whleoS8J4f7wU/Sh+LeypoMfPnzY3d192sui0WgymTQXBuV/pUCEepi1tLT09fXpboU49vcLZ2aBemvEZLWHcEaR6EtCuDz8FH1wUfThJJXbmZVg81/em5+fv379upG+ZHj+/HnXc8FasBEstCoqKmZnZ1nKluX169fvvfdeZ2ennUXGyWTUHCLW18cTiYTuthPO8Ax9SQg3WSBFHwxXRR+yqMFdZYFGoUXfN2/enJmZMR+3trYuLi7q/uiALSrRuXXrlu5WCKVGDzWGFHyZ03tLAoAjbrJAij4Ybos+ZFJj+v379428NwaNRqNra2vmFmwJa8MBm1Sn/fOf/8ymkJzMy4F9fX2rq6v5X7m/v28uBQnWamAAQeE4C6Tog8VF0YdMKr0z7wWc5wqfdSUglUolEglvtyeXBhvBwim064btKziApHePvblX5OHh4X/91/9IWApCOMMr9CUhnGWBFH3I4qjoQ6ba2tpXr14Z6engmpqanON7S0vLwsKC+bi9vX12dlb3x3WDJcAhdObMmZmZmZAvGrEj/+rA9HTBoPlYSPgQzvAKfUkIZ4efog9ZHBV9yHTv3r2RkTdn+Sq3U+9w8gWRSESlieZc8GmvCQRCPYRYEWhT/tWB6RKhb1fOCwkfwhleoS8J4eDwU/QhJ3f7ha3bAZ92kW9ycrKrq8tIXyyMxWJBnAs2sREsbNga7IgaAXJGd1VV1f7+voob9fjly5dNTfqngw3CGd6hLwlhNwtkZM/JUdEHSzQa3d3dVQ+Ojo7UIT05HWzdM0qRUCoWsC/kZaScmpubm5iYOPn89evX5+fnjfS9gtR5oO5mAihPdrNApnjysFn0wdLV1TU5OakePH36tK2tLetfI5HI2tqaWSRscXGxtbVV9+cDHJienj537pzuVgTG4eHhjRs3Tlaht3aGPXjwoJhdaACQh60skKIPedgv+mCx7gic8zqfdUORo6OjWCy2vb2t+yMWhY1goaLyP5UF6m5FwAwPD7948SLryXd3GF9SKeD6+rqQ8CGc4RX6khC2skCKPhRkv2rMu+U+b5K8mpqarFtCWXcWVrq7ux8+fKj7kxWLJcChQiUpF1QKqBLBzGfi8fja2lr64duwERI+hDO8Ql8SovDhp+iDTTZXB6qvyUePHhm5ZnsjkYhKAc0igun14E26P5MHCPVQYTrYhePj4xs3bhweHlrP9PT0vNtzRhaI8kRfEqLw4WdFoE02VwcuLCy0tLQYuS71WXcTOTo6SiQSm5ubuj+TB9gIFh5MB7s2NjaWWTreWjSytXX2X//6lyEmfAhneIW+JESBLJCtwY6cVvTBUlVVtbu7G4lE1OOamprMF8fj8ZWVFfOf+vv7R0dHdX8awBmmg13LPIdUg8D+/r45FJw/fz7oK4MBSFYgC6TogyOnFX2w3Lx5c2ZmxnizHnbp0vfPgKwKguvr601NTRLuFgU4Mjw83NzcrLsVgXR4eHj16lXzsVUjRuV/KgvU3TQA5axAFsgqH0dOK/pgUSmgSgSNE9PB1q1EVPKnUkCVCOr+KJ5hI1h4PH/+vLKyUncrgqqjo2NnZ0c9GB8f7+npUQ/UEPHZZ93mvwoJH8IZXqEvCZEvC2SVjws5iz6YTpvoqa2tTSaT5vNDQ0ODg4O6P4SXWAIcEnV1dVNTU7pbEWDW0sB3NWKMtra2+fmn5r8KCR/CGV6hLwmR7/CzyseFk0UfLNZET9b+X2sl+ObmZiKRKLO5YEI9JFg9UiSVAqpEUOV/Kgs03lWS2t9/W0lKSPgQzvAKfUmIfIef6WAXThZ9sFg3A8jc/GHdR0RRqaFKEHV/Ao+xESwk+vr6zM3vcGdnZ0eddVs1Ysylw9LCR1p7EFz0JSFOzQKZDnYtq+iDKRKJ7O7uVlVVGRnTwdFoNJlMmk9ynygEGieNxbty5cpnn312/fp1g0IBAEri1CyQ6WDXchYObGlpWVhYML5/b3irdqBKCtWTZTYXjPCoqKj44osvdLci8H7/+9///e9/N5cIJxKJctolBkCmU7NAij64lln0wTI5OdnV1WVk7P+wbiJivLkkfmmpTDdKsREsDOROHWxP37nz2FCh1lGruymFPXv27A9/+IN6kEqlampqDHnhI609CC76khCnZoEUfSiGVfTBsru7G41G1YNYLLa5uaker62tmc88fvz4zp07upvsF5YAh4E6YzxtU5RmTrLA7aWhoemlt3v3ay++mQ25WPinPPTvf//72rVrRsaYIC18pLUHwUVfEiL34afoQ5GylgZevHjxy/RSWKsMrFU4UJ30q7zw4OBAd5P9QqiHwa1btzo7O3W3IhfbWeDS0J2hpe2sJy/ef3S/hIlgfX29eWbY3t4+OztryAsfae1BcNGXhMh9+Cn6UCSz6IP1V6sM7OjoaH9/v1UyxkiXBHv69Knu9vqIjWBhMDAwcPnyZd2tyMVmFmi+7OL9+x0X06X6trenp4ceq6zw4v0v718sSUsjkYh59yClurraPDOUFj7S2oPgoi8JkTsLpOhDkcyiD9ZfrTKwTU1Nm5ubyWTSPONXp/vqpF93Y4FiqfOceDyuuxW52M4Cp7f/O2v+N/2j2yVLA9WYUF9fb5yoJwoA/smdBVL0oXhXrlwxbyWnzu9XVlaMd9PBVtXAVCqVSCTUn7pbChQr8FlgTktDl4aWSpYFNjQ0/PSnPzXK8QZCAMTKkQVS9METnZ2dW1tb6sHIyMi9e/eMt3cF/ezLd9fB76hvp8ePdTfTd2wEC4OJiQmVxOhuRS7fZYEqqRt6t/KvtvZix/1CK/5KvL34Jz/5yY9+9KMf/vCHbW1tVvV4aeEjrT0ILvqSEDmyQIo+eMK6oXAymTQneq5cufKnP/3JnBpeXFxsbW3V3cZSYAlwGMzMzJiLHMR5O2jcv7g09Hj7+/9Um38oSV8JrC31cHPp+4ukpIWPtPYguOhLQuQ4/OVR9MH6mTcXAIyOUq3w/s7U1NSTJ09U/qeyQCM9/zs7O2vuETk4OIjFYiGZCybUw0B4FrhtvKn8cv/d1T9r68fpOZ75YyXPAckCERr0JSFyHP4yKPpgvnppenr6cXoGqHT7/L7z4sULlUwPDg6q7x711/n5+ba2NvOfuru7Hz58WOL26MJGsDAQnwWeGALypHnb00NvckQNKaBxIguUFj7S2oPgoi8JkSMLDHzRB8NYmr4z9Pb8/6KxtFS6bX4ZNjY27t69u7a2Zq6a/+c//3n27Fnj3U3iNRw9wDfCs8Bcg0buHcBvk8aMC4clxuAAoJRyZIFlsN1vaejStGFW/i/tNr8MqVSqv7//1atX6vHR0ZF5b1D1IBaLbb+9OwFQJgKYBebYAWwWjq69na4aqKm9ZIEASqk8s8AMOrPAb775ZmRkRD3+z3/+84Mf/EA9UHnh6OhoiVuiFxvBwiCAg0b2P5ibQbRdA0w7eQtyaeEjrT0ILvqSEDmywPIq+qAtC9zb2/vggw+smwEYYS0GyxLgMBCeBeZY45ceGL5bLiij/oA6dcwqIy8tfKS1B8FFXxIix+EXP7njqOiDtiww835QRnouWKWA6+vrJW6GdoR6GAwPDzc3N+tuRS7f7RH+bqJ3++1J5HejhowkkCwQIUJfEiJ4WeC24ajog7Ys8IMPPvjFL35h/TW09wNgI1gYyL3n5NsbBKd3iX3/XzJHDPPKYG4lHD22tray6jNICx9p7UFw0ZeECGIW6KTog74sMB6PV1VVmY/X19ebmpqOjo70HDfAZ7dv3868cbYg1lW+/97OWEVy0dw79r0XbZ/yDiUcPZaXlwcGBnQeLgAhE7ws0H7RhzQ9WWBFRcVvfvMb668qBbRuCQWUn8uXL5O+FO/JkydTU1O6WwEgRMojC8yT6+nJAs+ePfvhhx+aj0dHR/v7+/UcMQHYCBYGdXV1pC/FGxsbW1xczHxGWvhIaw+Ci74kRHlUismztltPFvirX/3qxz/+sXqwu7v785//PMxzwSwBDoPKysrnz5/rbkXg3b17d2NjI/MZaeEjrT0ILvqSEMHLAgsXfTBO/JumPcIffvjh7373u7/97W/ajpgAhHpIfP7552fOnNHdimC7evXq4eFh5jPSwkdaexBc9CUhchz+oBd9+D6dVaOzij6EExvBQmJsbKyxsVF3KwLsZMloQ174SGsPgou+JESOLDDoRR++T1sWeLLoA1DG5G4TDgg2CAMovRxZoNzR3FbRhyzaskDGdIRKc3Pz8PCw7lYE2MTExNzcnO5WAAiXHFkgRR88QdEHExvBQoINIkXq7Ozc2trKelJa+EhrD4KLviREjiyQog+eOFn0IZxYAhweatxQo4fuVgTS8fHx1atX1Z9Zz0sLH2ntQXDRl4TIcfg5p/fEyaIP4USoh4fq859++qnuVgTS+vp6b2/vyeelhY+09iC46EtC5D78FH0o3smiD+HERrDwYGmga1NTU0+ePDn5vLTwkdYeBBd9SYjcWSBFH4qUs+gDUN4qKirUCWRlZaXuhgRPe3t7KpXS3QoAoZM7C5S7TTgg2CCMcOrt7b127ZruVgTMxsbG3bt3dbcCQBjlzgKZ2SkSRR8sbAQLlXg8Pj4+rrsVAXPadLAhL3yktQfBRV8SIncWyAaRIuUs+hBOLAEOG1YVO5VnOlha+EhrD4KLviTEqYefog+unVb0IZwI9bBRp0C3bt3S3YrAOG13sEla+EhrD4KLviTEqYefog+u5R/Ww4aNYGFz5syZ2dnZ999/X3dDgmFgYGB5efm0f5UWPtLag+CiLwlxahbI0kDX8qzyAcJAZTaXL1/W3YoA4G7jAPQ6NQuk6INrFH1AyHH/IZvYRgZAr3wT8hR9cIGiD1nYCBZOw8PDzc3Nulsh2t7enjpjzL+AWFr4SGsPgou+JES+LJCiDy4wHZyFJcDhxJKSguxcCJQWPtLag+CiLwlR4PBT9MEppoOzEOqhxeXAPOxcCDTkhY+09iC46EtCFDj8FH1whN3BJ7ERLLRYHZiHSpFfvHhR8GXSwkdaexBc9CUhCmSBFH1wJH/RByBsKDiVE1uDAQhR+FIsRR9sYmQHsqjTyJmZmYqKCt0NkYV7CwEQonAWyLSOTRR9yImNYCH36aefsms+0+Li4tjYmM0XSwsfae1BcNGXhLC1LJNV3gXZXOsdQiwBxvj4eDwe190KEVKpVGdn5+Hhoc3XSwsfae1BcNGXhLB1+Cn6UBAXAk9DqCMajU5NTYW8BP3r16/fe++93t7e9fV1Jz/19oGQ8JHWHgQXfUkIu4efy4F5cCEwDzaCQWlpaenr69PdCs3UiaI6XXT0I9LCR1p7EFz0JSHsZoGsDszDZtEHIMxCfia5s7PT2dnJuSIAURxciqXoQ05sDQbsqKysnJiYOHfunO6GaHB4eKjGT5UI6m4IAHyPgyyQog85UfQhPzaCwRKNRlUiGLbbER0fH/f19TlaDmiRFj7S2oPgoi8J4WxZJkUfsjgq+hBOLAFGprq6OpUIhupkspgVI9LCR1p7EFz0JSEcH36KPlicFn0IJ0IdWUJVc2B6evrx48euf1xa+EhrD4KLviSE48NP0QfDbdGHcGIjGE4KyZbhIlNAQ174SGsPgou+JISbJDwkI3h+Loo+ALA0NzcPDAyU8dRw8SkgAPjN5aVYij5Q9AEoUmNjoxpJyjIRJAUEEAgus0CKPlD0wSY2giEPlQgODAyU2QqTqampJ0+eePJW0sJHWnsQXPQlIdwvy6ToA+xgCTDyUyeTw8PD5XFKqU4Rx8bGlpeXvXpDaeEjrT0ILvqSEEUdfoo+oCBCHQVVVlaqk6vgLjIxt4ttbW0NDAykUilP3/ntAyHhI609CC76khDFHn6KPiA/NoLBptu3b3d0dOhuhUvq5HBsbMzztcLSwkdaexBc9CUhPEjCQ7JlmBQQ8FtjY6MaTIK1zuTw8HBiYmJxcVF3QwDAMW8uxVL0AYAnKisr29vbb926pbshtqyuro6Nje3t7eluCAC44dmEPEUfkBMbweBCQ0NDX1+f5C0jKvNT+Z/KAn39LdLCR1p7EFz0JSG8XJZJ0QecxBJguKNOKa9du9be3i5tgvj4+HhmZmZubq4Ed4+UFj7S2oPgoi8J4fHhp+gDshDqKIaoXFDlf8+ePVMpYMmmgKWFj7T2ILjoS0J4f/gp+oBMbARD8cxc8MaNG9FoVEsD1DmhOiGcnp4u8ZggLXyktQfBRV8Swq8knKIPADzX2Nh45cqVy5cvl+w3rq+vf/HFF2pMYEAAUH58vBRL0QcAflCjikoEP/nkk3g87tOv2NjY+Oqrr1Tyx4QAgDLm74Q8RR/ARjD4p6KiQiWCH3/8sfqzoaGhyHdTCZ8aBL7++uv19fUS7PywQ1r4SGsPgou+JEQplmVS9CHMWAKMkqmrq4tGo+rPs2fPnkk7bdhRIb+zs3N8fJxMJlNpGxsbAud8pYWPtPYguOhLQpTo8Iva6JeplEUfwolQB1yTFj7S2oPgoi8JUdLDLyoXLH3Rh3BiIxjgmrTwkdYeBBd9SQgNSXhoiz4AAADIofNSLEUfAAAAdNE/IU/Rh/LGRjDANWnhI609CC76khD6s0BL2Rd9CCeWAAOuSQsfae1BcNGXhJB7+Muv6EM4EeqAa9LCR1p7EFz0JSE4/PAXG8EA16SFj7T2ILjoS0KQBQIAAIQRWSAAAEAYkQXCX2wEA1yTFj7S2oPgoi8JQRYIf7EEGHBNWvhIaw+Ci74kBIcf/iLUAdekhY+09iC46EtCcPjhLzaCAa5JCx9p7UFw0ZeEIAsEAAAII7JAAACAMCILhL/YCAa4Ji18pLUHwUVfEoIsEP5iCTDgmrTwkdYeBBd9SQgOP/xFqAOuSQsfae1BcNGXhODww19sBANckxY+0tqD4KIvCUEWCAAAEEZkgQAAAGFEFgh/sREMcE1a+EhrD4KLviQEWSD8xRJgwDVp4SOtPQgu+pIQHH74i1AHXJMWPtLag+CiLwnB4Ye/2AgGuCYtfKS1B8FFXxKCLBAAACCMyAIBAADCiCwQ/mIjGOCatPCR1h4EF31JCLJA+IslwIBr0sJHWnsQXPQlITj88BehDrgmLXyktQfBRV8SgsMPf7ERDHBNWvhIaw+Ci74kBFkgAABAGJEFAgAAhBFZIPzFRjDANWnhI609CC76khBkgfAXS4AB16SFj7T2ILjoS0Jw+OEvQh1wTVr4SGsPgou+JASHH/5iIxjgmrTwkdYeBBd9SQiyQAAAgDAiCwQAAAgjskD4i41ggGvSwkdaexBc9CUhyALhL5YAA65JCx9p7UFw0ZeE4PDDX4Q64Jq08JHWHgQXfUkIDj/8xUYwwDVp4SOtPQgu+pIQZIEAAABhRBYIAAAQRmSB8BcbwQDXpIWPtPYguOhLQpAFwl8sAQZckxY+0tqD4KIvCcHhh78IdcA1aeEjrT0ILvqSEBx++IuNYIBr0sJHWnsQXPQlIcgCAQAAwogsEAAAIIzIAuEvNoIBrkkLH2ntQXDRl4QgC4S/WAIMuCYtfKS1B8FFXxKCww9/EeqAa9LCR1p7EFz0JSE4/PAXG8EA16SFj7T2ILjoS0KQBQIAAIQRWSAAAEAYkQXCX2wEA1yTFj7S2oPgoi8JQRYIf7EEGHBNWvhIaw+Ci74kBIcf/iLUAdekhY+09iC46EtCcPjhLzaCAa5JCx9p7UFw0ZeEIAsEAAAII7JAAACAMCILhL/YCAa4Ji18pLUHwUVfEoIsEP5iCTDgmrTwkdYeBBd9SQgOP/xFqAOuSQsfae1BcNGXhODww19sBANckxY+0tqD4KIvCUEWCAAAEEZkgQAAAGFEFgh/sREMcE1a+EhrD4KLviQEWSD8xRJgwDVp4SOtPQgu+pIQHH74i1AHXJMWPtLag+CiLwnB4Ye/2AgGuCYtfKS1B8FFXxKCLBAAACCMyAIBAADCiCwQ/mIjGOCatPCR1h4EF31JCLJA+IslwIBr0sJHWnsQXPQlITj88BehDrgmLXyktQfBRV8SgsMPf7ERDHBNWvhIaw+Ci74kBFkgAABAGJEFAgAAhBFZIPzFRjDANWnhI609CC76khBkgfAXS4AB16SFj7T2ILjoS0Jw+OEvQh1wTVr4SGsPgou+JASHH/5iIxjgmrTwkdYeBBd9SQiyQAAAgDAiCwQAAAgjskD4i41ggGvSwkdaexBc9CUhyALhL5YAA65JCx9p7UFw0ZeE4PDDX4Q64Jq08JHWHgQXfUkIDj/8xUYwwDVp4SOtPQgu+pIQZIEAAABhRBYI3w0OGvfvvznhM1cBq1NAc10wz/AMzzh6Ro6T03k8wzPFPANd+B+A78gCeYZnyAJ5hmfIAgXifwC+IwvkGZ4hC+QZniELFIj/AQAAgDAiCwQAAAgjskAAAIAwIgsEAAAII7JAAACAMCILBAAACCOyQAAAgDAiCwQAAAgjskAAAIAwIgsEAAAII7JAAACAMCILBAAACCOyQAAAgDAiCwQAAAij/w+13SO9LNJg6wAAAABJRU5ErkJggg==)"
      ]
    },
    {
      "cell_type": "markdown",
      "metadata": {
        "id": "hYUNPdZDf5-d",
        "colab_type": "text"
      },
      "source": [
        "**위 그림의 빨간색 글자들이 파라미터이다.**\n",
        "- 첫번째 레이어에 들어가는 파라미터의 갯수는 총 6개\n",
        "- 두번째 레이어에 들어가는 파라미터의 갯수는 총 3개"
      ]
    },
    {
      "cell_type": "markdown",
      "metadata": {
        "id": "QaCjLi-qg7Hx",
        "colab_type": "text"
      },
      "source": [
        "**웨이트 기호에 대한 설명은 다음과 같다**\n",
        "\n",
        "![weight.png](data:image/png;base64,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)"
      ]
    },
    {
      "cell_type": "code",
      "metadata": {
        "id": "VjHS7obdhg5_",
        "colab_type": "code",
        "colab": {
          "base_uri": "https://localhost:8080/",
          "height": 35
        },
        "outputId": "b63a392e-f84e-489c-bb1f-141b5f2b1d56"
      },
      "source": [
        "model.fit(X,y, epochs=20000, batch_size=4, verbose=0) #verbose를 1로 하면 트레이닝 과정 볼 수 있다"
      ],
      "execution_count": null,
      "outputs": [
        {
          "output_type": "execute_result",
          "data": {
            "text/plain": [
              "<tensorflow.python.keras.callbacks.History at 0x7f04c709dc50>"
            ]
          },
          "metadata": {
            "tags": []
          },
          "execution_count": 13
        }
      ]
    },
    {
      "cell_type": "code",
      "metadata": {
        "id": "BTx3D-nkj71K",
        "colab_type": "code",
        "colab": {
          "base_uri": "https://localhost:8080/",
          "height": 89
        },
        "outputId": "7da32313-cd3a-47f8-cd55-091bf7eb1e69"
      },
      "source": [
        "print(model.predict(X,batch_size=4))"
      ],
      "execution_count": null,
      "outputs": [
        {
          "output_type": "stream",
          "text": [
            "[[0.06085929]\n",
            " [0.94197905]\n",
            " [0.94220614]\n",
            " [0.07106161]]\n"
          ],
          "name": "stdout"
        }
      ]
    },
    {
      "cell_type": "code",
      "metadata": {
        "id": "UhmYr-NlkC1q",
        "colab_type": "code",
        "colab": {
          "base_uri": "https://localhost:8080/",
          "height": 71
        },
        "outputId": "84bc7da4-f8de-48bf-f69c-1b47c0fd5e8a"
      },
      "source": [
        "#첫번째 레이어 파라미터\n",
        "print(\"first layer weights: \",model.layers[0].get_weights()[0])\n",
        "print(\"first layer bias: \",model.layers[0].get_weights()[1])"
      ],
      "execution_count": null,
      "outputs": [
        {
          "output_type": "stream",
          "text": [
            "first layer weights:  [[3.5763602 5.804214 ]\n",
            " [3.5690916 5.7559724]]\n",
            "first layer bias:  [-5.437236  -2.3402834]\n"
          ],
          "name": "stdout"
        }
      ]
    },
    {
      "cell_type": "code",
      "metadata": {
        "id": "YuMqYXQokgfg",
        "colab_type": "code",
        "colab": {
          "base_uri": "https://localhost:8080/",
          "height": 71
        },
        "outputId": "205758a8-8cd5-454c-e9de-e57d6963d56e"
      },
      "source": [
        "#두번째 레이어 파라미터\n",
        "print(\"second layer weights: \",model.layers[1].get_weights()[0])\n",
        "print(\"second layer bias: \",model.layers[1].get_weights()[1])"
      ],
      "execution_count": null,
      "outputs": [
        {
          "output_type": "stream",
          "text": [
            "second layer weights:  [[-7.846282]\n",
            " [ 7.427812]]\n",
            "second layer bias:  [-3.354873]\n"
          ],
          "name": "stdout"
        }
      ]
    },
    {
      "cell_type": "markdown",
      "metadata": {
        "id": "HLkaxd96k6_h",
        "colab_type": "text"
      },
      "source": [
        "**학습을 통해 구한 weight, bias를 사용해서 직접 계산해보자**"
      ]
    },
    {
      "cell_type": "code",
      "metadata": {
        "id": "a6xmqBYCkomi",
        "colab_type": "code",
        "colab": {}
      },
      "source": [
        "import math\n",
        "\n",
        "def sigmoid(x):\n",
        "  return 1 / (1+ math.exp(-x))"
      ],
      "execution_count": null,
      "outputs": []
    },
    {
      "cell_type": "code",
      "metadata": {
        "id": "2_ru97SqlEVq",
        "colab_type": "code",
        "colab": {}
      },
      "source": [
        "def get_output(x):\n",
        "    layer0 = model.layers[0]\n",
        "    # 첫번째 레이어, 첫번째 노드의 결과값\n",
        "    layer0_weights, layer0_bias = layer0.get_weights()\n",
        "    layer0_node0_weights = np.transpose(layer0_weights)[0]\n",
        "    layer0_node0_bias = layer0_bias[0]\n",
        "    layer0_node0_output = sigmoid( np.dot( x, layer0_node0_weights ) + layer0_node0_bias )\n",
        "    # 첫번째 레이어, 두번째 노드의 결과값\n",
        "    layer0_node1_weights = np.transpose(layer0_weights)[1]\n",
        "    layer0_node1_bias = layer0_bias[1]\n",
        "    layer0_node1_output = sigmoid( np.dot( x, layer0_node1_weights ) + layer0_node1_bias )\n",
        "    # 두번째 레이어 결과값\n",
        "    layer1 = model.layers[1]\n",
        "    layer1_weights, layer1_bias = layer1.get_weights()\n",
        "    layer1_output = sigmoid( np.dot( [layer0_node0_output, layer0_node1_output], layer1_weights ) + layer1_bias )\n",
        "\n",
        "    print(layer1_output)"
      ],
      "execution_count": null,
      "outputs": []
    },
    {
      "cell_type": "code",
      "metadata": {
        "id": "Z3MmwNmxphTf",
        "colab_type": "code",
        "colab": {
          "base_uri": "https://localhost:8080/",
          "height": 35
        },
        "outputId": "b5410c88-1409-457f-e99c-f9877be99cac"
      },
      "source": [
        "get_output([1,0])"
      ],
      "execution_count": null,
      "outputs": [
        {
          "output_type": "stream",
          "text": [
            "0.9422061634380694\n"
          ],
          "name": "stdout"
        }
      ]
    },
    {
      "cell_type": "markdown",
      "metadata": {
        "id": "k-jsLy2cpkBU",
        "colab_type": "text"
      },
      "source": [
        "**레이어 스트럭쳐**"
      ]
    },
    {
      "cell_type": "code",
      "metadata": {
        "id": "vsRbujYUm6p8",
        "colab_type": "code",
        "colab": {
          "base_uri": "https://localhost:8080/",
          "height": 53
        },
        "outputId": "482e1e39-7dfc-4505-cf61-f15522a69995"
      },
      "source": [
        "layers = model.layers\n",
        "layers"
      ],
      "execution_count": null,
      "outputs": [
        {
          "output_type": "execute_result",
          "data": {
            "text/plain": [
              "[<tensorflow.python.keras.layers.core.Dense at 0x7f04d2166cc0>,\n",
              " <tensorflow.python.keras.layers.core.Dense at 0x7f04e6abc358>]"
            ]
          },
          "metadata": {
            "tags": []
          },
          "execution_count": 48
        }
      ]
    },
    {
      "cell_type": "code",
      "metadata": {
        "id": "b3x1N43qoPlJ",
        "colab_type": "code",
        "colab": {
          "base_uri": "https://localhost:8080/",
          "height": 71
        },
        "outputId": "b64b107b-c15a-4ebe-c0e1-4f0e836044e7"
      },
      "source": [
        "hiddenlayer1 = layers[0]\n",
        "hiddenlayer1_weights, hiddenlayer1_bias = hiddenlayer1.get_weights()\n",
        "hiddenlayer1_weights, hiddenlayer1_bias"
      ],
      "execution_count": null,
      "outputs": [
        {
          "output_type": "execute_result",
          "data": {
            "text/plain": [
              "(array([[3.5763602, 5.804214 ],\n",
              "        [3.5690916, 5.7559724]], dtype=float32),\n",
              " array([-5.437236 , -2.3402834], dtype=float32))"
            ]
          },
          "metadata": {
            "tags": []
          },
          "execution_count": 50
        }
      ]
    },
    {
      "cell_type": "code",
      "metadata": {
        "id": "7Y2hX0GRoUxp",
        "colab_type": "code",
        "colab": {
          "base_uri": "https://localhost:8080/",
          "height": 53
        },
        "outputId": "4875f306-cdce-4c7f-b6ed-89afd37f6997"
      },
      "source": [
        "hiddenlayer2 = layers[1]\n",
        "hiddenlayer2_weights, hiddenlayer2_bias = hiddenlayer2.get_weights()\n",
        "hiddenlayer2_weights, hiddenlayer2_bias"
      ],
      "execution_count": null,
      "outputs": [
        {
          "output_type": "execute_result",
          "data": {
            "text/plain": [
              "(array([[-7.846282],\n",
              "        [ 7.427812]], dtype=float32), array([-3.354873], dtype=float32))"
            ]
          },
          "metadata": {
            "tags": []
          },
          "execution_count": 52
        }
      ]
    }
  ]
}